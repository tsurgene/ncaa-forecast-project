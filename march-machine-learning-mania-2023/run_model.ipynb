{
 "cells": [
  {
   "cell_type": "markdown",
   "id": "880c7434-be28-409d-a243-d1dd1d7e1591",
   "metadata": {},
   "source": [
    "### **Model Run Setup**"
   ]
  },
  {
   "cell_type": "code",
   "execution_count": 1,
   "id": "748c183b-3c52-4705-9b87-e46f28e90931",
   "metadata": {},
   "outputs": [],
   "source": [
    "# Select folder path based on user input\n",
    "gender = 'M' #input('Enter gender (W for women, M for men): ')\n",
    "\n",
    "# Assign the appropriate folder path based on the input\n",
    "MAIN_DIR = './'\n",
    "USE_DIR = MAIN_DIR + 'womens/' if gender.upper() == 'W' else MAIN_DIR + 'mens/'\n",
    "PRE = 'W' if gender.upper() == 'W' else 'M'\n",
    "NAME = 'womens' if gender.upper() == 'W' else 'mens'"
   ]
  },
  {
   "cell_type": "code",
   "execution_count": 2,
   "id": "70ca81a4-82cb-49e8-ab02-9616bdc1f5b0",
   "metadata": {},
   "outputs": [],
   "source": [
    "import pandas as pd\n",
    "from datetime import datetime, timedelta\n",
    "import re\n",
    "import random\n",
    "import numpy as np\n",
    "import pickle"
   ]
  },
  {
   "cell_type": "markdown",
   "id": "7e2d0880-a42d-45dc-8a24-005ac519631a",
   "metadata": {
    "tags": []
   },
   "source": [
    "### **Load Data**"
   ]
  },
  {
   "cell_type": "code",
   "execution_count": 3,
   "id": "c2be77d0-4e8d-432c-8b6a-760aa7b0c71d",
   "metadata": {},
   "outputs": [],
   "source": [
    "# Set the year to get predictions\n",
    "season = 2023"
   ]
  },
  {
   "cell_type": "code",
   "execution_count": 4,
   "id": "9502e298-54ef-4d16-9924-2831b272b760",
   "metadata": {},
   "outputs": [
    {
     "data": {
      "text/plain": [
       "(65703, 5)"
      ]
     },
     "execution_count": 4,
     "metadata": {},
     "output_type": "execute_result"
    }
   ],
   "source": [
    "# Load 'Sample' data into variable\n",
    "sample = pd.read_csv('sample-mens.csv')\n",
    "sample.shape"
   ]
  },
  {
   "cell_type": "code",
   "execution_count": 5,
   "id": "f3f4e7df-8694-4f7e-83a5-1eb013134678",
   "metadata": {},
   "outputs": [
    {
     "name": "stdout",
     "output_type": "stream",
     "text": [
      "team_means: (363, 19)\n"
     ]
    },
    {
     "name": "stderr",
     "output_type": "stream",
     "text": [
      "<ipython-input-5-5d0bf3ece5ef>:16: FutureWarning: The default value of numeric_only in DataFrameGroupBy.mean is deprecated. In a future version, numeric_only will default to False. Either specify numeric_only or select only columns which should be valid for the function.\n",
      "  team_means = df3.groupby(['Season', 'TeamID'], as_index=False).mean()\n"
     ]
    },
    {
     "data": {
      "text/html": [
       "<div>\n",
       "<style scoped>\n",
       "    .dataframe tbody tr th:only-of-type {\n",
       "        vertical-align: middle;\n",
       "    }\n",
       "\n",
       "    .dataframe tbody tr th {\n",
       "        vertical-align: top;\n",
       "    }\n",
       "\n",
       "    .dataframe thead th {\n",
       "        text-align: right;\n",
       "    }\n",
       "</style>\n",
       "<table border=\"1\" class=\"dataframe\">\n",
       "  <thead>\n",
       "    <tr style=\"text-align: right;\">\n",
       "      <th></th>\n",
       "      <th>Season</th>\n",
       "      <th>TeamID</th>\n",
       "      <th>Seed</th>\n",
       "      <th>Site</th>\n",
       "      <th>MOV</th>\n",
       "      <th>FG2M</th>\n",
       "      <th>FG2A</th>\n",
       "      <th>FG3M</th>\n",
       "      <th>FG3A</th>\n",
       "      <th>FT1M</th>\n",
       "      <th>FT1A</th>\n",
       "      <th>ORB</th>\n",
       "      <th>DRB</th>\n",
       "      <th>AST</th>\n",
       "      <th>TOVR</th>\n",
       "      <th>STL</th>\n",
       "      <th>BLK</th>\n",
       "      <th>PFL</th>\n",
       "      <th>Outcome</th>\n",
       "    </tr>\n",
       "  </thead>\n",
       "  <tbody>\n",
       "    <tr>\n",
       "      <th>0</th>\n",
       "      <td>2023</td>\n",
       "      <td>1101</td>\n",
       "      <td>0.0</td>\n",
       "      <td>0.153846</td>\n",
       "      <td>-3.692308</td>\n",
       "      <td>-0.423077</td>\n",
       "      <td>6.923077</td>\n",
       "      <td>0.115385</td>\n",
       "      <td>2.230769</td>\n",
       "      <td>-2.961538</td>\n",
       "      <td>-4.615385</td>\n",
       "      <td>0.269231</td>\n",
       "      <td>-5.538462</td>\n",
       "      <td>1.230769</td>\n",
       "      <td>-3.923077</td>\n",
       "      <td>2.576923</td>\n",
       "      <td>-1.230769</td>\n",
       "      <td>1.730769</td>\n",
       "      <td>None</td>\n",
       "    </tr>\n",
       "    <tr>\n",
       "      <th>1</th>\n",
       "      <td>2023</td>\n",
       "      <td>1102</td>\n",
       "      <td>0.0</td>\n",
       "      <td>0.156250</td>\n",
       "      <td>-0.125000</td>\n",
       "      <td>-0.250000</td>\n",
       "      <td>-2.562500</td>\n",
       "      <td>2.968750</td>\n",
       "      <td>5.218750</td>\n",
       "      <td>-2.593750</td>\n",
       "      <td>-2.906250</td>\n",
       "      <td>-2.312500</td>\n",
       "      <td>-0.875000</td>\n",
       "      <td>5.218750</td>\n",
       "      <td>0.218750</td>\n",
       "      <td>0.031250</td>\n",
       "      <td>0.843750</td>\n",
       "      <td>-0.031250</td>\n",
       "      <td>None</td>\n",
       "    </tr>\n",
       "    <tr>\n",
       "      <th>2</th>\n",
       "      <td>2023</td>\n",
       "      <td>1103</td>\n",
       "      <td>0.0</td>\n",
       "      <td>0.419355</td>\n",
       "      <td>5.838710</td>\n",
       "      <td>0.677419</td>\n",
       "      <td>0.645161</td>\n",
       "      <td>1.741935</td>\n",
       "      <td>5.096774</td>\n",
       "      <td>2.741935</td>\n",
       "      <td>3.387097</td>\n",
       "      <td>1.064516</td>\n",
       "      <td>1.935484</td>\n",
       "      <td>1.516129</td>\n",
       "      <td>-0.483871</td>\n",
       "      <td>0.064516</td>\n",
       "      <td>-0.419355</td>\n",
       "      <td>-2.451613</td>\n",
       "      <td>None</td>\n",
       "    </tr>\n",
       "    <tr>\n",
       "      <th>3</th>\n",
       "      <td>2023</td>\n",
       "      <td>1104</td>\n",
       "      <td>0.0</td>\n",
       "      <td>0.264706</td>\n",
       "      <td>13.676471</td>\n",
       "      <td>3.823529</td>\n",
       "      <td>-2.176471</td>\n",
       "      <td>4.529412</td>\n",
       "      <td>10.058824</td>\n",
       "      <td>1.500000</td>\n",
       "      <td>1.735294</td>\n",
       "      <td>1.764706</td>\n",
       "      <td>6.147059</td>\n",
       "      <td>5.205882</td>\n",
       "      <td>2.176471</td>\n",
       "      <td>-1.235294</td>\n",
       "      <td>1.352941</td>\n",
       "      <td>-1.470588</td>\n",
       "      <td>None</td>\n",
       "    </tr>\n",
       "    <tr>\n",
       "      <th>4</th>\n",
       "      <td>2023</td>\n",
       "      <td>1105</td>\n",
       "      <td>0.0</td>\n",
       "      <td>0.033333</td>\n",
       "      <td>-3.066667</td>\n",
       "      <td>0.633333</td>\n",
       "      <td>1.200000</td>\n",
       "      <td>-1.066667</td>\n",
       "      <td>-3.600000</td>\n",
       "      <td>-3.266667</td>\n",
       "      <td>-2.800000</td>\n",
       "      <td>-1.200000</td>\n",
       "      <td>-1.233333</td>\n",
       "      <td>-0.533333</td>\n",
       "      <td>-0.433333</td>\n",
       "      <td>0.000000</td>\n",
       "      <td>0.266667</td>\n",
       "      <td>1.066667</td>\n",
       "      <td>None</td>\n",
       "    </tr>\n",
       "  </tbody>\n",
       "</table>\n",
       "</div>"
      ],
      "text/plain": [
       "   Season  TeamID  Seed      Site        MOV      FG2M      FG2A      FG3M  \\\n",
       "0    2023    1101   0.0  0.153846  -3.692308 -0.423077  6.923077  0.115385   \n",
       "1    2023    1102   0.0  0.156250  -0.125000 -0.250000 -2.562500  2.968750   \n",
       "2    2023    1103   0.0  0.419355   5.838710  0.677419  0.645161  1.741935   \n",
       "3    2023    1104   0.0  0.264706  13.676471  3.823529 -2.176471  4.529412   \n",
       "4    2023    1105   0.0  0.033333  -3.066667  0.633333  1.200000 -1.066667   \n",
       "\n",
       "        FG3A      FT1M      FT1A       ORB       DRB       AST      TOVR  \\\n",
       "0   2.230769 -2.961538 -4.615385  0.269231 -5.538462  1.230769 -3.923077   \n",
       "1   5.218750 -2.593750 -2.906250 -2.312500 -0.875000  5.218750  0.218750   \n",
       "2   5.096774  2.741935  3.387097  1.064516  1.935484  1.516129 -0.483871   \n",
       "3  10.058824  1.500000  1.735294  1.764706  6.147059  5.205882  2.176471   \n",
       "4  -3.600000 -3.266667 -2.800000 -1.200000 -1.233333 -0.533333 -0.433333   \n",
       "\n",
       "        STL       BLK       PFL Outcome  \n",
       "0  2.576923 -1.230769  1.730769    None  \n",
       "1  0.031250  0.843750 -0.031250    None  \n",
       "2  0.064516 -0.419355 -2.451613    None  \n",
       "3 -1.235294  1.352941 -1.470588    None  \n",
       "4  0.000000  0.266667  1.066667    None  "
      ]
     },
     "execution_count": 5,
     "metadata": {},
     "output_type": "execute_result"
    }
   ],
   "source": [
    "# Load 'Sample' data into variable\n",
    "games = pd.read_csv('games-mens.csv')\n",
    "\n",
    "# Duplicate Games dataframe to get summary statistics\n",
    "df1 = games[games['Season'] == season].drop(columns=['Team1']).copy()\n",
    "df2 = games[games['Season'] == season].drop(columns=['Team0']).copy()\n",
    "\n",
    "# Rename the TeamID columns in dataframe\n",
    "df1.rename(columns = {'Team0':'TeamID'}, inplace = True)\n",
    "df2.rename(columns = {'Team1':'TeamID'}, inplace = True)\n",
    "\n",
    "# Concatenate duplicate dataframes along axis=0 (i.e., add as a new column)\n",
    "df3 = pd.concat([df1, df2], ignore_index=True, sort=False)\n",
    "\n",
    "# Group the dataframe by 'Season' and 'TeamID', and get the mean values\n",
    "team_means = df3.groupby(['Season', 'TeamID'], as_index=False).mean()\n",
    "\n",
    "# Zero out outcome\n",
    "team_means['Outcome'] = None\n",
    "\n",
    "# Show sample output\n",
    "print('team_means:', team_means.shape)\n",
    "team_means.head()"
   ]
  },
  {
   "cell_type": "code",
   "execution_count": 6,
   "id": "1ed88ce7-3184-46ba-b8c2-1b4bd67dbc24",
   "metadata": {},
   "outputs": [],
   "source": [
    "# Create Seeds dataframe\n",
    "seeding = pd.read_csv(USE_DIR + PRE + 'NCAATourneySeeds.csv')\n",
    "\n",
    "# Reduce size of Seeds dataframe\n",
    "seeds = seeding[seeding['Season'] == season].copy()\n",
    "\n",
    "# Create a regex to pull out number\n",
    "regex = r'\\d+'\n",
    "\n",
    "# Apply the regular expression to the 'col1' column to extract the numeric value\n",
    "seeds['Seed'] = seeds['Seed'].apply(lambda x: re.search(regex, x).group())\n",
    "\n",
    "# Convert the numeric values to integers\n",
    "seeds['Seed'] = seeds['Seed'].astype(int)\n",
    "\n",
    "# Set order sequence\n",
    "order = [0, 2, 1]\n",
    "\n",
    "# Reorder and rename dataframe\n",
    "seeds = seeds.iloc[:,order]\n",
    "seeds.rename(columns = {'Seed':'Slot'}, inplace = True)"
   ]
  },
  {
   "cell_type": "code",
   "execution_count": 7,
   "id": "ae94ff26-2bd2-483e-8074-696a9268c5d2",
   "metadata": {
    "tags": []
   },
   "outputs": [
    {
     "name": "stdout",
     "output_type": "stream",
     "text": [
      "seeds: (65703, 20)\n",
      "Index(['Season', 'Team0', 'Team1', 'Seed', 'Site', 'MOV', 'FG2M', 'FG2A',\n",
      "       'FG3M', 'FG3A', 'FT1M', 'FT1A', 'ORB', 'DRB', 'AST', 'TOVR', 'STL',\n",
      "       'BLK', 'PFL', 'Outcome'],\n",
      "      dtype='object')\n"
     ]
    }
   ],
   "source": [
    "# Merge the 'Sample' and 'Seeds' dataframes on 'Season' and 'TeamID' columns\n",
    "seeds1 = pd.merge(sample, seeds, how='left', left_on=['Season', 'Team0'], right_on=['Season', 'TeamID'])\n",
    "seeds1.drop(columns='TeamID', inplace=True)\n",
    "\n",
    "# Merge the 'Sample' and 'Seeds' dataframes on 'Season' and 'TeamID' columns\n",
    "seeds2 = pd.merge(seeds1, seeds, how='left', left_on=['Season', 'Team1'], right_on=['Season', 'TeamID'])\n",
    "seeds2.drop(columns='TeamID', inplace=True)\n",
    "\n",
    "# Fill missing values\n",
    "seeds2['Slot_x'].fillna(17, inplace = True)\n",
    "seeds2['Slot_y'].fillna(17, inplace = True)\n",
    "\n",
    "# Tournament Seeding Consideration (Differential)\n",
    "seeds2.loc[:, 'Seed'] = np.where(seeds2['Slot_x'] < seeds2['Slot_y'], \n",
    "                                 seeds2['Slot_x'] - seeds2['Slot_y'], \n",
    "                                 seeds2['Slot_y'] - seeds2['Slot_x'])\n",
    "# Convert Seed to int64\n",
    "seeds2['Seed'] = seeds2['Seed'].astype(int)\n",
    "\n",
    "# Drop unwanted columns from games dataframe\n",
    "seeds = seeds2.drop(columns=['Slot_x', 'Slot_y'])\n",
    "\n",
    "# Add in the remaining columns the model was trained on an set these values equal to zero\n",
    "seeds = seeds.assign(Site=0, MOV=0, FG2M=0, FG2A=0, FG3M=0, FG3A=0, FT1M=0, FT1A=0, ORB=0, \n",
    "                     DRB=0, AST=0, TOVR=0, STL=0, BLK=0, PFL=0)\n",
    "# Set order sequence\n",
    "order = [0, 1, 2, 3, 5, 6, 7, 8, 9, 10, 11, 12, 13, 14, 15, 16, 17, 18, 19, 4]\n",
    "\n",
    "# Reorder columns from games dataframe\n",
    "seeds = seeds.iloc[:,order].copy()\n",
    "\n",
    "# Show sample output\n",
    "print('seeds:', seeds.shape)\n",
    "print(seeds.columns)"
   ]
  },
  {
   "cell_type": "code",
   "execution_count": 8,
   "id": "cc4d4916-d56b-4f46-9d2f-e46689d5c152",
   "metadata": {},
   "outputs": [],
   "source": [
    "# Merge 'Seeds' with 'Team_means' for Team0\n",
    "df4 = seeds.merge(team_means.add_suffix('_0'), left_on=['Season', 'Team0'], right_on=['Season_0', 'TeamID_0'], how='left')"
   ]
  },
  {
   "cell_type": "code",
   "execution_count": 9,
   "id": "b185df71-140d-4679-bfe7-54cb55837baa",
   "metadata": {},
   "outputs": [],
   "source": [
    "# Merge 'Seeds' with 'Team_means' for Team1\n",
    "df4 = seeds.merge(team_means.add_suffix('_1'), left_on=['Season', 'Team1'], right_on=['Season_1', 'TeamID_1'], how='left')"
   ]
  },
  {
   "cell_type": "code",
   "execution_count": 10,
   "id": "f63690bb-7d3f-4639-b25b-7dbe548fcc32",
   "metadata": {},
   "outputs": [],
   "source": [
    "# Calculate difference for each column\n",
    "cols = ['Seed', 'Site', 'MOV', 'FG2M', 'FG2A', 'FG3M', 'FG3A', 'FT1M', 'FT1A', 'ORB', 'DRB', 'AST', 'TOVR', 'STL', 'BLK', 'PFL', 'Outcome']\n",
    "for col in cols:\n",
    "    df4[col] = df4[col] - df4[col + '_1']"
   ]
  },
  {
   "cell_type": "code",
   "execution_count": 11,
   "id": "c9b47e5f-12b3-4eb6-931b-6df112363f7a",
   "metadata": {},
   "outputs": [],
   "source": [
    "# Drop redundant columns\n",
    "df4 = df4.drop(columns=[col + '_1' for col in cols])\n",
    "df4 = df4.drop(columns=['Season_1', 'TeamID_1'], axis=1)\n",
    "\n",
    "data = df4.copy()"
   ]
  },
  {
   "cell_type": "code",
   "execution_count": 12,
   "id": "d96c9e6c-a7af-4121-807a-cc0beaa8b5ea",
   "metadata": {},
   "outputs": [
    {
     "name": "stdout",
     "output_type": "stream",
     "text": [
      "merged_means: (65703, 20)\n",
      "Index(['Season', 'Team0', 'Team1', 'Seed', 'Site', 'MOV', 'FG2M', 'FG2A',\n",
      "       'FG3M', 'FG3A', 'FT1M', 'FT1A', 'ORB', 'DRB', 'AST', 'TOVR', 'STL',\n",
      "       'BLK', 'PFL', 'Outcome'],\n",
      "      dtype='object')\n"
     ]
    }
   ],
   "source": [
    "# Show sample output\n",
    "print('merged_means:', data.shape)\n",
    "print(data.columns)"
   ]
  },
  {
   "cell_type": "markdown",
   "id": "3f8534f9-46a0-4217-98d8-5889ac13c5a1",
   "metadata": {
    "tags": []
   },
   "source": [
    "### **Load Model**"
   ]
  },
  {
   "cell_type": "code",
   "execution_count": 13,
   "id": "951f7d34-4d5c-48a9-b624-32d35bdd605b",
   "metadata": {},
   "outputs": [],
   "source": [
    "# Load the saved model from a file\n",
    "loaded_model = pickle.load(open('./models/gnb-model.sav', 'rb'))"
   ]
  },
  {
   "cell_type": "markdown",
   "id": "ff282afc-9fd4-4d99-978e-d725b1dc9962",
   "metadata": {
    "tags": []
   },
   "source": [
    "### **Run Model on Sample Data**"
   ]
  },
  {
   "cell_type": "code",
   "execution_count": 14,
   "id": "9d982994-49ba-44d0-a61a-ce68b9dcdcec",
   "metadata": {},
   "outputs": [],
   "source": [
    "# Set X,y variable on sample data\n",
    "X = data.drop(columns=['Outcome'], axis=1)\n",
    "y = data['Outcome']\n",
    "\n",
    "# Make predictions on sample data\n",
    "y_pred = loaded_model.predict(X)"
   ]
  },
  {
   "cell_type": "code",
   "execution_count": 15,
   "id": "7a7dba2f-f931-4423-bc30-ee325cffeece",
   "metadata": {},
   "outputs": [],
   "source": [
    "# Get probabilities on sample data\n",
    "y_proba = loaded_model.predict_proba(X)"
   ]
  },
  {
   "cell_type": "code",
   "execution_count": 16,
   "id": "de93fa6e-a8f7-4b42-9fb0-71b6dd995be2",
   "metadata": {},
   "outputs": [
    {
     "data": {
      "text/plain": [
       "65703"
      ]
     },
     "execution_count": 16,
     "metadata": {},
     "output_type": "execute_result"
    }
   ],
   "source": [
    "len(y_proba)"
   ]
  },
  {
   "cell_type": "markdown",
   "id": "09ffd784-9400-469f-803f-f904e7813c47",
   "metadata": {
    "tags": []
   },
   "source": [
    "### **Add Probabilities to Sample Dataframe**"
   ]
  },
  {
   "cell_type": "code",
   "execution_count": 17,
   "id": "12f0dd01-fb8f-412e-b9ed-71b6cd9aad74",
   "metadata": {},
   "outputs": [],
   "source": [
    "# Create 'ID' column for sample submission\n",
    "sample['ID'] = sample['Season'].astype(str) + \"_\" + sample['Team0'].astype(str) + \"_\" + sample['Team1'].astype(str)\n",
    "\n",
    "# Input the classification results into 'Outcome'\n",
    "sample['Outcome'] = y_pred\n",
    "\n",
    "# Create holder column for 'Pred' (probability predictions)\n",
    "sample['Pred'] = 0.0"
   ]
  },
  {
   "cell_type": "code",
   "execution_count": 18,
   "id": "b2f99f03-50a7-4e03-808c-fc459591ba7a",
   "metadata": {
    "tags": []
   },
   "outputs": [
    {
     "name": "stdout",
     "output_type": "stream",
     "text": [
      "sample: (65703, 2)\n"
     ]
    },
    {
     "data": {
      "text/html": [
       "<div>\n",
       "<style scoped>\n",
       "    .dataframe tbody tr th:only-of-type {\n",
       "        vertical-align: middle;\n",
       "    }\n",
       "\n",
       "    .dataframe tbody tr th {\n",
       "        vertical-align: top;\n",
       "    }\n",
       "\n",
       "    .dataframe thead th {\n",
       "        text-align: right;\n",
       "    }\n",
       "</style>\n",
       "<table border=\"1\" class=\"dataframe\">\n",
       "  <thead>\n",
       "    <tr style=\"text-align: right;\">\n",
       "      <th></th>\n",
       "      <th>ID</th>\n",
       "      <th>Pred</th>\n",
       "    </tr>\n",
       "  </thead>\n",
       "  <tbody>\n",
       "    <tr>\n",
       "      <th>0</th>\n",
       "      <td>2023_1101_1102</td>\n",
       "      <td>0.620</td>\n",
       "    </tr>\n",
       "    <tr>\n",
       "      <th>1</th>\n",
       "      <td>2023_1101_1103</td>\n",
       "      <td>0.972</td>\n",
       "    </tr>\n",
       "    <tr>\n",
       "      <th>2</th>\n",
       "      <td>2023_1101_1104</td>\n",
       "      <td>1.000</td>\n",
       "    </tr>\n",
       "    <tr>\n",
       "      <th>3</th>\n",
       "      <td>2023_1101_1105</td>\n",
       "      <td>0.916</td>\n",
       "    </tr>\n",
       "    <tr>\n",
       "      <th>4</th>\n",
       "      <td>2023_1101_1106</td>\n",
       "      <td>0.999</td>\n",
       "    </tr>\n",
       "  </tbody>\n",
       "</table>\n",
       "</div>"
      ],
      "text/plain": [
       "               ID   Pred\n",
       "0  2023_1101_1102  0.620\n",
       "1  2023_1101_1103  0.972\n",
       "2  2023_1101_1104  1.000\n",
       "3  2023_1101_1105  0.916\n",
       "4  2023_1101_1106  0.999"
      ]
     },
     "execution_count": 18,
     "metadata": {},
     "output_type": "execute_result"
    }
   ],
   "source": [
    "# Iterate over y_pred array and set sample['Outcome'] values\n",
    "for i in range(len(y_pred)):\n",
    "    if y_pred[i] == 0:\n",
    "        sample.at[i, 'Pred'] = y_proba[i][0].round(3)\n",
    "    else:\n",
    "        sample.at[i, 'Pred'] = y_proba[i][1].round(3)\n",
    "\n",
    "# Drop unwanted columns from games dataframe\n",
    "sample = sample.drop(columns=['Season', 'Team0', 'Team1', 'Seed', 'Outcome'], axis=1)\n",
    "\n",
    "# Show sample output\n",
    "print('sample:', sample.shape)\n",
    "sample.head()"
   ]
  },
  {
   "cell_type": "code",
   "execution_count": 19,
   "id": "782adc9a-65cf-42ce-88ca-49a1c5a1f7c5",
   "metadata": {},
   "outputs": [],
   "source": [
    "# Save dataframes as csv files\n",
    "sample_submission = sample.to_csv('submission-' + NAME + '.csv',index=False)"
   ]
  },
  {
   "cell_type": "code",
   "execution_count": 20,
   "id": "d6a8c410-488e-4887-9f1b-2a418c7f47bf",
   "metadata": {
    "collapsed": true,
    "jupyter": {
     "outputs_hidden": true
    },
    "tags": []
   },
   "outputs": [
    {
     "data": {
      "text/plain": [
       "array([0.62 , 0.972, 1.   , 0.916, 0.999, 0.975, 0.756, 0.504, 0.845,\n",
       "       0.979, 0.958, 0.996, 0.814, 0.688, 0.978, 0.919, 0.952, 0.812,\n",
       "       0.988, 0.969, 0.891, 0.835, 0.844, 0.656, 0.676, 0.94 , 0.869,\n",
       "       0.875, 0.92 , 0.948, 0.993, 0.99 , 0.59 , 0.834, 0.892, 0.987,\n",
       "       0.808, 0.992, 0.957, 0.974, 0.781, 0.964, 0.997, 0.915, 0.865,\n",
       "       0.897, 0.986, 0.868, 0.98 , 0.994, 0.925, 0.629, 0.809, 0.614,\n",
       "       0.973, 0.55 , 0.743, 0.537, 0.947, 0.591, 0.666, 0.963, 0.649,\n",
       "       0.894, 0.678, 0.782, 0.953, 0.797, 0.806, 0.991, 0.765, 0.744,\n",
       "       0.664, 0.938, 0.848, 0.515, 0.878, 0.609, 0.708, 0.586, 0.911,\n",
       "       0.699, 0.857, 0.551, 0.912, 0.867, 0.566, 0.702, 0.579, 0.705,\n",
       "       0.989, 0.735, 0.674, 0.715, 0.856, 0.88 , 0.711, 0.832, 0.939,\n",
       "       0.885, 0.819, 0.871, 0.771, 0.503, 0.529, 0.902, 0.704, 0.732,\n",
       "       0.623, 0.692, 0.941, 0.583, 0.767, 0.849, 0.946, 0.679, 0.728,\n",
       "       0.668, 0.763, 0.524, 0.896, 0.684, 0.929, 0.636, 0.841, 0.671,\n",
       "       0.936, 0.703, 0.961, 0.76 , 0.578, 0.587, 0.758, 0.56 , 0.556,\n",
       "       0.597, 0.592, 0.855, 0.888, 0.791, 0.626, 0.652, 0.853, 0.83 ,\n",
       "       0.654, 0.675, 0.935, 0.605, 0.926, 0.928, 0.777, 0.774, 0.646,\n",
       "       0.803, 0.937, 0.69 , 0.543, 0.833, 0.886, 0.773, 0.872, 0.741,\n",
       "       0.967, 0.757, 0.663, 0.858, 0.546, 0.548, 0.784, 0.68 , 0.793,\n",
       "       0.661, 0.695, 0.66 , 0.509, 0.903, 0.512, 0.914, 0.616, 0.779,\n",
       "       0.821, 0.517, 0.769, 0.805, 0.762, 0.505, 0.854, 0.603, 0.721,\n",
       "       0.884, 0.906, 0.665, 0.594, 0.954, 0.984, 0.815, 0.879, 0.775,\n",
       "       0.816, 0.97 , 0.91 , 0.955, 0.933, 0.662, 0.625, 0.982, 0.934,\n",
       "       0.764, 0.747, 0.985, 0.923, 0.73 , 0.898, 0.638, 0.65 , 0.783,\n",
       "       0.547, 0.842, 0.602, 0.859, 0.826, 0.683, 0.657, 0.965, 0.648,\n",
       "       0.77 , 0.905, 0.533, 0.718, 0.836, 0.851, 0.514, 0.506, 0.734,\n",
       "       0.944, 0.843, 0.921, 0.866, 0.742, 0.552, 0.714, 0.536, 0.87 ,\n",
       "       0.669, 0.831, 0.557, 0.79 , 0.792, 0.51 , 0.907, 0.511, 0.672,\n",
       "       0.86 , 0.513, 0.615, 0.549, 0.538, 0.61 , 0.84 , 0.759, 0.604,\n",
       "       0.593, 0.696, 0.534, 0.507, 0.766, 0.709, 0.698, 0.673, 0.818,\n",
       "       0.528, 0.624, 0.693, 0.582, 0.523, 0.635, 0.577, 0.677, 0.653,\n",
       "       0.927, 0.647, 0.667, 0.544, 0.712, 0.755, 0.768, 0.589, 0.588,\n",
       "       0.516, 0.746, 0.981, 0.628, 0.962, 0.565, 0.761, 0.772, 0.561,\n",
       "       0.596, 0.852, 0.785, 0.601, 0.837, 0.93 , 0.874, 0.895, 0.796,\n",
       "       0.731, 0.727, 0.555, 0.78 , 0.822, 0.722, 0.71 , 0.639, 0.825,\n",
       "       0.502, 0.687, 0.58 , 0.535, 0.691, 0.558, 0.545, 0.811, 0.716,\n",
       "       0.729, 0.945, 0.813, 0.658, 0.539, 0.611, 0.553, 0.713, 0.745,\n",
       "       0.581, 0.67 , 0.847, 0.522, 0.778, 0.918, 0.932, 0.697, 0.7  ,\n",
       "       0.719, 0.508, 0.736, 0.877, 0.733, 0.527, 0.681, 0.634, 0.576,\n",
       "       0.804, 0.789, 0.883, 0.846, 0.706, 0.694, 0.595, 0.776, 0.754,\n",
       "       0.6  , 0.627, 0.564, 0.562, 0.873, 0.807, 0.685, 0.89 , 0.554,\n",
       "       0.64 , 0.655, 0.686, 0.817, 0.726, 0.839, 0.559, 0.723, 0.861,\n",
       "       0.659, 0.617, 0.54 , 0.682, 0.786, 0.717, 0.701, 0.795, 0.85 ,\n",
       "       0.612, 0.521, 0.889, 0.913, 0.72 , 0.924, 0.74 , 0.968, 0.526,\n",
       "       0.633, 0.575, 0.651, 0.613, 0.823, 0.81 , 0.922, 0.599, 0.824,\n",
       "       0.645, 0.838, 0.737, 0.563, 0.707, 0.904, 0.606, 0.881, 0.909,\n",
       "       0.518, 0.887, 0.788, 0.753, 0.908, 0.622, 0.641, 0.618, 0.541,\n",
       "       0.725, 0.52 , 0.724, 0.525, 0.574, 0.829, 0.632, 0.501, 0.644,\n",
       "       0.876, 0.787, 0.901, 0.598, 0.739, 0.794, 0.519, 0.542, 0.607,\n",
       "       0.882, 0.621, 0.642, 0.738, 0.532, 0.862, 0.619, 0.752, 0.573,\n",
       "       0.917, 0.931, 0.585, 0.631, 0.5  , 0.643, 0.942, 0.608, 0.899,\n",
       "       0.802, 0.584, 0.864, 0.531, 0.748, 0.966, 0.828, 0.572, 0.63 ,\n",
       "       0.751, 0.53 , 0.863, 0.689, 0.956, 0.801, 0.749, 0.571, 0.9  ,\n",
       "       0.893, 0.567, 0.75 , 0.827, 0.57 , 0.568, 0.8  , 0.569, 0.951,\n",
       "       0.995, 0.949, 0.82 , 0.943, 0.799, 0.959, 0.971, 0.983, 0.637,\n",
       "       0.96 , 0.95 , 0.998])"
      ]
     },
     "execution_count": 20,
     "metadata": {},
     "output_type": "execute_result"
    }
   ],
   "source": [
    "sample.Pred.unique()"
   ]
  }
 ],
 "metadata": {
  "kernelspec": {
   "display_name": "Py 3.09 (mlops)",
   "language": "python",
   "name": "mlops"
  },
  "language_info": {
   "codemirror_mode": {
    "name": "ipython",
    "version": 3
   },
   "file_extension": ".py",
   "mimetype": "text/x-python",
   "name": "python",
   "nbconvert_exporter": "python",
   "pygments_lexer": "ipython3",
   "version": "3.9.15"
  }
 },
 "nbformat": 4,
 "nbformat_minor": 5
}
