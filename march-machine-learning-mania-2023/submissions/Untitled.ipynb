{
 "cells": [
  {
   "cell_type": "code",
   "execution_count": 1,
   "id": "4d7a531d-c849-45a7-8dbb-3b85d9955b9b",
   "metadata": {},
   "outputs": [],
   "source": [
    "# Import Libraries\n",
    "import pandas as pd\n",
    "from datetime import datetime, timedelta\n",
    "import re\n",
    "import random\n",
    "import numpy as np"
   ]
  },
  {
   "cell_type": "code",
   "execution_count": 8,
   "id": "85f01b3e-d707-4b86-9ccc-52d4564b4060",
   "metadata": {},
   "outputs": [],
   "source": [
    "# Create Seasons dataframe\n",
    "submit1 = pd.read_csv('check_submission_1.csv')"
   ]
  },
  {
   "cell_type": "code",
   "execution_count": 3,
   "id": "a8fab35d-b2ea-4c50-8b6c-9f8b13e66a67",
   "metadata": {},
   "outputs": [],
   "source": [
    "# Create Seasons dataframe\n",
    "submit2 = pd.read_csv('msds565_submission_2.csv')"
   ]
  },
  {
   "cell_type": "code",
   "execution_count": 6,
   "id": "69121e2f-7871-401a-98ee-6944f8d58f09",
   "metadata": {},
   "outputs": [],
   "source": [
    "included = [1104,1112,1113,1116,1120,1124,1129,1158,1159,1163,1166,1179,\n",
    "            1181,1192,1194,1202,1211,1213,1222,1224,1228,1231,1233,1234,\n",
    "            1235,1242,1243,1244,1245,1246,1266,1268,1272,1274,1277,1280,\n",
    "            1281,1286,1297,1301,1321,1331,1336,1338,1343,1344,1345,1361,\n",
    "            1364,1369,1388,1394,1395,1397,1400,1401,1411,1417,1418,1421,\n",
    "            1425,1429,1433,1436,1438,1452,1462]"
   ]
  },
  {
   "cell_type": "code",
   "execution_count": 9,
   "id": "d4979f52-0b97-486e-bb40-b4d063e65b61",
   "metadata": {},
   "outputs": [],
   "source": [
    "find1 = submit1[(submit1['Team0'].isin(included)) | (submit1['Team1'].isin(included))].copy()"
   ]
  },
  {
   "cell_type": "code",
   "execution_count": 11,
   "id": "e00a1656-08cc-4667-b705-3c916bba2228",
   "metadata": {},
   "outputs": [],
   "source": [
    "find1.to_csv('find1.csv',index=False)"
   ]
  },
  {
   "cell_type": "code",
   "execution_count": 15,
   "id": "b635ca4a-4395-4d7c-aa24-7203f5fd8755",
   "metadata": {},
   "outputs": [],
   "source": [
    "# Create Seasons dataframe\n",
    "teams = pd.read_csv('../mens/MTeams.csv')"
   ]
  },
  {
   "cell_type": "code",
   "execution_count": 25,
   "id": "e0c4e7ec-9898-49c5-9863-6ba3cc1b5dce",
   "metadata": {},
   "outputs": [
    {
     "data": {
      "text/plain": [
       "Index(['Season', 'Team0', 'Team1', 'ID', 'Pred', 'TeamID0', 'TeamName0',\n",
       "       'TeamID1', 'TeamName1'],\n",
       "      dtype='object')"
      ]
     },
     "execution_count": 25,
     "metadata": {},
     "output_type": "execute_result"
    }
   ],
   "source": [
    "find3.columns"
   ]
  },
  {
   "cell_type": "code",
   "execution_count": 16,
   "id": "03f7d168-3466-4595-9d2a-7d14f4b02523",
   "metadata": {},
   "outputs": [],
   "source": [
    "# Merge the 'Tourney' and 'Seeds' dataframes on 'Season' and 'TeamID' columns\n",
    "find2 = pd.merge(find1, teams, how='left', left_on=['Team0'], right_on=['TeamID'])"
   ]
  },
  {
   "cell_type": "code",
   "execution_count": 18,
   "id": "3871b509-64fc-4ba5-9d7b-b9dbd5134b7c",
   "metadata": {},
   "outputs": [],
   "source": [
    "# Merge the 'Tourney' and 'Seeds' dataframes on 'Season' and 'TeamID' columns\n",
    "find3 = pd.merge(find2, teams, how='left', left_on=['Team1'], right_on=['TeamID'])"
   ]
  },
  {
   "cell_type": "code",
   "execution_count": 24,
   "id": "c0fed96b-90d4-4481-918a-3cd1bc49dd0e",
   "metadata": {},
   "outputs": [],
   "source": [
    "new_names = {'TeamID_x':'TeamID0', 'TeamName_x':'TeamName0', 'TeamID_y':'TeamID1', 'TeamName_y':'TeamName1'}\n",
    "\n",
    "find3 = find3.rename(columns=new_names)\n",
    "find3 = find3.drop(columns=['FirstD1Season_x', 'LastD1Season_x', 'FirstD1Season_y', 'LastD1Season_y'])"
   ]
  },
  {
   "cell_type": "code",
   "execution_count": 26,
   "id": "fbf045f2-27cd-4ad2-a1a0-833ad1add84a",
   "metadata": {},
   "outputs": [
    {
     "data": {
      "text/html": [
       "<div>\n",
       "<style scoped>\n",
       "    .dataframe tbody tr th:only-of-type {\n",
       "        vertical-align: middle;\n",
       "    }\n",
       "\n",
       "    .dataframe tbody tr th {\n",
       "        vertical-align: top;\n",
       "    }\n",
       "\n",
       "    .dataframe thead th {\n",
       "        text-align: right;\n",
       "    }\n",
       "</style>\n",
       "<table border=\"1\" class=\"dataframe\">\n",
       "  <thead>\n",
       "    <tr style=\"text-align: right;\">\n",
       "      <th></th>\n",
       "      <th>Season</th>\n",
       "      <th>Team0</th>\n",
       "      <th>Team1</th>\n",
       "      <th>ID</th>\n",
       "      <th>Pred</th>\n",
       "      <th>TeamID0</th>\n",
       "      <th>TeamName0</th>\n",
       "      <th>TeamID1</th>\n",
       "      <th>TeamName1</th>\n",
       "    </tr>\n",
       "  </thead>\n",
       "  <tbody>\n",
       "    <tr>\n",
       "      <th>0</th>\n",
       "      <td>2023</td>\n",
       "      <td>1101</td>\n",
       "      <td>1104</td>\n",
       "      <td>2023_1101_1104</td>\n",
       "      <td>1.000</td>\n",
       "      <td>1101</td>\n",
       "      <td>Abilene Chr</td>\n",
       "      <td>1104</td>\n",
       "      <td>Alabama</td>\n",
       "    </tr>\n",
       "    <tr>\n",
       "      <th>1</th>\n",
       "      <td>2023</td>\n",
       "      <td>1101</td>\n",
       "      <td>1112</td>\n",
       "      <td>2023_1101_1112</td>\n",
       "      <td>1.000</td>\n",
       "      <td>1101</td>\n",
       "      <td>Abilene Chr</td>\n",
       "      <td>1112</td>\n",
       "      <td>Arizona</td>\n",
       "    </tr>\n",
       "    <tr>\n",
       "      <th>2</th>\n",
       "      <td>2023</td>\n",
       "      <td>1101</td>\n",
       "      <td>1113</td>\n",
       "      <td>2023_1101_1113</td>\n",
       "      <td>0.845</td>\n",
       "      <td>1101</td>\n",
       "      <td>Abilene Chr</td>\n",
       "      <td>1113</td>\n",
       "      <td>Arizona St</td>\n",
       "    </tr>\n",
       "    <tr>\n",
       "      <th>3</th>\n",
       "      <td>2023</td>\n",
       "      <td>1101</td>\n",
       "      <td>1116</td>\n",
       "      <td>2023_1101_1116</td>\n",
       "      <td>0.996</td>\n",
       "      <td>1101</td>\n",
       "      <td>Abilene Chr</td>\n",
       "      <td>1116</td>\n",
       "      <td>Arkansas</td>\n",
       "    </tr>\n",
       "    <tr>\n",
       "      <th>4</th>\n",
       "      <td>2023</td>\n",
       "      <td>1101</td>\n",
       "      <td>1120</td>\n",
       "      <td>2023_1101_1120</td>\n",
       "      <td>0.978</td>\n",
       "      <td>1101</td>\n",
       "      <td>Abilene Chr</td>\n",
       "      <td>1120</td>\n",
       "      <td>Auburn</td>\n",
       "    </tr>\n",
       "  </tbody>\n",
       "</table>\n",
       "</div>"
      ],
      "text/plain": [
       "   Season  Team0  Team1              ID   Pred  TeamID0    TeamName0  TeamID1  \\\n",
       "0    2023   1101   1104  2023_1101_1104  1.000     1101  Abilene Chr     1104   \n",
       "1    2023   1101   1112  2023_1101_1112  1.000     1101  Abilene Chr     1112   \n",
       "2    2023   1101   1113  2023_1101_1113  0.845     1101  Abilene Chr     1113   \n",
       "3    2023   1101   1116  2023_1101_1116  0.996     1101  Abilene Chr     1116   \n",
       "4    2023   1101   1120  2023_1101_1120  0.978     1101  Abilene Chr     1120   \n",
       "\n",
       "    TeamName1  \n",
       "0     Alabama  \n",
       "1     Arizona  \n",
       "2  Arizona St  \n",
       "3    Arkansas  \n",
       "4      Auburn  "
      ]
     },
     "execution_count": 26,
     "metadata": {},
     "output_type": "execute_result"
    }
   ],
   "source": [
    "find3.head()"
   ]
  },
  {
   "cell_type": "code",
   "execution_count": 27,
   "id": "c034c9d9-5e2e-4814-ab8b-eb08015cb57f",
   "metadata": {},
   "outputs": [],
   "source": [
    "# Save dataframes as csv files\n",
    "find3_data = find3.to_csv('find3.csv',index=False)"
   ]
  },
  {
   "cell_type": "code",
   "execution_count": null,
   "id": "1d3d62fc-95be-42f2-be5b-f10a2e6a575e",
   "metadata": {},
   "outputs": [],
   "source": []
  }
 ],
 "metadata": {
  "kernelspec": {
   "display_name": "Py 3.09 (mlops)",
   "language": "python",
   "name": "mlops"
  },
  "language_info": {
   "codemirror_mode": {
    "name": "ipython",
    "version": 3
   },
   "file_extension": ".py",
   "mimetype": "text/x-python",
   "name": "python",
   "nbconvert_exporter": "python",
   "pygments_lexer": "ipython3",
   "version": "3.9.15"
  }
 },
 "nbformat": 4,
 "nbformat_minor": 5
}
