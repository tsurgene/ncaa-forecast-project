{
 "cells": [
  {
   "cell_type": "code",
   "execution_count": null,
   "id": "70ca81a4-82cb-49e8-ab02-9616bdc1f5b0",
   "metadata": {},
   "outputs": [],
   "source": [
    "import pandas as pd"
   ]
  },
  {
   "cell_type": "code",
   "execution_count": null,
   "id": "d1ba3957-b9b0-4d82-ba68-99b40a9119d4",
   "metadata": {},
   "outputs": [],
   "source": [
    "# Load your data frames into variables df1 and df2\n"
   ]
  },
  {
   "cell_type": "code",
   "execution_count": null,
   "id": "5f47e1e9-5c5a-4cde-9bef-40614f31a9d2",
   "metadata": {},
   "outputs": [],
   "source": [
    "# Specify the season you want to use for training and testing\n",
    "year = 2023\n"
   ]
  },
  {
   "cell_type": "code",
   "execution_count": null,
   "id": "4ea97c60-bc46-48a4-8f63-a44567d80e2d",
   "metadata": {},
   "outputs": [],
   "source": [
    "# Define the training set\n",
    "train_seasons = [year-3, year-2, year-1, year]\n",
    "train_df = df1[df1['Season'].isin(train_seasons)]\n",
    "X_train = train_df.drop('Outcome', axis=1)\n",
    "y_train = train_df['Outcome']\n"
   ]
  },
  {
   "cell_type": "code",
   "execution_count": null,
   "id": "1fce15b4-e88f-4baf-8ab5-669c40bca2f4",
   "metadata": {},
   "outputs": [],
   "source": [
    "# Define the testing set\n",
    "test_season = year\n",
    "test_df = df2[df2['Season'] == test_season]\n",
    "X_test = test_df.drop('Outcome', axis=1)\n",
    "y_test = test_df['Outcome']\n"
   ]
  },
  {
   "cell_type": "markdown",
   "id": "5341a7eb-a840-46fa-83e0-83e3c82656ab",
   "metadata": {},
   "source": [
    "In this code, we first specify the season we want to use for training and testing by setting the year variable to 2023.\n",
    "\n",
    "Next, we define the training set by selecting only those rows in df1 where the season is equal to the current year plus the three previous years. This is done by creating a list of seasons we want to include in the training set, and then using the isin() method to filter the data frame based on this list. We then split this filtered data frame into X_train (all columns except the Outcome column) and y_train (the Outcome column).\n",
    "\n",
    "Finally, we define the testing set by selecting only those rows in df2 where the season is equal to the current year. We again split this filtered data frame into X_test and y_test.\n",
    "\n",
    "Note that this code assumes that your data frames are already loaded into variables df1 and df2. If not, you will need to modify the code to load your data frames."
   ]
  },
  {
   "cell_type": "code",
   "execution_count": null,
   "id": "3e694f89-5e0a-42fb-9139-9e71e6463739",
   "metadata": {},
   "outputs": [],
   "source": []
  }
 ],
 "metadata": {
  "kernelspec": {
   "display_name": "Py 3.09 (mlops)",
   "language": "python",
   "name": "mlops"
  },
  "language_info": {
   "codemirror_mode": {
    "name": "ipython",
    "version": 3
   },
   "file_extension": ".py",
   "mimetype": "text/x-python",
   "name": "python",
   "nbconvert_exporter": "python",
   "pygments_lexer": "ipython3",
   "version": "3.9.15"
  }
 },
 "nbformat": 4,
 "nbformat_minor": 5
}
