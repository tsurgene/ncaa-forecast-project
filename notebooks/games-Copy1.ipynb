{
 "cells": [
  {
   "cell_type": "code",
   "execution_count": 1,
   "id": "17018e18-df9b-4e45-8781-aeffbad41673",
   "metadata": {},
   "outputs": [],
   "source": [
    "# Select folder path based on user input\n",
    "gender = 'M' #input('Enter gender (W for women, M for men): ')\n",
    "\n",
    "# Assign the appropriate folder path based on the input\n",
    "MAIN_DIR = './'\n",
    "USE_DIR = MAIN_DIR + 'womens/' if gender.upper() == 'W' else MAIN_DIR + 'mens/'\n",
    "PRE = 'W' if gender.upper() == 'W' else 'M'\n",
    "NAME = 'womens' if gender.upper() == 'W' else 'mens'"
   ]
  },
  {
   "cell_type": "code",
   "execution_count": 2,
   "id": "7c82c553-71c9-42ef-a773-5630ba53ea2f",
   "metadata": {},
   "outputs": [],
   "source": [
    "# Import Libraries\n",
    "import re\n",
    "import random\n",
    "import numpy as np\n",
    "import pandas as pd\n",
    "from datetime import datetime, timedelta"
   ]
  },
  {
   "cell_type": "markdown",
   "id": "42704c58-1201-42ab-908e-b898b37de816",
   "metadata": {},
   "source": [
    "##### **Data Section 3 - GAMES**"
   ]
  },
  {
   "cell_type": "code",
   "execution_count": 3,
   "id": "dbbb0dff-d2c0-4a5c-a7fc-67d932224680",
   "metadata": {},
   "outputs": [
    {
     "name": "stdout",
     "output_type": "stream",
     "text": [
      "39 seasons\n",
      "range: [1985 1986 1987 1988 1989 1990 1991 1992 1993 1994 1995 1996 1997 1998\n",
      " 1999 2000 2001 2002 2003 2004 2005 2006 2007 2008 2009 2010 2011 2012\n",
      " 2013 2014 2015 2016 2017 2018 2019 2020 2021 2022 2023]\n"
     ]
    },
    {
     "data": {
      "text/html": [
       "<div>\n",
       "<style scoped>\n",
       "    .dataframe tbody tr th:only-of-type {\n",
       "        vertical-align: middle;\n",
       "    }\n",
       "\n",
       "    .dataframe tbody tr th {\n",
       "        vertical-align: top;\n",
       "    }\n",
       "\n",
       "    .dataframe thead th {\n",
       "        text-align: right;\n",
       "    }\n",
       "</style>\n",
       "<table border=\"1\" class=\"dataframe\">\n",
       "  <thead>\n",
       "    <tr style=\"text-align: right;\">\n",
       "      <th></th>\n",
       "      <th>Season</th>\n",
       "      <th>DayZero</th>\n",
       "      <th>RegionW</th>\n",
       "      <th>RegionX</th>\n",
       "      <th>RegionY</th>\n",
       "      <th>RegionZ</th>\n",
       "    </tr>\n",
       "  </thead>\n",
       "  <tbody>\n",
       "    <tr>\n",
       "      <th>0</th>\n",
       "      <td>1985</td>\n",
       "      <td>1984-10-29</td>\n",
       "      <td>East</td>\n",
       "      <td>West</td>\n",
       "      <td>Midwest</td>\n",
       "      <td>Southeast</td>\n",
       "    </tr>\n",
       "    <tr>\n",
       "      <th>1</th>\n",
       "      <td>1986</td>\n",
       "      <td>1985-10-28</td>\n",
       "      <td>East</td>\n",
       "      <td>Midwest</td>\n",
       "      <td>Southeast</td>\n",
       "      <td>West</td>\n",
       "    </tr>\n",
       "  </tbody>\n",
       "</table>\n",
       "</div>"
      ],
      "text/plain": [
       "   Season    DayZero RegionW  RegionX    RegionY    RegionZ\n",
       "0    1985 1984-10-29    East     West    Midwest  Southeast\n",
       "1    1986 1985-10-28    East  Midwest  Southeast       West"
      ]
     },
     "execution_count": 3,
     "metadata": {},
     "output_type": "execute_result"
    }
   ],
   "source": [
    "# Create Seasons dataframe\n",
    "seasons = pd.read_csv(USE_DIR + PRE + 'Seasons.csv')\n",
    "\n",
    "# Convert DayZero column to datetime format\n",
    "seasons['DayZero'] = pd.to_datetime(seasons['DayZero'])\n",
    "\n",
    "# Show sample output\n",
    "print(len(seasons.Season.unique()), 'seasons')\n",
    "print('range:', seasons.Season.unique())\n",
    "seasons.head(2)"
   ]
  },
  {
   "cell_type": "code",
   "execution_count": 20,
   "id": "ad1afda0-34c8-4239-9d6f-91cfdee90402",
   "metadata": {},
   "outputs": [
    {
     "name": "stdout",
     "output_type": "stream",
     "text": [
      "seeds: (2490, 6)\n",
      "   Season Seed  TeamID  Seeds RegionCode PlayinCode\n",
      "0    1985  W01    1207      1          W           \n",
      "1    1985  W02    1210      2          W           \n",
      "2    1985  W03    1228      3          W           \n"
     ]
    }
   ],
   "source": [
    "# Create Seeds dataframe\n",
    "seeds = pd.read_csv(USE_DIR + PRE + 'NCAATourneySeeds.csv')\n",
    "\n",
    "# Create a regex to pull out number and letter\n",
    "regex1 = r'\\d+'\n",
    "regex2 = r'^[WXYZ]'\n",
    "#regex3 = r'[ab]?$'\n",
    "\n",
    "\n",
    "# Apply the regular expression to the 'col1' column to extract the numeric value\n",
    "seeds['Seeds'] = seeds['Seed'].apply(lambda x: re.search(regex1, x).group())\n",
    "seeds['Seeds'] = seeds['Seeds'].astype(int)\n",
    "\n",
    "# Create a regex to pull out region code\n",
    "seeds['RegionCode'] = seeds['Seed'].apply(lambda x: re.search(regex2, x).group())\n",
    "\n",
    "regex3 = r'([ab])$'\n",
    "seeds['PlayinCode'] = seeds['Seed'].str.extract(regex3)\n",
    "seeds['PlayinCode'] = seeds['PlayinCode'].fillna('')\n",
    "\n",
    "# Show sample output\n",
    "print('seeds:', seeds.shape)\n",
    "print(seeds.head(3))"
   ]
  },
  {
   "cell_type": "code",
   "execution_count": null,
   "id": "4bc59f32-fa70-46ab-aa5e-43e785e1423b",
   "metadata": {},
   "outputs": [],
   "source": [
    "# Create Games dataframe\n",
    "games = pd.read_csv(USE_DIR + PRE + 'RegularSeasonDetailedResults.csv')\n",
    "tourney = pd.read_csv(USE_DIR + PRE + 'NCAATourneyDetailedResults.csv')"
   ]
  },
  {
   "cell_type": "code",
   "execution_count": null,
   "id": "4a4146b2-42a5-4b04-b084-f1f51e770a04",
   "metadata": {},
   "outputs": [],
   "source": [
    "# Show sample output\n",
    "print(len(games.Season.unique()), 'seasons', '–', 'range:')\n",
    "print(games.Season.unique())\n",
    "print('games:', games.shape)\n",
    "print(games.head(3))"
   ]
  },
  {
   "cell_type": "code",
   "execution_count": null,
   "id": "ebba6a33-b1f7-48e3-a53c-b699ac55d7fd",
   "metadata": {},
   "outputs": [],
   "source": [
    "# Show sample output\n",
    "print('tourney:', tourney.shape)\n",
    "print(tourney.head(3))"
   ]
  },
  {
   "cell_type": "code",
   "execution_count": null,
   "id": "9e01d19f-fb48-4584-af0b-8789dccc92df",
   "metadata": {},
   "outputs": [],
   "source": [
    "# Merge the 'seasons' and 'games' dataframes\n",
    "merged_dfg = pd.merge(seasons, games, on='Season')\n",
    "merged_dft = pd.merge(seasons, tourney, on='Season')\n",
    "\n",
    "# Add 'DayNum' to 'DayZero' to create 'DayDate' column\n",
    "merged_dfg['DayDate'] = pd.to_datetime(merged_dfg['DayZero']) + pd.to_timedelta(merged_dfg['DayNum'], unit='D')\n",
    "merged_dft['DayDate'] = pd.to_datetime(merged_dft['DayZero']) + pd.to_timedelta(merged_dft['DayNum'], unit='D')\n",
    "\n",
    "# Create new 'DayDate' column in 'games' dataframe\n",
    "games['DayDate'] = merged_dfg['DayDate']\n",
    "tourney['DayDate'] = merged_dft['DayDate']"
   ]
  },
  {
   "cell_type": "code",
   "execution_count": null,
   "id": "00bb06d6-99cf-44de-bb19-e52a6147d18d",
   "metadata": {},
   "outputs": [],
   "source": [
    "# Set order sequence\n",
    "order = [0, 34, 1, 2, 3, 4, 5, 6, 7, 8, 9, 10, 11, 12, 13, 14, 15, 16, 17, 18, 19, \n",
    "         20, 21, 22, 23, 24, 25, 26, 27, 28, 29, 30, 31, 32, 33]\n",
    "\n",
    "# Reorder and drop unwanted columns from games dataframe\n",
    "games = games.iloc[:,order].drop(columns=['DayNum'])\n",
    "tourney = tourney.iloc[:,order].drop(columns=['DayNum'])"
   ]
  },
  {
   "cell_type": "code",
   "execution_count": null,
   "id": "01e5e4c9-29b0-46a4-b24a-cc4595a638a7",
   "metadata": {},
   "outputs": [],
   "source": [
    "# Add new 'Outcome' column to identify which team won (to be used to order differentials)\n",
    "games['Outcome'] = np.where(games['WTeamID'] < games['LTeamID'], 0, 1)\n",
    "tourney['Outcome'] = np.where(tourney['WTeamID'] < tourney['LTeamID'], 0, 1)\n",
    "\n",
    "# Add new 'Team0' and 'Team1' columns to put teams in the proper order for predictions\n",
    "games['Team0'] = np.where(games['WTeamID'] < games['LTeamID'], games['WTeamID'], games['LTeamID'])\n",
    "games['Team1'] = np.where(games['WTeamID'] < games['LTeamID'], games['LTeamID'], games['WTeamID'])\n",
    "tourney['Team0'] = np.where(tourney['WTeamID'] < tourney['LTeamID'], tourney['WTeamID'], tourney['LTeamID'])\n",
    "tourney['Team1'] = np.where(tourney['WTeamID'] < tourney['LTeamID'], tourney['LTeamID'], tourney['WTeamID'])\n",
    "\n",
    "# Add new 'Site' column to assign a numeric value to the site where game was held (Away = -1, Neutral = 0, and Home = 1)\n",
    "games['Site'] = np.where(games['WLoc'] == 'A', -1, np.where(games['WLoc'] == 'N', 0, 1))\n",
    "tourney['Site'] = np.where(tourney['WLoc'] == 'A', -1, np.where(tourney['WLoc'] == 'N', 0, 1))\n",
    "tourney['Site'] = np.where(tourney['WLoc'] == 'A', -1, np.where(tourney['WLoc'] == 'N', 0, 1))"
   ]
  },
  {
   "cell_type": "code",
   "execution_count": null,
   "id": "cd6c2d1a-74ee-4bc3-9063-e6fb8be09321",
   "metadata": {},
   "outputs": [],
   "source": [
    "# Set order sequence\n",
    "order = [0, 35, 36, 1, 37, 2, 3, 4, 5, 6, 7, 8, 9, 10, 11, 12, 13, 14, 15, 16, 17, 18, 19, \n",
    "         20, 21, 22, 23, 24, 25, 26, 27, 28, 29, 30, 31, 32, 33, 34]\n",
    "\n",
    "# Reorder columns from games dataframe\n",
    "games = games.iloc[:,order]\n",
    "tourney = tourney.iloc[:,order]"
   ]
  },
  {
   "cell_type": "code",
   "execution_count": null,
   "id": "14707a78-4294-4f1f-8cf5-a82b6f0cea22",
   "metadata": {},
   "outputs": [],
   "source": [
    "# Create a series of new columns (13 total) for the differenitals between each individual statistic\n",
    "adjust_games = games.copy()\n",
    "adjust_tourney = tourney.copy()\n",
    "\n",
    "# MOV, Margin of Victory (Score Differential)\n",
    "adjust_games.loc[:, 'MOV'] = np.where(games['Outcome'] == 0, games['WScore'] - games['LScore'], games['LScore'] - games['WScore'])\n",
    "adjust_tourney.loc[:, 'MOV'] = np.where(tourney['Outcome'] == 0, tourney['WScore'] - tourney['LScore'], tourney['LScore'] - tourney['WScore'])\n",
    "\n",
    "# FG2M, Field Goals (2-pts) Made Differential\n",
    "adjust_games.loc[:, 'FG2M'] = np.where(games['Outcome'] == 0, games['WFGM'] - games['LFGM'], games['LFGM'] - games['WFGM'])\n",
    "adjust_tourney.loc[:, 'FG2M'] = np.where(tourney['Outcome'] == 0, tourney['WFGM'] - tourney['LFGM'], tourney['LFGM'] - tourney['WFGM'])\n",
    "\n",
    "# FG2A, Field Goals (2-pts) Attempted Differential\n",
    "adjust_games.loc[:, 'FG2A'] = np.where(games['Outcome'] == 0, games['WFGA'] - games['LFGA'], games['LFGA'] - games['WFGA'])\n",
    "adjust_tourney.loc[:, 'FG2A'] = np.where(tourney['Outcome'] == 0, tourney['WFGA'] - tourney['LFGA'], tourney['LFGA'] - tourney['WFGA'])\n",
    "\n",
    "# FG3M, Field Goals (3-pts) Made Differential\n",
    "adjust_games.loc[:, 'FG3M'] = np.where(games['Outcome'] == 0, games['WFGM3'] - games['LFGM3'], games['LFGM3'] - games['WFGM3'])\n",
    "adjust_tourney.loc[:, 'FG3M'] = np.where(tourney['Outcome'] == 0, tourney['WFGM3'] - tourney['LFGM3'], tourney['LFGM3'] - tourney['WFGM3'])\n",
    "\n",
    "# FG3A, Field Goals (2-pts) Attempted Differential\n",
    "adjust_games.loc[:, 'FG3A'] = np.where(games['Outcome'] == 0, games['WFGA3'] - games['LFGA3'], games['LFGA3'] - games['WFGA3'])\n",
    "adjust_tourney.loc[:, 'FG3A'] = np.where(tourney['Outcome'] == 0, tourney['WFGA3'] - tourney['LFGA3'], tourney['LFGA3'] - tourney['WFGA3'])\n",
    "\n",
    "# FT1M, Free Throws (1-pt) Made Differential\n",
    "adjust_games.loc[:, 'FT1M'] = np.where(games['Outcome'] == 0, games['WFTM'] - games['LFTM'], games['LFTM'] - games['WFTM'])\n",
    "adjust_tourney.loc[:, 'FT1M'] = np.where(tourney['Outcome'] == 0, tourney['WFTM'] - tourney['LFTM'], tourney['LFTM'] - tourney['WFTM'])\n",
    "\n",
    "# FT1A, Free Throws (1-pt) Attempted Differential\n",
    "adjust_games.loc[:, 'FT1A'] = np.where(games['Outcome'] == 0, games['WFTA'] - games['LFTA'], games['LFTA'] - games['WFTA'])\n",
    "adjust_tourney.loc[:, 'FT1A'] = np.where(tourney['Outcome'] == 0, tourney['WFTA'] - tourney['LFTA'], tourney['LFTA'] - tourney['WFTA'])\n",
    "\n",
    "# ORB, Offensive Rebounds Differential\n",
    "adjust_games.loc[:, 'ORB'] = np.where(games['Outcome'] == 0, games['WOR'] - games['LOR'], games['LOR'] - games['WOR'])\n",
    "adjust_tourney.loc[:, 'ORB'] = np.where(tourney['Outcome'] == 0, tourney['WOR'] - tourney['LOR'], tourney['LOR'] - tourney['WOR'])\n",
    "\n",
    "# DRB, Defensive Rebounds Differential\n",
    "adjust_games.loc[:, 'DRB'] = np.where(games['Outcome'] == 0, games['WDR'] - games['LDR'], games['LDR'] - games['WDR'])\n",
    "adjust_tourney.loc[:, 'DRB'] = np.where(tourney['Outcome'] == 0, tourney['WDR'] - tourney['LDR'], tourney['LDR'] - tourney['WDR'])\n",
    "\n",
    "# AST, Assists Differential\n",
    "adjust_games.loc[:, 'AST'] = np.where(games['Outcome'] == 0, games['WAst'] - games['LAst'], games['LAst'] - games['WAst'])\n",
    "adjust_tourney.loc[:, 'AST'] = np.where(tourney['Outcome'] == 0, tourney['WAst'] - tourney['LAst'], tourney['LAst'] - tourney['WAst'])\n",
    "\n",
    "# TOVR, Turnovers Differential\n",
    "adjust_games.loc[:, 'TOVR'] = np.where(games['Outcome'] == 0, games['WTO'] - games['LTO'], games['LTO'] - games['WTO'])\n",
    "adjust_tourney.loc[:, 'TOVR'] = np.where(tourney['Outcome'] == 0, tourney['WTO'] - tourney['LTO'], tourney['LTO'] - tourney['WTO'])\n",
    "\n",
    "# STL, Steals Differential\n",
    "adjust_games.loc[:, 'STL'] = np.where(games['Outcome'] == 0, games['WStl'] - games['LStl'], games['LStl'] - games['WStl'])\n",
    "adjust_tourney.loc[:, 'STL'] = np.where(tourney['Outcome'] == 0, tourney['WStl'] - tourney['LStl'], tourney['LStl'] - tourney['WStl'])\n",
    "\n",
    "# BLK, Block Shots Differential\n",
    "adjust_games.loc[:, 'BLK'] = np.where(games['Outcome'] == 0, games['WBlk'] - games['LBlk'], games['LBlk'] - games['WBlk'])\n",
    "adjust_tourney.loc[:, 'BLK'] = np.where(tourney['Outcome'] == 0, tourney['WBlk'] - tourney['LBlk'], tourney['LBlk'] - tourney['WBlk'])\n",
    "\n",
    "# PFL, Personal Fouls (Team Totals) Differential\n",
    "adjust_games.loc[:, 'PFL'] = np.where(games['Outcome'] == 0, games['WPF'] - games['LPF'], games['LPF'] - games['WPF'])\n",
    "adjust_tourney.loc[:, 'PFL'] = np.where(tourney['Outcome'] == 0, tourney['WPF'] - tourney['LPF'], tourney['LPF'] - tourney['WPF'])"
   ]
  },
  {
   "cell_type": "code",
   "execution_count": null,
   "id": "a74424fb-a066-481b-befe-3d5375573c1d",
   "metadata": {},
   "outputs": [],
   "source": [
    "# Set order sequence\n",
    "order = [0, 1, 2, 3, 4, 5, 6, 7, 8, 9, 10, 11, 12, 13, 14, 15, 16, 17, 18, 19, 20, 21, 22, 23, 24, 25, 26, \n",
    "         27, 28, 29, 30, 31, 32, 33, 34, 35, 36, 38, 39, 40, 41, 42, 43, 44, 45, 46, 47, 48, 49, 50, 51, 37]\n",
    "\n",
    "drop_columns = ['WTeamID', 'WScore', 'LTeamID', 'LScore', 'WLoc', 'NumOT', 'WFGM', 'WFGA', 'WFGM3', 'WFGA3', \n",
    "                'WFTM', 'WFTA', 'WOR', 'WDR', 'WAst', 'WTO', 'WStl', 'WBlk', 'WPF', 'LFGM', 'LFGA', 'LFGM3', \n",
    "                'LFGA3', 'LFTM', 'LFTA', 'LOR', 'LDR', 'LAst', 'LTO', 'LStl', 'LBlk', 'LPF']\n",
    "\n",
    "# Reorder columns from games dataframe\n",
    "games = adjust_games.iloc[:,order].drop(columns=drop_columns).copy()\n",
    "tourney = adjust_tourney.iloc[:,order].drop(columns=drop_columns).copy()"
   ]
  },
  {
   "cell_type": "code",
   "execution_count": null,
   "id": "3639abfb-faea-41f9-ac59-8dbaae2e2ddb",
   "metadata": {},
   "outputs": [],
   "source": [
    "# Show sample output\n",
    "print('games:', adjust_games.shape, 'tourney:', adjust_tourney.shape)\n",
    "print(adjust_games.columns)\n",
    "adjust_games.head()"
   ]
  },
  {
   "cell_type": "code",
   "execution_count": null,
   "id": "dd77a335-5ece-416a-b294-89dd19f7e26f",
   "metadata": {},
   "outputs": [],
   "source": [
    "# Merge the 'Tourney' and 'Seeds' dataframes on 'Season' and 'TeamID' columns\n",
    "seeding1 = pd.merge(tourney, seeds, how='left', left_on=['Season', 'Team0'], right_on=['Season', 'TeamID'])\n",
    "seeding1.drop(columns='TeamID', inplace=True)\n",
    "\n",
    "seeding2 = pd.merge(seeding1, seeds, how='left', left_on=['Season', 'Team1'], right_on=['Season', 'TeamID'])\n",
    "seeding2.drop(columns='TeamID', inplace=True)\n",
    "\n",
    "# Seed, Tournament Seeding Consideration (Differential)\n",
    "games['Seed'] = 0 # holder ('fake' seed differential)\n",
    "seeding2.loc[:, 'Seed'] = np.where(seeding2['Outcome'] == 0, seeding2['Seeds_x'] - seeding2['Seeds_y'], seeding2['Seeds_y'] - seeding2['Seeds_x'])\n",
    "\n",
    "# Set order sequence\n",
    "order_games = [0, 1, 2, 3, 20, 4, 5, 6, 7, 8, 9, 10, 11, 12, 13, 14, 15, 16, 17, 18, 19]\n",
    "order_tourney = [0, 1, 2, 3, 24, 4, 5, 6, 7, 8, 9, 10, 11, 12, 13, 14, 15, 16, 17, 18, 19, 20, 21, 22, 23]\n",
    "\n",
    "# Reorder columns from games dataframe\n",
    "games = games.iloc[:,order_games].copy()\n",
    "tourney = seeding2.iloc[:,order_tourney].drop(columns=['Seed_x', 'Seeds_x', 'Seed_y', 'Seeds_y']).copy()"
   ]
  },
  {
   "cell_type": "code",
   "execution_count": null,
   "id": "e2e91ba8-58e6-46c9-8387-9dda1c2a44c7",
   "metadata": {},
   "outputs": [],
   "source": [
    "# Show sample output\n",
    "print('games:', games.shape)\n",
    "print(games.columns)\n",
    "games.head()"
   ]
  },
  {
   "cell_type": "code",
   "execution_count": null,
   "id": "f3a33f36-9b90-45c4-8b96-69ac2845a72e",
   "metadata": {},
   "outputs": [],
   "source": [
    "print('seed differentials:', games.Seed.unique())"
   ]
  },
  {
   "cell_type": "code",
   "execution_count": null,
   "id": "78870872-cb8f-4cdd-a5c0-29089f7ee14d",
   "metadata": {},
   "outputs": [],
   "source": [
    "# Show sample output\n",
    "print('tourney:', tourney.shape)\n",
    "print(games.columns)\n",
    "games.head()"
   ]
  },
  {
   "cell_type": "code",
   "execution_count": null,
   "id": "1fb9577f-2771-4d7b-a625-da4f9348df9b",
   "metadata": {},
   "outputs": [],
   "source": [
    "print('seed differentials:', tourney.Seed.unique())"
   ]
  },
  {
   "cell_type": "code",
   "execution_count": null,
   "id": "ee616923-132d-4656-a54f-f3a931efe617",
   "metadata": {},
   "outputs": [],
   "source": [
    "# Save dataframes as csv files\n",
    "games_data = games.to_csv('games-' + NAME + '.csv',index=False)\n",
    "tourney_data = tourney.to_csv('tourney-' + NAME + '.csv',index=False)"
   ]
  }
 ],
 "metadata": {
  "kernelspec": {
   "display_name": "Py 3.09 (mlops)",
   "language": "python",
   "name": "mlops"
  },
  "language_info": {
   "codemirror_mode": {
    "name": "ipython",
    "version": 3
   },
   "file_extension": ".py",
   "mimetype": "text/x-python",
   "name": "python",
   "nbconvert_exporter": "python",
   "pygments_lexer": "ipython3",
   "version": "3.9.15"
  }
 },
 "nbformat": 4,
 "nbformat_minor": 5
}
