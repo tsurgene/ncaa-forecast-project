{
 "cells": [
  {
   "cell_type": "code",
   "execution_count": 1,
   "id": "17018e18-df9b-4e45-8781-aeffbad41673",
   "metadata": {},
   "outputs": [],
   "source": [
    "DATA_DIR = 'march-machine-learning-mania-2023/' # input('Enter file path for data files: ')"
   ]
  },
  {
   "cell_type": "code",
   "execution_count": 2,
   "id": "7c82c553-71c9-42ef-a773-5630ba53ea2f",
   "metadata": {},
   "outputs": [],
   "source": [
    "# For manipulating data\n",
    "import pandas as pd"
   ]
  },
  {
   "cell_type": "markdown",
   "id": "42704c58-1201-42ab-908e-b898b37de816",
   "metadata": {},
   "source": [
    "##### **Data Section 1 - SEASONS**"
   ]
  },
  {
   "cell_type": "code",
   "execution_count": 3,
   "id": "b933ae33-e3a8-425a-ac42-20da293a1f59",
   "metadata": {},
   "outputs": [
    {
     "name": "stdout",
     "output_type": "stream",
     "text": [
      "MTeamConfs: (12662, 3) WTeamConfs: (8768, 3)\n",
      "MTeamConfs: Index(['Season', 'TeamID', 'ConfAbbrev'], dtype='object')\n"
     ]
    }
   ],
   "source": [
    "# Creates Team Conferences dataframes:\n",
    "MTeamConfs = pd.read_csv(DATA_DIR + 'MTeamConferences.csv')\n",
    "WTeamConfs = pd.read_csv(DATA_DIR + 'WTeamConferences.csv')\n",
    "\n",
    "# Show sample output\n",
    "print('MTeamConfs:', MTeamConfs.shape, 'WTeamConfs:', WTeamConfs.shape)\n",
    "print('MTeamConfs:', MTeamConfs.columns)"
   ]
  },
  {
   "cell_type": "code",
   "execution_count": 4,
   "id": "9127908d-5387-448d-a677-beab75b7c89d",
   "metadata": {},
   "outputs": [
    {
     "name": "stdout",
     "output_type": "stream",
     "text": [
      "MTeamConfs (after merge): (8212, 4) WTeamConfs (after merge): (8212, 4)\n",
      "MTeamConfs (after merge): Index(['Season', 'TeamID', 'ConfAbbrev', 'Description'], dtype='object')\n"
     ]
    }
   ],
   "source": [
    "# Reduce size of 'Team Conferences' dataframes (for the year 2000 and later)\n",
    "df1m = MTeamConfs[MTeamConfs['Season'] >= 2000].copy()\n",
    "df1w = WTeamConfs[WTeamConfs['Season'] >= 2000].copy()\n",
    "\n",
    "df2b = pd.read_csv(DATA_DIR + 'Conferences.csv') # add Conferences dataframe:\n",
    "\n",
    "# Merge 'Team Conferences' with 'Conferences' dataframes on 'ConfAbbrev' column\n",
    "MTeamConfs = pd.merge(df1m, df2b, on='ConfAbbrev', how='left')\n",
    "WTeamConfs = pd.merge(df1m, df2b, on='ConfAbbrev', how='left')\n",
    "\n",
    "# Show sample output\n",
    "print('MTeamConfs (after merge):', MTeamConfs.shape, 'WTeamConfs (after merge):', WTeamConfs.shape)\n",
    "print('MTeamConfs (after merge):', MTeamConfs.columns)"
   ]
  },
  {
   "cell_type": "code",
   "execution_count": 5,
   "id": "904c6c81-d72f-4086-aef9-efbfd6d063c0",
   "metadata": {},
   "outputs": [
    {
     "name": "stdout",
     "output_type": "stream",
     "text": [
      "Mens: (39, 7) Womens: (26, 7)\n",
      "Mens: Index(['Season', 'DayZero', 'RegionW', 'RegionX', 'RegionY', 'RegionZ',\n",
      "       'StartDate'],\n",
      "      dtype='object')\n"
     ]
    }
   ],
   "source": [
    "# Creates Seasons dataframes:\n",
    "MSeasons = pd.read_csv(DATA_DIR + 'MSeasons.csv')\n",
    "WSeasons = pd.read_csv(DATA_DIR + 'WSeasons.csv')\n",
    "\n",
    "# Create a new field called 'StartDate' as DayZero converted to datetime \n",
    "MSeasons['StartDate'] = pd.to_datetime(MSeasons['DayZero'])\n",
    "WSeasons['StartDate'] = pd.to_datetime(WSeasons['DayZero'])\n",
    "\n",
    "# Show sample output\n",
    "print('Mens:', MSeasons.shape, 'Womens:', WSeasons.shape)\n",
    "print('Mens:', MSeasons.columns)"
   ]
  },
  {
   "cell_type": "code",
   "execution_count": 6,
   "id": "e0f2b51c-48b3-46e9-b05f-9adfe4c75459",
   "metadata": {},
   "outputs": [
    {
     "name": "stdout",
     "output_type": "stream",
     "text": [
      "MTeamConfs (before): (8212, 4) MSeasons: (24, 7) MTeamConfs (after): (8212, 10)\n",
      "WTeamConfs (before): (8212, 4) WSeasons: (24, 7) WTeamConfs (after): (8212, 10)\n",
      "MTeamConfs (after merge): Index(['Season', 'TeamID', 'ConfAbbrev', 'Description', 'DayZero', 'RegionW',\n",
      "       'RegionX', 'RegionY', 'RegionZ', 'StartDate'],\n",
      "      dtype='object')\n"
     ]
    }
   ],
   "source": [
    "# Copy 'Team Conferences' dataframes for merge\n",
    "df3m = MTeamConfs.copy()\n",
    "df3w = WTeamConfs.copy()\n",
    "\n",
    "# Reduce size of 'Seasons' dataframes (for the year 2000 and later)\n",
    "df4m = MSeasons[MSeasons['Season'] >= 2000].copy()\n",
    "df4w = WSeasons[WSeasons['Season'] >= 2000].copy()\n",
    "\n",
    "# Merge 'Team Conferences' with 'Seasons' dataframes on 'Season' column\n",
    "MTeamConfs = pd.merge(df3m, df4m, on='Season', how='left')\n",
    "WTeamConfs = pd.merge(df3w, df4w, on='Season', how='left')\n",
    "\n",
    "# Show sample output\n",
    "print('MTeamConfs (before):', df3m.shape, 'MSeasons:', df4m.shape, 'MTeamConfs (after):', MTeamConfs.shape)\n",
    "print('WTeamConfs (before):', df3w.shape, 'WSeasons:', df4w.shape, 'WTeamConfs (after):', WTeamConfs.shape)\n",
    "print('MTeamConfs (after merge):', MTeamConfs.columns)"
   ]
  },
  {
   "cell_type": "code",
   "execution_count": 7,
   "id": "6569bbcc-7bd4-4cac-843c-b038d2dfa41a",
   "metadata": {},
   "outputs": [
    {
     "name": "stdout",
     "output_type": "stream",
     "text": [
      "MCoaches: (12794, 5)\n",
      "MCoaches: Index(['Season', 'TeamID', 'FirstDayNum', 'LastDayNum', 'CoachName'], dtype='object')\n"
     ]
    }
   ],
   "source": [
    "# Creates Team Coaches dataframe:\n",
    "MCoaches = pd.read_csv(DATA_DIR + 'MTeamCoaches.csv')\n",
    "\n",
    "# Show sample output\n",
    "print('MCoaches:', MCoaches.shape)\n",
    "print('MCoaches:', MCoaches.columns)"
   ]
  },
  {
   "cell_type": "code",
   "execution_count": 8,
   "id": "d0fc7a7a-f926-459c-b117-b674816e979c",
   "metadata": {},
   "outputs": [
    {
     "name": "stdout",
     "output_type": "stream",
     "text": [
      "MCoaches: (8303, 4)\n",
      "MCoaches: Index(['Season', 'TeamID', 'CoachName', 'CoachChg'], dtype='object')\n"
     ]
    }
   ],
   "source": [
    "# Reduce size of 'Coaches' dataframes (for the year 2000 and later)\n",
    "df5m = MCoaches[MCoaches['Season'] >= 2000].copy()\n",
    "\n",
    "# Create a new field called 'CoachChg' (fraction of season coached, between 0 and 1) \n",
    "df5m['CoachChg'] = df5m.apply(lambda x: (x['LastDayNum'] - x['FirstDayNum']) / 154, axis=1)\n",
    "\n",
    "# Drop unwanted columns\n",
    "df5m.drop(df5m.columns[[2, 3]], axis=1, inplace=True)\n",
    "\n",
    "# Rename dataframe\n",
    "MCoaches = df5m.copy()\n",
    "\n",
    "# Show sample output\n",
    "print('MCoaches:', MCoaches.shape)\n",
    "print('MCoaches:', MCoaches.columns)"
   ]
  },
  {
   "cell_type": "code",
   "execution_count": 9,
   "id": "daf94755-5f2d-4a5f-95d7-a55cf1e6391b",
   "metadata": {},
   "outputs": [
    {
     "name": "stdout",
     "output_type": "stream",
     "text": [
      "MTeamConfs (after merge): (8293, 11) Missing: 0\n",
      "WTeamConfs (after merge): (8212, 9) Missing: 0\n",
      "MTeamConfs (after merge): Index(['Season', 'StartDate', 'TeamID', 'ConfAbbrev', 'Description', 'RegionW',\n",
      "       'RegionX', 'RegionY', 'RegionZ', 'CoachChg', 'CoachName'],\n",
      "      dtype='object')\n"
     ]
    }
   ],
   "source": [
    "# Merge 'Team Conferences' with 'Coaches' dataframes on 'Season' and 'TeamID' columns\n",
    "MTeamConfs = pd.merge(MTeamConfs, MCoaches,  how='left', left_on=['Season', 'TeamID'], right_on = ['Season', 'TeamID'])\n",
    "\n",
    "# Reorder and drop unwanted columns from dataframe\n",
    "reo_mconfs = [0, 9, 4, 1, 2, 3, 5, 6, 7, 8, 11, 10]\n",
    "reo_wconfs = [0, 9, 4, 1, 2, 3, 5, 6, 7, 8]\n",
    "MTeamConfs = MTeamConfs.iloc[:,reo_mconfs].drop(columns=['DayZero'])\n",
    "WTeamConfs = WTeamConfs.iloc[:,reo_wconfs].drop(columns=['DayZero'])\n",
    "\n",
    "# Show sample output\n",
    "print('MTeamConfs (after merge):', MTeamConfs.shape, 'Missing:', MTeamConfs.isna().sum().sum())\n",
    "print('WTeamConfs (after merge):', WTeamConfs.shape, 'Missing:', WTeamConfs.isna().sum().sum())\n",
    "print('MTeamConfs (after merge):', MTeamConfs.columns)"
   ]
  },
  {
   "cell_type": "code",
   "execution_count": 10,
   "id": "ee616923-132d-4656-a54f-f3a931efe617",
   "metadata": {},
   "outputs": [],
   "source": [
    "seasons_mens = MTeamConfs.to_csv('seasons-mens.csv',index=False)\n",
    "seasons_womens = WTeamConfs.to_csv('seasons-womens.csv',index=False)"
   ]
  }
 ],
 "metadata": {
  "kernelspec": {
   "display_name": "Py 3.09 (mlops)",
   "language": "python",
   "name": "mlops"
  },
  "language_info": {
   "codemirror_mode": {
    "name": "ipython",
    "version": 3
   },
   "file_extension": ".py",
   "mimetype": "text/x-python",
   "name": "python",
   "nbconvert_exporter": "python",
   "pygments_lexer": "ipython3",
   "version": "3.9.15"
  }
 },
 "nbformat": 4,
 "nbformat_minor": 5
}
