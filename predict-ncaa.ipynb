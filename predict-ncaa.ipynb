{
 "cells": [
  {
   "cell_type": "markdown",
   "id": "c56b2983-141b-43be-a1c8-53c0e6a83120",
   "metadata": {
    "jp-MarkdownHeadingCollapsed": true,
    "tags": []
   },
   "source": [
    "#### **Import libraries**"
   ]
  },
  {
   "cell_type": "code",
   "execution_count": 1,
   "id": "1765a91b-d85d-4372-be7a-82838075a4f3",
   "metadata": {},
   "outputs": [],
   "source": [
    "# For working with files\n",
    "import os\n",
    "import re\n",
    "import csv\n",
    "import glob\n",
    "\n",
    "# For manipulating data\n",
    "import pandas as pd\n",
    "import numpy as np"
   ]
  },
  {
   "cell_type": "markdown",
   "id": "ae34b6eb-5080-49e4-a647-54958f1d3584",
   "metadata": {
    "tags": []
   },
   "source": [
    "#### **Custom Functions**"
   ]
  },
  {
   "cell_type": "markdown",
   "id": "3badb89a-c6ae-4293-be15-613d0974c719",
   "metadata": {
    "jp-MarkdownHeadingCollapsed": true,
    "tags": []
   },
   "source": [
    "##### **Build Dictionaries**"
   ]
  },
  {
   "cell_type": "code",
   "execution_count": 2,
   "id": "c1a48c35-ab23-4ce1-a459-aca76d1e5665",
   "metadata": {
    "tags": []
   },
   "outputs": [],
   "source": [
    "def load_csvs(working_dir):\n",
    "    dataframes = {}\n",
    "    filenames = []\n",
    "    \n",
    "    # Store all csv files as list\n",
    "    files = glob.glob(working_dir + '/' + '/*.csv')\n",
    "    \n",
    "    # Find CSV files in working directory and reads each CSV file \n",
    "    for filepath in files:\n",
    "        filename = os.path.splitext(os.path.basename(os.path.basename(filepath).split('/')[-1]))[0]\n",
    "        filenames.append(filename)\n",
    "        dataframes[filename] = pd.read_csv(filepath, encoding='latin-1')\n",
    "    \n",
    "    print(filenames)\n",
    "    # Returns a dictionary containing all dataframes \n",
    "    return dataframes"
   ]
  },
  {
   "cell_type": "code",
   "execution_count": 3,
   "id": "3b777592-0cc1-47b3-ae87-f838df1ef3f3",
   "metadata": {
    "tags": []
   },
   "outputs": [],
   "source": [
    "def store_conferences(file):\n",
    "    \"\"\"\n",
    "    Converts a CSV file with two columns (ConfAbbrev, Description) to a dictionary with ConfAbbrev as the key and Description as the value.\n",
    "\n",
    "    Parameters:\n",
    "    file (str): The path and name of the CSV file to convert.\n",
    "\n",
    "    Returns:\n",
    "    Returns a dictionary with ConfAbbrev as the key and Description as the value.\n",
    "\n",
    "    Use:\n",
    "    Use to get the Description (full name) for a conference using its abbreviation (eg. conferences['a_sun'])\n",
    "    \"\"\"\n",
    "\n",
    "    # Create an empty dictionary to store the data\n",
    "    conferences = {}\n",
    "\n",
    "    # Open the csv file and read the contents into a list of dictionaries\n",
    "    with open(file, 'r', encoding='latin-1') as csv_file:\n",
    "        csv_reader = csv.DictReader(csv_file)\n",
    "\n",
    "        # Use a dictionary comprehension to create a dictionary from the csv data\n",
    "        conferences = {row['ConfAbbrev']: row['Description'] for row in csv_reader}\n",
    "\n",
    "    # Return dictionary\n",
    "    return conferences"
   ]
  },
  {
   "cell_type": "code",
   "execution_count": 4,
   "id": "6bf5d59a-08ab-4ed0-af04-14603a7a2215",
   "metadata": {
    "tags": []
   },
   "outputs": [],
   "source": [
    "def store_spellings(file):\n",
    "    \"\"\"\n",
    "    Converts a CSV file with two columns (TeamNameSpelling, TeamID) to a dictionary with TeamNameSpelling as the key and TeamID as the value.\n",
    "\n",
    "    Parameters:\n",
    "    file (str): The path and name of the CSV file to convert.\n",
    "\n",
    "    Returns:\n",
    "    Returns a dictionary with TeamNameSpelling as the key and TeamID as the value.\n",
    "\n",
    "    Use:\n",
    "    Use to get the TeamID for a team using an alternate spelling of the name (eg. mens_spellings['mt-st-marys'])\n",
    "    \"\"\"\n",
    "\n",
    "    # Create an empty dictionary to store the data\n",
    "    spellings = {}\n",
    "\n",
    "    # Open the csv file and read the contents into a list of dictionaries\n",
    "    with open(file, 'r', encoding='latin-1') as csv_file:\n",
    "        csv_reader = csv.DictReader(csv_file)\n",
    "\n",
    "        # Use a dictionary comprehension to create a dictionary from the csv data\n",
    "        spellings = {row['TeamNameSpelling']: row['TeamID'] for row in csv_reader}\n",
    "\n",
    "    # Return dictionary\n",
    "    return spellings"
   ]
  },
  {
   "cell_type": "code",
   "execution_count": 5,
   "id": "b2179031-d9c8-4412-8de1-2cfc277c8ea1",
   "metadata": {
    "tags": []
   },
   "outputs": [],
   "source": [
    "def store_team_conference(file):\n",
    "    \"\"\"\n",
    "    Converts a CSV file with three columns (Season, TeamID, ConfAbbrev) to a nested dictionary with Season as the outer key, TeamID as the\n",
    "    inner key, and ConfAbbrev as the value.\n",
    "\n",
    "    Parameters:\n",
    "    file (str): The path and name of the CSV file to convert.\n",
    "\n",
    "    Returns:\n",
    "    Returns a nested dictionary with Season as the outer key, TeamID as the inner key, and ConfAbbrev as the value.\n",
    "\n",
    "    Use:\n",
    "    Use to get the conference abbreviation for a team in a specific season (eg. mens_conferences['1985']['1449'])\n",
    "    \"\"\"\n",
    "\n",
    "    # Create an empty nested dictionary\n",
    "    conferences = {}\n",
    "\n",
    "    # Open the CSV file and read the contents into a list of dictionaries\n",
    "    with open(file, 'r', encoding='latin-1') as file:\n",
    "        csv_reader = csv.DictReader(file)\n",
    "\n",
    "        # Iterate over the rows in the CSV file\n",
    "        for row in csv_reader:\n",
    "            # Extract the year, id, and name from the current row\n",
    "            year = row['Season']\n",
    "            team_id = row['TeamID']\n",
    "            abbrv = row['ConfAbbrev']\n",
    "\n",
    "            # Create the outer dictionary if it doesn't exist\n",
    "            if year not in conferences:\n",
    "                conferences[year] = {}\n",
    "\n",
    "            # Add the name to the inner dictionary with the id as the key\n",
    "            conferences[year][team_id] = abbrv\n",
    "\n",
    "    return conferences"
   ]
  },
  {
   "cell_type": "code",
   "execution_count": 6,
   "id": "33ff5b2a-5779-45e3-ba1a-40a7acfd7dc8",
   "metadata": {},
   "outputs": [],
   "source": [
    "def store_cities(file):\n",
    "    \"\"\"\n",
    "    Converts a CSV file with three columns (CityID, City, State) to a dictionary with CityID as the key and both City, State as the value.\n",
    "\n",
    "    Parameters:\n",
    "    file (str): The path and name of the CSV file to convert.\n",
    "\n",
    "    Returns:\n",
    "    Returns a dictionary for City and State using CityID as the key.\n",
    "\n",
    "    Use:\n",
    "    Use to get the City and State for a game using the CityID (eg. city['4030'])\n",
    "    \"\"\"\n",
    "\n",
    "    # Create an empty dictionary to store the data\n",
    "    cities = {}\n",
    "\n",
    "    # Open the csv file and read the contents into a list of dictionaries\n",
    "    with open(file, 'r', encoding='latin-1') as csv_file:\n",
    "        csv_reader = csv.DictReader(csv_file)\n",
    "\n",
    "        # Iterate over each row in the csv data\n",
    "        for row in csv_reader:\n",
    "            # Extract the relevant fields from the row\n",
    "            city_id = row['CityID']\n",
    "            city = row['City']\n",
    "            state = row['State']\n",
    "\n",
    "            # Add the data to the city_data dictionary\n",
    "            cities[city_id] = f\"{city}, {state}\"\n",
    "\n",
    "    # Return the dictionary\n",
    "    return cities"
   ]
  },
  {
   "cell_type": "code",
   "execution_count": 7,
   "id": "851bf73e-168d-489e-9170-f6444cc3377f",
   "metadata": {},
   "outputs": [],
   "source": [
    "def store_seasons(file):\n",
    "    \"\"\"\n",
    "    Converts a CSV file with six columns (Season, DayZero, RegionW, RegionX, RegionY, RegionZ) to TWO dictionaries: \n",
    "    (1) with Season as the key and DayZero as the value; and \n",
    "    (2) with Season as the key and State as the value\n",
    "\n",
    "    Parameters:\n",
    "    file (str): The path and name of the CSV file to convert.\n",
    "\n",
    "    Returns:\n",
    "    Returns two dictionaries for City and State using CityID as the key.\n",
    "\n",
    "    Use:\n",
    "    Use to get the City and State for a game using the CityID (eg. city['4030'])\n",
    "    \"\"\"\n",
    "\n",
    "    # Create five dictionaries with Season as the key and the other columns as the value\n",
    "    dict_zero = {}\n",
    "    dict_w = {}\n",
    "    dict_x = {}\n",
    "    dict_y = {}\n",
    "    dict_z = {}\n",
    "\n",
    "    with open(file, 'r', encoding='latin-1') as csvfile:\n",
    "        reader = csv.reader(csvfile)\n",
    "        #header = next(reader) # skip header row\n",
    "        for row in reader:\n",
    "            # Extract the values from the row\n",
    "            season, day_zero, region_w, region_x, region_y, region_z = row\n",
    "            \n",
    "            # Populate the dictionaries\n",
    "            dict_zero.setdefault(season, []).append(day_zero)\n",
    "            dict_w.setdefault(season, []).append(region_w)\n",
    "            dict_x.setdefault(season, []).append(region_x)\n",
    "            dict_y.setdefault(season, []).append(region_y)\n",
    "            dict_z.setdefault(season, []).append(region_z)\n",
    "\n",
    "    # Return the dictionaries as a tuple\n",
    "    return dict_zero, dict_w, dict_x, dict_y, dict_z"
   ]
  },
  {
   "cell_type": "markdown",
   "id": "94b196b4-8807-4334-8006-1ab89d14c3cb",
   "metadata": {
    "jp-MarkdownHeadingCollapsed": true,
    "tags": []
   },
   "source": [
    "##### **Build Tables**"
   ]
  },
  {
   "cell_type": "code",
   "execution_count": 8,
   "id": "2219ea4b-3898-4209-a77b-a341baf4ec7d",
   "metadata": {
    "tags": []
   },
   "outputs": [],
   "source": [
    "def build_teams(gender='mens', season=2023):\n",
    "    # Create an list team ids for the specified season\n",
    "    teamsm = []\n",
    "    teamsw = []\n",
    "   \n",
    "    # Loop through mens team to get list from season\n",
    "    for i in MTeams.loc[MTeams['LastD1Season'] == season]['TeamID']:\n",
    "        teamsm.append(int(i))\n",
    "        teamsw.append(int(i) + 2000)\n",
    "\n",
    "    # Check if each team ID is present in the corresponding gender's team table\n",
    "    if gender == 'womens':\n",
    "        teamsw = [team for team in teamsw if team in WTeams['TeamID'].values]\n",
    "    elif gender == 'mens':\n",
    "        teamsm = [team for team in teamsm if team in MTeams['TeamID'].values]\n",
    "\n",
    "    # Build women's team table\n",
    "    if gender == 'womens':\n",
    "        team = WTeams.loc[WTeams['TeamID'].isin(teamsw)].drop(['TeamName'], axis='columns')\n",
    "        team['season'] = season\n",
    "        team = team.iloc[:,[1,0]]\n",
    "        team.rename(columns = {'season':'season', 'TeamID':'team_id'}, inplace = True)\n",
    "\n",
    "    # Build men's team table\n",
    "    elif gender == 'mens':\n",
    "        team = MTeams.loc[MTeams['TeamID'].isin(teamsm)].drop(['TeamName', 'FirstD1Season'], axis='columns').iloc[:,[1,0]]\n",
    "        team.rename(columns = {'LastD1Season':'season', 'TeamID':'team_id'}, inplace = True)\n",
    "   \n",
    "    else:\n",
    "        pass\n",
    "\n",
    "    return team"
   ]
  },
  {
   "cell_type": "code",
   "execution_count": 9,
   "id": "18feec8a-c8e3-4d44-b1a9-42d88a49ad87",
   "metadata": {},
   "outputs": [],
   "source": [
    "def get_mean_rank_by_system_season_team(df, season, team_id):\n",
    "    \"\"\"\n",
    "    This function takes a dataframe, season, and team_id as inputs and returns a new dataframe with the mean rank\n",
    "    (over all DayNum) by system within the specified Season and TeamID.\n",
    "    \"\"\"\n",
    "    # Filter the dataframe for the specified season and team_id\n",
    "    filtered_df = df[(df['Season'] == season) & (df['TeamID'] == team_id)]\n",
    "    \n",
    "    # Group the filtered dataframe by SystemName and calculate the mean rank\n",
    "    grouped_df = filtered_df.groupby(['SystemName'])['OrdinalRank'].mean().round(0).reset_index()\n",
    "    \n",
    "    # Sort the grouped dataframe by mean rank\n",
    "    sorted_df = grouped_df.sort_values(by=['OrdinalRank'], ascending=True)\n",
    "    \n",
    "    return sorted_df"
   ]
  },
  {
   "cell_type": "code",
   "execution_count": 10,
   "id": "f071f9a5-11ed-4f6f-aa60-e7caa2ac23c5",
   "metadata": {},
   "outputs": [],
   "source": [
    "def get_mean_rank_by_system_season_team(df, season, team_id):\n",
    "    \"\"\"\n",
    "    This function takes a dataframe, season, team_id and systems as inputs and returns a new dataframe with the mean rank\n",
    "    (over all DayNum) by system within the specified Season and TeamID.\n",
    "    \"\"\"\n",
    "    systems = ['AP', 'BBT', 'BWE', 'D1A', 'DII', 'DOK', 'DUN', 'KPK', 'MAS', 'MOR', \n",
    "           'PGH', 'PIG', 'POM', 'RTP', 'SAG', 'TRK', 'TRP', 'USA', 'WIL', 'DES', \n",
    "           'LOG', 'DAV', 'FAS', 'FSH', 'NOL', 'RSL', 'SFX', 'SMN', 'BUR', 'COL', \n",
    "           'CRO', 'DCI', 'DDB', 'HAS', 'INP', 'RT', 'RTH', 'SEL', 'TPR', 'WOL', \n",
    "           'ARG', 'CNG', 'KPI', 'MCL', 'WLK', 'DC2', 'JRT', 'RPI', 'SP', 'STH', \n",
    "           'BIH', 'SPR', '7OT', 'DOL', 'LMC', 'SPW', 'EBP', 'ESR', 'FMG', 'PRR', \n",
    "           'REW', 'SMS', 'DC', 'KRA', 'WOB', 'HKS', 'MUZ', 'OCT', 'SGR', 'ZAM', \n",
    "           'ADE', 'JNG', 'CRW', 'HKB', 'PMC', 'YAG']\n",
    "\n",
    "    # Filter the dataframe for the specified season and team_id\n",
    "    filtered_df = df[(df['Season'] == season) & (df['TeamID'] == team_id)]\n",
    "    \n",
    "    # Group the filtered dataframe by SystemName and calculate the mean rank\n",
    "    grouped_df = filtered_df.groupby(['SystemName'])['OrdinalRank'].mean().round(0).reset_index()\n",
    "    \n",
    "    # Create a dictionary with SystemName as key and mean rank as value\n",
    "    system_dict = dict(zip(grouped_df['SystemName'], grouped_df['OrdinalRank']))\n",
    "    \n",
    "    # Create a new dictionary with each SystemName as a key and its mean rank as the value, \n",
    "    # with missing values set to NaN\n",
    "    output_dict = {system: system_dict.get(system, float('nan')) for system in systems}\n",
    "    \n",
    "    # Add the season and team_id to the output dictionary\n",
    "    output_dict['Season'] = season\n",
    "    output_dict['TeamID'] = team_id\n",
    "    \n",
    "    # Convert the output dictionary to a dataframe\n",
    "    output_df = pd.DataFrame([output_dict])\n",
    "    \n",
    "    return output_df"
   ]
  },
  {
   "cell_type": "code",
   "execution_count": 11,
   "id": "15feb067-c08c-4b1d-90f3-89b00d9c2d03",
   "metadata": {},
   "outputs": [],
   "source": [
    "def get_rating_pivot(df):\n",
    "    \"\"\"\n",
    "    This function takes a dataframe as input and returns a new dataframe with the mean rank\n",
    "    (over all DayNum) by system within each Season and TeamID.\n",
    "    \"\"\"\n",
    "    # Group the dataframe by Season, TeamID, and SystemName and calculate the mean rank\n",
    "    grouped_df = df.groupby(['Season', 'TeamID', 'SystemName'])['OrdinalRank'].mean().round(0).reset_index()\n",
    "    \n",
    "    # Pivot the grouped dataframe to create a new dataframe with SystemNames as columns\n",
    "    pivoted_df = grouped_df.pivot(index=['Season', 'TeamID'], columns='SystemName', values='OrdinalRank')\n",
    "    \n",
    "    return pivoted_df"
   ]
  },
  {
   "cell_type": "markdown",
   "id": "c9b96193-d29d-4dec-9b4c-89fb415b5454",
   "metadata": {
    "tags": []
   },
   "source": [
    "#### **Load Dictionaries**"
   ]
  },
  {
   "cell_type": "code",
   "execution_count": 12,
   "id": "279e7566-2626-4276-be85-8a7468663934",
   "metadata": {
    "tags": []
   },
   "outputs": [],
   "source": [
    "# Create a dictionary to store alternate team name spellings\n",
    "mens_spellings = store_spellings('dictionaries/MTeamSpellings.csv') # use as mens_spellings[team]\n",
    "womens_spellings = store_spellings('dictionaries/WTeamSpellings.csv') # use as womens_spellings[team]\n",
    "\n",
    "# Create a dictionary to store alternate team name spellings\n",
    "mens_conferences = store_team_conference('dictionaries/MTeamConferences.csv') # use as mens_conferences[year][team_id]\n",
    "womens_conferences = store_team_conference('dictionaries/WTeamConferences.csv') # use as womens_conferences[year][team_id]\n",
    "\n",
    "# Create a dictionary to store conference full names\n",
    "conferences = store_conferences('dictionaries/Conferences.csv') # use as conferences[abbrv]\n",
    "\n",
    "# Create a dictionary to store cities and states\n",
    "cities = store_cities('dictionaries/Cities.csv') # use as cities[city_id]\n",
    "\n",
    "# Create a dictionary to store day zero and each region by season year\n",
    "mens_d0, m_w, m_x, m_y, m_z = store_seasons('dictionaries/MSeasons.csv') # use as mens_d0[season], m_w[season], etc\n",
    "womens_d0, w_w, w_x, w_y, m_z = store_seasons('dictionaries/WSeasons.csv') # use as womens_d0[season], w_w[season], etc"
   ]
  },
  {
   "cell_type": "markdown",
   "id": "a07ce34e-ca11-40c9-b023-f03f2f9c79d1",
   "metadata": {
    "tags": []
   },
   "source": [
    "#### **Load Files**"
   ]
  },
  {
   "cell_type": "code",
   "execution_count": 13,
   "id": "7759752e-c8fc-4898-8098-09f702340cda",
   "metadata": {},
   "outputs": [],
   "source": [
    "MTeams = pd.read_csv('data/MTeams.csv')\n",
    "WTeams = pd.read_csv('data/WTeams.csv')"
   ]
  },
  {
   "cell_type": "code",
   "execution_count": 14,
   "id": "dcbe7f2e-be62-480e-baaa-5aa98ffb1c77",
   "metadata": {},
   "outputs": [],
   "source": [
    "MGameCities = pd.read_csv('data/MGameCities.csv')\n",
    "WGameCities = pd.read_csv('data/WGameCities.csv')"
   ]
  },
  {
   "cell_type": "code",
   "execution_count": 15,
   "id": "e142985c-5289-4596-8c00-c50f5be292c2",
   "metadata": {},
   "outputs": [],
   "source": [
    "Ordinals = pd.read_csv('data/MMasseyOrdinals.csv')"
   ]
  },
  {
   "cell_type": "code",
   "execution_count": null,
   "id": "e81f281f-1741-4420-9926-c35e5a437484",
   "metadata": {},
   "outputs": [],
   "source": []
  },
  {
   "cell_type": "code",
   "execution_count": null,
   "id": "3dc176dd-c0fa-4267-ad59-687c0a1f6ca7",
   "metadata": {
    "jupyter": {
     "source_hidden": true
    },
    "tags": []
   },
   "outputs": [],
   "source": [
    "systems = ['AP', 'BBT', 'BWE', 'D1A', 'DII', 'DOK', 'DUN', 'KPK', 'MAS', 'MOR', 'PGH', 'PIG', 'POM', 'RTP', 'SAG', 'TRK', 'TRP', 'USA', 'WIL', 'DES', 'LOG', 'DAV', 'FAS', 'FSH', 'NOL', 'RSL', 'SFX', 'SMN', 'BUR', 'COL', 'CRO', 'DCI', 'DDB', 'HAS', 'INP', 'RT', 'RTH', 'SEL', 'TPR', 'WOL', 'ARG', 'CNG', 'KPI', 'MCL', 'WLK', 'DC2', 'JRT', 'RPI', 'SP', 'STH', 'BIH', 'SPR', '7OT', 'DOL', 'LMC', 'SPW', 'EBP', 'ESR', 'FMG', 'PRR', 'REW', 'SMS', 'DC', 'KRA', 'WOB', 'HKS', 'MUZ', 'OCT', 'SGR', 'ZAM', 'ADE', 'JNG', 'CRW', 'HKB', 'PMC', 'YAG']\n",
    "\n",
    "# Group the data by multiple columns\n",
    "season_ratings = Ordinals.groupby('Season')\n",
    "grouped = Ordinals.groupby(['Season', 'TeamID'])\n",
    "\n",
    "result = pd.DataFrame(columns = ['system', 'mean', 'count'])\n",
    "\n",
    "for sys in systems:\n",
    "    if sys in Ordinals.columns:\n",
    "        # Calculate the mean of a column for each group\n",
    "        mean_values = (grouped['OrdinalRank'].mean() / season_ratings['TeamID'].sum()).round(3)\n",
    "        \n",
    "        # Calculate the count of rows in each group\n",
    "        count_values = grouped.size()\n",
    "        \n",
    "        # Combine the two Series into a DataFrame\n",
    "        #result = pd.concat([sys, mean_values, count_values], axis=1)\n",
    "        \n",
    "        # append rows to an empty DataFrame\n",
    "        result = result.append({'system' : sys, 'mean' : mean_values, 'count' : count_values}, ignore_index = True)\n",
    "\n",
    "# Display the condensed table\n",
    "print(result)"
   ]
  },
  {
   "cell_type": "code",
   "execution_count": null,
   "id": "9b22e6f3-571b-439c-a874-b7781977b829",
   "metadata": {
    "jupyter": {
     "source_hidden": true
    },
    "tags": []
   },
   "outputs": [],
   "source": [
    "def get_team_ratings(season, teamid):\n",
    "\n",
    "    systems = ['AP', 'BBT', 'BWE', 'D1A', 'DII', 'DOK', 'DUN', 'KPK', 'MAS', 'MOR', \n",
    "               'PGH', 'PIG', 'POM', 'RTP', 'SAG', 'TRK', 'TRP', 'USA', 'WIL', 'DES', \n",
    "               'LOG', 'DAV', 'FAS', 'FSH', 'NOL', 'RSL', 'SFX', 'SMN', 'BUR', 'COL', \n",
    "               'CRO', 'DCI', 'DDB', 'HAS', 'INP', 'RT', 'RTH', 'SEL', 'TPR', 'WOL', \n",
    "               'ARG', 'CNG', 'KPI', 'MCL', 'WLK', 'DC2', 'JRT', 'RPI', 'SP', 'STH', \n",
    "               'BIH', 'SPR', '7OT', 'DOL', 'LMC', 'SPW', 'EBP', 'ESR', 'FMG', 'PRR', \n",
    "               'REW', 'SMS', 'DC', 'KRA', 'WOB', 'HKS', 'MUZ', 'OCT', 'SGR', 'ZAM', \n",
    "               'ADE', 'JNG', 'CRW', 'HKB', 'PMC', 'YAG']\n",
    "\n",
    "    # Group the data by multiple columns\n",
    "    season_ratings = Ordinals.groupby('Season')\n",
    "    grouped = Ordinals.groupby(['Season', 'TeamID'])\n",
    "\n",
    "    result = pd.DataFrame(columns=['season', 'system', 'mean', 'count'])\n",
    "\n",
    "    for sys in systems:\n",
    "        if sys in grouped['SystemName'].unique():\n",
    "            # Filter the grouped DataFrame to only include rows with the current system\n",
    "            system_grouped = grouped[grouped['SystemName'] == sys]\n",
    "            \n",
    "            # Reset the index of the grouped DataFrame to include TeamID as a regular column\n",
    "            system_grouped = system_grouped.reset_index()\n",
    "\n",
    "            # Calculate the mean of a column for each group\n",
    "            mean_values = (system_grouped.groupby('Season')['OrdinalRank'].mean() / \n",
    "                           season_ratings['TeamID'].sum()).round(3)\n",
    "\n",
    "            # Calculate the count of rows in each group\n",
    "            count_values = system_grouped.groupby('Season').size()\n",
    "\n",
    "            # Combine the two Series into a DataFrame\n",
    "            system_result = pd.concat([mean_values, count_values], axis=1).reset_index()\n",
    "\n",
    "            # Add the system name to the DataFrame\n",
    "            system_result['system'] = sys\n",
    "\n",
    "            # Rename the columns of the system result DataFrame\n",
    "            system_result.columns = ['season', 'system', 'mean', 'count']\n",
    "\n",
    "            # Append the system result DataFrame to the overall result DataFrame\n",
    "            result = result.append(system_result, ignore_index=True)\n",
    "\n",
    "    # Filter the result DataFrame to only include the desired season and team ID\n",
    "    result = result[(result['season'] == season) & (result['system'] == sys)]\n",
    "\n",
    "    # Reset the index of the result DataFrame\n",
    "    result = result.reset_index(drop=True)\n",
    "\n",
    "    return result"
   ]
  },
  {
   "cell_type": "code",
   "execution_count": null,
   "id": "8f578d27-048e-47ad-80cc-91ea1d6648a2",
   "metadata": {},
   "outputs": [],
   "source": []
  },
  {
   "cell_type": "markdown",
   "id": "c82f2a8c-0bbc-4a4e-84bd-628adf43b486",
   "metadata": {
    "tags": []
   },
   "source": [
    "#### **Build Tables**"
   ]
  },
  {
   "cell_type": "code",
   "execution_count": 16,
   "id": "e7a0491b-2fc7-4e1e-bb19-75f84cb7fe52",
   "metadata": {},
   "outputs": [],
   "source": [
    "mens = build_teams('mens', 2023)\n",
    "#mens.head()"
   ]
  },
  {
   "cell_type": "code",
   "execution_count": 17,
   "id": "52e4c871-f74e-4382-bdde-67e6ec1b9057",
   "metadata": {},
   "outputs": [],
   "source": [
    "womens = build_teams('womens', 2023)\n",
    "#womens.head()"
   ]
  },
  {
   "cell_type": "code",
   "execution_count": null,
   "id": "7a7f67b5-1487-4a2b-bb2c-72a6f795db48",
   "metadata": {},
   "outputs": [],
   "source": [
    "ratings = get_rating_pivot(Ordinals).reset_index()\n",
    "ratings.rename_axis(index=None);"
   ]
  },
  {
   "cell_type": "code",
   "execution_count": null,
   "id": "f275f2fc-bfe5-419a-8cb3-046cfba67251",
   "metadata": {},
   "outputs": [],
   "source": [
    "ratings_grouped = ratings.groupby('Season')\n",
    "season_rating = ratings_grouped.get_group(2023)\n",
    "pd.set_option('display.max_rows', season_rating.shape[0]+1)\n",
    "season_rating.isnull().sum()"
   ]
  },
  {
   "cell_type": "markdown",
   "id": "5afb8592-bb85-4e7a-8cea-a492ef7bfd2c",
   "metadata": {},
   "source": [
    "#### **No longer need**"
   ]
  },
  {
   "cell_type": "code",
   "execution_count": null,
   "id": "8ed56574-50cf-491c-bb62-0e63b1c97a79",
   "metadata": {
    "jupyter": {
     "source_hidden": true
    },
    "tags": []
   },
   "outputs": [],
   "source": [
    "def pivot_table(df):\n",
    "    # Group the dataframe by the id column and aggregate the names into a list\n",
    "    grouped = df.groupby('TeamID')['TeamNameSpelling'].agg(list)\n",
    "    \n",
    "    # Convert the grouped data to a pivot table, where each id is a separate row and all the names that correspond to that id are in separate columns\n",
    "    pivot_table = pd.DataFrame(grouped.values.tolist(), index=grouped.index)\n",
    "\n",
    "    # Rename the columns\n",
    "    pivot_table.columns = [f'Column {i+1}' for i in range(pivot_table.shape[1])]\n",
    "    \n",
    "    # Reset the index\n",
    "    pivot_table = pivot_table.reset_index()\n",
    "    \n",
    "    # Print the pivot table\n",
    "    return pivot_table"
   ]
  },
  {
   "cell_type": "code",
   "execution_count": null,
   "id": "af99bca0-038b-4fa8-ba76-8ecd82f0f2d3",
   "metadata": {},
   "outputs": [],
   "source": []
  }
 ],
 "metadata": {
  "kernelspec": {
   "display_name": "Py 3.09 (mlops)",
   "language": "python",
   "name": "mlops"
  },
  "language_info": {
   "codemirror_mode": {
    "name": "ipython",
    "version": 3
   },
   "file_extension": ".py",
   "mimetype": "text/x-python",
   "name": "python",
   "nbconvert_exporter": "python",
   "pygments_lexer": "ipython3",
   "version": "3.9.15"
  }
 },
 "nbformat": 4,
 "nbformat_minor": 5
}
