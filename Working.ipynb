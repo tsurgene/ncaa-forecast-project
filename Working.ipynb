{
 "cells": [
  {
   "cell_type": "code",
   "execution_count": 3,
   "id": "56166c65-35eb-456d-8352-8a1498a48f94",
   "metadata": {},
   "outputs": [],
   "source": [
    "DATA_DIR = 'march-machine-learning-mania-2023/'"
   ]
  },
  {
   "cell_type": "code",
   "execution_count": 4,
   "id": "2a6c46bb-abf4-420f-b9d6-02c126fe92ab",
   "metadata": {},
   "outputs": [],
   "source": [
    "# For working with files\n",
    "import os\n",
    "import re\n",
    "import csv\n",
    "\n",
    "# For manipulating data\n",
    "import pandas as pd\n",
    "\n",
    "# For manipulating dates\n",
    "import datetime\n",
    "\n",
    "# For getting geographic locations and distances\n",
    "from geopy.distance import geodesic\n",
    "from geopy.exc import GeocoderTimedOut\n",
    "from geopy.geocoders import Nominatim"
   ]
  },
  {
   "cell_type": "markdown",
   "id": "e311e9d6-2b5a-4eb3-b95c-149b24ac9181",
   "metadata": {
    "tags": []
   },
   "source": [
    "#### **Load Data**"
   ]
  },
  {
   "cell_type": "markdown",
   "id": "331c6af6-5e04-4708-8f2b-c2921973f357",
   "metadata": {},
   "source": [
    "##### **Data Section 1 - SEASONS**"
   ]
  },
  {
   "cell_type": "code",
   "execution_count": null,
   "id": "a2f811a2-a145-4092-ae39-0b3e3dba907b",
   "metadata": {},
   "outputs": [],
   "source": [
    "# Load MENS Seasons dataframes:\n",
    "MSeasons = pd.read_csv('seasons-mens.csv')\n",
    "print(MSeasons.shape)\n",
    "MSeasons.head(3)"
   ]
  },
  {
   "cell_type": "code",
   "execution_count": null,
   "id": "1d14c612-6b6a-4e75-80c0-2ad400b5756e",
   "metadata": {},
   "outputs": [],
   "source": []
  },
  {
   "cell_type": "markdown",
   "id": "5457f515-5f13-4012-ac96-cab261e89263",
   "metadata": {},
   "source": [
    "##### **Data Section 2 - TEAMS**"
   ]
  },
  {
   "cell_type": "code",
   "execution_count": 5,
   "id": "674c5301-6be0-49c5-8c13-fdf922dca9f9",
   "metadata": {},
   "outputs": [
    {
     "name": "stdout",
     "output_type": "stream",
     "text": [
      "MTeams: (377, 4) WTeams: (375, 2)\n",
      "MTeams: Index(['TeamID', 'TeamName', 'FirstD1Season', 'LastD1Season'], dtype='object')\n"
     ]
    }
   ],
   "source": [
    "# Creates a Teams dataframes:\n",
    "MTeams = pd.read_csv(DATA_DIR + 'MTeams.csv')\n",
    "WTeams = pd.read_csv(DATA_DIR + 'WTeams.csv')\n",
    "\n",
    "# Show sample output\n",
    "print('MTeams:', MTeams.shape, 'WTeams:', WTeams.shape)\n",
    "print('MTeams:', MTeams.columns)"
   ]
  },
  {
   "cell_type": "code",
   "execution_count": null,
   "id": "4527376b-ea09-4a95-9224-2f4bf4235f5e",
   "metadata": {
    "tags": []
   },
   "outputs": [],
   "source": [
    "reorder = [0, 1, 3, 4, 5, 2, 6]\n",
    "renames = {'Season':'Season', 'TeamID':'TeamID', 'ConfAbbrev':'ConfID', 'TeamName':'TeamName', 'FirstD1Season':'FirstD1', 'LastD1Season':'LastD1', 'Description':'ConfName'}\n",
    "\n",
    "df6 = df6.iloc[:,new_order].rename(columns=new_names)\n"
   ]
  },
  {
   "cell_type": "code",
   "execution_count": 8,
   "id": "b86ed41f-3790-4f14-86f0-54fed6461784",
   "metadata": {},
   "outputs": [
    {
     "name": "stdout",
     "output_type": "stream",
     "text": [
      "MCoaches: (12794, 5)\n",
      "MCoaches: Index(['Season', 'TeamID', 'FirstDayNum', 'LastDayNum', 'CoachName'], dtype='object')\n"
     ]
    }
   ],
   "source": [
    "# Creates Team Coaches dataframe:\n",
    "MCoaches = pd.read_csv(DATA_DIR + 'MTeamCoaches.csv')\n",
    "\n",
    "# Show sample output\n",
    "print('MCoaches:', MCoaches.shape)\n",
    "print('MCoaches:', MCoaches.columns)"
   ]
  },
  {
   "cell_type": "code",
   "execution_count": 9,
   "id": "a9d72e94-99c2-4123-8628-9e5808085641",
   "metadata": {},
   "outputs": [
    {
     "name": "stdout",
     "output_type": "stream",
     "text": [
      "Conferences: (51, 2)\n",
      "Conferences: Index(['ConfAbbrev', 'Description'], dtype='object')\n"
     ]
    }
   ],
   "source": [
    "# Creates Conferences dataframe:\n",
    "Conferences = pd.read_csv(DATA_DIR + 'Conferences.csv')\n",
    "\n",
    "# Show sample output\n",
    "print('Conferences:', Conferences.shape)\n",
    "print('Conferences:', Conferences.columns)"
   ]
  },
  {
   "cell_type": "code",
   "execution_count": 10,
   "id": "a8bd92b3-c7d5-4174-b913-61b17a1f6f71",
   "metadata": {},
   "outputs": [
    {
     "name": "stdout",
     "output_type": "stream",
     "text": [
      "MTeamConfs: (12662, 3) WTeamConfs: (8768, 3)\n",
      "MTeamConfs: Index(['Season', 'TeamID', 'ConfAbbrev'], dtype='object')\n"
     ]
    }
   ],
   "source": [
    "# Creates Team Conference dataframes:\n",
    "MTeamConfs = pd.read_csv(DATA_DIR + 'MTeamConferences.csv')\n",
    "WTeamConfs = pd.read_csv(DATA_DIR + 'WTeamConferences.csv')\n",
    "\n",
    "# Show sample output\n",
    "print('MTeamConfs:', MTeamConfs.shape, 'WTeamConfs:', WTeamConfs.shape)\n",
    "print('MTeamConfs:', MTeamConfs.columns)"
   ]
  },
  {
   "cell_type": "code",
   "execution_count": 11,
   "id": "693f97cd-7338-4b7c-a53d-3168f6496cd4",
   "metadata": {},
   "outputs": [
    {
     "name": "stdout",
     "output_type": "stream",
     "text": [
      "(377, 13)\n"
     ]
    },
    {
     "data": {
      "text/plain": [
       "Index(['TeamID', 'Name0', 'Name1', 'Name2', 'Name4', 'Name5', 'Name6', 'Name3',\n",
       "       'Name7', 'Name8', 'Name9', 'Name10', 'Name11'],\n",
       "      dtype='object')"
      ]
     },
     "execution_count": 11,
     "metadata": {},
     "output_type": "execute_result"
    }
   ],
   "source": [
    "# Creates Alternate Team Name Spellings dataframes:\n",
    "MSpellings = pd.read_csv(DATA_DIR + 'MTeamSpellings.csv', encoding='latin-1')\n",
    "WSpellings = pd.read_csv(DATA_DIR + 'WTeamSpellings.csv', encoding='latin-1')\n",
    "\n",
    "## Pivot table  -------------------------------------------------\n",
    "\n",
    "import warnings\n",
    "\n",
    "# Ignore warnings\n",
    "warnings.filterwarnings(\"ignore\")\n",
    "\n",
    "# Group the dataframe by TeamID and apply a function to create a list of unique TeamNameSpellings for each group\n",
    "grouped_df = MSpellings.groupby('TeamID').apply(lambda x: list(x['TeamNameSpelling'].unique()))\n",
    "\n",
    "# Determine the maximum number of alternate spellings for a TeamID\n",
    "max_alt_spellings = grouped_df.apply(len).max()\n",
    "\n",
    "# Create a new dataframe with the appropriate number of columns\n",
    "new_columns = ['Name{}'.format(i) for i in range(1, max_alt_spellings + 1)] + ['TeamID']\n",
    "new_df = pd.DataFrame(columns=new_columns)\n",
    "\n",
    "# Iterate over the groups in the grouped dataframe and add rows to the new dataframe\n",
    "for group_name, group_values in grouped_df.items():\n",
    "    new_row = {key: value for key, value in zip(new_columns, group_values)}\n",
    "    new_row['TeamID'] = group_name\n",
    "    new_df = new_df.append(new_row, ignore_index=True)\n",
    "\n",
    "# Output the resulting dataframe\n",
    "MSpellings = new_df.copy()\n",
    "\n",
    "## Add new columns  -------------------------------------------------\n",
    "\n",
    "name_extended = ['Abilene Christian','Air Force','Akron','Alabama','Alabama AM','Alabama State','Albany','Alcorn','Alliant International','American','Appalachian State','Arizona','Arizona State','Arkansas Little Rock','Arkansas Pine Bluff','Arkansas','Arkansas State','Armstrong','Army','Auburn','Augusta','Austin Peay','Ball State','Baylor','Belmont','Bethune-Cookman','Binghamton','Birmingham Southern','Boise State','Boston College','Boston','Bowling Green','Bradley','Brooklyn','Brown','Bryant','Bucknell','Buffalo','Butler','Brigham Young','Central Michigan','California Polytech','California','Campbell','Canisius','Central Arkansas','Centenary','Central Connecticut','Charleston Southern','Charlotte','Chattanooga','Chicago State','Cincinnati','Citadel','Clemson','Cleveland State','Coastal Carolina','Charleston','Colgate','Colorado','Colorado State','Columbia','Connecticut','Coppin State','Cornell','Creighton','CSU Bakersfield','CSU Fullerton','CSU Northridge','Sacramento State','Dartmouth','Davidson','Dayton','Delaware','Delaware State','Denver','Depaul','Detroit','Drake','Drexel','Duke','Duquesne','Eastern Illinois','Eastern Kentucky','Eastern Michigan','Eastern Washington','East Carolina','SIU Edwardsville','Elon','East Tennessee State','Evansville','Fairleigh Dickinson','Fairfield','Florida Atlantic','Florida Gulf Coast','Florida','Florida AM','Florida International','Florida State','Fordham','Fresno State','Furman','George Washington','Georgia Southern','Gardner Webb','George Mason','Georgetown','Georgia','Georgia State','Georgia Tech','Gonzaga','Grambling','Grand Canyon','Hampton','Hardin-Simmons','Hartford','Harvard','Hawaii','High Point','Hofstra','Holy Cross','Houston','Houston Christian','Howard','Idaho','Idaho State','Illinois Chicago','Illinois','Illinois State','Incarnate Word','Indiana','Indiana State','Iona','Iowa','Iowa State','Fort Wayne','Indiana Purdue','Jackson State','Jacksonville','Jacksonville State','James Madison','Kansas','Kansas State','Kennesaw','Kent','Kentucky','La Salle','Lafayette','Lamar','Lehigh','Liberty','Lipscomb','Long Beach State','LIU Brooklyn','Longwood','Louisiana Tech','Louisville','Loyola Marymount','Loyola Maryland','Loyola Chicago','Louisiana State','Massachusetts Lowell','Maine','Manhattan','Marist','Marquette','Marshall','Maryland','Massachusetts','McNeese','Maryland East Shore','Memphis','Mercer','Miami FL','Miami OH','Michigan','Michigan State','Minnesota','Mississippi','Mississippi State','Missouri','UM Kansas City','Missouri State','Monmouth','Montana','Montana State','Morehead State','Morgan State','Morris Brown','Miss Valley State','Mount Saint Marys','Middle Tennessee State','Murray State','Northern Colorado','North Dakota State','Northern Illinois','Northern Kentucky','Navy','North Carolina AT','North Carolina Central','North Carolina State','Northeastern Illinois','Nebraska Omaha','Nebraska','Nevada','New Hampshire','New Mexico','New Mexico State','New Orleans','Niagara','Nicholls','NJIT','Norfolk State','North Carolina','North Dakota','North Florida','North Texas','Northeastern','Northern Arizona','Northern Iowa','Northwestern','Northwestern Louisiana','Notre Dame','Oakland','Ohio','Ohio State','Oklahoma City','Oklahoma','Oklahoma State','Old Dominion','Oral Roberts','Oregon','Oregon State','Pacific','Penn','Penn State','Pepperdine','Pittsburgh','Portland','Portland State','Prairie View','Presbyterian','Princeton','Providence','Purdue','Quinnipiac','Radford','Rhode Island','Rice','Richmond','Rider','Robert Morris','Rutgers','South Carolina State','South Dakota State','Southern Illinois','Sacred Heart','Sam Houston','Samford','San Diego','San Diego State','San Francisco','San Jose State','UC Santa Barbara','UC Santa Clara','Savannah State','South Carolina Upstate','Southeastern Louisiana','Southeast Missouri State','Seattle','Seton Hall','Stephen F Austin','Siena','Southern Methodist','South Alabama','South Carolina','South Dakota','South Florida','Southern Mississippi','Southern','Southern Utah','St Bonaventure','St Francis NY','St Francis PA','St Johns','St Josephs','Saint Louis','St Marys','St Peters','Stanford','Stetson','Stony Brook','Syracuse','Texas AM Corpus Chris','Texas Christian','Temple','Tennessee','Tennessee State','Tennessee Tech','Texas','Texas AM','Texas State','Texas Tech','UT Martin','Toledo','Towson','Troy','Tulane','Tulsa','Texas Pan American','Texas Southern','Alabama Birmingham','UC Davis','UC Irvine','UC Riverside','Central Florida','UC Los Angeles','UL Lafayette','UL Monroe','UM Baltimore County','NC Asheville','NC Greensboro','NC Wilmington','Nevada Las Vegas','Southern California','UT Arlington','UT San Antonio','Utah','Utah State','Utah Valley','Texas El Paso','Utica','Virginia Commonwealth','Valparaiso','Vanderbilt','Vermont','Villanova','Virginia','Virginia Tech','Virginia Military','Western Carolina','Western Illinois','Western Kentucky','Western Michigan','Winston-Salem State','Western Texas AM','Wagner','Wake Forest','Washington','Washington State','Weber State','West Virginia','UW Green Bay','UW Milwaukee','Wichita State','William Mary','Winthrop','Wisconsin','Wofford','Wright State','Wyoming','Xavier','Yale','Youngstown State','California Baptist','North Alabama','Merrimack','Bellarmine','Dixie State','Tarleton State','UC San Diego','St Thomas MN','Lindenwood','Queens NC','Southern Indiana','Stonehill','Texas AM Commerce']\n",
    "betexplorer = [\"Abilene Christian\", \"Air Force\", \"Akron\", \"Alabama\", \"Alabama A&M\", \"Alabama State\", \"Albany\", \"Alcorn State\", \"\", \"American University\", \"Appalachian State\", \"Arizona\", \"Arizona State\", \"UALR\", \"Arkansas-Pine Bluff\", \"Arkansas\", \"Arkansas State\", \"\", \"Army\", \"Auburn\", \"\", \"Austin Peay\", \"Ball State\", \"Baylor\", \"Belmont\", \"Bethune-Cookman\", \"Binghamton\", \"\", \"Boise State\", \"Boston College\", \"Boston University\", \"Bowling Green\", \"Bradley\", \"\", \"Brown\", \"Bryant University\", \"Bucknell\", \"Buffalo\", \"Butler\", \"Brigham Young\", \"Central Michigan\", \"Cal Poly\", \"California\", \"Campbell\", \"Canisius\", \"Central Arkansas\", \"\", \"Central Connecticut State\", \"Charleston Southern\", \"Charlotte\", \"Chattanooga Mocs\", \"Chicago State\", \"Cincinnati\", \"Citadel\", \"Clemson\", \"Cleveland State\", \"Coastal Carolina\", \"Charleston\", \"Colgate\", \"Colorado\", \"Colorado State\", \"Columbia\", \"UConn\", \"Coppin State\", \"Cornell\", \"Creighton\", \"CSU Bakersfield\", \"CS Fullerton\", \"CS Northridge\", \"Sacramento State\", \"Dartmouth\", \"Davidson\", \"Dayton\", \"Delaware\", \"Delaware State\", \"Denver\", \"DePaul\", \"Detroit\", \"Drake\", \"Drexel\", \"Duke\", \"Duquesne\", \"Eastern Illinois\", \"Eastern Kentucky\", \"Eastern Michigan\", \"East. Washington\", \"East Carolina\", \"Siu Edwardsville\", \"Elon\", \"East Tennessee St\", \"Evansville\", \"Fairleigh Dickinson\", \"Fairfield\", \"Florida Atlantic\", \"Florida Gulf Coast\", \"Florida\", \"Florida A&M\", \"Florida International\", \"Florida State\", \"Fordham\", \"Fresno State\", \"Furman\", \"George Washington\", \"Georgia Southern\", \"Gardner Webb\", \"George Mason\", \"Georgetown\", \"Georgia\", \"Georgia State\", \"Georgia Tech\", \"Gonzaga\", \"Grambling St.\", \"Grand Canyon\", \"Hampton\", \"\", \"Hartford\", \"Harvard\", \"Hawaii\", \"High Point\", \"Hofstra\", \"Holy Cross\", \"Houston\", \"Houston Christian\", \"Howard\", \"Idaho\", \"Idaho State\", \"Illinois (Chi.)\", \"Illinois\", \"Illinois State\", \"Incarnate Word\", \"Indiana\", \"Indiana State\", \"Iona\", \"Iowa\", \"Iowa State\", \"IPFW\", \"IUPUI\", \"Jackson State\", \"Jacksonville\", \"Jacksonville State\", \"James Madison\", \"Kansas\", \"Kansas State\", \"Kennesaw State\", \"Kent State\", \"Kentucky\", \"La Salle\", \"Lafayette\", \"Lamar\", \"Lehigh\", \"Liberty\", \"Lipscomb\", \"Long Beach State\", \"LIU Sharks\", \"Longwood\", \"Louisiana Tech\", \"Louisville\", \"Loyola Marymount\", \"Loyola Maryland\", \"Loyola Chicago\", \"LSU\", \"UMass Lowell\", \"Maine Black Bears\", \"Manhattan\", \"Marist\", \"Marquette\", \"Marshall\", \"Maryland\", \"UMass\", \"McNeese State\", \"Md.-East. Shore\", \"Memphis\", \"Mercer\", \"Miami (FL)\", \"Miami (Ohio)\", \"Michigan\", \"Michigan State\", \"Minnesota\", \"Ole Miss\", \"Mississippi St.\", \"Missouri\", \"UMKC\", \"Missouri State\", \"Monmouth\", \"Montana\", \"Montana State\", \"Morehead State\", \"Morgan State\", \"\", \"Miss. Valley St.\", \"Mount St. Mary's\", \"Middle Tenn. St.\", \"Murray State\", \"Northern Colorado\", \"North Dakota St\", \"Northern Illinois\", \"Northern Kentucky\", \"Navy\", \"N. Carolina A&T\", \"N. Carolina Central\", \"NC State\", \"\", \"Nebraska O.\", \"Nebraska\", \"Nevada\", \"New Hampshire\", \"New Mexico\", \"New Mexico State\", \"New Orleans\", \"Niagara\", \"Nicholls State\", \"NJIT\", \"Norfolk State\", \"North Carolina\", \"North Dakota\", \"North Florida\", \"North Texas\", \"Northeastern\", \"Northern Arizona\", \"Northern Iowa\", \"Northwestern\", \"Northwestern St.\", \"Notre Dame\", \"Oakland\", \"Ohio\", \"Ohio State\", \"\", \"Oklahoma\", \"Oklahoma State\", \"Old Dominion\", \"Oral Roberts\", \"Oregon\", \"Oregon State\", \"Pacific\", \"Penn\", \"Penn State\", \"Pepperdine\", \"Pittsburgh\", \"Portland\", \"Portland State\", \"Prairie View A&M\", \"Presbyterian\", \"Princeton\", \"Providence\", \"Purdue\", \"Quinnipiac\", \"Radford\", \"Rhode Island\", \"Rice\", \"Richmond\", \"Rider\", \"Robert Morris\", \"Rutgers\", \"South Carolina St\", \"South Dakota St.\", \"Southern Illinois\", \"Sacred Heart\", \"Sam Houston St.\", \"Samford\", \"San Diego Toreros\", \"San Diego State\", \"San Francisco\", \"San Jose State\", \"UC Santa Barbara\", \"Santa Clara\", \"\", \"USC Upstate\", \"SE Louisiana\", \"Southeast Missouri State\", \"Seattle\", \"Seton Hall\", \"Stephen F. Austin\", \"Siena\", \"SMU Mustangs\", \"South Alabama\", \"South Carolina\", \"South Dakota Coyotes\", \"South Florida\", \"Southern Miss\", \"Southern Univ.\", \"Southern Utah\", \"St. Bonaventure\", \"St. Francis Brooklyn\", \"St. Francis (PA)\", \"St. John's (N.Y.)\", \"Saint Josephs\", \"St. Louis\", \"St. Marys (CA)\", \"St. Peters\", \"Stanford\", \"Stetson\", \"Stony Brook\", \"Syracuse\", \"Texas A&M-CC\", \"TCU\", \"Temple\", \"Tennessee\", \"Tennessee State\", \"Tennessee Tech\", \"Texas\", \"Texas A&M\", \"Texas State\", \"Texas Tech\", \"UT Martin\", \"Toledo\", \"Towson\", \"Troy\", \"Tulane\", \"Tulsa\", \"UTRGV\", \"Texas Southern\", \"UAB\", \"UC Davis\", \"UC Irvine\", \"UC Riverside\", \"UCF Knights\", \"UCLA\", \"Louisiana Lafayette\", \"Louisiana Monroe\", \"UMBC Retrievers\", \"UNC Asheville\", \"NC Greensboro\", \"NC Wilmington\", \"UNLV\", \"USC\", \"UT Arlington\", \"UTSA Roadrunners\", \"Utah Utes\", \"Utah State\", \"Utah Valley State\", \"UTEP\", \"\", \"VCU Rams\", \"Valparaiso\", \"Vanderbilt\", \"Vermont\", \"Villanova\", \"Virginia\", \"Virginia Tech\", \"VMI\", \"Western Carolina\", \"Western Illinois\", \"Western Kentucky\", \"Western Michigan\", \"\", \"\", \"Wagner\", \"Wake Forest\", \"Washington\", \"Washington State\", \"Weber State\", \"West Virginia\", \"Wisc. Green Bay\", \"Wisc. Milwaukee\", \"Wichita State\", \"William & Mary\", \"Winthrop\", \"Wisconsin\", \"Wofford\", \"Wright State\", \"Wyoming\", \"Xavier\", \"Yale\", \"Youngstown State\", \"California Baptist\", \"North Alabama\", \"Merrimack Warriors\", \"Bellarmine\", \"Utah Tech\", \"Tarleton\", \"UC San Diego\", \"St. Thomas (Minn.)\", \"\", \"\", \"\", \"\", \"\"]\n",
    "\n",
    "MSpellings['Name0'] = name_extended\n",
    "MSpellings['Name11'] = betexplorer\n",
    "\n",
    "reo_spell = [10, 11, 0, 1, 3, 4, 5, 2, 6, 7, 8, 9, 12]\n",
    "MSpellings = MSpellings.iloc[:,reo_spell]\n",
    "\n",
    "print(MSpellings.shape)\n",
    "MSpellings.columns"
   ]
  },
  {
   "cell_type": "code",
   "execution_count": null,
   "id": "bb9c606d-fdd1-4480-a628-fbbdfc655bad",
   "metadata": {},
   "outputs": [],
   "source": []
  },
  {
   "cell_type": "code",
   "execution_count": 12,
   "id": "75d8c56d-2d04-4c3a-9a1f-0d29ace6be8c",
   "metadata": {},
   "outputs": [
    {
     "name": "stdout",
     "output_type": "stream",
     "text": [
      "Mens: (39, 7) Womens: (26, 7)\n",
      "Mens: Index(['Season', 'DayZero', 'RegionW', 'RegionX', 'RegionY', 'RegionZ',\n",
      "       'StartDate'],\n",
      "      dtype='object')\n"
     ]
    }
   ],
   "source": [
    "# Creates Seasons dataframes:\n",
    "MSeasons = pd.read_csv(DATA_DIR + 'MSeasons.csv')\n",
    "WSeasons = pd.read_csv(DATA_DIR + 'WSeasons.csv')\n",
    "\n",
    "# Convert DayZero to datetime field called 'StartDate'\n",
    "MSeasons['StartDate'] = pd.to_datetime(MSeasons['DayZero'])\n",
    "WSeasons['StartDate'] = pd.to_datetime(WSeasons['DayZero'])\n",
    "\n",
    "# Show sample output\n",
    "print('Mens:', MSeasons.shape, 'Womens:', WSeasons.shape)\n",
    "print('Mens:', MSeasons.columns)"
   ]
  },
  {
   "cell_type": "code",
   "execution_count": 13,
   "id": "ffbb763e-5383-4fbd-8613-9845adc62e13",
   "metadata": {},
   "outputs": [
    {
     "name": "stdout",
     "output_type": "stream",
     "text": [
      "(24, 6)\n"
     ]
    },
    {
     "data": {
      "text/html": [
       "<div>\n",
       "<style scoped>\n",
       "    .dataframe tbody tr th:only-of-type {\n",
       "        vertical-align: middle;\n",
       "    }\n",
       "\n",
       "    .dataframe tbody tr th {\n",
       "        vertical-align: top;\n",
       "    }\n",
       "\n",
       "    .dataframe thead th {\n",
       "        text-align: right;\n",
       "    }\n",
       "</style>\n",
       "<table border=\"1\" class=\"dataframe\">\n",
       "  <thead>\n",
       "    <tr style=\"text-align: right;\">\n",
       "      <th></th>\n",
       "      <th>Season</th>\n",
       "      <th>StartDate</th>\n",
       "      <th>RegionW</th>\n",
       "      <th>RegionX</th>\n",
       "      <th>RegionY</th>\n",
       "      <th>RegionZ</th>\n",
       "    </tr>\n",
       "  </thead>\n",
       "  <tbody>\n",
       "    <tr>\n",
       "      <th>15</th>\n",
       "      <td>2000</td>\n",
       "      <td>1999-11-01</td>\n",
       "      <td>East</td>\n",
       "      <td>South</td>\n",
       "      <td>Midwest</td>\n",
       "      <td>West</td>\n",
       "    </tr>\n",
       "    <tr>\n",
       "      <th>16</th>\n",
       "      <td>2001</td>\n",
       "      <td>2000-10-30</td>\n",
       "      <td>East</td>\n",
       "      <td>West</td>\n",
       "      <td>Midwest</td>\n",
       "      <td>South</td>\n",
       "    </tr>\n",
       "  </tbody>\n",
       "</table>\n",
       "</div>"
      ],
      "text/plain": [
       "    Season  StartDate RegionW RegionX  RegionY RegionZ\n",
       "15    2000 1999-11-01    East   South  Midwest    West\n",
       "16    2001 2000-10-30    East    West  Midwest   South"
      ]
     },
     "execution_count": 13,
     "metadata": {},
     "output_type": "execute_result"
    }
   ],
   "source": [
    "reo_seas = [0, 6, 1, 2, 3, 4, 5]\n",
    "ren_seas = {'Season':'Season', 'DayZero':'DayZero', 'RegionW':'RegionW', \n",
    "            'RegionX':'RegionX', 'RegionY':'RegionY', 'RegionZ':'RegionZ', \n",
    "            'StartDate':'StartDate'}\n",
    "\n",
    "SEASONS = MSeasons[MSeasons['Season'] >= 2000].copy()\n",
    "SEASONS = SEASONS.iloc[:,reo_seas].drop(columns=['DayZero'])\n",
    "print(SEASONS.shape)\n",
    "SEASONS.head(2)"
   ]
  },
  {
   "cell_type": "code",
   "execution_count": 14,
   "id": "0813086c-1291-4922-a00d-a42ac6a771d4",
   "metadata": {},
   "outputs": [
    {
     "name": "stdout",
     "output_type": "stream",
     "text": [
      "Ordinals: (4877976, 5)\n",
      "Ordinals: Index(['Season', 'RankingDayNum', 'SystemName', 'TeamID', 'OrdinalRank'], dtype='object')\n"
     ]
    }
   ],
   "source": [
    "# Creates Massey Oridnals dataframe:\n",
    "Ordinals = pd.read_csv(DATA_DIR + 'MMasseyOrdinals.csv')\n",
    "\n",
    "# Show sample output\n",
    "print('Ordinals:', Ordinals.shape)\n",
    "print('Ordinals:', Ordinals.columns)"
   ]
  },
  {
   "cell_type": "markdown",
   "id": "716370c2-4a17-4883-8187-d111117bed4d",
   "metadata": {},
   "source": [
    "##### **Data Section 3 - GAMES**"
   ]
  },
  {
   "cell_type": "code",
   "execution_count": 15,
   "id": "9f264ca9-1dd7-47fa-9ca3-a00373836b37",
   "metadata": {},
   "outputs": [
    {
     "name": "stdout",
     "output_type": "stream",
     "text": [
      "Mens: (106834, 34) Womens: (70007, 34)\n",
      "Mens: Index(['Season', 'DayNum', 'WTeamID', 'WScore', 'LTeamID', 'LScore', 'WLoc',\n",
      "       'NumOT', 'WFGM', 'WFGA', 'WFGM3', 'WFGA3', 'WFTM', 'WFTA', 'WOR', 'WDR',\n",
      "       'WAst', 'WTO', 'WStl', 'WBlk', 'WPF', 'LFGM', 'LFGA', 'LFGM3', 'LFGA3',\n",
      "       'LFTM', 'LFTA', 'LOR', 'LDR', 'LAst', 'LTO', 'LStl', 'LBlk', 'LPF'],\n",
      "      dtype='object')\n"
     ]
    }
   ],
   "source": [
    "# Creates Detailed Regular Season dataframes:\n",
    "MSeasonDetail = pd.read_csv(DATA_DIR + 'MRegularSeasonDetailedResults.csv')\n",
    "WSeasonDetail = pd.read_csv(DATA_DIR + 'WRegularSeasonDetailedResults.csv')\n",
    "\n",
    "# Show sample output\n",
    "print('Mens:', MSeasonDetail.shape, 'Womens:', WSeasonDetail.shape)\n",
    "print('Mens:', MSeasonDetail.columns)"
   ]
  },
  {
   "cell_type": "code",
   "execution_count": 16,
   "id": "ef2f7d1e-8d33-418e-bf17-8e7c0969fc9f",
   "metadata": {},
   "outputs": [
    {
     "name": "stdout",
     "output_type": "stream",
     "text": [
      "Mens: (180882, 8) Womens: (125397, 8)\n",
      "Mens: Index(['Season', 'DayNum', 'WTeamID', 'WScore', 'LTeamID', 'LScore', 'WLoc',\n",
      "       'NumOT'],\n",
      "      dtype='object')\n"
     ]
    }
   ],
   "source": [
    "# Creates Compact Regular Season dataframes (Optional):\n",
    "MSeasonCompact = pd.read_csv(DATA_DIR + 'MRegularSeasonCompactResults.csv')\n",
    "WSeasonCompact = pd.read_csv(DATA_DIR + 'WRegularSeasonCompactResults.csv')\n",
    "\n",
    "# Show sample output\n",
    "print('Mens:', MSeasonCompact.shape, 'Womens:', WSeasonCompact.shape)\n",
    "print('Mens:', MSeasonCompact.columns)"
   ]
  },
  {
   "cell_type": "code",
   "execution_count": 17,
   "id": "0dbb3275-4212-434c-8ab1-404df9bc9a59",
   "metadata": {},
   "outputs": [
    {
     "name": "stdout",
     "output_type": "stream",
     "text": [
      "C_Tourney: (5884, 5)\n",
      "C_Tourney: Index(['Season', 'ConfAbbrev', 'DayNum', 'WTeamID', 'LTeamID'], dtype='object')\n"
     ]
    }
   ],
   "source": [
    "# Creates Conference Tourney Games dataframe:\n",
    "MCTourneyGames = pd.read_csv(DATA_DIR + 'MConferenceTourneyGames.csv')\n",
    "\n",
    "# Show sample output\n",
    "print('C_Tourney:', MCTourneyGames.shape)\n",
    "print('C_Tourney:', MCTourneyGames.columns)"
   ]
  },
  {
   "cell_type": "code",
   "execution_count": 18,
   "id": "a64f7527-3a57-4dc9-b591-811a33e2cec1",
   "metadata": {},
   "outputs": [
    {
     "name": "stdout",
     "output_type": "stream",
     "text": [
      "Mens: (74387, 6) Womens: (70660, 6)\n",
      "Mens: Index(['Season', 'DayNum', 'WTeamID', 'LTeamID', 'CRType', 'CityID'], dtype='object')\n"
     ]
    }
   ],
   "source": [
    "# Creates Game Cities dataframes:\n",
    "MGameCities = pd.read_csv(DATA_DIR + 'MGameCities.csv')\n",
    "WGameCities = pd.read_csv(DATA_DIR + 'WGameCities.csv')\n",
    "\n",
    "# Show sample output\n",
    "print('Mens:', MGameCities.shape, 'Womens:', WGameCities.shape)\n",
    "print('Mens:', MGameCities.columns)"
   ]
  },
  {
   "cell_type": "code",
   "execution_count": 19,
   "id": "d3f5ae0d-06e8-462d-ad12-8f49d74c9f29",
   "metadata": {},
   "outputs": [
    {
     "name": "stdout",
     "output_type": "stream",
     "text": [
      "Cities: (472, 3)\n",
      "Cities: Index(['CityID', 'City', 'State'], dtype='object')\n"
     ]
    }
   ],
   "source": [
    "# Creates Cities dataframe:\n",
    "Cities = pd.read_csv(DATA_DIR + 'Cities.csv')\n",
    "\n",
    "# Show sample output\n",
    "print('Cities:', Cities.shape)\n",
    "print('Cities:', Cities.columns)"
   ]
  },
  {
   "cell_type": "markdown",
   "id": "efb5574b-e314-468b-b282-b0295804a604",
   "metadata": {},
   "source": [
    "##### **Data Section 4 - TOURNAMENTS**"
   ]
  },
  {
   "cell_type": "code",
   "execution_count": 20,
   "id": "1bbba798-9030-44bb-8e26-912b21f70e74",
   "metadata": {},
   "outputs": [
    {
     "name": "stdout",
     "output_type": "stream",
     "text": [
      "Mens: (1248, 34) Womens: (760, 34)\n",
      "Mens: Index(['Season', 'DayNum', 'WTeamID', 'WScore', 'LTeamID', 'LScore', 'WLoc',\n",
      "       'NumOT', 'WFGM', 'WFGA', 'WFGM3', 'WFGA3', 'WFTM', 'WFTA', 'WOR', 'WDR',\n",
      "       'WAst', 'WTO', 'WStl', 'WBlk', 'WPF', 'LFGM', 'LFGA', 'LFGM3', 'LFGA3',\n",
      "       'LFTM', 'LFTA', 'LOR', 'LDR', 'LAst', 'LTO', 'LStl', 'LBlk', 'LPF'],\n",
      "      dtype='object')\n"
     ]
    }
   ],
   "source": [
    "# Creates Detailed Tournament Results dataframes:\n",
    "MNCAADetail = pd.read_csv(DATA_DIR + 'MNCAATourneyDetailedResults.csv')\n",
    "WNCAADetail = pd.read_csv(DATA_DIR + 'WNCAATourneyDetailedResults.csv')\n",
    "\n",
    "# Show sample output\n",
    "print('Mens:', MNCAADetail.shape, 'Womens:', WNCAADetail.shape)\n",
    "print('Mens:', MNCAADetail.columns)"
   ]
  },
  {
   "cell_type": "code",
   "execution_count": 21,
   "id": "ea1760f1-85a0-4305-8acf-5d5a16965b21",
   "metadata": {},
   "outputs": [
    {
     "name": "stdout",
     "output_type": "stream",
     "text": [
      "Mens: (2384, 8) Womens: (1516, 8)\n",
      "Mens: Index(['Season', 'DayNum', 'WTeamID', 'WScore', 'LTeamID', 'LScore', 'WLoc',\n",
      "       'NumOT'],\n",
      "      dtype='object')\n"
     ]
    }
   ],
   "source": [
    "# Creates Compact Tournament Results dataframes (Optional):\n",
    "MNCAACompact = pd.read_csv(DATA_DIR + 'MNCAATourneyCompactResults.csv')\n",
    "WNCAACompact = pd.read_csv(DATA_DIR + 'WNCAATourneyCompactResults.csv')\n",
    "\n",
    "# Show sample output\n",
    "print('Mens:', MNCAACompact.shape, 'Womens:', WNCAACompact.shape)\n",
    "print('Mens:', MNCAACompact.columns)"
   ]
  },
  {
   "cell_type": "code",
   "execution_count": 22,
   "id": "a448e7e0-5886-4ddc-8748-b9ce6d647f8a",
   "metadata": {},
   "outputs": [
    {
     "name": "stdout",
     "output_type": "stream",
     "text": [
      "Mens: (2385, 4) Womens: (1579, 4)\n",
      "Mens: Index(['Season', 'Slot', 'StrongSeed', 'WeakSeed'], dtype='object')\n"
     ]
    }
   ],
   "source": [
    "# Creates Tournament Seed Matchup dataframes:\n",
    "MNCAASlots = pd.read_csv(DATA_DIR + 'MNCAATourneySlots.csv')\n",
    "WNCAASlots = pd.read_csv(DATA_DIR + 'WNCAATourneySlots.csv')\n",
    "\n",
    "# Show sample output\n",
    "print('Mens:', MNCAASlots.shape, 'Womens:', WNCAASlots.shape)\n",
    "print('Mens:', MNCAASlots.columns)"
   ]
  },
  {
   "cell_type": "code",
   "execution_count": 23,
   "id": "d79a1382-be8b-4455-80d9-461f60b989c4",
   "metadata": {},
   "outputs": [
    {
     "name": "stdout",
     "output_type": "stream",
     "text": [
      "NCAA: (720, 5)\n",
      "NCAA: Index(['Seed', 'GameRound', 'GameSlot', 'EarlyDayNum', 'LateDayNum'], dtype='object')\n"
     ]
    }
   ],
   "source": [
    "# Creates a Tourney Seeding by Round dataframe: \n",
    "MNCAARounds = pd.read_csv(DATA_DIR + 'MNCAATourneySeedRoundSlots.csv')\n",
    "\n",
    "# Show sample output\n",
    "print('NCAA:', MNCAARounds.shape)\n",
    "print('NCAA:', MNCAARounds.columns)"
   ]
  },
  {
   "cell_type": "code",
   "execution_count": 24,
   "id": "14f13d34-edb0-48a1-95b4-d10c8541cad6",
   "metadata": {},
   "outputs": [
    {
     "name": "stdout",
     "output_type": "stream",
     "text": [
      "Mens: (2422, 3) Womens: (1540, 3)\n",
      "Mens: Index(['Season', 'Seed', 'TeamID'], dtype='object')\n"
     ]
    }
   ],
   "source": [
    "# Creates Tournament Seeding dataframes:\n",
    "MNCAASeeds = pd.read_csv(DATA_DIR + 'MNCAATourneySeeds.csv')\n",
    "WNCAASeeds = pd.read_csv(DATA_DIR + 'WNCAATourneySeeds.csv')\n",
    "\n",
    "# Show sample output\n",
    "print('Mens:', MNCAASeeds.shape, 'Womens:', WNCAASeeds.shape)\n",
    "print('Mens:', MNCAASeeds.columns)"
   ]
  },
  {
   "cell_type": "code",
   "execution_count": 25,
   "id": "e1d083ed-b178-4030-b4cc-3134bae128e9",
   "metadata": {},
   "outputs": [
    {
     "name": "stdout",
     "output_type": "stream",
     "text": [
      "S_Tourney: (1710, 9)\n",
      "S_Tourney: Index(['Season', 'DayNum', 'WTeamID', 'WScore', 'LTeamID', 'LScore', 'WLoc',\n",
      "       'NumOT', 'SecondaryTourney'],\n",
      "      dtype='object')\n"
     ]
    }
   ],
   "source": [
    "# Creates Compact Secondary Tournament Results dataframe:\n",
    "MSTourneyCompact = pd.read_csv(DATA_DIR + 'MSecondaryTourneyCompactResults.csv')\n",
    "\n",
    "# Show sample output\n",
    "print('S_Tourney:', MSTourneyCompact.shape)\n",
    "print('S_Tourney:', MSTourneyCompact.columns)"
   ]
  },
  {
   "cell_type": "code",
   "execution_count": 26,
   "id": "41fd7e33-9815-45c7-a05a-6a1262d9a7fb",
   "metadata": {},
   "outputs": [
    {
     "name": "stdout",
     "output_type": "stream",
     "text": [
      "S_Tourney: (1732, 3)\n",
      "S_Tourney: Index(['Season', 'SecondaryTourney', 'TeamID'], dtype='object')\n"
     ]
    }
   ],
   "source": [
    "# Creates Secondary Tournament Games dataframe:\n",
    "MCTourneyGames = pd.read_csv(DATA_DIR + 'MSecondaryTourneyTeams.csv')\n",
    "\n",
    "# Show sample output\n",
    "print('S_Tourney:', MCTourneyGames.shape)\n",
    "print('S_Tourney:', MCTourneyGames.columns)"
   ]
  },
  {
   "cell_type": "markdown",
   "id": "b6c7370f-8425-4582-b1f4-fd1262b2c466",
   "metadata": {},
   "source": [
    "##### **Data Section 5 - FORECASTS**"
   ]
  },
  {
   "cell_type": "code",
   "execution_count": 27,
   "id": "4bdfde58-d490-4774-933d-4b605fd9178e",
   "metadata": {},
   "outputs": [
    {
     "name": "stdout",
     "output_type": "stream",
     "text": [
      "2023: (130683, 2) Warmup: (614319, 2)\n"
     ]
    },
    {
     "data": {
      "text/html": [
       "<div>\n",
       "<style scoped>\n",
       "    .dataframe tbody tr th:only-of-type {\n",
       "        vertical-align: middle;\n",
       "    }\n",
       "\n",
       "    .dataframe tbody tr th {\n",
       "        vertical-align: top;\n",
       "    }\n",
       "\n",
       "    .dataframe thead th {\n",
       "        text-align: right;\n",
       "    }\n",
       "</style>\n",
       "<table border=\"1\" class=\"dataframe\">\n",
       "  <thead>\n",
       "    <tr style=\"text-align: right;\">\n",
       "      <th></th>\n",
       "      <th>ID</th>\n",
       "      <th>Pred</th>\n",
       "    </tr>\n",
       "  </thead>\n",
       "  <tbody>\n",
       "    <tr>\n",
       "      <th>0</th>\n",
       "      <td>2023_1101_1102</td>\n",
       "      <td>0.5</td>\n",
       "    </tr>\n",
       "    <tr>\n",
       "      <th>1</th>\n",
       "      <td>2023_1101_1103</td>\n",
       "      <td>0.5</td>\n",
       "    </tr>\n",
       "    <tr>\n",
       "      <th>2</th>\n",
       "      <td>2023_1101_1104</td>\n",
       "      <td>0.5</td>\n",
       "    </tr>\n",
       "    <tr>\n",
       "      <th>3</th>\n",
       "      <td>2023_1101_1105</td>\n",
       "      <td>0.5</td>\n",
       "    </tr>\n",
       "    <tr>\n",
       "      <th>4</th>\n",
       "      <td>2023_1101_1106</td>\n",
       "      <td>0.5</td>\n",
       "    </tr>\n",
       "  </tbody>\n",
       "</table>\n",
       "</div>"
      ],
      "text/plain": [
       "               ID  Pred\n",
       "0  2023_1101_1102   0.5\n",
       "1  2023_1101_1103   0.5\n",
       "2  2023_1101_1104   0.5\n",
       "3  2023_1101_1105   0.5\n",
       "4  2023_1101_1106   0.5"
      ]
     },
     "execution_count": 27,
     "metadata": {},
     "output_type": "execute_result"
    }
   ],
   "source": [
    "# Creates Compact Tournament Results dataframes (Optional):\n",
    "Submission2023 = pd.read_csv(DATA_DIR + 'SampleSubmission2023.csv')\n",
    "SubmissionWarmup = pd.read_csv(DATA_DIR + 'SampleSubmissionWarmup.csv')\n",
    "\n",
    "# Show sample output\n",
    "print('2023:', Submission2023.shape, 'Warmup:', SubmissionWarmup.shape)\n",
    "Submission2023.head()"
   ]
  },
  {
   "cell_type": "markdown",
   "id": "c5ec61fc-9180-4e10-bc42-648f31cdf0da",
   "metadata": {
    "tags": []
   },
   "source": [
    "#### **Build Tables**"
   ]
  },
  {
   "cell_type": "code",
   "execution_count": null,
   "id": "accbdcf1-3089-4251-8a72-76f0196567a6",
   "metadata": {},
   "outputs": [],
   "source": []
  },
  {
   "cell_type": "code",
   "execution_count": null,
   "id": "d36c803a-90f1-4d23-82bd-9c92ae24f7ea",
   "metadata": {},
   "outputs": [],
   "source": []
  },
  {
   "cell_type": "code",
   "execution_count": null,
   "id": "821f4df8-749f-4b84-b226-22040e4b1d5b",
   "metadata": {},
   "outputs": [],
   "source": []
  },
  {
   "cell_type": "code",
   "execution_count": null,
   "id": "cfda735f-cc15-4b2c-9a31-12cccb8a5606",
   "metadata": {},
   "outputs": [],
   "source": []
  },
  {
   "cell_type": "code",
   "execution_count": null,
   "id": "1b544c1e-9f21-4276-afaf-cde0249a12c8",
   "metadata": {},
   "outputs": [],
   "source": []
  },
  {
   "cell_type": "code",
   "execution_count": null,
   "id": "03add829-b8c5-4222-9a07-1c838ae0684e",
   "metadata": {},
   "outputs": [],
   "source": []
  },
  {
   "cell_type": "code",
   "execution_count": null,
   "id": "b7798fec-9e97-48ac-b90e-af8d1125425b",
   "metadata": {},
   "outputs": [],
   "source": []
  },
  {
   "cell_type": "code",
   "execution_count": null,
   "id": "54e4faec-fa3d-42a8-8b4a-f0195fdef265",
   "metadata": {},
   "outputs": [],
   "source": []
  },
  {
   "cell_type": "code",
   "execution_count": null,
   "id": "e0bdda40-6b75-4bc9-98b2-123ffa797ab6",
   "metadata": {},
   "outputs": [],
   "source": []
  },
  {
   "cell_type": "code",
   "execution_count": null,
   "id": "a8a61ed6-14c7-4cf7-ac12-cb6f1b90d000",
   "metadata": {},
   "outputs": [],
   "source": []
  },
  {
   "cell_type": "code",
   "execution_count": null,
   "id": "61c56842-95a2-4023-846e-97844dc1dd69",
   "metadata": {},
   "outputs": [],
   "source": []
  },
  {
   "cell_type": "code",
   "execution_count": null,
   "id": "41d6783b-9640-4e76-a089-2f1fb46320ff",
   "metadata": {},
   "outputs": [],
   "source": [
    "GAMES = MRegular.copy()\n",
    "\n",
    "# Show sample output\n",
    "print(GAMES.shape)\n",
    "GAMES.head(2)"
   ]
  },
  {
   "cell_type": "code",
   "execution_count": null,
   "id": "aa3b1a01-5452-4299-9333-c5fac9085028",
   "metadata": {},
   "outputs": [],
   "source": [
    "# Merge dataframes on 'Season' column\n",
    "merged_df = pd.merge(GAMES, MSeason, on='Season', how='inner')\n",
    "\n",
    "# Calculate date using vectorized operations\n",
    "merged_df['Date'] = merged_df['StartDate'] + pd.to_timedelta(merged_df['DayNum'], unit='D')\n",
    "\n",
    "# Update Games with the calculated dates\n",
    "GAMES['Date'] = merged_df['Date']\n",
    "\n",
    "# Show sample output\n",
    "print(GAMES.shape)\n",
    "GAMES.tail(2)"
   ]
  },
  {
   "cell_type": "code",
   "execution_count": 30,
   "id": "85551283-a266-453c-a009-e1f320f713fa",
   "metadata": {},
   "outputs": [
    {
     "ename": "NameError",
     "evalue": "name 'Mens' is not defined",
     "output_type": "error",
     "traceback": [
      "\u001b[0;31m---------------------------------------------------------------------------\u001b[0m",
      "\u001b[0;31mNameError\u001b[0m                                 Traceback (most recent call last)",
      "Cell \u001b[0;32mIn[30], line 3\u001b[0m\n\u001b[1;32m      1\u001b[0m \u001b[38;5;66;03m# Merge MTeamConferences with MTeams dataframes on 'TeamID' column\u001b[39;00m\n\u001b[1;32m      2\u001b[0m df1 \u001b[38;5;241m=\u001b[39m pd\u001b[38;5;241m.\u001b[39mread_csv(DATA_DIR \u001b[38;5;241m+\u001b[39m \u001b[38;5;124m'\u001b[39m\u001b[38;5;124mMTeamConferences.csv\u001b[39m\u001b[38;5;124m'\u001b[39m)\n\u001b[0;32m----> 3\u001b[0m df2 \u001b[38;5;241m=\u001b[39m \u001b[43mMens\u001b[49m\u001b[38;5;241m.\u001b[39mcopy()\n\u001b[1;32m      4\u001b[0m df3 \u001b[38;5;241m=\u001b[39m pd\u001b[38;5;241m.\u001b[39mmerge(df1, df2, on\u001b[38;5;241m=\u001b[39m\u001b[38;5;124m'\u001b[39m\u001b[38;5;124mTeamID\u001b[39m\u001b[38;5;124m'\u001b[39m, how\u001b[38;5;241m=\u001b[39m\u001b[38;5;124m'\u001b[39m\u001b[38;5;124mleft\u001b[39m\u001b[38;5;124m'\u001b[39m)\n\u001b[1;32m      5\u001b[0m \u001b[38;5;28mprint\u001b[39m(\u001b[38;5;124m'\u001b[39m\u001b[38;5;124mdf1:\u001b[39m\u001b[38;5;124m'\u001b[39m, df1\u001b[38;5;241m.\u001b[39mshape, \u001b[38;5;124m'\u001b[39m\u001b[38;5;124mdf2:\u001b[39m\u001b[38;5;124m'\u001b[39m, df2\u001b[38;5;241m.\u001b[39mshape, \u001b[38;5;124m'\u001b[39m\u001b[38;5;124mdf3:\u001b[39m\u001b[38;5;124m'\u001b[39m, df3\u001b[38;5;241m.\u001b[39mshape)\n",
      "\u001b[0;31mNameError\u001b[0m: name 'Mens' is not defined"
     ]
    }
   ],
   "source": [
    "# Merge MTeamConferences with MTeams dataframes on 'TeamID' column\n",
    "df1 = pd.read_csv(DATA_DIR + 'MTeamConferences.csv')\n",
    "df2 = Mens.copy()\n",
    "df3 = pd.merge(df1, df2, on='TeamID', how='left')\n",
    "print('df1:', df1.shape, 'df2:', df2.shape, 'df3:', df3.shape)\n",
    "\n",
    "# Merge MTeamConferences with MTeams dataframes on 'TeamID' column\n",
    "df4 = df3.copy()\n",
    "df5 = pd.read_csv(DATA_DIR + 'Conferences.csv')\n",
    "df6 = pd.merge(df4, df5, on='ConfAbbrev', how='left')\n",
    "print('df4:', df4.shape, 'df5:', df5.shape, 'df6:', df6.shape)\n",
    "\n",
    "new_order = [0, 1, 3, 4, 5, 2, 6]\n",
    "new_names = {'Season':'Season', 'TeamID':'TeamID', 'ConfAbbrev':'ConfID', 'TeamName':'TeamName', 'FirstD1Season':'FirstD1', 'LastD1Season':'LastD1', 'Description':'ConfName'}\n",
    "\n",
    "df6 = df6.iloc[:,new_order].rename(columns=new_names)\n",
    "\n",
    "df6.head()"
   ]
  },
  {
   "cell_type": "code",
   "execution_count": null,
   "id": "5095b10d-7028-48d5-9a86-6c1738e85bf9",
   "metadata": {},
   "outputs": [],
   "source": [
    "df1[(df1['Season'] <= 1999) - (df1['Season'] > 2000)]['ConfAbbrev']"
   ]
  },
  {
   "cell_type": "markdown",
   "id": "381e57a3-849d-4c20-b795-2e71988f4983",
   "metadata": {
    "tags": []
   },
   "source": [
    "#### **Custom Functions**"
   ]
  },
  {
   "cell_type": "code",
   "execution_count": null,
   "id": "9978602b-8682-4dba-9803-8ec8759e8dbe",
   "metadata": {},
   "outputs": [],
   "source": []
  },
  {
   "cell_type": "code",
   "execution_count": null,
   "id": "3acfb80c-9ad0-49a4-bf8a-633a68b3ea25",
   "metadata": {
    "jupyter": {
     "source_hidden": true
    },
    "tags": []
   },
   "outputs": [],
   "source": [
    "def store_day_zero(file):\n",
    "    \"\"\"\n",
    "    Converts a CSV file with six columns (Season, DayZero, RegionW, RegionX, RegionY, RegionZ) to TWO dictionaries: \n",
    "    (1) with Season as the key and DayZero as the value; and \n",
    "    (2) with Season as the key and the four regions names as the value (in tuple)\n",
    "\n",
    "    Parameters:\n",
    "    file (str): The path and name of the CSV file to convert.\n",
    "\n",
    "    Returns:\n",
    "    Returns two dictionaries for DayZero and (RegionW, RegionX, RegionY, RegionZ) using Season as the key.\n",
    "\n",
    "    Use:\n",
    "    (1) Use to get the date for any game using Season as key eg. dayz(2022) outputs 2021-11-01\n",
    "    (2) Use to get the four regions for any season using Season as key eg. dayz(2022) outputs (East, West, Midwest, South)\n",
    "    \"\"\"\n",
    "\n",
    "    # Create five dictionaries with Season as the key and the other columns as the value\n",
    "    dict_zero = {}\n",
    "    dict_w = {}\n",
    "    dict_x = {}\n",
    "    dict_y = {}\n",
    "    dict_z = {}\n",
    "\n",
    "    with open(file, 'r', encoding='latin-1') as csvfile:\n",
    "        reader = csv.reader(csvfile)\n",
    "        #header = next(reader) # skip header row\n",
    "        for row in reader:\n",
    "            # Extract the values from the row\n",
    "            season, day_zero, region_w, region_x, region_y, region_z = row\n",
    "            \n",
    "            # Populate the dictionaries\n",
    "            dict_zero.setdefault(season, []).append(day_zero)\n",
    "            dict_w.setdefault(season, []).append(region_w)\n",
    "            dict_x.setdefault(season, []).append(region_x)\n",
    "            dict_y.setdefault(season, []).append(region_y)\n",
    "            dict_z.setdefault(season, []).append(region_z)\n",
    "\n",
    "    # Return the dictionaries as a tuple\n",
    "    return dict_zero, dict_w, dict_x, dict_y, dict_z"
   ]
  },
  {
   "cell_type": "code",
   "execution_count": null,
   "id": "6556d540-fef7-4b50-a379-527d5243a705",
   "metadata": {},
   "outputs": [],
   "source": []
  },
  {
   "cell_type": "code",
   "execution_count": null,
   "id": "a1abbd21-529f-428f-9ebb-73da042608a2",
   "metadata": {},
   "outputs": [],
   "source": []
  },
  {
   "cell_type": "code",
   "execution_count": null,
   "id": "530261c0-03ce-4b78-8eae-e49e0efd2d31",
   "metadata": {},
   "outputs": [],
   "source": []
  },
  {
   "cell_type": "code",
   "execution_count": null,
   "id": "2a3bedce-b050-48c3-af81-67c8370c5a89",
   "metadata": {},
   "outputs": [],
   "source": []
  },
  {
   "cell_type": "code",
   "execution_count": null,
   "id": "756dc940-75bd-4e9a-82e7-7f37adb28ad7",
   "metadata": {},
   "outputs": [],
   "source": []
  }
 ],
 "metadata": {
  "kernelspec": {
   "display_name": "Py 3.09 (mlops)",
   "language": "python",
   "name": "mlops"
  },
  "language_info": {
   "codemirror_mode": {
    "name": "ipython",
    "version": 3
   },
   "file_extension": ".py",
   "mimetype": "text/x-python",
   "name": "python",
   "nbconvert_exporter": "python",
   "pygments_lexer": "ipython3",
   "version": "3.9.15"
  }
 },
 "nbformat": 4,
 "nbformat_minor": 5
}
