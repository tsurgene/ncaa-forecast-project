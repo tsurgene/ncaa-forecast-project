{
 "cells": [
  {
   "cell_type": "code",
   "execution_count": 1,
   "id": "2a6c46bb-abf4-420f-b9d6-02c126fe92ab",
   "metadata": {},
   "outputs": [],
   "source": [
    "# For working with files\n",
    "import os\n",
    "import re\n",
    "import csv\n",
    "import glob\n",
    "\n",
    "# For manipulating data\n",
    "import pandas as pd\n",
    "\n",
    "# For getting geographic locations and distances\n",
    "from geopy.distance import geodesic\n",
    "from geopy.exc import GeocoderTimedOut\n",
    "from geopy.geocoders import Nominatim"
   ]
  },
  {
   "cell_type": "code",
   "execution_count": 2,
   "id": "56166c65-35eb-456d-8352-8a1498a48f94",
   "metadata": {},
   "outputs": [],
   "source": [
    "DATA_DIR = 'march-machine-learning-mania-2023/'"
   ]
  },
  {
   "cell_type": "markdown",
   "id": "6135b88c-cfd2-469c-a8ef-d82c208ab5b2",
   "metadata": {
    "jp-MarkdownHeadingCollapsed": true,
    "tags": []
   },
   "source": [
    "#### **Load Functions**"
   ]
  },
  {
   "cell_type": "code",
   "execution_count": 3,
   "id": "9aaf4660-9afb-446f-9e4a-3c621c202cae",
   "metadata": {},
   "outputs": [],
   "source": [
    "def store_cities(csvfile):\n",
    "    \"\"\"\n",
    "    Converts a CSV file with three columns (CityID, City, State) to a dictionary with CityID as the key and both City, State as the value.\n",
    "\n",
    "    Parameters:\n",
    "    file (str): The path and name of the CSV file to convert.\n",
    "\n",
    "    Returns:\n",
    "    Returns a dictionary for City and State using CityID as the key.\n",
    "\n",
    "    Use:\n",
    "    Use to get the City and State for a game using the CityID (eg. cities['4030'])\n",
    "    \"\"\"\n",
    "\n",
    "    # Create an empty dictionary to store the data\n",
    "    cities = {}\n",
    "\n",
    "    # Open the csv file and read the contents into a list of dictionaries\n",
    "    with open(csvfile, 'r', encoding='latin-1') as csv_file:\n",
    "        csv_reader = csv.DictReader(csv_file)\n",
    "\n",
    "        # Iterate over each row in the csv data\n",
    "        for row in csv_reader:\n",
    "            # Extract the relevant fields from the row\n",
    "            city_id = row['CityID']\n",
    "            city = row['City']\n",
    "            state = row['State']\n",
    "\n",
    "            # Add the data to the city_data dictionary\n",
    "            cities[city_id] = f\"{city}, {state}\"\n",
    "\n",
    "    # Return the dictionary\n",
    "    return cities"
   ]
  },
  {
   "cell_type": "code",
   "execution_count": 4,
   "id": "2087b1be-471e-4a61-8b80-96dbc0174c74",
   "metadata": {},
   "outputs": [],
   "source": [
    "def get_distance(city1, city2):\n",
    "    # Function to get the distance between two locations (city, state)\n",
    "    \n",
    "    # Designate the two locations from function parameters\n",
    "    city_1 = city1\n",
    "    city_2 = city2\n",
    "    \n",
    "    # Use custom function to get coordinates for each city\n",
    "    coord_1 = get_coordinates(city_1)  # Latitude and longitude of city1\n",
    "    coord_2 = get_coordinates(city_2)  # Latitude and longitude of city2\n",
    "    \n",
    "    # Calculate distance between city1 and city2 using geopy\n",
    "    distance_mi = geodesic(coord_1, coord_2).miles\n",
    "    \n",
    "    # print(f\"The distance between {city_1} and {city_2} is {dist:.2f} miles\")\n",
    "    # Return the distance as numer (float)\n",
    "    return distance_mi"
   ]
  },
  {
   "cell_type": "code",
   "execution_count": 5,
   "id": "ab5f9f5e-36a0-439a-b7eb-6f246a654753",
   "metadata": {},
   "outputs": [],
   "source": [
    "def get_coordinates(city):\n",
    "    # Function to get coordinates for a single location (city, state)\n",
    "    \n",
    "    # Create an instance of Nominatim class\n",
    "    geolocator = Nominatim(user_agent='fake_useragent')\n",
    "\n",
    "    # Use geocode method to get the location\n",
    "    try:\n",
    "        location_data = geolocator.geocode(city, timeout=10)\n",
    "        latitude = location_data.latitude\n",
    "        longitude = location_data.longitude\n",
    "\n",
    "    # Add an except to return 'None' when location can not be found (to prevent error)\n",
    "    except (AttributeError, GeocoderTimedOut):\n",
    "        latitude = None\n",
    "        longitude = None\n",
    "\n",
    "    # Return (latitude, longitude) as tuple\n",
    "    return (latitude, longitude)"
   ]
  },
  {
   "cell_type": "code",
   "execution_count": 6,
   "id": "5eda29c3-54c9-49c3-9c02-2e6adcc99d35",
   "metadata": {},
   "outputs": [],
   "source": [
    "def store_seasons(csvfile):\n",
    "    \"\"\"\n",
    "    Converts a CSV file with six columns (Season, DayZero, RegionW, RegionX, RegionY, RegionZ) to TWO dictionaries: \n",
    "    (1) with Season as the key and DayZero as the value; and \n",
    "    (2) with Season as the key and the four regions names as the value (in tuple)\n",
    "\n",
    "    Parameters:\n",
    "    file (str): The path and name of the CSV file to convert.\n",
    "\n",
    "    Returns:\n",
    "    Returns two dictionaries for DayZero and (RegionW, RegionX, RegionY, RegionZ) using Season as the key.\n",
    "\n",
    "    Use:\n",
    "    (1) Use to get the date for any game using Season as key eg. dayz(2022) outputs 2021-11-01\n",
    "    (2) Use to get the four regions for any season using Season as key eg. regions(2022) outputs (East, West, Midwest, South)\n",
    "    \"\"\"\n",
    "\n",
    "    # Create two empty dictionaries: one for storing day zero and another for storing regions\n",
    "    dict_day_zero = {}\n",
    "    dict_regions = {}\n",
    "\n",
    "    with open(csvfile, 'r', encoding='latin-1') as csv_file:\n",
    "        reader = csv.reader(csv_file)\n",
    "        for row in reader:\n",
    "            # Extract the values from the row\n",
    "            season, day_zero, region_w, region_x, region_y, region_z = row\n",
    "\n",
    "            # Populate the dictionaries\n",
    "            dict_day_zero[season] = day_zero\n",
    "            dict_regions[season] = (region_w, region_x, region_y, region_z)\n",
    "\n",
    "    # Return the two dictionaries\n",
    "    return dict_day_zero, dict_regions"
   ]
  },
  {
   "cell_type": "code",
   "execution_count": 7,
   "id": "5fd44506-1372-4e5e-9cea-ed3ccaf0fc68",
   "metadata": {},
   "outputs": [],
   "source": [
    "def store_spellings(csvfile):\n",
    "    \"\"\"\n",
    "    Converts a CSV file with two columns (TeamNameSpelling, TeamID) to a dictionary with TeamNameSpelling as the key and TeamID as the value.\n",
    "\n",
    "    Parameters:\n",
    "    file (str): The path and name of the CSV file to convert.\n",
    "\n",
    "    Returns:\n",
    "    Returns a dictionary with TeamNameSpelling as the key and TeamID as the value.\n",
    "\n",
    "    Use:\n",
    "    Use to get the TeamID for a team using an alternate spelling of the name (eg. mnames['mt-st-marys'])\n",
    "    \"\"\"\n",
    "\n",
    "    # Create an empty dictionary to store the data\n",
    "    spellings = {}\n",
    "\n",
    "    # Open the csv file and read the contents into a list of dictionaries\n",
    "    with open(csvfile, 'r', encoding='latin-1') as csv_file:\n",
    "        csv_reader = csv.DictReader(csv_file)\n",
    "\n",
    "        # Use a dictionary comprehension to create a dictionary from the csv data\n",
    "        spellings = {row['TeamNameSpelling']: row['TeamID'] for row in csv_reader}\n",
    "\n",
    "    # Return dictionary\n",
    "    return spellings"
   ]
  },
  {
   "cell_type": "code",
   "execution_count": 8,
   "id": "cb2f08a0-12d3-4efc-bd41-8d4d856447ea",
   "metadata": {},
   "outputs": [],
   "source": [
    "def store_team_conference(csvfile):\n",
    "    \"\"\"\n",
    "    Converts a CSV file with three columns (Season, TeamID, ConfAbbrev) to a nested dictionary with Season as the outer key, TeamID as the\n",
    "    inner key, and ConfAbbrev as the value.\n",
    "\n",
    "    Parameters:\n",
    "    file (str): The path and name of the CSV file to convert.\n",
    "\n",
    "    Returns:\n",
    "    Returns a nested dictionary with Season as the outer key, TeamID as the inner key, and ConfAbbrev as the value.\n",
    "\n",
    "    Use:\n",
    "    Use to get the conference abbreviation for a team in a specific season (eg. mens_conferences['1985']['1449'])\n",
    "    \"\"\"\n",
    "\n",
    "    # Create an empty nested dictionary\n",
    "    conferences = {}\n",
    "\n",
    "    # Open the CSV file and read the contents into a list of dictionaries\n",
    "    with open(csvfile, 'r', encoding='latin-1') as csv_file:\n",
    "        csv_reader = csv.DictReader(csv_file)\n",
    "\n",
    "        # Iterate over the rows in the CSV file\n",
    "        for row in csv_reader:\n",
    "            # Extract the year, id, and name from the current row\n",
    "            year = row['Season']\n",
    "            team_id = row['TeamID']\n",
    "            abbrv = row['ConfAbbrev']\n",
    "\n",
    "            # Create the outer dictionary if it doesn't exist\n",
    "            if year not in conferences:\n",
    "                conferences[year] = {}\n",
    "\n",
    "            # Add the name to the inner dictionary with the id as the key\n",
    "            conferences[year][team_id] = abbrv\n",
    "\n",
    "    return conferences"
   ]
  },
  {
   "cell_type": "code",
   "execution_count": 9,
   "id": "a8d5803e-23be-49e7-8ca5-3edc92d1a7f9",
   "metadata": {
    "tags": []
   },
   "outputs": [],
   "source": [
    "def store_tourney_seeds(csvfile):\n",
    "    \"\"\"\n",
    "    Converts a CSV file with three columns (Season, Seed, TeamID) to a nested dictionary with Season as the outer key, TeamID as the\n",
    "    inner key, and Seed as the value.\n",
    "\n",
    "    Parameters:\n",
    "    file (str): The path and name of the CSV file to convert.\n",
    "\n",
    "    Returns:\n",
    "    Returns a nested dictionary with Season as the outer key, TeamID as the inner key, and Seed as the value.\n",
    "\n",
    "    Use:\n",
    "    Use to get the conference abbreviation for a team in a specific season (eg. mens_seeds['1985']['1449'])\n",
    "    \"\"\"\n",
    "\n",
    "    # Create an empty nested dictionary\n",
    "    seeds = {}\n",
    "\n",
    "    # Open the CSV file and read the contents into a list of dictionaries\n",
    "    with open(csvfile, 'r', encoding='latin-1') as csv_file:\n",
    "        csv_reader = csv.DictReader(csv_file)\n",
    "\n",
    "        # Iterate over the rows in the CSV file\n",
    "        for row in csv_reader:\n",
    "            # Extract the year, id, and name from the current row\n",
    "            year = row['Season']\n",
    "            seed = row['Seed']\n",
    "            team_id = row['TeamID']\n",
    "\n",
    "            # Create the outer dictionary if it doesn't exist\n",
    "            if year not in seeds:\n",
    "                seeds[year] = {}\n",
    "\n",
    "            # Add the name to the inner dictionary with the id as the key\n",
    "            seeds[year][team_id] = seed\n",
    "\n",
    "    return seeds"
   ]
  },
  {
   "cell_type": "code",
   "execution_count": 10,
   "id": "3fc01283-d3a2-4026-8b51-bb85183c25f1",
   "metadata": {},
   "outputs": [],
   "source": [
    "def store_conferences(csvfile):\n",
    "    \"\"\"\n",
    "    Converts a CSV file with two columns (ConfAbbrev, Description) to a dictionary with ConfAbbrev as the key and Description as the value.\n",
    "\n",
    "    Parameters:\n",
    "    file (str): The path and name of the CSV file to convert.\n",
    "\n",
    "    Returns:\n",
    "    Returns a dictionary with ConfAbbrev as the key and Description as the value.\n",
    "\n",
    "    Use:\n",
    "    Use to get the Description (full name) for a conference using its abbreviation (eg. conf_abrv['a_sun'])\n",
    "    \"\"\"\n",
    "\n",
    "    # Create an empty dictionary to store the data\n",
    "    conferences = {}\n",
    "\n",
    "    # Open the csv file and read the contents into a list of dictionaries\n",
    "    with open(csvfile, 'r', encoding='latin-1') as csv_file:\n",
    "        csv_reader = csv.DictReader(csv_file)\n",
    "\n",
    "        # Use a dictionary comprehension to create a dictionary from the csv data\n",
    "        conferences = {row['ConfAbbrev']: row['Description'] for row in csv_reader}\n",
    "\n",
    "    # Return dictionary\n",
    "    return conferences"
   ]
  },
  {
   "cell_type": "code",
   "execution_count": 11,
   "id": "c0a9a5cc-9f22-44cc-b044-69f913547d6b",
   "metadata": {
    "tags": []
   },
   "outputs": [],
   "source": [
    "def store_sec_tourney_teams(csvfile):\n",
    "    \"\"\"\n",
    "    Converts a CSV file with three columns (Season, SecondaryTourney, TeamID) to a nested dictionary with Season as the outer key, TeamID as the\n",
    "    inner key, and SecondaryTourney as the value.\n",
    "\n",
    "    Parameters:\n",
    "    file (str): The path and name of the CSV file to convert.\n",
    "\n",
    "    Returns:\n",
    "    Returns a nested dictionary with Season as the outer key, TeamID as the inner key, and SecondaryTourney as the value.\n",
    "\n",
    "    Use:\n",
    "    Use to get the conference abbreviation for a team in a specific season (eg. sec_tourney['1985']['1449'])\n",
    "    \"\"\"\n",
    "\n",
    "    # Create an empty nested dictionary\n",
    "    secondary = {}\n",
    "\n",
    "    # Open the CSV file and read the contents into a list of dictionaries\n",
    "    with open(csvfile, 'r', encoding='latin-1') as csv_file:\n",
    "        csv_reader = csv.DictReader(csv_file)\n",
    "\n",
    "        # Iterate over the rows in the CSV file\n",
    "        for row in csv_reader:\n",
    "            # Extract the year, id, and name from the current row\n",
    "            year = row['Season']\n",
    "            second = row['SecondaryTourney']\n",
    "            team_id = row['TeamID']\n",
    "\n",
    "            # Create the outer dictionary if it doesn't exist\n",
    "            if year not in secondary:\n",
    "                secondary[year] = {}\n",
    "\n",
    "            # Add the name to the inner dictionary with the id as the key\n",
    "            secondary[year][team_id] = second\n",
    "\n",
    "    return secondary"
   ]
  },
  {
   "cell_type": "markdown",
   "id": "e311e9d6-2b5a-4eb3-b95c-149b24ac9181",
   "metadata": {
    "tags": []
   },
   "source": [
    "#### **Load Data**"
   ]
  },
  {
   "cell_type": "code",
   "execution_count": 12,
   "id": "674c5301-6be0-49c5-8c13-fdf922dca9f9",
   "metadata": {},
   "outputs": [
    {
     "name": "stdout",
     "output_type": "stream",
     "text": [
      "Done. Loaded  team tables as 'Mens' and 'Womens'.\n"
     ]
    }
   ],
   "source": [
    "# Creates a Teams tables\n",
    "Mens = pd.read_csv(DATA_DIR + 'MTeams.csv')\n",
    "Womens = pd.read_csv(DATA_DIR + 'WTeams.csv')\n",
    "print(\"Done. Loaded  team tables as 'Mens' and 'Womens'.\")"
   ]
  },
  {
   "cell_type": "code",
   "execution_count": 13,
   "id": "693f97cd-7338-4b7c-a53d-3168f6496cd4",
   "metadata": {},
   "outputs": [
    {
     "name": "stdout",
     "output_type": "stream",
     "text": [
      "e.g. output - mens: 1291 womens: 3291\n"
     ]
    }
   ],
   "source": [
    "# Creates a dictionary to store alternate team name spellings\n",
    "mnames = store_spellings(DATA_DIR + 'MTeamSpellings.csv') # use with Season as e.g. mnames['mt-st-marys']\n",
    "wnames = store_spellings(DATA_DIR + 'WTeamSpellings.csv') # use with Season as e.g. wnames['mt-st-marys']\n",
    "print('e.g. output - mens:', mnames['mt-st-marys'], 'womens:', wnames['mt-st-marys'])"
   ]
  },
  {
   "cell_type": "code",
   "execution_count": 14,
   "id": "b86ed41f-3790-4f14-86f0-54fed6461784",
   "metadata": {},
   "outputs": [
    {
     "name": "stdout",
     "output_type": "stream",
     "text": [
      "Done. Loaded team coaches table as 'MCoaches', mens only.\n"
     ]
    }
   ],
   "source": [
    "# Creates Compact Secondary Tournament Results table:\n",
    "MCoaches = pd.read_csv(DATA_DIR + 'MTeamCoaches.csv')\n",
    "print(\"Done. Loaded team coaches table as 'MCoaches', mens only.\")"
   ]
  },
  {
   "cell_type": "code",
   "execution_count": 15,
   "id": "151aabfa-c50c-4314-9c2b-ef6cc220868e",
   "metadata": {},
   "outputs": [
    {
     "name": "stdout",
     "output_type": "stream",
     "text": [
      "e.g. output - mens: 2021-11-01 ('East', 'West', 'Midwest', 'South') womens: 2021-11-01 ('Bridgeport', 'Spokane', 'Greensboro', 'Wichita')\n"
     ]
    }
   ],
   "source": [
    "# Creates two dictionaries to store day zero for each season and the region names\n",
    "mens_day0, mens_regions = store_seasons(DATA_DIR + 'MSeasons.csv'); # use with Season as e.g. mens_day0['2022'] or mens_regions['2022']\n",
    "womens_day0, womens_regions = store_seasons(DATA_DIR + 'WSeasons.csv'); # use with Season as e.g. womens_day0['2022'] or womens_regions['2022']\n",
    "print('e.g. output - mens:', mens_day0['2022'], mens_regions['2022'], 'womens:', womens_day0['2022'], womens_regions['2022'])"
   ]
  },
  {
   "cell_type": "code",
   "execution_count": 16,
   "id": "a8bd92b3-c7d5-4174-b913-61b17a1f6f71",
   "metadata": {},
   "outputs": [
    {
     "name": "stdout",
     "output_type": "stream",
     "text": [
      "e.g. output - mens: pac_twelve womens: pac_twelve\n"
     ]
    }
   ],
   "source": [
    "# Creates a dictionary to store team conference full names\n",
    "mens_conferences = store_team_conference(DATA_DIR + 'MTeamConferences.csv') # use as mens_conferences[year][team_id]\n",
    "womens_conferences = store_team_conference(DATA_DIR + 'WTeamConferences.csv') # use as womens_conferences[year][team_id]\n",
    "print('e.g. output - mens:', mens_conferences['2022']['1449'], 'womens:', womens_conferences['2022']['3449'])"
   ]
  },
  {
   "cell_type": "code",
   "execution_count": 17,
   "id": "9f264ca9-1dd7-47fa-9ca3-a00373836b37",
   "metadata": {},
   "outputs": [
    {
     "name": "stdout",
     "output_type": "stream",
     "text": [
      "Done. Loaded detailed regular season tables as 'MSeason' and 'WSeason'.\n"
     ]
    }
   ],
   "source": [
    "# Creates Detailed Regular Season tables:\n",
    "MSeason = pd.read_csv(DATA_DIR + 'MRegularSeasonDetailedResults.csv')\n",
    "WSeason = pd.read_csv(DATA_DIR + 'WRegularSeasonDetailedResults.csv')\n",
    "print(\"Done. Loaded detailed regular season tables as 'MSeason' and 'WSeason'.\")"
   ]
  },
  {
   "cell_type": "code",
   "execution_count": 18,
   "id": "ef2f7d1e-8d33-418e-bf17-8e7c0969fc9f",
   "metadata": {},
   "outputs": [
    {
     "name": "stdout",
     "output_type": "stream",
     "text": [
      "Done. Loaded compact regular season tables as 'MSeason_compact' and 'WSeason_compact'.\n"
     ]
    }
   ],
   "source": [
    "# Creates Compact Regular Season tables (Optional):\n",
    "MSeason_compact = pd.read_csv(DATA_DIR + 'MRegularSeasonCompactResults.csv')\n",
    "WSeason_compact = pd.read_csv(DATA_DIR + 'WRegularSeasonCompactResults.csv')\n",
    "print(\"Done. Loaded compact regular season tables as 'MSeason_compact' and 'WSeason_compact'.\")"
   ]
  },
  {
   "cell_type": "code",
   "execution_count": 19,
   "id": "a64f7527-3a57-4dc9-b591-811a33e2cec1",
   "metadata": {},
   "outputs": [
    {
     "name": "stdout",
     "output_type": "stream",
     "text": [
      "Done. Loaded game cities tables as 'MGCities' and 'WGCities'.\n"
     ]
    }
   ],
   "source": [
    "# Creates Game Cities tables:\n",
    "MGCities = pd.read_csv(DATA_DIR + 'MGameCities.csv')\n",
    "WGCities = pd.read_csv(DATA_DIR + 'WGameCities.csv')\n",
    "print(\"Done. Loaded game cities tables as 'MGCities' and 'WGCities'.\")"
   ]
  },
  {
   "cell_type": "code",
   "execution_count": 20,
   "id": "14f13d34-edb0-48a1-95b4-d10c8541cad6",
   "metadata": {},
   "outputs": [
    {
     "name": "stdout",
     "output_type": "stream",
     "text": [
      "e.g. output - mens: X05 womens: Z06\n"
     ]
    }
   ],
   "source": [
    "# Creates a dictionary to store team tournament seeding\n",
    "mens_seeds = store_tourney_seeds(DATA_DIR + 'MNCAATourneySeeds.csv') # use as mens_seeds[year][team_id]\n",
    "womens_seeds = store_tourney_seeds(DATA_DIR + 'WNCAATourneySeeds.csv') # use as womens_seeds[year][team_id]\n",
    "print('e.g. output - mens:', mens_seeds['1985']['1449'], 'womens:', womens_seeds['2001']['3449'])"
   ]
  },
  {
   "cell_type": "code",
   "execution_count": 21,
   "id": "d79a1382-be8b-4455-80d9-461f60b989c4",
   "metadata": {},
   "outputs": [
    {
     "name": "stdout",
     "output_type": "stream",
     "text": [
      "Done. Loaded tournament seeding for each round in table as 'Tourney_rounds'.\n"
     ]
    }
   ],
   "source": [
    "# Creates a Tourney Seeding by Round table \n",
    "Tourney_rounds = pd.read_csv(DATA_DIR + 'MNCAATourneySeedRoundSlots.csv')\n",
    "print(\"Done. Loaded tournament seeding for each round in table as 'Tourney_rounds'.\")"
   ]
  },
  {
   "cell_type": "code",
   "execution_count": 22,
   "id": "a448e7e0-5886-4ddc-8748-b9ce6d647f8a",
   "metadata": {},
   "outputs": [
    {
     "name": "stdout",
     "output_type": "stream",
     "text": [
      "Done. Loaded tournament seed matchup tables as 'MTourney_seeds' and 'WTourney_seeds'.\n"
     ]
    }
   ],
   "source": [
    "# Creates Tournament Seed Matchup tables:\n",
    "MTourney_seeds = pd.read_csv(DATA_DIR + 'MNCAATourneySlots.csv')\n",
    "WTourney_seeds = pd.read_csv(DATA_DIR + 'WNCAATourneySlots.csv')\n",
    "print(\"Done. Loaded tournament seed matchup tables as 'MTourney_seeds' and 'WTourney_seeds'.\")"
   ]
  },
  {
   "cell_type": "code",
   "execution_count": 23,
   "id": "1bbba798-9030-44bb-8e26-912b21f70e74",
   "metadata": {},
   "outputs": [
    {
     "name": "stdout",
     "output_type": "stream",
     "text": [
      "Done. Loaded detailed tournament tables as 'MTourney' and 'WTourney'.\n"
     ]
    }
   ],
   "source": [
    "# Creates Detailed Tournament Results tables:\n",
    "MTourney = pd.read_csv(DATA_DIR + 'MNCAATourneyDetailedResults.csv')\n",
    "WTourney = pd.read_csv(DATA_DIR + 'WNCAATourneyDetailedResults.csv')\n",
    "print(\"Done. Loaded detailed tournament tables as 'MTourney' and 'WTourney'.\")"
   ]
  },
  {
   "cell_type": "code",
   "execution_count": 24,
   "id": "ea1760f1-85a0-4305-8acf-5d5a16965b21",
   "metadata": {},
   "outputs": [
    {
     "name": "stdout",
     "output_type": "stream",
     "text": [
      "Done. Loaded compact tournament tables an 'MTourney_compact' and 'WTourney_compact'.\n"
     ]
    }
   ],
   "source": [
    "# Creates Compact Tournament Results tables (Optional):\n",
    "MTourney_compact = pd.read_csv(DATA_DIR + 'MNCAATourneyCompactResults.csv')\n",
    "WTourney_compact = pd.read_csv(DATA_DIR + 'WNCAATourneyCompactResults.csv')\n",
    "print(\"Done. Loaded compact tournament tables an 'MTourney_compact' and 'WTourney_compact'.\")"
   ]
  },
  {
   "cell_type": "code",
   "execution_count": 25,
   "id": "e1d083ed-b178-4030-b4cc-3134bae128e9",
   "metadata": {},
   "outputs": [
    {
     "name": "stdout",
     "output_type": "stream",
     "text": [
      "Done. Loaded secondary tournament table as 'MSecondary'.\n"
     ]
    }
   ],
   "source": [
    "# Creates a Compact Secondary Tournament Results table:\n",
    "MSecondary = pd.read_csv(DATA_DIR + 'MSecondaryTourneyCompactResults.csv')\n",
    "print(\"Done. Loaded secondary tournament table as 'MSecondary'.\")"
   ]
  },
  {
   "cell_type": "code",
   "execution_count": 26,
   "id": "0813086c-1291-4922-a00d-a42ac6a771d4",
   "metadata": {},
   "outputs": [
    {
     "name": "stdout",
     "output_type": "stream",
     "text": [
      "e.g. output - Birmingham, AL\n"
     ]
    }
   ],
   "source": [
    "# Creates a dictionary to store cities as city, state\n",
    "cities = store_cities(DATA_DIR + 'Cities.csv'); # use with CityID as e.g. city['4030']\n",
    "print('e.g. output -', cities['4030'])"
   ]
  },
  {
   "cell_type": "code",
   "execution_count": 31,
   "id": "a9d72e94-99c2-4123-8628-9e5808085641",
   "metadata": {},
   "outputs": [
    {
     "name": "stdout",
     "output_type": "stream",
     "text": [
      "e.g. output -  Atlantic Sun Conference\n"
     ]
    }
   ],
   "source": [
    "# Creates a dictionary to store conference full names\n",
    "conf_abrv = store_conferences(DATA_DIR + 'Conferences.csv'); # use with conference abbrv as e.g. conf_abrv['a_sun']\n",
    "print('e.g. output - ', conf_abrv['a_sun'])"
   ]
  },
  {
   "cell_type": "code",
   "execution_count": 28,
   "id": "0dbb3275-4212-434c-8ab1-404df9bc9a59",
   "metadata": {},
   "outputs": [
    {
     "name": "stdout",
     "output_type": "stream",
     "text": [
      "Done. Loaded conference tournament games table as 'CTourney'.\n"
     ]
    }
   ],
   "source": [
    "# Creates a Conference Tourney Games table \n",
    "CTourney = pd.read_csv(DATA_DIR + 'MConferenceTourneyGames.csv')\n",
    "print(\"Done. Loaded conference tournament games table as 'CTourney'.\")"
   ]
  },
  {
   "cell_type": "code",
   "execution_count": 29,
   "id": "41fd7e33-9815-45c7-a05a-6a1262d9a7fb",
   "metadata": {},
   "outputs": [
    {
     "name": "stdout",
     "output_type": "stream",
     "text": [
      "e.g. output - NIT\n"
     ]
    }
   ],
   "source": [
    "# Creates a dictionary to store secondary tournament that certain teams played \n",
    "sec_tourney = store_sec_tourney_teams(DATA_DIR + 'MSecondaryTourneyTeams.csv') # use as sec_tourney[year][team_id]\n",
    "print('e.g. output -', sec_tourney['2019']['1400'])"
   ]
  },
  {
   "cell_type": "markdown",
   "id": "c5ec61fc-9180-4e10-bc42-648f31cdf0da",
   "metadata": {
    "tags": []
   },
   "source": [
    "#### **Load Tables**"
   ]
  },
  {
   "cell_type": "code",
   "execution_count": null,
   "id": "41d6783b-9640-4e76-a089-2f1fb46320ff",
   "metadata": {},
   "outputs": [],
   "source": []
  },
  {
   "cell_type": "markdown",
   "id": "381e57a3-849d-4c20-b795-2e71988f4983",
   "metadata": {
    "tags": []
   },
   "source": [
    "#### **Custom Functions**"
   ]
  },
  {
   "cell_type": "code",
   "execution_count": null,
   "id": "9978602b-8682-4dba-9803-8ec8759e8dbe",
   "metadata": {},
   "outputs": [],
   "source": []
  },
  {
   "cell_type": "code",
   "execution_count": 30,
   "id": "3acfb80c-9ad0-49a4-bf8a-633a68b3ea25",
   "metadata": {
    "jupyter": {
     "source_hidden": true
    },
    "tags": []
   },
   "outputs": [],
   "source": [
    "def store_day_zero(file):\n",
    "    \"\"\"\n",
    "    Converts a CSV file with six columns (Season, DayZero, RegionW, RegionX, RegionY, RegionZ) to TWO dictionaries: \n",
    "    (1) with Season as the key and DayZero as the value; and \n",
    "    (2) with Season as the key and the four regions names as the value (in tuple)\n",
    "\n",
    "    Parameters:\n",
    "    file (str): The path and name of the CSV file to convert.\n",
    "\n",
    "    Returns:\n",
    "    Returns two dictionaries for DayZero and (RegionW, RegionX, RegionY, RegionZ) using Season as the key.\n",
    "\n",
    "    Use:\n",
    "    (1) Use to get the date for any game using Season as key eg. dayz(2022) outputs 2021-11-01\n",
    "    (2) Use to get the four regions for any season using Season as key eg. dayz(2022) outputs (East, West, Midwest, South)\n",
    "    \"\"\"\n",
    "\n",
    "    # Create five dictionaries with Season as the key and the other columns as the value\n",
    "    dict_zero = {}\n",
    "    dict_w = {}\n",
    "    dict_x = {}\n",
    "    dict_y = {}\n",
    "    dict_z = {}\n",
    "\n",
    "    with open(file, 'r', encoding='latin-1') as csvfile:\n",
    "        reader = csv.reader(csvfile)\n",
    "        #header = next(reader) # skip header row\n",
    "        for row in reader:\n",
    "            # Extract the values from the row\n",
    "            season, day_zero, region_w, region_x, region_y, region_z = row\n",
    "            \n",
    "            # Populate the dictionaries\n",
    "            dict_zero.setdefault(season, []).append(day_zero)\n",
    "            dict_w.setdefault(season, []).append(region_w)\n",
    "            dict_x.setdefault(season, []).append(region_x)\n",
    "            dict_y.setdefault(season, []).append(region_y)\n",
    "            dict_z.setdefault(season, []).append(region_z)\n",
    "\n",
    "    # Return the dictionaries as a tuple\n",
    "    return dict_zero, dict_w, dict_x, dict_y, dict_z"
   ]
  }
 ],
 "metadata": {
  "kernelspec": {
   "display_name": "Py 3.09 (mlops)",
   "language": "python",
   "name": "mlops"
  },
  "language_info": {
   "codemirror_mode": {
    "name": "ipython",
    "version": 3
   },
   "file_extension": ".py",
   "mimetype": "text/x-python",
   "name": "python",
   "nbconvert_exporter": "python",
   "pygments_lexer": "ipython3",
   "version": "3.9.15"
  }
 },
 "nbformat": 4,
 "nbformat_minor": 5
}
