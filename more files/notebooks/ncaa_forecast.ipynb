{
 "cells": [
  {
   "cell_type": "markdown",
   "id": "98ec4d71",
   "metadata": {
    "tags": []
   },
   "source": [
    "## **Final Project:** Forecasting the 2023 NCAA Basketball Tournaments\n",
    "**Course:** Spring 2023, MSDS 565 Predictive Modeling & Analytics <br>\n",
    "**Author:** Aleesa Mann and Cyruss Tsurgeon | **Date:** 20 Mar 2023"
   ]
  },
  {
   "cell_type": "markdown",
   "id": "56d436c2",
   "metadata": {
    "jp-MarkdownHeadingCollapsed": true,
    "tags": []
   },
   "source": [
    "### **Instructions** (Kaggle Competition: March Machine Learning Mania 2023)"
   ]
  },
  {
   "cell_type": "markdown",
   "id": "03e9bfaf-85cc-49a0-90a1-9216da0ada23",
   "metadata": {},
   "source": [
    "The evaluation methodology for 2023 has changed from prior editions of this competition. Submissions are now evaluated on the **Brier score** between the predicted probabilities and the actual game outcomes (this is equivalent to mean squared error in this context). This change was made to reduce the competitive \"distractions\" caused by the 0 and 1 boundaries of the previous log-loss metric (e.g. submitting rounded predictions to gamble on a given upset, or caring deeply about the 0.99 vs 0.999 distinction that log loss would reward/punish).\n",
    "\n",
    "**Submission File**\n",
    "\n",
    "The submission file format also has a revised format for 2023:\n",
    "\n",
    "1. **Kaggle has combined the Men's and Women's tournaments into one single competition.** Our submission file should contain predictions for both.\n",
    "\n",
    "2. **We will be predicting the hypothetical results for every possible team matchup, not just teams that are selected for the NCAA tournament.** This change was enacted to provide a longer time window to submit predictions for the 2023 tournament. Previously, the short time between Selection Sunday and the tournament tipoffs would require participants to quickly turn around updated predictions. By forecasting every possible outcome between every team, we can now submit a valid prediction at any point leading up to the tournaments.\n",
    "\n",
    "3. We are allowed as many predictions as we wish before the tournaments start, but **must select no more than two submissions we want to count towards scoring in the Kaggle competition**. Do not rely on automatic selection to pick your submissions, as there is no public leaderboard score and the system will select your earliest two submissions.\n"
   ]
  },
  {
   "cell_type": "markdown",
   "id": "4c7135b1-0f02-4caf-a6e4-8de8819f7307",
   "metadata": {
    "jp-MarkdownHeadingCollapsed": true,
    "tags": []
   },
   "source": [
    "### **Problem Understanding and Definition**"
   ]
  },
  {
   "cell_type": "markdown",
   "id": "05b84ea1-60c5-41a1-959c-692cc7d91029",
   "metadata": {
    "jp-MarkdownHeadingCollapsed": true,
    "tags": []
   },
   "source": [
    "#### **Problem Understanding**"
   ]
  },
  {
   "cell_type": "markdown",
   "id": "67ccb33f-3e98-4a7d-b92e-0134dfb27dcf",
   "metadata": {},
   "source": [
    "**Overview:**   <Enter Text Here>"
   ]
  },
  {
   "cell_type": "markdown",
   "id": "3d6cc6ee-ebc1-44b6-bc34-f50db8a399ee",
   "metadata": {},
   "source": [
    "**Assumptions:**  <Enter Text Here>"
   ]
  },
  {
   "cell_type": "markdown",
   "id": "4c7cf273-26e3-44ad-af30-0f08adffb435",
   "metadata": {},
   "source": [
    "**Assignment:** <Enter Text Here>"
   ]
  },
  {
   "cell_type": "markdown",
   "id": "b0e97315-83de-42fa-b842-4c4b94bd03e8",
   "metadata": {
    "jp-MarkdownHeadingCollapsed": true,
    "tags": []
   },
   "source": [
    "#### **Problem Definition**"
   ]
  },
  {
   "cell_type": "markdown",
   "id": "792809f9-0547-45ad-8300-d483fab16002",
   "metadata": {},
   "source": [
    "**Problem:** <Enter Text Here>"
   ]
  },
  {
   "cell_type": "markdown",
   "id": "c04f24da-85a8-47ea-8602-ad42997fcec8",
   "metadata": {},
   "source": [
    "**Goals (High-level Solution):**  <Enter Text Here>"
   ]
  },
  {
   "cell_type": "markdown",
   "id": "97735059-de5a-4e1e-aa98-b536829125ff",
   "metadata": {},
   "source": [
    "**Methodology:** <Enter Text Here>"
   ]
  },
  {
   "cell_type": "markdown",
   "id": "3b5426ed-25ed-411c-a180-3b8aecf2f69a",
   "metadata": {},
   "source": [
    "**Metrics:**  <Enter Text Here>"
   ]
  },
  {
   "cell_type": "markdown",
   "id": "4fbc8ff1-0360-4e64-b491-bd19c8bc5175",
   "metadata": {
    "jp-MarkdownHeadingCollapsed": true,
    "tags": []
   },
   "source": [
    "#### **Libraries**"
   ]
  },
  {
   "cell_type": "code",
   "execution_count": null,
   "id": "728fbd2a-b3ec-4c6f-abdb-831f3fcd14b6",
   "metadata": {
    "tags": []
   },
   "outputs": [],
   "source": [
    "# For working with notebook\n",
    "import os\n",
    "import warnings\n",
    "\n",
    "# For manipulating data\n",
    "import pandas as pd\n",
    "import numpy as np"
   ]
  },
  {
   "cell_type": "markdown",
   "id": "31f64c47-53b0-43e1-8b66-9816dd43a824",
   "metadata": {
    "tags": []
   },
   "source": [
    "#### **Functions**"
   ]
  },
  {
   "cell_type": "markdown",
   "id": "5e6f14e6-cafc-417e-8ace-e031a6c42f1f",
   "metadata": {
    "tags": []
   },
   "source": [
    "### **Settings and Setup**"
   ]
  },
  {
   "cell_type": "markdown",
   "id": "d9246227-3494-490b-a9a1-5d3e17f60731",
   "metadata": {
    "tags": []
   },
   "source": [
    "##### **Import Libraries**"
   ]
  },
  {
   "cell_type": "code",
   "execution_count": null,
   "id": "73197e0b-1328-4892-9270-96fbd8e94e2d",
   "metadata": {},
   "outputs": [],
   "source": [
    "# For working with files\n",
    "import os\n",
    "import re\n",
    "import csv\n",
    "import glob\n",
    "\n",
    "# For manipulating data\n",
    "import pandas as pd\n",
    "\n",
    "# For getting geographic locations and distances\n",
    "from geopy.distance import geodesic\n",
    "from geopy.exc import GeocoderTimedOut\n",
    "from geopy.geocoders import Nominatim"
   ]
  },
  {
   "cell_type": "markdown",
   "id": "813868a9-1a77-4a2a-9eff-79bb93efdcfa",
   "metadata": {},
   "source": [
    "##### **Set File Path**"
   ]
  },
  {
   "cell_type": "code",
   "execution_count": null,
   "id": "076e15e5-a8ef-4cd3-a38c-083cc3e52821",
   "metadata": {},
   "outputs": [],
   "source": [
    "DATA_DIR = 'march-machine-learning-mania-2023/'"
   ]
  },
  {
   "cell_type": "markdown",
   "id": "d7b5ad92-f60c-47bb-b062-ac48fe92500f",
   "metadata": {
    "tags": []
   },
   "source": [
    "### **Data Collection and Preparation**"
   ]
  },
  {
   "cell_type": "markdown",
   "id": "6fc9a1f3-4a9e-452d-979d-b898859a1b05",
   "metadata": {
    "tags": []
   },
   "source": [
    "#### **Custom Functions**"
   ]
  },
  {
   "cell_type": "markdown",
   "id": "e1eee799-e0e4-4aa7-9688-82abcb846856",
   "metadata": {
    "jp-MarkdownHeadingCollapsed": true,
    "tags": []
   },
   "source": [
    "##### **`MTeamSpellings.csv` and `WTeamSpellings.csv` File**"
   ]
  },
  {
   "cell_type": "code",
   "execution_count": null,
   "id": "66c28dc0-327a-434a-8682-0ab915b9b124",
   "metadata": {},
   "outputs": [],
   "source": [
    "def store_spellings(csvfile):\n",
    "    \"\"\"\n",
    "    Converts a CSV file with two columns (TeamNameSpelling, TeamID) to a dictionary with TeamNameSpelling as the key and TeamID as the value.\n",
    "\n",
    "    Parameters:\n",
    "    csvfile (str): The path and name of the CSV file to convert.\n",
    "\n",
    "    Returns:\n",
    "    Returns a dictionary with TeamNameSpelling as the key and TeamID as the value.\n",
    "\n",
    "    Use:\n",
    "    Use to get the TeamID for a team using an alternate spelling of the name (eg. mnames['mt-st-marys'])\n",
    "    \"\"\"\n",
    "\n",
    "    # Create an empty dictionary to store the data\n",
    "    spellings = {}\n",
    "\n",
    "    # Open the csv file and read the contents into a list of dictionaries\n",
    "    with open(csvfile, 'r', encoding='latin-1') as csv_file:\n",
    "        csv_reader = csv.DictReader(csv_file)\n",
    "\n",
    "        # Use a dictionary comprehension to create a dictionary from the csv data\n",
    "        spellings = {row['TeamNameSpelling']: row['TeamID'] for row in csv_reader}\n",
    "\n",
    "    # Return dictionary\n",
    "    return spellings"
   ]
  },
  {
   "cell_type": "markdown",
   "id": "f1f7cdb5-f21c-4c91-92fa-bf650a140165",
   "metadata": {
    "jp-MarkdownHeadingCollapsed": true,
    "tags": []
   },
   "source": [
    "##### **`MSeasons.csv` and `WSeasons.csv` File**"
   ]
  },
  {
   "cell_type": "code",
   "execution_count": null,
   "id": "c3ceda4e-cff9-4577-9f6b-1e445a09b304",
   "metadata": {},
   "outputs": [],
   "source": [
    "def store_seasons(csvfile):\n",
    "    \"\"\"\n",
    "    Converts a CSV file with six columns (Season, DayZero, RegionW, RegionX, RegionY, RegionZ) to TWO dictionaries: \n",
    "    (1) with Season as the key and DayZero as the value; and \n",
    "    (2) with Season as the key and the four regions names as the value (in tuple)\n",
    "\n",
    "    Parameters:\n",
    "    csvfile (str): The path and name of the CSV file to convert.\n",
    "\n",
    "    Returns:\n",
    "    Returns two dictionaries for DayZero and (RegionW, RegionX, RegionY, RegionZ) using Season as the key.\n",
    "\n",
    "    Use:\n",
    "    (1) Use to get the date for any game using Season as key eg. dayz(2022) outputs 2021-11-01\n",
    "    (2) Use to get the four regions for any season using Season as key eg. regions(2022) outputs (East, West, Midwest, South)\n",
    "    \"\"\"\n",
    "\n",
    "    # Create two empty dictionaries: one for storing day zero and another for storing regions\n",
    "    dict_day_zero = {}\n",
    "    dict_regions = {}\n",
    "\n",
    "    with open(csvfile, 'r', encoding='latin-1') as csv_file:\n",
    "        reader = csv.reader(csv_file)\n",
    "        for row in reader:\n",
    "            # Extract the values from the row\n",
    "            season, day_zero, region_w, region_x, region_y, region_z = row\n",
    "\n",
    "            # Populate the dictionaries\n",
    "            dict_day_zero[season] = day_zero\n",
    "            dict_regions[season] = (region_w, region_x, region_y, region_z)\n",
    "\n",
    "    # Return the two dictionaries\n",
    "    return dict_day_zero, dict_regions"
   ]
  },
  {
   "cell_type": "markdown",
   "id": "f6c0b47a-d4d5-4510-a898-7c75c059693a",
   "metadata": {
    "jp-MarkdownHeadingCollapsed": true,
    "tags": []
   },
   "source": [
    "##### **`MTeamConferences.csv` and `WTeamConferences.csv` File**"
   ]
  },
  {
   "cell_type": "code",
   "execution_count": null,
   "id": "fd913aa0-0e4b-4416-b520-982ed0d47b0b",
   "metadata": {},
   "outputs": [],
   "source": [
    "def store_team_conference(csvfile):\n",
    "    \"\"\"\n",
    "    Converts a CSV file with three columns (Season, TeamID, ConfAbbrev) to a nested dictionary with Season as the outer key, TeamID as the\n",
    "    inner key, and ConfAbbrev as the value.\n",
    "\n",
    "    Parameters:\n",
    "    csvfile (str): The path and name of the CSV file to convert.\n",
    "\n",
    "    Returns:\n",
    "    Returns a nested dictionary with Season as the outer key, TeamID as the inner key, and ConfAbbrev as the value.\n",
    "\n",
    "    Use:\n",
    "    Use to get the conference abbreviation for a team in a specific season (eg. mens_conferences['1985']['1449'])\n",
    "    \"\"\"\n",
    "\n",
    "    # Create an empty nested dictionary\n",
    "    conferences = {}\n",
    "\n",
    "    # Open the CSV file and read the contents into a list of dictionaries\n",
    "    with open(csvfile, 'r', encoding='latin-1') as csv_file:\n",
    "        csv_reader = csv.DictReader(csv_file)\n",
    "\n",
    "        # Iterate over the rows in the CSV file\n",
    "        for row in csv_reader:\n",
    "            # Extract the year, id, and name from the current row\n",
    "            year = row['Season']\n",
    "            team_id = row['TeamID']\n",
    "            abbrv = row['ConfAbbrev']\n",
    "\n",
    "            # Create the outer dictionary if it doesn't exist\n",
    "            if year not in conferences:\n",
    "                conferences[year] = {}\n",
    "\n",
    "            # Add the name to the inner dictionary with the id as the key\n",
    "            conferences[year][team_id] = abbrv\n",
    "\n",
    "    return conferences"
   ]
  },
  {
   "cell_type": "markdown",
   "id": "6c8463c9-6656-455b-a6f8-6b1b0d7e36b0",
   "metadata": {
    "jp-MarkdownHeadingCollapsed": true,
    "tags": []
   },
   "source": [
    "##### **`MNCAATourneySeeds.` and `WNCAATourneySeeds.csv`**"
   ]
  },
  {
   "cell_type": "code",
   "execution_count": null,
   "id": "fdedcae8-7463-4dec-bb46-a273eb4468f5",
   "metadata": {},
   "outputs": [],
   "source": [
    "def store_tourney_seeds(csvfile):\n",
    "    \"\"\"\n",
    "    Converts a CSV file with three columns (Season, Seed, TeamID) to a nested dictionary with Season as the outer key, TeamID as the\n",
    "    inner key, and Seed as the value.\n",
    "\n",
    "    Parameters:\n",
    "    csvfile (str): The path and name of the CSV file to convert.\n",
    "\n",
    "    Returns:\n",
    "    Returns a nested dictionary with Season as the outer key, TeamID as the inner key, and Seed as the value.\n",
    "\n",
    "    Use:\n",
    "    Use to get the conference abbreviation for a team in a specific season (eg. mens_seeds['1985']['1449'])\n",
    "    \"\"\"\n",
    "\n",
    "    # Create an empty nested dictionary\n",
    "    seeds = {}\n",
    "\n",
    "    # Open the CSV file and read the contents into a list of dictionaries\n",
    "    with open(csvfile, 'r', encoding='latin-1') as csv_file:\n",
    "        csv_reader = csv.DictReader(csv_file)\n",
    "\n",
    "        # Iterate over the rows in the CSV file\n",
    "        for row in csv_reader:\n",
    "            # Extract the year, id, and name from the current row\n",
    "            year = row['Season']\n",
    "            seed = row['Seed']\n",
    "            team_id = row['TeamID']\n",
    "\n",
    "            # Create the outer dictionary if it doesn't exist\n",
    "            if year not in seeds:\n",
    "                seeds[year] = {}\n",
    "\n",
    "            # Add the name to the inner dictionary with the id as the key\n",
    "            seeds[year][team_id] = seed\n",
    "\n",
    "    return seeds"
   ]
  },
  {
   "cell_type": "markdown",
   "id": "675da8d4-a887-4511-974e-abdb3ceb56ec",
   "metadata": {
    "jp-MarkdownHeadingCollapsed": true,
    "tags": []
   },
   "source": [
    "##### **`Cities.csv` File**"
   ]
  },
  {
   "cell_type": "code",
   "execution_count": null,
   "id": "f41657c1-3bc0-4691-8ed9-afd7945d936f",
   "metadata": {},
   "outputs": [],
   "source": [
    "def store_cities(csvfile):\n",
    "    \"\"\"\n",
    "    Converts a CSV file with three columns (CityID, City, State) to a dictionary with CityID as the key and both City, State as the value.\n",
    "\n",
    "    Parameters:\n",
    "    csvfile (str): The path and name of the CSV file to convert.\n",
    "\n",
    "    Returns:\n",
    "    Returns a dictionary for City and State using CityID as the key.\n",
    "\n",
    "    Use:\n",
    "    Use to get the City and State for a game using the CityID (eg. city['4030'])\n",
    "    \"\"\"\n",
    "\n",
    "    # Create an empty dictionary to store the data\n",
    "    cities = {}\n",
    "\n",
    "    # Open the csv file and read the contents into a list of dictionaries\n",
    "    with open(csvfile, 'r', encoding='latin-1') as csv_file:\n",
    "        csv_reader = csv.DictReader(csv_file)\n",
    "\n",
    "        # Iterate over each row in the csv data\n",
    "        for row in csv_reader:\n",
    "            # Extract the relevant fields from the row\n",
    "            city_id = row['CityID']\n",
    "            city = row['City']\n",
    "            state = row['State']\n",
    "\n",
    "            # Add the data to the city_data dictionary\n",
    "            cities[city_id] = f\"{city}, {state}\"\n",
    "\n",
    "    # Return the dictionary\n",
    "    return cities"
   ]
  },
  {
   "cell_type": "code",
   "execution_count": null,
   "id": "d6460932-4df9-4b90-9d0e-faf81e802b53",
   "metadata": {},
   "outputs": [],
   "source": [
    "def get_distance(city1, city2):\n",
    "    # Function to get the distance between two locations (city, state)\n",
    "    \n",
    "    # Designate the two locations from function parameters\n",
    "    city_1 = city1\n",
    "    city_2 = city2\n",
    "    \n",
    "    # Use custom function to get coordinates for each city\n",
    "    coord_1 = get_coordinates(city_1)  # Latitude and longitude of city1\n",
    "    coord_2 = get_coordinates(city_2)  # Latitude and longitude of city2\n",
    "    \n",
    "    # Calculate distance between city1 and city2 using geopy\n",
    "    distance_mi = geodesic(coord_1, coord_2).miles\n",
    "    \n",
    "    # print(f\"The distance between {city_1} and {city_2} is {dist:.2f} miles\")\n",
    "    # Return the distance as numer (float)\n",
    "    return distance_mi"
   ]
  },
  {
   "cell_type": "code",
   "execution_count": null,
   "id": "4224b2f1-4c38-436b-bfdb-a30224fc1af8",
   "metadata": {},
   "outputs": [],
   "source": [
    "def get_coordinates(city):\n",
    "    # Function to get coordinates for a single location (city, state)\n",
    "    \n",
    "    # Create an instance of Nominatim class\n",
    "    geolocator = Nominatim(user_agent='fake_useragent')\n",
    "\n",
    "    # Use geocode method to get the location\n",
    "    try:\n",
    "        location_data = geolocator.geocode(city, timeout=10)\n",
    "        latitude = location_data.latitude\n",
    "        longitude = location_data.longitude\n",
    "\n",
    "    # Add an except to return 'None' when location can not be found (to prevent error)\n",
    "    except (AttributeError, GeocoderTimedOut):\n",
    "        latitude = None\n",
    "        longitude = None\n",
    "\n",
    "    # Return (latitude, longitude) as tuple\n",
    "    return (latitude, longitude)"
   ]
  },
  {
   "cell_type": "markdown",
   "id": "1e8f86e1-627f-4449-896c-0250ac00aada",
   "metadata": {
    "jp-MarkdownHeadingCollapsed": true,
    "tags": []
   },
   "source": [
    "##### **`Conferences.csv`**"
   ]
  },
  {
   "cell_type": "code",
   "execution_count": null,
   "id": "64537496-7b7a-4716-ae6f-9c82bee13f3f",
   "metadata": {},
   "outputs": [],
   "source": [
    "def store_conferences(csvfile):\n",
    "    \"\"\"\n",
    "    Converts a CSV file with two columns (ConfAbbrev, Description) to a dictionary with ConfAbbrev as the key and Description as the value.\n",
    "\n",
    "    Parameters:\n",
    "    csvfile (str): The path and name of the CSV file to convert.\n",
    "\n",
    "    Returns:\n",
    "    Returns a dictionary with ConfAbbrev as the key and Description as the value.\n",
    "\n",
    "    Use:\n",
    "    Use to get the Description (full name) for a conference using its abbreviation (eg. conf_abrv['a_sun'])\n",
    "    \"\"\"\n",
    "\n",
    "    # Create an empty dictionary to store the data\n",
    "    conferences = {}\n",
    "\n",
    "    # Open the csv file and read the contents into a list of dictionaries\n",
    "    with open(csvfile, 'r', encoding='latin-1') as csv_file:\n",
    "        csv_reader = csv.DictReader(csv_file)\n",
    "\n",
    "        # Use a dictionary comprehension to create a dictionary from the csv data\n",
    "        conferences = {row['ConfAbbrev']: row['Description'] for row in csv_reader}\n",
    "\n",
    "    # Return dictionary\n",
    "    return conferences"
   ]
  },
  {
   "cell_type": "markdown",
   "id": "31ce8b4c-f79e-4393-862c-d2e073ae5ac9",
   "metadata": {
    "jp-MarkdownHeadingCollapsed": true,
    "tags": []
   },
   "source": [
    "##### **`MSecondaryTourneyTeams.csv`**"
   ]
  },
  {
   "cell_type": "code",
   "execution_count": null,
   "id": "4a04d53c-182e-4191-9bd0-d3e70a42232c",
   "metadata": {},
   "outputs": [],
   "source": [
    "def store_sec_tourney_teams(csvfile):\n",
    "    \"\"\"\n",
    "    Converts a CSV file with three columns (Season, SecondaryTourney, TeamID) to a nested dictionary with Season as the outer key, TeamID as the\n",
    "    inner key, and SecondaryTourney as the value.\n",
    "\n",
    "    Parameters:\n",
    "    csvfile (str): The path and name of the CSV file to convert.\n",
    "\n",
    "    Returns:\n",
    "    Returns a nested dictionary with Season as the outer key, TeamID as the inner key, and SecondaryTourney as the value.\n",
    "\n",
    "    Use:\n",
    "    Use to get the conference abbreviation for a team in a specific season (eg. sec_tourney['1985']['1449'])\n",
    "    \"\"\"\n",
    "\n",
    "    # Create an empty nested dictionary\n",
    "    secondary = {}\n",
    "\n",
    "    # Open the CSV file and read the contents into a list of dictionaries\n",
    "    with open(csvfile, 'r', encoding='latin-1') as csv_file:\n",
    "        csv_reader = csv.DictReader(csv_file)\n",
    "\n",
    "        # Iterate over the rows in the CSV file\n",
    "        for row in csv_reader:\n",
    "            # Extract the year, id, and name from the current row\n",
    "            year = row['Season']\n",
    "            second = row['SecondaryTourney']\n",
    "            team_id = row['TeamID']\n",
    "\n",
    "            # Create the outer dictionary if it doesn't exist\n",
    "            if year not in secondary:\n",
    "                secondary[year] = {}\n",
    "\n",
    "            # Add the name to the inner dictionary with the id as the key\n",
    "            secondary[year][team_id] = second\n",
    "\n",
    "    return secondary"
   ]
  },
  {
   "cell_type": "markdown",
   "id": "858b9d1f-6d27-4dbc-a715-94e3fe9b310f",
   "metadata": {
    "tags": []
   },
   "source": [
    "#### **Background on Dataset**"
   ]
  },
  {
   "cell_type": "markdown",
   "id": "ea96f4e7",
   "metadata": {},
   "source": [
    "The data for this project are a collection of **30 csv files** distributed to the public as part of the Kaggle 2023 March Machine Learning Mania (Forecast the 2023 NCAA Basketball Tournaments) competition. By convention, when we identify a particular season, we will reference the year that the season ends (e.g. current season is 2023, not 2022 or 22-23).\n",
    "\n",
    "`NOTE:` In many cases there are more data (or additional files) provided for men's basketball than women's basketball."
   ]
  },
  {
   "cell_type": "markdown",
   "id": "2d431f8e-9037-4fc0-a0ce-fb4d312e9ada",
   "metadata": {
    "tags": []
   },
   "source": [
    "#### **Data Section 1 - Teams**"
   ]
  },
  {
   "cell_type": "markdown",
   "id": "03273bc3-beae-4bff-aa0c-41feef843fcb",
   "metadata": {},
   "source": [
    "##### **Team files:** `MTeams.csv` and `WTeams.csv`\n",
    "\n",
    "These files identify the different college teams present in the dataset (MTeams is for the men's teams and WTeams is for the women's teams). There are 363 teams currently in Men's Division-I and 361 teams currently in Women's Division-I. There will be some teams listed in the data only for historical seasons and not for the current season, and thus there are more than 363 men's teams and more than 361 women's teams listed."
   ]
  },
  {
   "cell_type": "code",
   "execution_count": null,
   "id": "2d2d3a46-83db-44b3-bb10-6c6c0534b431",
   "metadata": {},
   "outputs": [],
   "source": [
    "# Creates a Teams tables\n",
    "Mens = pd.read_csv(DATA_DIR + 'MTeams.csv')\n",
    "Womens = pd.read_csv(DATA_DIR + 'WTeams.csv')\n",
    "print(\"Done. Loaded  team tables as 'Mens' and 'Womens'.\")"
   ]
  },
  {
   "cell_type": "markdown",
   "id": "06269c26-11f1-4559-a14f-1ccff3026f83",
   "metadata": {},
   "source": [
    "##### **Team Spelling files:** `MTeamSpellings.csv` and `WTeamSpellings.csv`\n",
    "\n",
    "These files indicate alternative spellings of many team names. They are intended for use in associating external spellings against our own TeamID numbers, thereby helping to relate the external data properly with our datasets."
   ]
  },
  {
   "cell_type": "code",
   "execution_count": null,
   "id": "b2a3bdc0-0044-4130-a8b8-e94d159591e3",
   "metadata": {},
   "outputs": [],
   "source": [
    "# Creates a dictionary to store alternate team name spellings\n",
    "mnames = store_spellings(DATA_DIR + 'MTeamSpellings.csv') # use with Season as e.g. mnames['mt-st-marys']\n",
    "wnames = store_spellings(DATA_DIR + 'WTeamSpellings.csv') # use with Season as e.g. wnames['mt-st-marys']\n",
    "print('e.g. output - mens:', mnames['mt-st-marys'], 'womens:', wnames['mt-st-marys'])"
   ]
  },
  {
   "cell_type": "markdown",
   "id": "d99c77d5-2e4d-4d4d-b4b0-709a648ef4e5",
   "metadata": {},
   "source": [
    "##### **Coaches file:** `MTeamCoaches.csv`\n",
    "\n",
    "This file indicates the head coach for each team in each season, including a start/finish range of DayNum's to indicate a mid-season coaching change."
   ]
  },
  {
   "cell_type": "code",
   "execution_count": null,
   "id": "c4428683-ce19-4372-aea7-57c6f0478b9e",
   "metadata": {},
   "outputs": [],
   "source": [
    "# Creates Compact Secondary Tournament Results table:\n",
    "MCoaches = pd.read_csv(DATA_DIR + 'MTeamCoaches.csv')\n",
    "print(\"Done. Loaded team coaches table as 'MCoaches', mens only.\")"
   ]
  },
  {
   "cell_type": "markdown",
   "id": "99a809c9-5499-4938-9d59-2f9d710abbd5",
   "metadata": {
    "tags": []
   },
   "source": [
    "#### **Data Section 1 - Season Summaries**"
   ]
  },
  {
   "cell_type": "markdown",
   "id": "442f9a79-816c-405c-b371-2a19924afa12",
   "metadata": {
    "tags": []
   },
   "source": [
    "##### **Season files:** `MSeasons.csv` and `WSeasons.csv`\n",
    "\n",
    "These files identify the different seasons included in the historical data, along with certain season-level properties. There are separate files for men's data (MSeasons) and women's data (WSeasons)."
   ]
  },
  {
   "cell_type": "code",
   "execution_count": null,
   "id": "4d415eb1-f24e-4d25-a6a0-94e1a701cb93",
   "metadata": {},
   "outputs": [],
   "source": [
    "# Creates two dictionaries to store day zero for each season and the region names\n",
    "mens_day0, mens_regions = store_seasons(DATA_DIR + 'MSeasons.csv'); # use with Season as e.g. mens_day0['2022'] or mens_regions['2022']\n",
    "womens_day0, womens_regions = store_seasons(DATA_DIR + 'WSeasons.csv'); # use with Season as e.g. womens_day0['2022'] or womens_regions['2022']\n",
    "print('e.g. output - mens:', mens_day0['2022'], mens_regions['2022'], 'womens:', womens_day0['2022'], womens_regions['2022'])"
   ]
  },
  {
   "cell_type": "markdown",
   "id": "69b6854d-3e82-45ce-858e-1f0e5d38c782",
   "metadata": {
    "tags": []
   },
   "source": [
    "##### **Season files:** `MTeamConferences.csv` and `WTeamConferences.csv`\n",
    "\n",
    "These files indicate the conference affiliations for each team during each season."
   ]
  },
  {
   "cell_type": "code",
   "execution_count": null,
   "id": "65f68299-87a5-42ca-a868-2f296c54645c",
   "metadata": {},
   "outputs": [],
   "source": [
    "# Creates a dictionary to store team conference full names\n",
    "mens_conferences = store_team_conference(DATA_DIR + 'MTeamConferences.csv') # use as mens_conferences[year][team_id]\n",
    "womens_conferences = store_team_conference(DATA_DIR + 'WTeamConferences.csv') # use as womens_conferences[year][team_id]\n",
    "print('e.g. output - mens:', mens_conferences['2022']['1449'], 'womens:', womens_conferences['2022']['3449'])"
   ]
  },
  {
   "cell_type": "markdown",
   "id": "25519133-ee71-43ef-a244-7f3feb3667c0",
   "metadata": {
    "tags": []
   },
   "source": [
    "#### **Data Section 1 - Box Scores**"
   ]
  },
  {
   "cell_type": "markdown",
   "id": "5b3455ac-0cf3-4b1d-9c97-0b9b0626090f",
   "metadata": {},
   "source": [
    "##### **Season files:** `MRegularSeasonDetailedResults.csv` and `WRegularSeasonDetailedResults.csv` | `MRegularSeasonCompactResults.csv` and `WRegularSeasonCompactResults.csv`\n",
    "\n",
    "These files identify the game-by-game NCAA® tournament results for all seasons of historical data. These files provide team-level box scores for many regular seasons of historical data, starting with the 2003 season (men) or starting with the 2010 season (women). \n",
    "\n",
    "Team Box Scores are provided in \"Detailed Results\" files rather than \"Compact Results\" files. However, the two files are strongly related. In a Detailed Results file, the first eight columns (Season, DayNum, WTeamID, WScore, LTeamID, LScore, WLoc, and NumOT) are exactly the same as a Compact Results file. However, in a Detailed Results file, there are many additional columns."
   ]
  },
  {
   "cell_type": "code",
   "execution_count": null,
   "id": "38b4663d-d3dc-4ebf-b022-e2e68d34d068",
   "metadata": {},
   "outputs": [],
   "source": [
    "# Creates Detailed Regular Season tables:\n",
    "MSeason = pd.read_csv(DATA_DIR + 'MRegularSeasonDetailedResults.csv')\n",
    "WSeason = pd.read_csv(DATA_DIR + 'WRegularSeasonDetailedResults.csv')\n",
    "print(\"Done. Loaded detailed regular season tables as 'MSeason' and 'WSeason'.\")"
   ]
  },
  {
   "cell_type": "code",
   "execution_count": null,
   "id": "818650d6-4eae-4dd7-8933-4decd63ceb9f",
   "metadata": {},
   "outputs": [],
   "source": [
    "# Creates Compact Regular Season tables (Optional):\n",
    "MSeason_compact = pd.read_csv(DATA_DIR + 'MRegularSeasonCompactResults.csv')\n",
    "WSeason_compact = pd.read_csv(DATA_DIR + 'WRegularSeasonCompactResults.csv')\n",
    "print(\"Done. Loaded compact regular season tables as 'MSeason_compact' and 'WSeason_compact'.\")"
   ]
  },
  {
   "cell_type": "markdown",
   "id": "727c314a-9cfc-4ab3-ae3e-bb485363b79d",
   "metadata": {},
   "source": [
    "##### **Game Cities files:** `MGameCities.csv` and `WGameCities.csv`\n",
    "\n",
    "This file identifies all games, starting with the 2010 season, along with the city that the game was played in. Games from the regular season, the NCAA® tourney, and other post-season tournaments (men's data only), are all listed together."
   ]
  },
  {
   "cell_type": "code",
   "execution_count": null,
   "id": "0e82e250-fecd-4d47-b1dc-fc586a03af79",
   "metadata": {},
   "outputs": [],
   "source": [
    "# Creates Game Cities tables:\n",
    "MGCities = pd.read_csv(DATA_DIR + 'MGameCities.csv')\n",
    "WGCities = pd.read_csv(DATA_DIR + 'WGameCities.csv')\n",
    "print(\"Done. Loaded game cities tables as 'MGCities' and 'WGCities'.\")"
   ]
  },
  {
   "cell_type": "markdown",
   "id": "c0137d59-3ab7-445d-8792-fa07c797d7a0",
   "metadata": {
    "tags": []
   },
   "source": [
    "#### **Data Section 1 - Tournament Games**"
   ]
  },
  {
   "cell_type": "markdown",
   "id": "02614abc-3ed0-4a33-b0a1-0a38225a0124",
   "metadata": {},
   "source": [
    "##### **Tourney files:** `MNCAATourneySeeds.csv` and `WNCAATourneySeeds.csv`\n",
    "\n",
    "These files identify the seeds for all teams in each NCAA® tournament, for all seasons of historical data."
   ]
  },
  {
   "cell_type": "code",
   "execution_count": null,
   "id": "901905b0-1c8c-4d40-8f81-ff345748569e",
   "metadata": {},
   "outputs": [],
   "source": [
    "# Creates a dictionary to store team tournament seeding\n",
    "mens_seeds = store_tourney_seeds(DATA_DIR + 'MNCAATourneySeeds.csv') # use as mens_seeds[year][team_id]\n",
    "womens_seeds = store_tourney_seeds(DATA_DIR + 'WNCAATourneySeeds.csv') # use as womens_seeds[year][team_id]\n",
    "print('e.g. output - mens:', mens_seeds['1985']['1449'], 'womens:', womens_seeds['2001']['3449'])"
   ]
  },
  {
   "cell_type": "markdown",
   "id": "af2727b8-44d6-4d26-98b6-1e467508d6c4",
   "metadata": {},
   "source": [
    "##### **Tourney files:** `MNCAATourneySlots` and `WNCAATourneySlots`\n",
    "\n",
    "These files identify the mechanism by which teams are paired against each other, depending upon their seeds, as the tournament proceeds through its rounds."
   ]
  },
  {
   "cell_type": "code",
   "execution_count": null,
   "id": "7f9889bf-e9d0-49d0-996d-15e4cc0bad7f",
   "metadata": {},
   "outputs": [],
   "source": [
    "# Creates Tournament Seed Matchup tables:\n",
    "MTourney_seeds = pd.read_csv(DATA_DIR + 'MNCAATourneySlots.csv')\n",
    "WTourney_seeds = pd.read_csv(DATA_DIR + 'WNCAATourneySlots.csv')\n",
    "print(\"Done. Loaded tournament seed matchup tables as 'MTourney_seeds' and 'WTourney_seeds'.\")"
   ]
  },
  {
   "cell_type": "markdown",
   "id": "8c0c4ee2-5a27-43c5-a308-6403792c50bd",
   "metadata": {},
   "source": [
    "##### **Tourney file:** `MNCAATourneySeedRoundSlots.csv`\n",
    "\n",
    "This file identifies the teams that participated in post-season men's tournaments other than the NCAA® Tournament (such events would run in parallel with the NCAA® Tournament). These are teams that were not invited to the NCAA® Tournament and instead were invited to some other tournament."
   ]
  },
  {
   "cell_type": "code",
   "execution_count": null,
   "id": "48c31590-7384-4758-ba84-9f4ddfe78c1e",
   "metadata": {},
   "outputs": [],
   "source": [
    "# Creates a Tourney Seeding by Round table \n",
    "Tourney_rounds = pd.read_csv(DATA_DIR + 'MNCAATourneySeedRoundSlots.csv')\n",
    "print(\"Done. Loaded tournament seeding for each round in table as 'Tourney_rounds'.\")"
   ]
  },
  {
   "cell_type": "markdown",
   "id": "163d60b2-1c9e-441f-ae83-ad125fc935d4",
   "metadata": {},
   "source": [
    "##### **Tourney files:** `MNCAATourneyDetailedResults.csv` and `WNCAATourneyDetailedResults.csv` | `MNCAATourneyCompactResults.csv` and `WNCAATourneyCompactResults.csv`\n",
    "\n",
    "These files identify the game-by-game NCAA® tournament results for all seasons of historical data. These files provide team-level box scores for many NCAA® tournaments, starting with the 2003 season (men) or starting with the 2010 season (women).\n",
    "\n",
    "The data is formatted exactly like the corresponding Regular Season Results data."
   ]
  },
  {
   "cell_type": "code",
   "execution_count": null,
   "id": "c4c811b7-64ae-4e60-867a-04ebc5acd017",
   "metadata": {},
   "outputs": [],
   "source": [
    "# Creates Detailed Tournament Results tables:\n",
    "MTourney = pd.read_csv(DATA_DIR + 'MNCAATourneyDetailedResults.csv')\n",
    "WTourney = pd.read_csv(DATA_DIR + 'WNCAATourneyDetailedResults.csv')\n",
    "print(\"Done. Loaded detailed tournament tables as 'MTourney' and 'WTourney'.\")"
   ]
  },
  {
   "cell_type": "code",
   "execution_count": null,
   "id": "98d06650-f963-42fe-b554-a609c12c7596",
   "metadata": {},
   "outputs": [],
   "source": [
    "# Creates Compact Tournament Results tables (Optional):\n",
    "MTourney_compact = pd.read_csv(DATA_DIR + 'MNCAATourneyCompactResults.csv')\n",
    "WTourney_compact = pd.read_csv(DATA_DIR + 'WNCAATourneyCompactResults.csv')\n",
    "print(\"Done. Loaded compact tournament tables an 'MTourney_compact' and 'WTourney_compact'.\")"
   ]
  },
  {
   "cell_type": "markdown",
   "id": "3adc52d8-7082-461e-b4fc-78a40dc5add9",
   "metadata": {},
   "source": [
    "##### **Secondary Tourney file:** `MSecondaryTourneyCompactResults.csv`\n",
    "\n",
    "This file identifies the teams that participated in post-season men's tournaments other than the NCAA® Tournament (such events would run in parallel with the NCAA® Tournament). These are teams that were not invited to the NCAA® Tournament and instead were invited to some other tournament."
   ]
  },
  {
   "cell_type": "code",
   "execution_count": null,
   "id": "f5b2be57-7dd6-4c56-a353-597086aeb8a8",
   "metadata": {},
   "outputs": [],
   "source": [
    "# Creates a Compact Secondary Tournament Results table:\n",
    "MSecondary = pd.read_csv(DATA_DIR + 'MSecondaryTourneyCompactResults.csv')\n",
    "print(\"Done. Loaded secondary tournament table as 'MSecondary'.\")"
   ]
  },
  {
   "cell_type": "markdown",
   "id": "696fa00b-b797-47d4-8b78-90d4bcf08c67",
   "metadata": {
    "tags": []
   },
   "source": [
    "#### **Data Section 1 - Supplementary Data**"
   ]
  },
  {
   "cell_type": "markdown",
   "id": "47f8ebd3-6afd-4b34-baf5-bc9558b0ec69",
   "metadata": {},
   "source": [
    "##### **Cities file:** `Cities.csv`\n",
    "\n",
    "This file provides a master list of cities that have been locations for games played."
   ]
  },
  {
   "cell_type": "code",
   "execution_count": null,
   "id": "a38ffe2a-0523-41e2-89da-a0cf1a2f8548",
   "metadata": {},
   "outputs": [],
   "source": [
    "# Creates a dictionary to store cities as city, state\n",
    "cities = store_cities(DATA_DIR + 'Cities.csv'); # use with CityID as e.g. city['4030']\n",
    "print('e.g. output -', cities['4030'])"
   ]
  },
  {
   "cell_type": "markdown",
   "id": "0566900d-7044-44c7-b152-4b593f9a8dbd",
   "metadata": {},
   "source": [
    "##### **Ratings file:** `MMasseyOrdinals.csv`\n",
    "\n",
    "This file lists out rankings (e.g. #1, #2, #3, ..., #N) of men's teams going back to the 2002-2003 season, under a large number of different ranking system methodologies."
   ]
  },
  {
   "cell_type": "markdown",
   "id": "e2dcc21b-b35c-4af1-86df-8466fd1ba943",
   "metadata": {},
   "source": [
    "##### **Conferences file:** `Conferences.csv`\n",
    "\n",
    "This file indicates the Division I conferences that have existed over the years since 1985. Each conference is listed with an abbreviation and a longer name."
   ]
  },
  {
   "cell_type": "code",
   "execution_count": null,
   "id": "bb0d8049-a2d2-4632-9bf2-be84ba37cb9a",
   "metadata": {},
   "outputs": [],
   "source": [
    "# Creates a dictionary to store conference full names\n",
    "conf_abrv = store_conferences(DATA_DIR + 'Conferences.csv'); # use with conference abbrv as e.g. conf_abrv['a_sun']\n",
    "print('e.g. output - ', conf_abrv['a_sun'])"
   ]
  },
  {
   "cell_type": "markdown",
   "id": "a7340d6f-cc5c-426b-84ec-4e853e221287",
   "metadata": {},
   "source": [
    "##### **Conference Tourney file:** `MConferenceTourneyGames.csv`\n",
    "\n",
    "This file indicates which games were part of each year's post-season men's conference tournaments (all of which finished on Selection Sunday or earlier), starting from the 2001 season. Many of these conference tournament games are held on neutral sites, and many of the games are played by tournament-caliber teams just a few days before the NCAA® tournament. Thus these games could be considered as very similar to NCAA® tournament games, and (depending on your methodology) may be of use in optimizing your predictions."
   ]
  },
  {
   "cell_type": "code",
   "execution_count": null,
   "id": "92401578-59ed-4fff-ab8a-555961ea55bd",
   "metadata": {},
   "outputs": [],
   "source": [
    "# Creates a Conference Tourney Games table \n",
    "CTourney = pd.read_csv(DATA_DIR + 'MConferenceTourneyGames.csv')\n",
    "print(\"Done. Loaded conference tournament games table as 'CTourney'.\")"
   ]
  },
  {
   "cell_type": "markdown",
   "id": "4f475fcf-7bbb-4812-827b-dab5871e5927",
   "metadata": {},
   "source": [
    "##### **Secondary Teams file:** `MSecondaryTourneyTeams.csv`\n",
    "\n",
    "This file identifies the teams that participated in post-season men's tournaments other than the NCAA® Tournament (such events would run in parallel with the NCAA® Tournament). These are teams that were not invited to the NCAA® Tournament and instead were invited to some other tournament."
   ]
  },
  {
   "cell_type": "code",
   "execution_count": null,
   "id": "541a227b-fab1-46ea-b4c6-1f679cb8238f",
   "metadata": {},
   "outputs": [],
   "source": [
    "# Creates a dictionary to store secondary tournament that certain teams played \n",
    "sec_tourney = store_sec_tourney_teams(DATA_DIR + 'MSecondaryTourneyTeams.csv') # use as sec_tourney[year][team_id]\n",
    "print('e.g. output -', sec_tourney['2019']['1400'])"
   ]
  },
  {
   "cell_type": "markdown",
   "id": "7221a157-605e-40b9-8808-cd762c6eb5da",
   "metadata": {
    "tags": []
   },
   "source": [
    "#### **Load Data**"
   ]
  },
  {
   "cell_type": "code",
   "execution_count": null,
   "id": "6344b7ca-81b1-4f9b-b338-157f5a83a54f",
   "metadata": {},
   "outputs": [],
   "source": []
  },
  {
   "cell_type": "code",
   "execution_count": null,
   "id": "c78750bf-cd09-4370-8353-2af4f0248215",
   "metadata": {},
   "outputs": [],
   "source": []
  },
  {
   "cell_type": "markdown",
   "id": "c95b28fc-7778-41ce-968e-ae99f29aef54",
   "metadata": {
    "jp-MarkdownHeadingCollapsed": true,
    "tags": []
   },
   "source": [
    "#### **Attribute Summary**"
   ]
  },
  {
   "cell_type": "code",
   "execution_count": null,
   "id": "93460e31-8069-483d-a1b8-2a72dbd460e2",
   "metadata": {},
   "outputs": [],
   "source": []
  },
  {
   "cell_type": "markdown",
   "id": "31ffd772-12a6-4148-9f8e-2ba6f2d2ab95",
   "metadata": {
    "tags": []
   },
   "source": [
    "##### **`Comments:`** attribute summary"
   ]
  },
  {
   "cell_type": "code",
   "execution_count": null,
   "id": "d647d6bf-ff62-45c7-b3f1-91175c98855b",
   "metadata": {},
   "outputs": [],
   "source": []
  },
  {
   "cell_type": "markdown",
   "id": "c3c391e3-1691-40ea-9aa6-82fa83f805ce",
   "metadata": {
    "jp-MarkdownHeadingCollapsed": true,
    "tags": []
   },
   "source": [
    "#### **Missing Values**"
   ]
  },
  {
   "cell_type": "code",
   "execution_count": null,
   "id": "64d3a33a-5a8f-48d6-acf6-4b78457449c1",
   "metadata": {},
   "outputs": [],
   "source": []
  },
  {
   "cell_type": "markdown",
   "id": "b61bff34-886e-4f4c-9729-755060c74a13",
   "metadata": {
    "tags": []
   },
   "source": [
    "##### **`Comments:`** missing values"
   ]
  },
  {
   "cell_type": "markdown",
   "id": "b52e5d4e-ad50-46ac-b470-7361670d0f6c",
   "metadata": {
    "jp-MarkdownHeadingCollapsed": true,
    "tags": []
   },
   "source": [
    "#### **Prepared Data Summary**"
   ]
  },
  {
   "cell_type": "code",
   "execution_count": null,
   "id": "61ef176c-06a1-438b-8fd4-f88d01a7c5fa",
   "metadata": {},
   "outputs": [],
   "source": []
  },
  {
   "cell_type": "markdown",
   "id": "b55f5b40-052f-48c0-bfd7-356cc0dbe898",
   "metadata": {
    "tags": []
   },
   "source": [
    "##### **`Comments:`** data preparation summary"
   ]
  },
  {
   "cell_type": "markdown",
   "id": "fa80507e-19e8-43d7-968b-a4b09efb4ec5",
   "metadata": {
    "jp-MarkdownHeadingCollapsed": true,
    "tags": []
   },
   "source": [
    "### **Data Understanding Using Exploratory Data Analysis (EDA)**"
   ]
  },
  {
   "cell_type": "markdown",
   "id": "2133540c-8fe1-41c1-89b5-a6653349315f",
   "metadata": {},
   "source": [
    "#### **Import Additional Libraries**"
   ]
  },
  {
   "cell_type": "code",
   "execution_count": null,
   "id": "3f79c83c-e769-4848-ac8d-583472f1a3f7",
   "metadata": {},
   "outputs": [],
   "source": []
  },
  {
   "cell_type": "markdown",
   "id": "728a783f-9fdd-4687-a25b-451419121404",
   "metadata": {},
   "source": [
    "#### **Plots of Features**"
   ]
  },
  {
   "cell_type": "code",
   "execution_count": null,
   "id": "a53d7c6b-2ded-45fc-9cee-2ba339a942e7",
   "metadata": {},
   "outputs": [],
   "source": []
  },
  {
   "cell_type": "markdown",
   "id": "31a6e092-059a-4c90-91d7-4e357847be65",
   "metadata": {
    "tags": []
   },
   "source": [
    "##### **`Comments:`** feature plots"
   ]
  },
  {
   "cell_type": "markdown",
   "id": "6bd000f9-dedd-4218-a8af-fa790db9b445",
   "metadata": {},
   "source": [
    "#### **Feature Correlation**"
   ]
  },
  {
   "cell_type": "code",
   "execution_count": null,
   "id": "421074f1-77ed-4e70-96ff-617bac0f4e31",
   "metadata": {},
   "outputs": [],
   "source": []
  },
  {
   "cell_type": "markdown",
   "id": "7e56f506-3054-42f7-9fc2-611eab3a8004",
   "metadata": {
    "tags": []
   },
   "source": [
    "##### **`Comments:`** feature correlation"
   ]
  },
  {
   "cell_type": "markdown",
   "id": "359079b8-cf7e-440f-8adf-1ba87694f244",
   "metadata": {},
   "source": [
    "#### **Correlation Maps**"
   ]
  },
  {
   "cell_type": "markdown",
   "id": "8bd3446c-efd9-4697-a0fb-48f0fc096e5c",
   "metadata": {
    "tags": []
   },
   "source": [
    "##### **`Comments:`** correlation map"
   ]
  },
  {
   "cell_type": "markdown",
   "id": "a66bc21b-7566-4769-945f-de6bc606aa57",
   "metadata": {
    "tags": []
   },
   "source": [
    "### **Model Building**"
   ]
  },
  {
   "cell_type": "code",
   "execution_count": null,
   "id": "488fa2fc-ee5c-4642-a1d3-a05d2a49a975",
   "metadata": {},
   "outputs": [],
   "source": []
  },
  {
   "cell_type": "code",
   "execution_count": null,
   "id": "b870024c-217e-424e-aeff-32fef7fa8529",
   "metadata": {},
   "outputs": [],
   "source": []
  },
  {
   "cell_type": "markdown",
   "id": "5570b2af-a105-4dc8-8a9b-1bb42c2fbc13",
   "metadata": {
    "tags": []
   },
   "source": [
    "### **Model Evaluation**"
   ]
  },
  {
   "cell_type": "code",
   "execution_count": null,
   "id": "b41f0500-e9ff-49ac-bdc0-a2ced52a1ff6",
   "metadata": {},
   "outputs": [],
   "source": []
  },
  {
   "cell_type": "code",
   "execution_count": null,
   "id": "3e5104d5-6620-46f7-b2cd-512239735d35",
   "metadata": {},
   "outputs": [],
   "source": []
  },
  {
   "cell_type": "markdown",
   "id": "198e6de4-387c-4732-8ccc-ac2cb4212f4a",
   "metadata": {
    "tags": []
   },
   "source": [
    "### **Communication** (and/or Deployment)"
   ]
  },
  {
   "cell_type": "code",
   "execution_count": null,
   "id": "2e0d1524-a0bb-4e79-9bd3-f130299e92fc",
   "metadata": {},
   "outputs": [],
   "source": []
  },
  {
   "cell_type": "markdown",
   "id": "6ebd5a39-6ba0-460a-9072-98fa45e38a33",
   "metadata": {
    "tags": []
   },
   "source": [
    "### **References**"
   ]
  },
  {
   "cell_type": "markdown",
   "id": "3a026988-32c1-4854-940d-2c1311effa07",
   "metadata": {},
   "source": [
    "[1] \n",
    "\n",
    "[2] \n"
   ]
  }
 ],
 "metadata": {
  "kernelspec": {
   "display_name": "Py 3.09 (mlops)",
   "language": "python",
   "name": "mlops"
  },
  "language_info": {
   "codemirror_mode": {
    "name": "ipython",
    "version": 3
   },
   "file_extension": ".py",
   "mimetype": "text/x-python",
   "name": "python",
   "nbconvert_exporter": "python",
   "pygments_lexer": "ipython3",
   "version": "3.9.15"
  }
 },
 "nbformat": 4,
 "nbformat_minor": 5
}
