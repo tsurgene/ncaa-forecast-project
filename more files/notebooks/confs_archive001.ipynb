{
 "cells": [
  {
   "cell_type": "code",
   "execution_count": 1,
   "id": "17018e18-df9b-4e45-8781-aeffbad41673",
   "metadata": {},
   "outputs": [],
   "source": [
    "DATA_DIR = 'march-machine-learning-mania-2023/' # input('Enter file path for data files: ')"
   ]
  },
  {
   "cell_type": "code",
   "execution_count": 2,
   "id": "7c82c553-71c9-42ef-a773-5630ba53ea2f",
   "metadata": {},
   "outputs": [],
   "source": [
    "# Import Libraries\n",
    "import pandas as pd\n",
    "import numpy as np\n",
    "import warnings"
   ]
  },
  {
   "cell_type": "code",
   "execution_count": null,
   "id": "2b134748-8cd0-4210-af9b-f3158d65029b",
   "metadata": {},
   "outputs": [],
   "source": [
    "seasonsm = pd.read_csv('seasons-mens.csv')\n",
    "\n",
    "# Load WOMENS Seasons dataframes:\n",
    "seasonsw = pd.read_csv('seasons-womens.csv')"
   ]
  },
  {
   "cell_type": "markdown",
   "id": "42704c58-1201-42ab-908e-b898b37de816",
   "metadata": {},
   "source": [
    "##### **Data Section 2 - CONFERENCES**"
   ]
  },
  {
   "cell_type": "code",
   "execution_count": null,
   "id": "75d9502b-a35b-4113-a5b0-19f8e7490e18",
   "metadata": {},
   "outputs": [],
   "source": [
    "#Add in Team Conference Rankings (from sports-reference.com) as dataframes:\n",
    "MConfRanks = pd.read_csv('MConferenceRankingSR.csv')\n",
    "WConfRanks = pd.read_csv('WConferenceRankingSR.csv')\n",
    "\n",
    "# Show sample output\n",
    "print('MConfRanks:', MConfRanks.shape, 'WConfRanks:', WConfRanks.shape)\n",
    "print('MConfRanks:', MConfRanks.columns)"
   ]
  },
  {
   "cell_type": "code",
   "execution_count": null,
   "id": "157b6e70-7491-4fd6-981e-434383fa2c9a",
   "metadata": {},
   "outputs": [],
   "source": []
  },
  {
   "cell_type": "code",
   "execution_count": null,
   "id": "03b249b3-450f-47bd-a1c0-0e4300fdeed3",
   "metadata": {},
   "outputs": [],
   "source": []
  },
  {
   "cell_type": "code",
   "execution_count": null,
   "id": "72ad470e-9cbc-47fb-a6a9-4c70176bd3c1",
   "metadata": {},
   "outputs": [],
   "source": []
  },
  {
   "cell_type": "code",
   "execution_count": null,
   "id": "beae6106-3bb0-4caf-a815-6f68c36906c9",
   "metadata": {},
   "outputs": [],
   "source": []
  },
  {
   "cell_type": "code",
   "execution_count": null,
   "id": "2adaa0e8-8c33-4fca-8b38-ac9be4a1ac5f",
   "metadata": {},
   "outputs": [],
   "source": []
  },
  {
   "cell_type": "code",
   "execution_count": null,
   "id": "3896415f-846f-4395-8031-26307482587c",
   "metadata": {},
   "outputs": [],
   "source": []
  },
  {
   "cell_type": "code",
   "execution_count": null,
   "id": "2643fc26-8a41-48cc-b1ce-ce31cee722f3",
   "metadata": {},
   "outputs": [],
   "source": []
  },
  {
   "cell_type": "code",
   "execution_count": null,
   "id": "d0819fcc-23bd-408c-8320-9b9504ad12da",
   "metadata": {},
   "outputs": [],
   "source": []
  },
  {
   "cell_type": "code",
   "execution_count": 12,
   "id": "0b0159b3-d1a5-4941-a248-7d00993bc332",
   "metadata": {},
   "outputs": [],
   "source": [
    "teamsm = teamsm.to_csv('teams-mens.csv',index=False)\n",
    "teamsw = teamsw.to_csv('teams-womens.csv',index=False)"
   ]
  }
 ],
 "metadata": {
  "kernelspec": {
   "display_name": "Py 3.09 (mlops)",
   "language": "python",
   "name": "mlops"
  },
  "language_info": {
   "codemirror_mode": {
    "name": "ipython",
    "version": 3
   },
   "file_extension": ".py",
   "mimetype": "text/x-python",
   "name": "python",
   "nbconvert_exporter": "python",
   "pygments_lexer": "ipython3",
   "version": "3.9.15"
  }
 },
 "nbformat": 4,
 "nbformat_minor": 5
}
