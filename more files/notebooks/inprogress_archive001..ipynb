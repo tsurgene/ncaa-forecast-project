{
 "cells": [
  {
   "cell_type": "code",
   "execution_count": 1,
   "id": "77defc48-c0fb-4f71-a6da-9b57b8c50e0e",
   "metadata": {},
   "outputs": [],
   "source": [
    "# For manipulating data\n",
    "import pandas as pd"
   ]
  },
  {
   "cell_type": "code",
   "execution_count": 2,
   "id": "e653f186-e255-42e3-9a7a-9d20d1e894be",
   "metadata": {},
   "outputs": [
    {
     "name": "stdout",
     "output_type": "stream",
     "text": [
      "(8293, 11)\n"
     ]
    },
    {
     "data": {
      "text/html": [
       "<div>\n",
       "<style scoped>\n",
       "    .dataframe tbody tr th:only-of-type {\n",
       "        vertical-align: middle;\n",
       "    }\n",
       "\n",
       "    .dataframe tbody tr th {\n",
       "        vertical-align: top;\n",
       "    }\n",
       "\n",
       "    .dataframe thead th {\n",
       "        text-align: right;\n",
       "    }\n",
       "</style>\n",
       "<table border=\"1\" class=\"dataframe\">\n",
       "  <thead>\n",
       "    <tr style=\"text-align: right;\">\n",
       "      <th></th>\n",
       "      <th>Season</th>\n",
       "      <th>StartDate</th>\n",
       "      <th>TeamID</th>\n",
       "      <th>ConfAbbrev</th>\n",
       "      <th>Description</th>\n",
       "      <th>RegionW</th>\n",
       "      <th>RegionX</th>\n",
       "      <th>RegionY</th>\n",
       "      <th>RegionZ</th>\n",
       "      <th>CoachChg</th>\n",
       "      <th>CoachName</th>\n",
       "    </tr>\n",
       "  </thead>\n",
       "  <tbody>\n",
       "    <tr>\n",
       "      <th>0</th>\n",
       "      <td>2000</td>\n",
       "      <td>1999-11-01</td>\n",
       "      <td>1102</td>\n",
       "      <td>mwc</td>\n",
       "      <td>Mountain West Conference</td>\n",
       "      <td>East</td>\n",
       "      <td>South</td>\n",
       "      <td>Midwest</td>\n",
       "      <td>West</td>\n",
       "      <td>1.0</td>\n",
       "      <td>reggie_minton</td>\n",
       "    </tr>\n",
       "    <tr>\n",
       "      <th>1</th>\n",
       "      <td>2000</td>\n",
       "      <td>1999-11-01</td>\n",
       "      <td>1103</td>\n",
       "      <td>mac</td>\n",
       "      <td>Mid-American Conference</td>\n",
       "      <td>East</td>\n",
       "      <td>South</td>\n",
       "      <td>Midwest</td>\n",
       "      <td>West</td>\n",
       "      <td>1.0</td>\n",
       "      <td>dan_hipsher</td>\n",
       "    </tr>\n",
       "    <tr>\n",
       "      <th>2</th>\n",
       "      <td>2000</td>\n",
       "      <td>1999-11-01</td>\n",
       "      <td>1104</td>\n",
       "      <td>sec</td>\n",
       "      <td>Southeastern Conference</td>\n",
       "      <td>East</td>\n",
       "      <td>South</td>\n",
       "      <td>Midwest</td>\n",
       "      <td>West</td>\n",
       "      <td>1.0</td>\n",
       "      <td>mark_gottfried</td>\n",
       "    </tr>\n",
       "  </tbody>\n",
       "</table>\n",
       "</div>"
      ],
      "text/plain": [
       "   Season   StartDate  TeamID ConfAbbrev               Description RegionW  \\\n",
       "0    2000  1999-11-01    1102        mwc  Mountain West Conference    East   \n",
       "1    2000  1999-11-01    1103        mac   Mid-American Conference    East   \n",
       "2    2000  1999-11-01    1104        sec   Southeastern Conference    East   \n",
       "\n",
       "  RegionX  RegionY RegionZ  CoachChg       CoachName  \n",
       "0   South  Midwest    West       1.0   reggie_minton  \n",
       "1   South  Midwest    West       1.0     dan_hipsher  \n",
       "2   South  Midwest    West       1.0  mark_gottfried  "
      ]
     },
     "execution_count": 2,
     "metadata": {},
     "output_type": "execute_result"
    }
   ],
   "source": [
    "# Load SEASONS dataframes:\n",
    "MSeasons = pd.read_csv('seasons-mens.csv')\n",
    "print(MSeasons.shape)\n",
    "MSeasons.head(3)"
   ]
  },
  {
   "cell_type": "code",
   "execution_count": 3,
   "id": "f819dec4-262b-4f79-8553-8a8c7d28f342",
   "metadata": {},
   "outputs": [
    {
     "name": "stdout",
     "output_type": "stream",
     "text": [
      "(8212, 9)\n"
     ]
    },
    {
     "data": {
      "text/html": [
       "<div>\n",
       "<style scoped>\n",
       "    .dataframe tbody tr th:only-of-type {\n",
       "        vertical-align: middle;\n",
       "    }\n",
       "\n",
       "    .dataframe tbody tr th {\n",
       "        vertical-align: top;\n",
       "    }\n",
       "\n",
       "    .dataframe thead th {\n",
       "        text-align: right;\n",
       "    }\n",
       "</style>\n",
       "<table border=\"1\" class=\"dataframe\">\n",
       "  <thead>\n",
       "    <tr style=\"text-align: right;\">\n",
       "      <th></th>\n",
       "      <th>Season</th>\n",
       "      <th>StartDate</th>\n",
       "      <th>TeamID</th>\n",
       "      <th>ConfAbbrev</th>\n",
       "      <th>Description</th>\n",
       "      <th>RegionW</th>\n",
       "      <th>RegionX</th>\n",
       "      <th>RegionY</th>\n",
       "      <th>RegionZ</th>\n",
       "    </tr>\n",
       "  </thead>\n",
       "  <tbody>\n",
       "    <tr>\n",
       "      <th>0</th>\n",
       "      <td>2000</td>\n",
       "      <td>1999-11-01</td>\n",
       "      <td>1102</td>\n",
       "      <td>mwc</td>\n",
       "      <td>Mountain West Conference</td>\n",
       "      <td>East</td>\n",
       "      <td>Midwest</td>\n",
       "      <td>Mideast</td>\n",
       "      <td>West</td>\n",
       "    </tr>\n",
       "    <tr>\n",
       "      <th>1</th>\n",
       "      <td>2000</td>\n",
       "      <td>1999-11-01</td>\n",
       "      <td>1103</td>\n",
       "      <td>mac</td>\n",
       "      <td>Mid-American Conference</td>\n",
       "      <td>East</td>\n",
       "      <td>Midwest</td>\n",
       "      <td>Mideast</td>\n",
       "      <td>West</td>\n",
       "    </tr>\n",
       "    <tr>\n",
       "      <th>2</th>\n",
       "      <td>2000</td>\n",
       "      <td>1999-11-01</td>\n",
       "      <td>1104</td>\n",
       "      <td>sec</td>\n",
       "      <td>Southeastern Conference</td>\n",
       "      <td>East</td>\n",
       "      <td>Midwest</td>\n",
       "      <td>Mideast</td>\n",
       "      <td>West</td>\n",
       "    </tr>\n",
       "  </tbody>\n",
       "</table>\n",
       "</div>"
      ],
      "text/plain": [
       "   Season   StartDate  TeamID ConfAbbrev               Description RegionW  \\\n",
       "0    2000  1999-11-01    1102        mwc  Mountain West Conference    East   \n",
       "1    2000  1999-11-01    1103        mac   Mid-American Conference    East   \n",
       "2    2000  1999-11-01    1104        sec   Southeastern Conference    East   \n",
       "\n",
       "   RegionX  RegionY RegionZ  \n",
       "0  Midwest  Mideast    West  \n",
       "1  Midwest  Mideast    West  \n",
       "2  Midwest  Mideast    West  "
      ]
     },
     "execution_count": 3,
     "metadata": {},
     "output_type": "execute_result"
    }
   ],
   "source": [
    "# Load SEASONS dataframes:\n",
    "WSeasons = pd.read_csv('seasons-womens.csv')\n",
    "print(WSeasons.shape)\n",
    "WSeasons.head(3)"
   ]
  },
  {
   "cell_type": "code",
   "execution_count": null,
   "id": "7aaff193-fe45-4bfb-9974-22795622b77e",
   "metadata": {},
   "outputs": [],
   "source": []
  }
 ],
 "metadata": {
  "kernelspec": {
   "display_name": "Py 3.09 (mlops)",
   "language": "python",
   "name": "mlops"
  },
  "language_info": {
   "codemirror_mode": {
    "name": "ipython",
    "version": 3
   },
   "file_extension": ".py",
   "mimetype": "text/x-python",
   "name": "python",
   "nbconvert_exporter": "python",
   "pygments_lexer": "ipython3",
   "version": "3.9.15"
  }
 },
 "nbformat": 4,
 "nbformat_minor": 5
}
