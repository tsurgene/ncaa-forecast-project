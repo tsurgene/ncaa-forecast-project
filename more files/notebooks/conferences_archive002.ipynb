{
 "cells": [
  {
   "cell_type": "code",
   "execution_count": 1,
   "id": "7c82c553-71c9-42ef-a773-5630ba53ea2f",
   "metadata": {},
   "outputs": [],
   "source": [
    "# Import Libraries\n",
    "import pandas as pd"
   ]
  },
  {
   "cell_type": "code",
   "execution_count": 2,
   "id": "17018e18-df9b-4e45-8781-aeffbad41673",
   "metadata": {},
   "outputs": [],
   "source": [
    "# Specify where the data files are located locally\n",
    "KAGGLE = 'data/march-machine-learning-mania-2023/'\n",
    "SPORTS = 'data/sports-reference/'\n",
    "SAVED = 'data/saved/'"
   ]
  },
  {
   "cell_type": "markdown",
   "id": "42704c58-1201-42ab-908e-b898b37de816",
   "metadata": {},
   "source": [
    "##### **Data Section 1 - CONFERENCES**"
   ]
  },
  {
   "cell_type": "code",
   "execution_count": 3,
   "id": "b933ae33-e3a8-425a-ac42-20da293a1f59",
   "metadata": {},
   "outputs": [],
   "source": [
    "# Creates Team Conferences dataframes:\n",
    "MTeamConfs = pd.read_csv(KAGGLE + 'MTeamConferences.csv')\n",
    "WTeamConfs = pd.read_csv(KAGGLE + 'WTeamConferences.csv')"
   ]
  },
  {
   "cell_type": "code",
   "execution_count": 4,
   "id": "9127908d-5387-448d-a677-beab75b7c89d",
   "metadata": {},
   "outputs": [],
   "source": [
    "# Reduce size of 'Team Conferences' dataframes (for the year 2010 and later)\n",
    "df1m = MTeamConfs[MTeamConfs['Season'] >= 2010].copy()\n",
    "df1w = WTeamConfs[WTeamConfs['Season'] >= 2010].copy()\n",
    "\n",
    "df2b = pd.read_csv(KAGGLE + 'Conferences.csv') # add Conferences dataframe:\n",
    "\n",
    "# Merge 'Team Conferences' with 'Conferences' dataframes on 'ConfAbbrev' column\n",
    "MTeamConfs = pd.merge(df1m, df2b, on='ConfAbbrev', how='left')\n",
    "WTeamConfs = pd.merge(df1w, df2b, on='ConfAbbrev', how='left')"
   ]
  },
  {
   "cell_type": "code",
   "execution_count": 5,
   "id": "5b488596-c313-43ea-bd31-477b81aa605c",
   "metadata": {},
   "outputs": [],
   "source": [
    "# Copy 'Team Conferences' dataframes\n",
    "df3m = MTeamConfs.copy()\n",
    "df3w = WTeamConfs.copy()\n",
    "\n",
    "# Add in Team Conference Rankings (from sports-reference.com) as dataframes:\n",
    "df4m = pd.read_csv(SPORTS + 'MConferenceRankingSR.csv')\n",
    "df4w = pd.read_csv(SPORTS + 'WConferenceRankingSR.csv')\n",
    "\n",
    "# Merge 'Team Conferences' with 'Conference Rankings' dataframes on 'Season' and 'Conference' columns\n",
    "MConfRanks = pd.merge(df3m, df4m, how='left', left_on=['Season', 'Description'], right_on = ['Season', 'Conference'])\n",
    "WConfRanks = pd.merge(df3w, df4w, how='left', left_on=['Season', 'Description'], right_on = ['Season', 'Conference'])"
   ]
  },
  {
   "cell_type": "code",
   "execution_count": 6,
   "id": "6f5cd7be-16e2-48ed-ac35-9a35d1ef7fde",
   "metadata": {},
   "outputs": [],
   "source": [
    "# Reorder and drop unwanted columns from dataframe\n",
    "\n",
    "order = [0, 1, 2, 5, 4, 10, 11, 9, 7, 8, 6, 3]\n",
    "\n",
    "MConfRanks = MConfRanks.iloc[:,order].drop(columns=['Description'])\n",
    "WConfRanks = WConfRanks.iloc[:,order].drop(columns=['Description'])"
   ]
  },
  {
   "cell_type": "code",
   "execution_count": 7,
   "id": "75021ae5-caf6-4f74-b034-86496a5f3780",
   "metadata": {},
   "outputs": [
    {
     "name": "stdout",
     "output_type": "stream",
     "text": [
      "MConfRanks: (4913, 11) WConfRanks: (4883, 11)\n",
      "MConfRanks: Index(['Season', 'TeamID', 'ConfAbbrev', 'Conference', 'ConfRank', 'ConfSRS',\n",
      "       'ConfSOS', 'WinPCT', 'Wins', 'Losses', 'Schools'],\n",
      "      dtype='object')\n"
     ]
    }
   ],
   "source": [
    "# Show sample output\n",
    "print('MConfRanks:', MConfRanks.shape, 'WConfRanks:', WConfRanks.shape)\n",
    "print('MConfRanks:', MConfRanks.columns)"
   ]
  },
  {
   "cell_type": "code",
   "execution_count": 8,
   "id": "ee616923-132d-4656-a54f-f3a931efe617",
   "metadata": {},
   "outputs": [],
   "source": [
    "conferencesm = MConfRanks.to_csv(SAVED + 'conferences-mens.csv', index=False)\n",
    "conferencesw = WConfRanks.to_csv(SAVED + 'conferences-womens.csv', index=False)"
   ]
  }
 ],
 "metadata": {
  "kernelspec": {
   "display_name": "Py 3.09 (mlops)",
   "language": "python",
   "name": "mlops"
  },
  "language_info": {
   "codemirror_mode": {
    "name": "ipython",
    "version": 3
   },
   "file_extension": ".py",
   "mimetype": "text/x-python",
   "name": "python",
   "nbconvert_exporter": "python",
   "pygments_lexer": "ipython3",
   "version": "3.9.15"
  }
 },
 "nbformat": 4,
 "nbformat_minor": 5
}
