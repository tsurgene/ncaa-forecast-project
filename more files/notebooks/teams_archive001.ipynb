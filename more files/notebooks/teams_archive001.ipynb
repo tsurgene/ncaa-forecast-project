{
 "cells": [
  {
   "cell_type": "code",
   "execution_count": 1,
   "id": "17018e18-df9b-4e45-8781-aeffbad41673",
   "metadata": {},
   "outputs": [],
   "source": [
    "DATA_DIR = 'march-machine-learning-mania-2023/' # input('Enter file path for data files: ')"
   ]
  },
  {
   "cell_type": "code",
   "execution_count": 2,
   "id": "7c82c553-71c9-42ef-a773-5630ba53ea2f",
   "metadata": {},
   "outputs": [],
   "source": [
    "# Import Libraries\n",
    "import pandas as pd\n",
    "import numpy as np\n",
    "import warnings"
   ]
  },
  {
   "cell_type": "code",
   "execution_count": 3,
   "id": "2b134748-8cd0-4210-af9b-f3158d65029b",
   "metadata": {},
   "outputs": [],
   "source": [
    "# Load the Seasons dataframes:\n",
    "seasonsm = pd.read_csv('seasons-mens.csv')\n",
    "seasonsw = pd.read_csv('seasons-womens.csv')"
   ]
  },
  {
   "cell_type": "code",
   "execution_count": 4,
   "id": "0a7527a2-92cf-4d73-8ac7-afd0c6d460f3",
   "metadata": {},
   "outputs": [],
   "source": [
    "# Create lists of Seasons, Men TeamIDs, and Womens TeamIDs\n",
    "seasons = seasonsm.Season.unique()\n",
    "men_ids = np.delete(seasonsm['TeamID'].unique(), np.where(seasonsm['TeamID'].unique() == 1445))\n",
    "wom_ids = np.delete(seasonsw['TeamID'].unique(), np.where(seasonsw['TeamID'].unique() == 3445))"
   ]
  },
  {
   "cell_type": "markdown",
   "id": "42704c58-1201-42ab-908e-b898b37de816",
   "metadata": {},
   "source": [
    "##### **Data Section 2 - TEAMS**"
   ]
  },
  {
   "cell_type": "code",
   "execution_count": 5,
   "id": "58f4b7c2-bdaf-4c1f-b764-0d02c7449f1d",
   "metadata": {},
   "outputs": [
    {
     "name": "stdout",
     "output_type": "stream",
     "text": [
      "365 363\n"
     ]
    }
   ],
   "source": [
    "print(len(men_ids), len(wom_ids))"
   ]
  },
  {
   "cell_type": "code",
   "execution_count": 6,
   "id": "b0a6ae30-3ece-4660-adf0-81ac08c36b8f",
   "metadata": {},
   "outputs": [
    {
     "name": "stdout",
     "output_type": "stream",
     "text": [
      "MTeams: (365, 4) WTeams: (363, 2)\n",
      "MTeams: Index(['TeamID', 'TeamName', 'FirstD1Season', 'LastD1Season'], dtype='object')\n"
     ]
    }
   ],
   "source": [
    "# Creates a Teams dataframes:\n",
    "MTeams = pd.read_csv(DATA_DIR + 'MTeams.csv')\n",
    "WTeams = pd.read_csv(DATA_DIR + 'WTeams.csv')\n",
    "\n",
    "# Filter dataframes to only include rows where the TeamID is in list\n",
    "teamsm = MTeams[MTeams['TeamID'].isin(men_ids)]\n",
    "teamsw = WTeams[WTeams['TeamID'].isin(wom_ids)]\n",
    "\n",
    "# Show sample output\n",
    "print('MTeams:', teamsm.shape, 'WTeams:', teamsw.shape)\n",
    "print('MTeams:', teamsm.columns)"
   ]
  },
  {
   "cell_type": "code",
   "execution_count": 7,
   "id": "c1e440c6-f1b0-4fda-aca9-c8336adb4938",
   "metadata": {},
   "outputs": [
    {
     "name": "stdout",
     "output_type": "stream",
     "text": [
      "365 363\n"
     ]
    }
   ],
   "source": [
    "print(teamsm.shape[0], teamsw.shape[0])"
   ]
  },
  {
   "cell_type": "code",
   "execution_count": 8,
   "id": "88b68e56-b914-42b4-8119-e8abbf988e66",
   "metadata": {},
   "outputs": [
    {
     "name": "stdout",
     "output_type": "stream",
     "text": [
      "MSpellings: (1140, 2) WSpellings: (1133, 2)\n",
      "MSpellings: Index(['TeamNameSpelling', 'TeamID'], dtype='object')\n"
     ]
    }
   ],
   "source": [
    "# Creates Alternate Team Name Spellings dataframes:\n",
    "MSpellings = pd.read_csv(DATA_DIR + 'MTeamSpellings.csv', encoding='latin-1')\n",
    "WSpellings = pd.read_csv(DATA_DIR + 'WTeamSpellings.csv', encoding='latin-1')\n",
    "\n",
    "# Filter dataframes to only include rows where the TeamID is in list\n",
    "spellm = MSpellings[MSpellings['TeamID'].isin(men_ids)]\n",
    "spellw = WSpellings[WSpellings['TeamID'].isin(wom_ids)]\n",
    "\n",
    "# Show sample output\n",
    "print('MSpellings:', spellm.shape, 'WSpellings:', spellw.shape)\n",
    "print('MSpellings:', spellm.columns)"
   ]
  },
  {
   "cell_type": "code",
   "execution_count": 9,
   "id": "a20e4420-4248-4f66-bcfe-2b588a8bfcd2",
   "metadata": {},
   "outputs": [],
   "source": [
    "# Ignore warnings\n",
    "warnings.filterwarnings(\"ignore\")\n",
    "\n",
    "# Group the dataframe by TeamID and apply a function to create a list of unique TeamNameSpellings for each group\n",
    "grouped_men = spellm.groupby('TeamID').apply(lambda x: list(x['TeamNameSpelling'].unique()))\n",
    "grouped_wom = spellw.groupby('TeamID').apply(lambda x: list(x['TeamNameSpelling'].unique()))\n",
    "\n",
    "# Determine the maximum number of alternate spellings for a TeamID\n",
    "max_men = grouped_men.apply(len).max()\n",
    "max_wom = grouped_wom.apply(len).max()\n",
    "\n",
    "# Create a new dataframe with the appropriate number of columns\n",
    "columns_spellm = ['Name{}'.format(i) for i in range(1, max_men + 1)] + ['TeamID']\n",
    "new_mspell = pd.DataFrame(columns=columns_spellm)\n",
    "\n",
    "columns_spellw = ['Name{}'.format(i) for i in range(1, max_wom + 1)] + ['TeamID']\n",
    "new_wspell = pd.DataFrame(columns=columns_spellw)\n",
    "\n",
    "# Iterate over the groups in the grouped dataframe and add rows to the new dataframe\n",
    "for group_name, group_values in grouped_men.items():\n",
    "    new_row = {key: value for key, value in zip(columns_spellm, group_values)}\n",
    "    new_row['TeamID'] = group_name\n",
    "    new_mspell = new_mspell.append(new_row, ignore_index=True)\n",
    "\n",
    "for group_name, group_values in grouped_wom.items():\n",
    "    new_row = {key: value for key, value in zip(columns_spellw, group_values)}\n",
    "    new_row['TeamID'] = group_name\n",
    "    new_wspell = new_wspell.append(new_row, ignore_index=True)"
   ]
  },
  {
   "cell_type": "code",
   "execution_count": 10,
   "id": "f82da91a-1792-45bc-a29e-26f1170e342f",
   "metadata": {},
   "outputs": [
    {
     "name": "stdout",
     "output_type": "stream",
     "text": [
      "365 363\n"
     ]
    }
   ],
   "source": [
    "print(new_mspell.shape[0], new_wspell.shape[0])"
   ]
  },
  {
   "cell_type": "code",
   "execution_count": 11,
   "id": "926ddcad-aa64-439c-8962-6a236ec85425",
   "metadata": {},
   "outputs": [
    {
     "name": "stdout",
     "output_type": "stream",
     "text": [
      "MSpellings: (365, 14) WSpellings: (363, 14)\n",
      "MSpellings: Index(['Name1', 'Name2', 'Name3', 'Name4', 'Name5', 'Name6', 'Name7', 'Name8',\n",
      "       'Name9', 'Name10', 'TeamID', 'Name0', 'Sports', 'BetExp'],\n",
      "      dtype='object')\n"
     ]
    }
   ],
   "source": [
    "# Copy the resulting dataframe\n",
    "spellm = new_mspell.copy()\n",
    "spellw = new_wspell.copy()\n",
    "\n",
    "## Add new columns\n",
    "extend_men = ['Abilene Christian','Air Force','Akron','Alabama','Alabama A&M','Alabama State','Albany (NY)','Alcorn State','American','Appalachian State','Arizona','Arizona State','Little Rock','Pine Bluff','Arkansas','Arkansas State','Army','Auburn','Austin Peay','Ball State','Baylor','Belmont','Bethune-Cookman','Binghamton','Boise State','Boston College','Boston University','Bowling Green','Bradley','Brown','Bryant','Bucknell','Buffalo','Butler','Brigham Young','Central Michigan','Cal Poly','California','Campbell','Canisius','Central Arkansas','Centenary','Central Connecticut','Charleston Southern','Charlotte','Chattanooga','Chicago State','Cincinnati','Citadel','Clemson','Cleveland State','Coastal Carolina','College of Charleston','Colgate','Colorado','Colorado State','Columbia','Connecticut','Coppin State','Cornell','Creighton','Cal State Bakersfield','Cal State Fullerton','Cal State Northridge','Sacramento State','Dartmouth','Davidson','Dayton','Delaware','Delaware State','Denver','DePaul','Detroit Mercy','Drake','Drexel','Duke','Duquesne','Eastern Illinois','Eastern Kentucky','Eastern Michigan','Eastern Washington','East Carolina','SIU Edwardsville','Elon','East Tennessee State','Evansville','Fairleigh Dickinson','Fairfield','Florida Atlantic','Florida Gulf Coast','Florida','Florida A&M','Florida International','Florida State','Fordham','Fresno State','Furman','George Washington','Georgia Southern','Gardner-Webb','George Mason','Georgetown','Georgia','Georgia State','Georgia Tech','Gonzaga','Grambling','Grand Canyon','Hampton','Hartford','Harvard','Hawaii','High Point','Hofstra','Holy Cross','Houston','Houston Christian','Howard','Idaho','Idaho State','Illinois-Chicago','Illinois','Illinois State','Incarnate Word','Indiana','Indiana State','Iona','Iowa','Iowa State','Purdue-Fort Wayne','IUPUI','Jackson State','Jacksonville','Jacksonville State','James Madison','Kansas','Kansas State','Kennesaw State','Kent State','Kentucky','La Salle','Lafayette','Lamar','Lehigh','Liberty','Lipscomb','Long Beach State','Long Island University','Longwood','Louisiana Tech','Louisville','Loyola Marymount','Loyola MD','Loyola IL','Louisiana State','MA-Lowell','Maine','Manhattan','Marist','Marquette','Marshall','Maryland','Massachusetts','McNeese State','MD-Eastern Shore','Memphis','Mercer','Miami FL','Miami OH','Michigan','Michigan State','Minnesota','Mississippi','Mississippi State','Missouri','Kansas City','Missouri State','Monmouth','Montana','Montana State','Morehead State','Morgan State','Mississippi Valley State','Mount St Marys','Middle Tennessee','Murray State','Northern Colorado','North Dakota State','Northern Illinois','Northern Kentucky','Navy','North Carolina A&T','North Carolina Central','NC State','Omaha','Nebraska','Nevada','New Hampshire','New Mexico','New Mexico State','New Orleans','Niagara','Nicholls State','NJIT','Norfolk State','North Carolina','North Dakota','North Florida','North Texas','Northeastern','Northern Arizona','Northern Iowa','Northwestern','Northwestern State','Notre Dame','Oakland','Ohio','Ohio State','Oklahoma','Oklahoma State','Old Dominion','Oral Roberts','Oregon','Oregon State','Pacific','Penn','Penn State','Pepperdine','Pittsburgh','Portland','Portland State','Prairie View','Presbyterian','Princeton','Providence','Purdue','Quinnipiac','Radford','Rhode Island','Rice','Richmond','Rider','Robert Morris','Rutgers','South Carolina State','South Dakota State','Southern Illinois','Sacred Heart','Sam Houston State','Samford','San Diego','San Diego State','San Francisco','San Jose State','Santa Barbara','Santa Clara','Savannah State','South Carolina Upstate','Southeastern Louisiana','Southeast Missouri State','Seattle','Seton Hall','Stephen F Austin','Siena','Southern Methodist','South Alabama','South Carolina','South Dakota','South Florida','Southern Mississippi','Southern','Southern Utah','St Bonaventure','St Francis NY','St Francis PA','St Johns NY','St Josephs','Saint Louis','St Marys CA','St Peters','Stanford','Stetson','Stony Brook','Syracuse','TAM Corpus Christi','TCU','Temple','Tennessee','Tennessee State','Tennessee Tech','Texas','Texas A&M','Texas State','Texas Tech','Tennessee-Martin','Toledo','Towson','Troy','Tulane','Tulsa','Texas-Rio Grande Valley','Texas Southern','UAB','UC Davis','UC Irvine','UC Riverside','Central Florida','UCLA','Louisiana','Louisiana-Monroe','UMBC','NC Asheville','NC Greensboro','NC Wilmington','UNLV','Southern California','UT Arlington','UTSA','Utah','Utah State','Utah Valley','UTEP','Virginia Commonwealth','Valparaiso','Vanderbilt','Vermont','Villanova','Virginia','Virginia Tech','VMI','Western Carolina','Western Illinois','Western Kentucky','Western Michigan','Wagner','Wake Forest','Washington','Washington State','Weber State','West Virginia','WI-Green Bay','WI-Milwaukee','Wichita State','William & Mary','Winthrop','Wisconsin','Wofford','Wright State','Wyoming','Xavier','Yale','Youngstown State','California Baptist','North Alabama','Merrimack','Bellarmine','Utah Tech','Tarleton State','UC San Diego','St Thomas','Lindenwood','Queens NC','Southern Indiana','Stonehill','TAM Commerce']\n",
    "sports_men = [\"Abilene Christian\",\"Air Force\",\"Akron\",\"Alabama\",\"Alabama A&M\",\"Alabama State\",\"Albany (NY)\",\"Alcorn State\",\"American\",\"Appalachian State\",\"Arizona\",\"Arizona State\",\"Little Rock\",\"Arkansas-Pine Bluff\",\"Arkansas\",\"Arkansas State\",\"Army\",\"Auburn\",\"Austin Peay\",\"Ball State\",\"Baylor\",\"Belmont\",\"Bethune-Cookman\",\"Binghamton\",\"Boise State\",\"Boston College\",\"Boston University\",\"Bowling Green State\",\"Bradley\",\"Brown\",\"Bryant\",\"Bucknell\",\"Buffalo\",\"Butler\",\"Brigham Young\",\"Central Michigan\",\"Cal Poly\",\"California\",\"Campbell\",\"Canisius\",\"Central Arkansas\",\"Centenary (LA)\",\"Central Connecticut State\",\"Charleston Southern\",\"Charlotte\",\"Chattanooga\",\"Chicago State\",\"Cincinnati\",\"The Citadel\",\"Clemson\",\"Cleveland State\",\"Coastal Carolina\",\"College of Charleston\",\"Colgate\",\"Colorado\",\"Colorado State\",\"Columbia\",\"Connecticut\",\"Coppin State\",\"Cornell\",\"Creighton\",\"Cal State Bakersfield\",\"Cal State Fullerton\",\"Cal State Northridge\",\"Sacramento State\",\"Dartmouth\",\"Davidson\",\"Dayton\",\"Delaware\",\"Delaware State\",\"Denver\",\"DePaul\",\"Detroit Mercy\",\"Drake\",\"Drexel\",\"Duke\",\"Duquesne\",\"Eastern Illinois\",\"Eastern Kentucky\",\"Eastern Michigan\",\"Eastern Washington\",\"East Carolina\",\"SIU Edwardsville\",\"Elon\",\"East Tennessee State\",\"Evansville\",\"Fairleigh Dickinson\",\"Fairfield\",\"Florida Atlantic\",\"Florida Gulf Coast\",\"Florida\",\"Florida A&M\",\"Florida International\",\"Florida State\",\"Fordham\",\"Fresno State\",\"Furman\",\"George Washington\",\"Georgia Southern\",\"Gardner-Webb\",\"George Mason\",\"Georgetown\",\"Georgia\",\"Georgia State\",\"Georgia Tech\",\"Gonzaga\",\"Grambling\",\"Grand Canyon\",\"Hampton\",\"Hartford\",\"Harvard\",\"Hawaii\",\"High Point\",\"Hofstra\",\"Holy Cross\",\"Houston\",\"Houston Christian\",\"Howard\",\"Idaho\",\"Idaho State\",\"Illinois-Chicago\",\"Illinois\",\"Illinois State\",\"Incarnate Word\",\"Indiana\",\"Indiana State\",\"Iona\",\"Iowa\",\"Iowa State\",\"Purdue-Fort Wayne\",\"IUPUI\",\"Jackson State\",\"Jacksonville\",\"Jacksonville State\",\"James Madison\",\"Kansas\",\"Kansas State\",\"Kennesaw State\",\"Kent State\",\"Kentucky\",\"La Salle\",\"Lafayette\",\"Lamar\",\"Lehigh\",\"Liberty\",\"Lipscomb\",\"Long Beach State\",\"Long Island University\",\"Longwood\",\"Louisiana Tech\",\"Louisville\",\"Loyola Marymount\",\"Loyola (MD)\",\"Loyola (IL)\",\"Louisiana State\",\"Massachusetts-Lowell\",\"Maine\",\"Manhattan\",\"Marist\",\"Marquette\",\"Marshall\",\"Maryland\",\"Massachusetts\",\"McNeese State\",\"Maryland-Eastern Shore\",\"Memphis\",\"Mercer\",\"Miami (FL)\",\"Miami (OH)\",\"Michigan\",\"Michigan State\",\"Minnesota\",\"Mississippi\",\"Mississippi State\",\"Missouri\",\"Kansas City\",\"Missouri State\",\"Monmouth\",\"Montana\",\"Montana State\",\"Morehead State\",\"Morgan State\",\"Mississippi Valley State\",\"Mount St. Mary's\",\"Middle Tennessee\",\"Murray State\",\"Northern Colorado\",\"North Dakota State\",\"Northern Illinois\",\"Northern Kentucky\",\"Navy\",\"North Carolina A&T\",\"North Carolina Central\",\"NC State\",\"Omaha\",\"Nebraska\",\"Nevada\",\"New Hampshire\",\"New Mexico\",\"New Mexico State\",\"New Orleans\",\"Niagara\",\"Nicholls State\",\"NJIT\",\"Norfolk State\",\"North Carolina\",\"North Dakota\",\"North Florida\",\"North Texas\",\"Northeastern\",\"Northern Arizona\",\"Northern Iowa\",\"Northwestern\",\"Northwestern State\",\"Notre Dame\",\"Oakland\",\"Ohio\",\"Ohio State\",\"Oklahoma\",\"Oklahoma State\",\"Old Dominion\",\"Oral Roberts\",\"Oregon\",\"Oregon State\",\"Pacific\",\"Pennsylvania\",\"Penn State\",\"Pepperdine\",\"Pittsburgh\",\"Portland\",\"Portland State\",\"Prairie View\",\"Presbyterian\",\"Princeton\",\"Providence\",\"Purdue\",\"Quinnipiac\",\"Radford\",\"Rhode Island\",\"Rice\",\"Richmond\",\"Rider\",\"Robert Morris\",\"Rutgers\",\"South Carolina State\",\"South Dakota State\",\"Southern Illinois\",\"Sacred Heart\",\"Sam Houston State\",\"Samford\",\"San Diego\",\"San Diego State\",\"San Francisco\",\"San Jose State\",\"UC Santa Barbara\",\"Santa Clara\",\"Savannah State\",\"South Carolina Upstate\",\"Southeastern Louisiana\",\"Southeast Missouri State\",\"Seattle\",\"Seton Hall\",\"Stephen F. Austin\",\"Siena\",\"Southern Methodist\",\"South Alabama\",\"South Carolina\",\"South Dakota\",\"South Florida\",\"Southern Mississippi\",\"Southern\",\"Southern Utah\",\"St. Bonaventure\",\"St. Francis (NY)\",\"Saint Francis (PA)\",\"St. John's (NY)\",\"Saint Joseph's\",\"Saint Louis\",\"Saint Mary's (CA)\",\"Saint Peter's\",\"Stanford\",\"Stetson\",\"Stony Brook\",\"Syracuse\",\"Texas A&M-Corpus Christi\",\"TCU\",\"Temple\",\"Tennessee\",\"Tennessee State\",\"Tennessee Tech\",\"Texas\",\"Texas A&M\",\"Texas State\",\"Texas Tech\",\"Tennessee-Martin\",\"Toledo\",\"Towson\",\"Troy\",\"Tulane\",\"Tulsa\",\"Texas-Rio Grande Valley\",\"Texas Southern\",\"UAB\",\"UC Davis\",\"UC Irvine\",\"UC Riverside\",\"Central Florida\",\"UCLA\",\"Louisiana\",\"Louisiana-Monroe\",\"Maryland-Baltimore County\",\"UNC Asheville\",\"UNC Greensboro\",\"UNC Wilmington\",\"Nevada-Las Vegas\",\"Southern California\",\"UT Arlington\",\"UTSA\",\"Utah\",\"Utah State\",\"Utah Valley\",\"UTEP\",\"Virginia Commonwealth\",\"Valparaiso\",\"Vanderbilt\",\"Vermont\",\"Villanova\",\"Virginia\",\"Virginia Tech\",\"VMI\",\"Western Carolina\",\"Western Illinois\",\"Western Kentucky\",\"Western Michigan\",\"Wagner\",\"Wake Forest\",\"Washington\",\"Washington State\",\"Weber State\",\"West Virginia\",\"Green Bay\",\"Milwaukee\",\"Wichita State\",\"William & Mary\",\"Winthrop\",\"Wisconsin\",\"Wofford\",\"Wright State\",\"Wyoming\",\"Xavier\",\"Yale\",\"Youngstown State\",\"California Baptist\",\"North Alabama\",\"Merrimack\",\"Bellarmine\",\"Utah Tech\",\"Tarleton State\",\"UC San Diego\",\"St. Thomas\",\"Lindenwood\",\"Queens (NC)\",\"Southern Indiana\",\"Stonehill\",\"Texas A&M-Commerce\"]\n",
    "betexp_men = [\"Abilene Christian\",\"Air Force\",\"Akron\",\"Alabama\",\"Alabama A&M\",\"Alabama State\",\"Albany\",\"Alcorn State\",\"American University\",\"Appalachian State\",\"Arizona\",\"Arizona State\",\"UALR\",\"Arkansas-Pine Bluff\",\"Arkansas\",\"Arkansas State\",\"Army\",\"Auburn\",\"Austin Peay\",\"Ball State\",\"Baylor\",\"Belmont\",\"Bethune-Cookman\",\"Binghamton\",\"Boise State\",\"Boston College\",\"Boston University\",\"Bowling Green\",\"Bradley\",\"Brown\",\"Bryant University\",\"Bucknell\",\"Buffalo\",\"Butler\",\"Brigham Young\",\"Central Michigan\",\"Cal Poly\",\"California\",\"Campbell\",\"Canisius\",\"Central Arkansas\",\"\",\"Central Connecticut State\",\"Charleston Southern\",\"Charlotte\",\"Chattanooga Mocs\",\"Chicago State\",\"Cincinnati\",\"Citadel\",\"Clemson\",\"Cleveland State\",\"Coastal Carolina\",\"Charleston\",\"Colgate\",\"Colorado\",\"Colorado State\",\"Columbia\",\"UConn\",\"Coppin State\",\"Cornell\",\"Creighton\",\"CSU Bakersfield\",\"CS Fullerton\",\"CS Northridge\",\"Sacramento State\",\"Dartmouth\",\"Davidson\",\"Dayton\",\"Delaware\",\"Delaware State\",\"Denver\",\"DePaul\",\"Detroit\",\"Drake\",\"Drexel\",\"Duke\",\"Duquesne\",\"Eastern Illinois\",\"Eastern Kentucky\",\"Eastern Michigan\",\"East. Washington\",\"East Carolina\",\"Siu Edwardsville\",\"Elon\",\"East Tennessee St\",\"Evansville\",\"Fairleigh Dickinson\",\"Fairfield\",\"Florida Atlantic\",\"Florida Gulf Coast\",\"Florida\",\"Florida A&M\",\"Florida International\",\"Florida State\",\"Fordham\",\"Fresno State\",\"Furman\",\"George Washington\",\"Georgia Southern\",\"Gardner Webb\",\"George Mason\",\"Georgetown\",\"Georgia\",\"Georgia State\",\"Georgia Tech\",\"Gonzaga\",\"Grambling St.\",\"Grand Canyon\",\"Hampton\",\"Hartford\",\"Harvard\",\"Hawaii\",\"High Point\",\"Hofstra\",\"Holy Cross\",\"Houston\",\"Houston Christian\",\"Howard\",\"Idaho\",\"Idaho State\",\"Illinois (Chi.)\",\"Illinois\",\"Illinois State\",\"Incarnate Word\",\"Indiana\",\"Indiana State\",\"Iona\",\"Iowa\",\"Iowa State\",\"IPFW\",\"IUPUI\",\"Jackson State\",\"Jacksonville\",\"Jacksonville State\",\"James Madison\",\"Kansas\",\"Kansas State\",\"Kennesaw State\",\"Kent State\",\"Kentucky\",\"La Salle\",\"Lafayette\",\"Lamar\",\"Lehigh\",\"Liberty\",\"Lipscomb\",\"Long Beach State\",\"LIU Sharks\",\"Longwood\",\"Louisiana Tech\",\"Louisville\",\"Loyola Marymount\",\"Loyola Maryland\",\"Loyola Chicago\",\"LSU\",\"UMass Lowell\",\"Maine Black Bears\",\"Manhattan\",\"Marist\",\"Marquette\",\"Marshall\",\"Maryland\",\"UMass\",\"McNeese State\",\"Md.-East. Shore\",\"Memphis\",\"Mercer\",\"Miami (FL)\",\"Miami (Ohio)\",\"Michigan\",\"Michigan State\",\"Minnesota\",\"Ole Miss\",\"Mississippi St.\",\"Missouri\",\"UMKC\",\"Missouri State\",\"Monmouth\",\"Montana\",\"Montana State\",\"Morehead State\",\"Morgan State\",\"Miss. Valley St.\",\"Mount St. Mary's\",\"Middle Tenn. St.\",\"Murray State\",\"Northern Colorado\",\"North Dakota St\",\"Northern Illinois\",\"Northern Kentucky\",\"Navy\",\"N. Carolina A&T\",\"N. Carolina Central\",\"NC State\",\"Nebraska O.\",\"Nebraska\",\"Nevada\",\"New Hampshire\",\"New Mexico\",\"New Mexico State\",\"New Orleans\",\"Niagara\",\"Nicholls State\",\"NJIT\",\"Norfolk State\",\"North Carolina\",\"North Dakota\",\"North Florida\",\"North Texas\",\"Northeastern\",\"Northern Arizona\",\"Northern Iowa\",\"Northwestern\",\"Northwestern St.\",\"Notre Dame\",\"Oakland\",\"Ohio\",\"Ohio State\",\"Oklahoma\",\"Oklahoma State\",\"Old Dominion\",\"Oral Roberts\",\"Oregon\",\"Oregon State\",\"Pacific\",\"Penn\",\"Penn State\",\"Pepperdine\",\"Pittsburgh\",\"Portland\",\"Portland State\",\"Prairie View A&M\",\"Presbyterian\",\"Princeton\",\"Providence\",\"Purdue\",\"Quinnipiac\",\"Radford\",\"Rhode Island\",\"Rice\",\"Richmond\",\"Rider\",\"Robert Morris\",\"Rutgers\",\"South Carolina St\",\"South Dakota St.\",\"Southern Illinois\",\"Sacred Heart\",\"Sam Houston St.\",\"Samford\",\"San Diego Toreros\",\"San Diego State\",\"San Francisco\",\"San Jose State\",\"UC Santa Barbara\",\"Santa Clara\",\"\",\"USC Upstate\",\"SE Louisiana\",\"Southeast Missouri State\",\"Seattle\",\"Seton Hall\",\"Stephen F. Austin\",\"Siena\",\"SMU Mustangs\",\"South Alabama\",\"South Carolina\",\"South Dakota Coyotes\",\"South Florida\",\"Southern Miss\",\"Southern Univ.\",\"Southern Utah\",\"St. Bonaventure\",\"St. Francis Brooklyn\",\"St. Francis (PA)\",\"St. John's (N.Y.)\",\"Saint Josephs\",\"St. Louis\",\"St. Marys (CA)\",\"St. Peters\",\"Stanford\",\"Stetson\",\"Stony Brook\",\"Syracuse\",\"Texas A&M-CC\",\"TCU\",\"Temple\",\"Tennessee\",\"Tennessee State\",\"Tennessee Tech\",\"Texas\",\"Texas A&M\",\"Texas State\",\"Texas Tech\",\"UT Martin\",\"Toledo\",\"Towson\",\"Troy\",\"Tulane\",\"Tulsa\",\"UTRGV\",\"Texas Southern\",\"UAB\",\"UC Davis\",\"UC Irvine\",\"UC Riverside\",\"UCF Knights\",\"UCLA\",\"Louisiana Lafayette\",\"Louisiana Monroe\",\"UMBC Retrievers\",\"UNC Asheville\",\"NC Greensboro\",\"NC Wilmington\",\"UNLV\",\"USC\",\"UT Arlington\",\"UTSA Roadrunners\",\"Utah Utes\",\"Utah State\",\"Utah Valley State\",\"UTEP\",\"VCU Rams\",\"Valparaiso\",\"Vanderbilt\",\"Vermont\",\"Villanova\",\"Virginia\",\"Virginia Tech\",\"VMI\",\"Western Carolina\",\"Western Illinois\",\"Western Kentucky\",\"Western Michigan\",\"Wagner\",\"Wake Forest\",\"Washington\",\"Washington State\",\"Weber State\",\"West Virginia\",\"Wisc. Green Bay\",\"Wisc. Milwaukee\",\"Wichita State\",\"William & Mary\",\"Winthrop\",\"Wisconsin\",\"Wofford\",\"Wright State\",\"Wyoming\",\"Xavier\",\"Yale\",\"Youngstown State\",\"California Baptist\",\"North Alabama\",\"Merrimack Warriors\",\"Bellarmine\",\"Utah Tech\",\"Tarleton\",\"UC San Diego\",\"St. Thomas (Minn.)\",\"\",\"\",\"\",\"\",\"\"]\n",
    "\n",
    "extend_wom = ['Abilene Christian','Air Force','Akron','Alabama','Alabama A&M','Alabama State','Albany (NY)','Alcorn State','American','Appalachian State','Arizona','Arizona State','Little Rock','Pine Bluff','Arkansas','Arkansas State','Army','Auburn','Austin Peay','Ball State','Baylor','Belmont','Bethune-Cookman','Binghamton','Boise State','Boston College','Boston University','Bowling Green','Bradley','Brown','Bryant','Bucknell','Buffalo','Butler','Brigham Young','Central Michigan','Cal Poly','California','Campbell','Canisius','Central Arkansas','Centenary','Central Connecticut','Charleston Southern','Charlotte','Chattanooga','Chicago State','Cincinnati','Clemson','Cleveland State','Coastal Carolina','College of Charleston','Colgate','Colorado','Colorado State','Columbia','Connecticut','Coppin State','Cornell','Creighton','Cal State Bakersfield','Cal State Fullerton','Cal State Northridge','Sacramento State','Dartmouth','Davidson','Dayton','Delaware','Delaware State','Denver','DePaul','Detroit Mercy','Drake','Drexel','Duke','Duquesne','Eastern Illinois','Eastern Kentucky','Eastern Michigan','Eastern Washington','East Carolina','SIU Edwardsville','Elon','East Tennessee State','Evansville','Fairleigh Dickinson','Fairfield','Florida Atlantic','Florida Gulf Coast','Florida','Florida A&M','Florida International','Florida State','Fordham','Fresno State','Furman','George Washington','Georgia Southern','Gardner-Webb','George Mason','Georgetown','Georgia','Georgia State','Georgia Tech','Gonzaga','Grambling','Grand Canyon','Hampton','Hartford','Harvard','Hawaii','High Point','Hofstra','Holy Cross','Houston','Houston Christian','Howard','Idaho','Idaho State','Illinois-Chicago','Illinois','Illinois State','Incarnate Word','Indiana','Indiana State','Iona','Iowa','Iowa State','Purdue-Fort Wayne','IUPUI','Jackson State','Jacksonville','Jacksonville State','James Madison','Kansas','Kansas State','Kennesaw State','Kent State','Kentucky','La Salle','Lafayette','Lamar','Lehigh','Liberty','Lipscomb','Long Beach State','Long Island University','Longwood','Louisiana Tech','Louisville','Loyola Marymount','Loyola MD','Loyola IL','Louisiana State','MA-Lowell','Maine','Manhattan','Marist','Marquette','Marshall','Maryland','Massachusetts','McNeese State','MD-Eastern Shore','Memphis','Mercer','Miami FL','Miami OH','Michigan','Michigan State','Minnesota','Mississippi','Mississippi State','Missouri','Kansas City','Missouri State','Monmouth','Montana','Montana State','Morehead State','Morgan State','Mississippi Valley State','Mount St Marys','Middle Tennessee','Murray State','Northern Colorado','North Dakota State','Northern Illinois','Northern Kentucky','Navy','North Carolina A&T','North Carolina Central','NC State','Omaha','Nebraska','Nevada','New Hampshire','New Mexico','New Mexico State','New Orleans','Niagara','Nicholls State','NJIT','Norfolk State','North Carolina','North Dakota','North Florida','North Texas','Northeastern','Northern Arizona','Northern Iowa','Northwestern','Northwestern State','Notre Dame','Oakland','Ohio','Ohio State','Oklahoma','Oklahoma State','Old Dominion','Oral Roberts','Oregon','Oregon State','Pacific','Penn','Penn State','Pepperdine','Pittsburgh','Portland','Portland State','Prairie View','Presbyterian','Princeton','Providence','Purdue','Quinnipiac','Radford','Rhode Island','Rice','Richmond','Rider','Robert Morris','Rutgers','South Carolina State','South Dakota State','Southern Illinois','Sacred Heart','Sam Houston State','Samford','San Diego','San Diego State','San Francisco','San Jose State','Santa Barbara','Santa Clara','Savannah State','South Carolina Upstate','Southeastern Louisiana','Southeast Missouri State','Seattle','Seton Hall','Stephen F Austin','Siena','Southern Methodist','South Alabama','South Carolina','South Dakota','South Florida','Southern Mississippi','Southern','Southern Utah','St Bonaventure','St Francis NY','St Francis PA','St Johns NY','St Josephs','Saint Louis','St Marys CA','St Peters','Stanford','Stetson','Stony Brook','Syracuse','TAM Corpus Christi','TCU','Temple','Tennessee','Tennessee State','Tennessee Tech','Texas','Texas A&M','Texas State','Texas Tech','Tennessee-Martin','Toledo','Towson','Troy','Tulane','Tulsa','Texas-Rio Grande Valley','Texas Southern','UAB','UC Davis','UC Irvine','UC Riverside','Central Florida','UCLA','Louisiana','Louisiana-Monroe','UMBC','NC Asheville','NC Greensboro','NC Wilmington','UNLV','Southern California','UT Arlington','UTSA','Utah','Utah State','Utah Valley','UTEP','Virginia Commonwealth','Valparaiso','Vanderbilt','Vermont','Villanova','Virginia','Virginia Tech','Western Carolina','Western Illinois','Western Kentucky','Western Michigan','Wagner','Wake Forest','Washington','Washington State','Weber State','West Virginia','WI-Green Bay','WI-Milwaukee','Wichita State','William & Mary','Winthrop','Wisconsin','Wofford','Wright State','Wyoming','Xavier','Yale','Youngstown State','California Baptist','North Alabama','Merrimack','Bellarmine','Utah Tech','Tarleton State','UC San Diego','St Thomas','Lindenwood','Queens NC','Southern Indiana','Stonehill','TAM Commerce']\n",
    "sports_wom = [\"Abilene Christian\",\"Air Force\",\"Akron\",\"Alabama\",\"Alabama A&M\",\"Alabama State\",\"Albany (NY)\",\"Alcorn State\",\"American\",\"Appalachian State\",\"Arizona\",\"Arizona State\",\"Little Rock\",\"Arkansas-Pine Bluff\",\"Arkansas\",\"Arkansas State\",\"Army\",\"Auburn\",\"Austin Peay\",\"Ball State\",\"Baylor\",\"Belmont\",\"Bethune-Cookman\",\"Binghamton\",\"Boise State\",\"Boston College\",\"Boston University\",\"Bowling Green State\",\"Bradley\",\"Brown\",\"Bryant\",\"Bucknell\",\"Buffalo\",\"Butler\",\"Brigham Young\",\"Central Michigan\",\"Cal Poly\",\"California\",\"Campbell\",\"Canisius\",\"Central Arkansas\",\"Centenary (LA)\",\"Central Connecticut State\",\"Charleston Southern\",\"Charlotte\",\"Chattanooga\",\"Chicago State\",\"Cincinnati\",\"Clemson\",\"Cleveland State\",\"Coastal Carolina\",\"College of Charleston\",\"Colgate\",\"Colorado\",\"Colorado State\",\"Columbia\",\"Connecticut\",\"Coppin State\",\"Cornell\",\"Creighton\",\"Cal State Bakersfield\",\"Cal State Fullerton\",\"Cal State Northridge\",\"Sacramento State\",\"Dartmouth\",\"Davidson\",\"Dayton\",\"Delaware\",\"Delaware State\",\"Denver\",\"DePaul\",\"Detroit Mercy\",\"Drake\",\"Drexel\",\"Duke\",\"Duquesne\",\"Eastern Illinois\",\"Eastern Kentucky\",\"Eastern Michigan\",\"Eastern Washington\",\"East Carolina\",\"SIU Edwardsville\",\"Elon\",\"East Tennessee State\",\"Evansville\",\"Fairleigh Dickinson\",\"Fairfield\",\"Florida Atlantic\",\"Florida Gulf Coast\",\"Florida\",\"Florida A&M\",\"Florida International\",\"Florida State\",\"Fordham\",\"Fresno State\",\"Furman\",\"George Washington\",\"Georgia Southern\",\"Gardner-Webb\",\"George Mason\",\"Georgetown\",\"Georgia\",\"Georgia State\",\"Georgia Tech\",\"Gonzaga\",\"Grambling\",\"Grand Canyon\",\"Hampton\",\"Hartford\",\"Harvard\",\"Hawaii\",\"High Point\",\"Hofstra\",\"Holy Cross\",\"Houston\",\"Houston Christian\",\"Howard\",\"Idaho\",\"Idaho State\",\"Illinois-Chicago\",\"Illinois\",\"Illinois State\",\"Incarnate Word\",\"Indiana\",\"Indiana State\",\"Iona\",\"Iowa\",\"Iowa State\",\"Purdue-Fort Wayne\",\"IUPUI\",\"Jackson State\",\"Jacksonville\",\"Jacksonville State\",\"James Madison\",\"Kansas\",\"Kansas State\",\"Kennesaw State\",\"Kent State\",\"Kentucky\",\"La Salle\",\"Lafayette\",\"Lamar\",\"Lehigh\",\"Liberty\",\"Lipscomb\",\"Long Beach State\",\"Long Island University\",\"Longwood\",\"Louisiana Tech\",\"Louisville\",\"Loyola Marymount\",\"Loyola (MD)\",\"Loyola (IL)\",\"Louisiana State\",\"Massachusetts-Lowell\",\"Maine\",\"Manhattan\",\"Marist\",\"Marquette\",\"Marshall\",\"Maryland\",\"Massachusetts\",\"McNeese State\",\"Maryland-Eastern Shore\",\"Memphis\",\"Mercer\",\"Miami (FL)\",\"Miami (OH)\",\"Michigan\",\"Michigan State\",\"Minnesota\",\"Mississippi\",\"Mississippi State\",\"Missouri\",\"Kansas City\",\"Missouri State\",\"Monmouth\",\"Montana\",\"Montana State\",\"Morehead State\",\"Morgan State\",\"Mississippi Valley State\",\"Mount St. Mary's\",\"Middle Tennessee\",\"Murray State\",\"Northern Colorado\",\"North Dakota State\",\"Northern Illinois\",\"Northern Kentucky\",\"Navy\",\"North Carolina A&T\",\"North Carolina Central\",\"NC State\",\"Omaha\",\"Nebraska\",\"Nevada\",\"New Hampshire\",\"New Mexico\",\"New Mexico State\",\"New Orleans\",\"Niagara\",\"Nicholls State\",\"NJIT\",\"Norfolk State\",\"North Carolina\",\"North Dakota\",\"North Florida\",\"North Texas\",\"Northeastern\",\"Northern Arizona\",\"Northern Iowa\",\"Northwestern\",\"Northwestern State\",\"Notre Dame\",\"Oakland\",\"Ohio\",\"Ohio State\",\"Oklahoma\",\"Oklahoma State\",\"Old Dominion\",\"Oral Roberts\",\"Oregon\",\"Oregon State\",\"Pacific\",\"Pennsylvania\",\"Penn State\",\"Pepperdine\",\"Pittsburgh\",\"Portland\",\"Portland State\",\"Prairie View\",\"Presbyterian\",\"Princeton\",\"Providence\",\"Purdue\",\"Quinnipiac\",\"Radford\",\"Rhode Island\",\"Rice\",\"Richmond\",\"Rider\",\"Robert Morris\",\"Rutgers\",\"South Carolina State\",\"South Dakota State\",\"Southern Illinois\",\"Sacred Heart\",\"Sam Houston State\",\"Samford\",\"San Diego\",\"San Diego State\",\"San Francisco\",\"San Jose State\",\"UC Santa Barbara\",\"Santa Clara\",\"Savannah State\",\"South Carolina Upstate\",\"Southeastern Louisiana\",\"Southeast Missouri State\",\"Seattle\",\"Seton Hall\",\"Stephen F. Austin\",\"Siena\",\"Southern Methodist\",\"South Alabama\",\"South Carolina\",\"South Dakota\",\"South Florida\",\"Southern Mississippi\",\"Southern\",\"Southern Utah\",\"St. Bonaventure\",\"St. Francis (NY)\",\"Saint Francis (PA)\",\"St. John's (NY)\",\"Saint Joseph's\",\"Saint Louis\",\"Saint Mary's (CA)\",\"Saint Peter's\",\"Stanford\",\"Stetson\",\"Stony Brook\",\"Syracuse\",\"Texas A&M-Corpus Christi\",\"TCU\",\"Temple\",\"Tennessee\",\"Tennessee State\",\"Tennessee Tech\",\"Texas\",\"Texas A&M\",\"Texas State\",\"Texas Tech\",\"Tennessee-Martin\",\"Toledo\",\"Towson\",\"Troy\",\"Tulane\",\"Tulsa\",\"Texas-Rio Grande Valley\",\"Texas Southern\",\"UAB\",\"UC Davis\",\"UC Irvine\",\"UC Riverside\",\"Central Florida\",\"UCLA\",\"Louisiana\",\"Louisiana-Monroe\",\"Maryland-Baltimore County\",\"UNC Asheville\",\"UNC Greensboro\",\"UNC Wilmington\",\"Nevada-Las Vegas\",\"Southern California\",\"UT Arlington\",\"UTSA\",\"Utah\",\"Utah State\",\"Utah Valley\",\"UTEP\",\"Virginia Commonwealth\",\"Valparaiso\",\"Vanderbilt\",\"Vermont\",\"Villanova\",\"Virginia\",\"Virginia Tech\",\"Western Carolina\",\"Western Illinois\",\"Western Kentucky\",\"Western Michigan\",\"Wagner\",\"Wake Forest\",\"Washington\",\"Washington State\",\"Weber State\",\"West Virginia\",\"Green Bay\",\"Milwaukee\",\"Wichita State\",\"William & Mary\",\"Winthrop\",\"Wisconsin\",\"Wofford\",\"Wright State\",\"Wyoming\",\"Xavier\",\"Yale\",\"Youngstown State\",\"California Baptist\",\"North Alabama\",\"Merrimack\",\"Bellarmine\",\"Utah Tech\",\"Tarleton State\",\"UC San Diego\",\"St. Thomas\",\"Lindenwood\",\"Queens (NC)\",\"Southern Indiana\",\"Stonehill\",\"Texas A&M-Commerce\"]\n",
    "betexp_wom = [\"Abilene Christian\",\"Air Force\",\"Akron\",\"Alabama\",\"Alabama A&M\",\"Alabama State\",\"Albany\",\"Alcorn State\",\"American University\",\"Appalachian State\",\"Arizona\",\"Arizona State\",\"UALR\",\"Arkansas-Pine Bluff\",\"Arkansas\",\"Arkansas State\",\"Army\",\"Auburn\",\"Austin Peay\",\"Ball State\",\"Baylor\",\"Belmont\",\"Bethune-Cookman\",\"Binghamton\",\"Boise State\",\"Boston College\",\"Boston University\",\"Bowling Green\",\"Bradley\",\"Brown\",\"Bryant University\",\"Bucknell\",\"Buffalo\",\"Butler\",\"Brigham Young\",\"Central Michigan\",\"Cal Poly\",\"California\",\"Campbell\",\"Canisius\",\"Central Arkansas\",\"\",\"Central Connecticut State\",\"Charleston Southern\",\"Charlotte\",\"Chattanooga Mocs\",\"Chicago State\",\"Cincinnati\",\"Clemson\",\"Cleveland State\",\"Coastal Carolina\",\"Charleston\",\"Colgate\",\"Colorado\",\"Colorado State\",\"Columbia\",\"UConn\",\"Coppin State\",\"Cornell\",\"Creighton\",\"CSU Bakersfield\",\"CS Fullerton\",\"CS Northridge\",\"Sacramento State\",\"Dartmouth\",\"Davidson\",\"Dayton\",\"Delaware\",\"Delaware State\",\"Denver\",\"DePaul\",\"Detroit\",\"Drake\",\"Drexel\",\"Duke\",\"Duquesne\",\"Eastern Illinois\",\"Eastern Kentucky\",\"Eastern Michigan\",\"East. Washington\",\"East Carolina\",\"Siu Edwardsville\",\"Elon\",\"East Tennessee St\",\"Evansville\",\"Fairleigh Dickinson\",\"Fairfield\",\"Florida Atlantic\",\"Florida Gulf Coast\",\"Florida\",\"Florida A&M\",\"Florida International\",\"Florida State\",\"Fordham\",\"Fresno State\",\"Furman\",\"George Washington\",\"Georgia Southern\",\"Gardner Webb\",\"George Mason\",\"Georgetown\",\"Georgia\",\"Georgia State\",\"Georgia Tech\",\"Gonzaga\",\"Grambling St.\",\"Grand Canyon\",\"Hampton\",\"Hartford\",\"Harvard\",\"Hawaii\",\"High Point\",\"Hofstra\",\"Holy Cross\",\"Houston\",\"Houston Christian\",\"Howard\",\"Idaho\",\"Idaho State\",\"Illinois (Chi.)\",\"Illinois\",\"Illinois State\",\"Incarnate Word\",\"Indiana\",\"Indiana State\",\"Iona\",\"Iowa\",\"Iowa State\",\"IPFW\",\"IUPUI\",\"Jackson State\",\"Jacksonville\",\"Jacksonville State\",\"James Madison\",\"Kansas\",\"Kansas State\",\"Kennesaw State\",\"Kent State\",\"Kentucky\",\"La Salle\",\"Lafayette\",\"Lamar\",\"Lehigh\",\"Liberty\",\"Lipscomb\",\"Long Beach State\",\"LIU Sharks\",\"Longwood\",\"Louisiana Tech\",\"Louisville\",\"Loyola Marymount\",\"Loyola Maryland\",\"Loyola Chicago\",\"LSU\",\"UMass Lowell\",\"Maine Black Bears\",\"Manhattan\",\"Marist\",\"Marquette\",\"Marshall\",\"Maryland\",\"UMass\",\"McNeese State\",\"Md.-East. Shore\",\"Memphis\",\"Mercer\",\"Miami (FL)\",\"Miami (Ohio)\",\"Michigan\",\"Michigan State\",\"Minnesota\",\"Ole Miss\",\"Mississippi St.\",\"Missouri\",\"UMKC\",\"Missouri State\",\"Monmouth\",\"Montana\",\"Montana State\",\"Morehead State\",\"Morgan State\",\"Miss. Valley St.\",\"Mount St. Mary's\",\"Middle Tenn. St.\",\"Murray State\",\"Northern Colorado\",\"North Dakota St\",\"Northern Illinois\",\"Northern Kentucky\",\"Navy\",\"N. Carolina A&T\",\"N. Carolina Central\",\"NC State\",\"Nebraska O.\",\"Nebraska\",\"Nevada\",\"New Hampshire\",\"New Mexico\",\"New Mexico State\",\"New Orleans\",\"Niagara\",\"Nicholls State\",\"NJIT\",\"Norfolk State\",\"North Carolina\",\"North Dakota\",\"North Florida\",\"North Texas\",\"Northeastern\",\"Northern Arizona\",\"Northern Iowa\",\"Northwestern\",\"Northwestern St.\",\"Notre Dame\",\"Oakland\",\"Ohio\",\"Ohio State\",\"Oklahoma\",\"Oklahoma State\",\"Old Dominion\",\"Oral Roberts\",\"Oregon\",\"Oregon State\",\"Pacific\",\"Penn\",\"Penn State\",\"Pepperdine\",\"Pittsburgh\",\"Portland\",\"Portland State\",\"Prairie View A&M\",\"Presbyterian\",\"Princeton\",\"Providence\",\"Purdue\",\"Quinnipiac\",\"Radford\",\"Rhode Island\",\"Rice\",\"Richmond\",\"Rider\",\"Robert Morris\",\"Rutgers\",\"South Carolina St\",\"South Dakota St.\",\"Southern Illinois\",\"Sacred Heart\",\"Sam Houston St.\",\"Samford\",\"San Diego Toreros\",\"San Diego State\",\"San Francisco\",\"San Jose State\",\"UC Santa Barbara\",\"Santa Clara\",\"\",\"USC Upstate\",\"SE Louisiana\",\"Southeast Missouri State\",\"Seattle\",\"Seton Hall\",\"Stephen F. Austin\",\"Siena\",\"SMU Mustangs\",\"South Alabama\",\"South Carolina\",\"South Dakota Coyotes\",\"South Florida\",\"Southern Miss\",\"Southern Univ.\",\"Southern Utah\",\"St. Bonaventure\",\"St. Francis Brooklyn\",\"St. Francis (PA)\",\"St. John's (N.Y.)\",\"Saint Josephs\",\"St. Louis\",\"St. Marys (CA)\",\"St. Peters\",\"Stanford\",\"Stetson\",\"Stony Brook\",\"Syracuse\",\"Texas A&M-CC\",\"TCU\",\"Temple\",\"Tennessee\",\"Tennessee State\",\"Tennessee Tech\",\"Texas\",\"Texas A&M\",\"Texas State\",\"Texas Tech\",\"UT Martin\",\"Toledo\",\"Towson\",\"Troy\",\"Tulane\",\"Tulsa\",\"UTRGV\",\"Texas Southern\",\"UAB\",\"UC Davis\",\"UC Irvine\",\"UC Riverside\",\"UCF Knights\",\"UCLA\",\"Louisiana Lafayette\",\"Louisiana Monroe\",\"UMBC Retrievers\",\"UNC Asheville\",\"NC Greensboro\",\"NC Wilmington\",\"UNLV\",\"USC\",\"UT Arlington\",\"UTSA Roadrunners\",\"Utah Utes\",\"Utah State\",\"Utah Valley State\",\"UTEP\",\"VCU Rams\",\"Valparaiso\",\"Vanderbilt\",\"Vermont\",\"Villanova\",\"Virginia\",\"Virginia Tech\",\"Western Carolina\",\"Western Illinois\",\"Western Kentucky\",\"Western Michigan\",\"Wagner\",\"Wake Forest\",\"Washington\",\"Washington State\",\"Weber State\",\"West Virginia\",\"Wisc. Green Bay\",\"Wisc. Milwaukee\",\"Wichita State\",\"William & Mary\",\"Winthrop\",\"Wisconsin\",\"Wofford\",\"Wright State\",\"Wyoming\",\"Xavier\",\"Yale\",\"Youngstown State\",\"California Baptist\",\"North Alabama\",\"Merrimack Warriors\",\"Bellarmine\",\"Utah Tech\",\"Tarleton\",\"UC San Diego\",\"St. Thomas (Minn.)\",\"\",\"\",\"\",\"\",\"\"]\n",
    "\n",
    "# Create new columns for additional alternative names\n",
    "spellm['Name0'] = extend_men\n",
    "spellm['Sports'] = sports_men\n",
    "spellm['BetExp'] = betexp_men\n",
    "\n",
    "spellw['Name0'] = extend_wom\n",
    "spellw['Sports'] = sports_wom\n",
    "spellw['BetExp'] = betexp_wom\n",
    "\n",
    "# Show sample output\n",
    "print('MSpellings:', spellm.shape, 'WSpellings:', spellw.shape)\n",
    "print('MSpellings:', spellm.columns)"
   ]
  },
  {
   "cell_type": "code",
   "execution_count": 12,
   "id": "5e2b2dec-fa0f-4614-b56b-9db3896b7c2e",
   "metadata": {},
   "outputs": [],
   "source": [
    "# Merge 'Teams' with 'Team Spellings' dataframes on 'TeamID' column\n",
    "teamsm = pd.merge(teamsm, spellm,  how='left', left_on=['TeamID'], right_on = ['TeamID'])\n",
    "teamsw = pd.merge(teamsw, spellw,  how='left', left_on=['TeamID'], right_on = ['TeamID'])"
   ]
  },
  {
   "cell_type": "code",
   "execution_count": 13,
   "id": "e1d04680-93b7-4f2c-8149-b4e84583a9ef",
   "metadata": {},
   "outputs": [
    {
     "name": "stdout",
     "output_type": "stream",
     "text": [
      "MSpellings: (365, 17) WSpellings: (363, 15)\n",
      "MSpellings: Index(['TeamID', 'TeamName', 'FirstD1Season', 'LastD1Season', 'Name1', 'Name2',\n",
      "       'Name3', 'Name4', 'Name5', 'Name6', 'Name7', 'Name8', 'Name9', 'Name10',\n",
      "       'Name0', 'Sports', 'BetExp'],\n",
      "      dtype='object')\n",
      "WSpellings: Index(['TeamID', 'TeamName', 'Name1', 'Name2', 'Name3', 'Name4', 'Name5',\n",
      "       'Name6', 'Name7', 'Name8', 'Name9', 'Name10', 'Name0', 'Sports',\n",
      "       'BetExp'],\n",
      "      dtype='object')\n"
     ]
    }
   ],
   "source": [
    "# Show sample output\n",
    "print('MSpellings:', teamsm.shape, 'WSpellings:', teamsw.shape)\n",
    "print('MSpellings:', teamsm.columns)\n",
    "print('WSpellings:', teamsw.columns)"
   ]
  },
  {
   "cell_type": "code",
   "execution_count": 14,
   "id": "8888189a-59b5-4358-ad21-79d5881c8dbd",
   "metadata": {},
   "outputs": [
    {
     "name": "stdout",
     "output_type": "stream",
     "text": [
      "MTeams: (365, 15) WTeams: (363, 15)\n",
      "MTeams: Index(['TeamID', 'TeamName', 'Sports', 'BetExp', 'Name0', 'Name1', 'Name2',\n",
      "       'Name3', 'Name4', 'Name5', 'Name6', 'Name7', 'Name8', 'Name9',\n",
      "       'Name10'],\n",
      "      dtype='object')\n"
     ]
    }
   ],
   "source": [
    "# Reorder and drop unwanted columns from dataframe\n",
    "reo_teamsm = [0, 14, 15, 16, 1, 4, 5, 6, 7, 8, 9, 10, 11, 12, 13, 2, 3]\n",
    "reo_teamsw = [0, 12, 13, 14, 1, 2, 3, 4, 5, 6, 7, 8, 9, 10, 11]\n",
    "\n",
    "ren_teams = {'TeamID':'TeamID', 'Name0':'TeamName', 'Sports':'Sports', 'BetExp':'BetExp', 'TeamName':'Name0', 'Name1':'Name1', 'Name2':'Name2', \n",
    "              'Name3':'Name3', 'Name4':'Name4', 'Name5':'Name5', 'Name6':'Name6', 'Name7':'Name7', 'Name8':'Name8', 'Name9':'Name9', 'Name10':'Name10'}\n",
    "\n",
    "teamsm = teamsm.iloc[:,reo_teamsm].drop(columns=['FirstD1Season', 'LastD1Season'])\n",
    "teamsw = teamsw.iloc[:,reo_teamsw]\n",
    "\n",
    "teamsm = teamsm.rename(columns=ren_teams)\n",
    "teamsw = teamsw.rename(columns=ren_teams)\n",
    "\n",
    "# Show sample output\n",
    "print('MTeams:', teamsm.shape, 'WTeams:', teamsw.shape)\n",
    "print('MTeams:', teamsm.columns)"
   ]
  },
  {
   "cell_type": "code",
   "execution_count": 15,
   "id": "1ba6773b-ddd6-4384-ab9a-c27e7d4c9fa4",
   "metadata": {},
   "outputs": [],
   "source": [
    "teamsm = teamsm.to_csv('teams-mens.csv',index=False)\n",
    "teamsw = teamsw.to_csv('teams-womens.csv',index=False)"
   ]
  }
 ],
 "metadata": {
  "kernelspec": {
   "display_name": "Py 3.09 (mlops)",
   "language": "python",
   "name": "mlops"
  },
  "language_info": {
   "codemirror_mode": {
    "name": "ipython",
    "version": 3
   },
   "file_extension": ".py",
   "mimetype": "text/x-python",
   "name": "python",
   "nbconvert_exporter": "python",
   "pygments_lexer": "ipython3",
   "version": "3.9.15"
  }
 },
 "nbformat": 4,
 "nbformat_minor": 5
}
