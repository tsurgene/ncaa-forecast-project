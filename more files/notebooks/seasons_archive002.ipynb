{
 "cells": [
  {
   "cell_type": "code",
   "execution_count": 1,
   "id": "b61be00b-cde1-4f83-aed1-f398fb8909f0",
   "metadata": {},
   "outputs": [],
   "source": [
    "# Import Libraries\n",
    "import pandas as pd"
   ]
  },
  {
   "cell_type": "code",
   "execution_count": 2,
   "id": "94e9229b-93d3-47a8-8bff-9651364ce763",
   "metadata": {},
   "outputs": [],
   "source": [
    "# Specify where the data files are located locally\n",
    "KAGGLE = 'data/march-machine-learning-mania-2023/'\n",
    "SAVED = 'data/saved/'"
   ]
  },
  {
   "cell_type": "markdown",
   "id": "efdd5ad6-cce2-4466-bc96-7ebbb34af4fb",
   "metadata": {
    "tags": []
   },
   "source": [
    "##### **Data Section 1 - SEASONS**"
   ]
  },
  {
   "cell_type": "code",
   "execution_count": 3,
   "id": "b9a97b34-d2c1-4795-ba20-0dd1517b3ee1",
   "metadata": {},
   "outputs": [],
   "source": [
    "# Import 'Seasons' data files as dataframes:\n",
    "MSeasons = pd.read_csv(KAGGLE + 'MSeasons.csv') # reduce number of seasons; merge day zero; merge regions\n",
    "WSeasons = pd.read_csv(KAGGLE + 'WSeasons.csv') # reduce number of seasons; merge day zero; merge regions"
   ]
  },
  {
   "cell_type": "code",
   "execution_count": 4,
   "id": "f73492e2-d5cb-429e-b18e-58946f16c88c",
   "metadata": {},
   "outputs": [],
   "source": [
    "# Reduce size of 'Seasons' dataframes (for the year 2010 and later)\n",
    "MSeasons = MSeasons[MSeasons['Season'] >= 2010].copy()\n",
    "WSeasons = WSeasons[WSeasons['Season'] >= 2010].copy()"
   ]
  },
  {
   "cell_type": "code",
   "execution_count": 5,
   "id": "44da9af1-9af6-4fc5-87a5-d841bbb88197",
   "metadata": {},
   "outputs": [],
   "source": [
    "# Create a new field called 'StartDate' as DayZero converted to datetime \n",
    "MSeasons['StartDate'] = pd.to_datetime(MSeasons['DayZero'])\n",
    "WSeasons['StartDate'] = pd.to_datetime(WSeasons['DayZero'])"
   ]
  },
  {
   "cell_type": "code",
   "execution_count": 6,
   "id": "63dae642-e1e0-4252-a438-7cbce95f72d2",
   "metadata": {},
   "outputs": [],
   "source": [
    "# Reorder and drop unwanted columns from dataframe\n",
    "order = [0, 6, 2, 3, 4, 5, 1]\n",
    "MSeasons = MSeasons.iloc[:,order].drop(columns=['DayZero'])\n",
    "WSeasons = WSeasons.iloc[:,order].drop(columns=['DayZero'])"
   ]
  },
  {
   "cell_type": "code",
   "execution_count": 7,
   "id": "0f67943a-e45e-4395-9511-7dcf8c2880e9",
   "metadata": {},
   "outputs": [
    {
     "name": "stdout",
     "output_type": "stream",
     "text": [
      "Mens: (14, 6) Womens: (14, 6)\n",
      "Mens: Index(['Season', 'StartDate', 'RegionW', 'RegionX', 'RegionY', 'RegionZ'], dtype='object')\n"
     ]
    }
   ],
   "source": [
    "# Show sample output\n",
    "print('Mens:', MSeasons.shape, 'Womens:', WSeasons.shape)\n",
    "print('Mens:', MSeasons.columns)"
   ]
  },
  {
   "cell_type": "code",
   "execution_count": 8,
   "id": "a06d0dcf-b41c-4235-9f9c-5e07c68e2f3b",
   "metadata": {},
   "outputs": [],
   "source": [
    "seasonsm = MSeasons.to_csv(SAVED + 'seasons-mens.csv', index=False)\n",
    "seasonsw = WSeasons.to_csv(SAVED + 'seasons-womens.csv', index=False)"
   ]
  }
 ],
 "metadata": {
  "kernelspec": {
   "display_name": "Py 3.09 (mlops)",
   "language": "python",
   "name": "mlops"
  },
  "language_info": {
   "codemirror_mode": {
    "name": "ipython",
    "version": 3
   },
   "file_extension": ".py",
   "mimetype": "text/x-python",
   "name": "python",
   "nbconvert_exporter": "python",
   "pygments_lexer": "ipython3",
   "version": "3.9.15"
  }
 },
 "nbformat": 4,
 "nbformat_minor": 5
}
