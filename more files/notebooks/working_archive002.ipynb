{
 "cells": [
  {
   "cell_type": "code",
   "execution_count": 1,
   "id": "2a6c46bb-abf4-420f-b9d6-02c126fe92ab",
   "metadata": {},
   "outputs": [],
   "source": [
    "# For working with files\n",
    "import os\n",
    "import re\n",
    "import csv\n",
    "\n",
    "# For manipulating data\n",
    "import numpy as np\n",
    "import pandas as pd\n",
    "\n",
    "# For manipulating dates\n",
    "import datetime\n",
    "\n",
    "# For getting geographic locations and distances\n",
    "from geopy.distance import geodesic\n",
    "from geopy.exc import GeocoderTimedOut\n",
    "from geopy.geocoders import Nominatim"
   ]
  },
  {
   "cell_type": "markdown",
   "id": "e311e9d6-2b5a-4eb3-b95c-149b24ac9181",
   "metadata": {
    "tags": []
   },
   "source": [
    "#### **Load Data**"
   ]
  },
  {
   "cell_type": "code",
   "execution_count": 2,
   "id": "cad5dfa4-2f5d-48c6-82c1-4265ca6fe817",
   "metadata": {},
   "outputs": [],
   "source": [
    "# Specify where the data files are located locally\n",
    "DATA_DIR = 'data/saved/'"
   ]
  },
  {
   "cell_type": "markdown",
   "id": "f69d2161-cef0-4e7d-a93a-be5d8e9e1507",
   "metadata": {},
   "source": [
    "##### **Data Section 1 - SEASONS**"
   ]
  },
  {
   "cell_type": "code",
   "execution_count": 3,
   "id": "a2f811a2-a145-4092-ae39-0b3e3dba907b",
   "metadata": {},
   "outputs": [],
   "source": [
    "# Load MENS and WOMENS Seasons as dataframes:\n",
    "seasonsm = pd.read_csv(DATA_DIR + 'seasons-mens.csv')\n",
    "seasonsw = pd.read_csv(DATA_DIR + 'seasons-womens.csv')"
   ]
  },
  {
   "cell_type": "code",
   "execution_count": 4,
   "id": "1d14c612-6b6a-4e75-80c0-2ad400b5756e",
   "metadata": {},
   "outputs": [
    {
     "name": "stdout",
     "output_type": "stream",
     "text": [
      "shape (mens): (14, 6) shape (womens): (14, 6)\n",
      "SEASONS (mens): Index(['Season', 'StartDate', 'RegionW', 'RegionX', 'RegionY', 'RegionZ'], dtype='object')\n"
     ]
    }
   ],
   "source": [
    "# Show Seasons shape and columns\n",
    "print('shape (mens):', seasonsm.shape, 'shape (womens):', seasonsw.shape)\n",
    "print('SEASONS (mens):', seasonsm.columns)"
   ]
  },
  {
   "cell_type": "code",
   "execution_count": null,
   "id": "ff64a2e7-6024-44e2-8f19-29b29aa08783",
   "metadata": {},
   "outputs": [],
   "source": [
    "seasons = seasonsm.Season.unique()"
   ]
  },
  {
   "cell_type": "markdown",
   "id": "331c6af6-5e04-4708-8f2b-c2921973f357",
   "metadata": {},
   "source": [
    "##### **Data Section 1 - CONFERENCES**"
   ]
  },
  {
   "cell_type": "code",
   "execution_count": 6,
   "id": "84539a64-5ac0-4438-b13c-a9b8a4c5b256",
   "metadata": {},
   "outputs": [],
   "source": [
    "conferencesm = pd.read_csv(DATA_DIR + 'conferences-mens.csv')\n",
    "conferencesw = pd.read_csv(DATA_DIR + 'conferences-womens.csv')"
   ]
  },
  {
   "cell_type": "code",
   "execution_count": 7,
   "id": "1732919e-358b-465f-bf0b-668e0bf9b2f2",
   "metadata": {},
   "outputs": [
    {
     "name": "stdout",
     "output_type": "stream",
     "text": [
      "shape (mens): (4913, 11) shape (womens): (4883, 11)\n",
      "CONFERENCES (mens): Index(['Season', 'TeamID', 'ConfAbbrev', 'Conference', 'ConfRank', 'ConfSRS',\n",
      "       'ConfSOS', 'WinPCT', 'Wins', 'Losses', 'Schools'],\n",
      "      dtype='object')\n"
     ]
    }
   ],
   "source": [
    "# Show Seasons shape and columns\n",
    "print('shape (mens):', conferencesm.shape, 'shape (womens):', conferencesw.shape)\n",
    "print('CONFERENCES (mens):', conferencesm.columns)"
   ]
  },
  {
   "cell_type": "code",
   "execution_count": null,
   "id": "a07621ed-2100-48f2-b543-1cc7930b210b",
   "metadata": {},
   "outputs": [],
   "source": [
    "conferences = conferencesm.Conference.unique()"
   ]
  },
  {
   "cell_type": "code",
   "execution_count": 16,
   "id": "64455642-f3f6-46c7-b260-5d338ea606d9",
   "metadata": {},
   "outputs": [
    {
     "data": {
      "text/html": [
       "<div>\n",
       "<style scoped>\n",
       "    .dataframe tbody tr th:only-of-type {\n",
       "        vertical-align: middle;\n",
       "    }\n",
       "\n",
       "    .dataframe tbody tr th {\n",
       "        vertical-align: top;\n",
       "    }\n",
       "\n",
       "    .dataframe thead th {\n",
       "        text-align: right;\n",
       "    }\n",
       "</style>\n",
       "<table border=\"1\" class=\"dataframe\">\n",
       "  <thead>\n",
       "    <tr style=\"text-align: right;\">\n",
       "      <th></th>\n",
       "      <th>Season</th>\n",
       "      <th>TeamID</th>\n",
       "      <th>ConfAbbrev</th>\n",
       "      <th>Conference</th>\n",
       "      <th>ConfRank</th>\n",
       "      <th>ConfSRS</th>\n",
       "      <th>ConfSOS</th>\n",
       "      <th>WinPCT</th>\n",
       "      <th>Wins</th>\n",
       "      <th>Losses</th>\n",
       "      <th>Schools</th>\n",
       "    </tr>\n",
       "  </thead>\n",
       "  <tbody>\n",
       "    <tr>\n",
       "      <th>0</th>\n",
       "      <td>2010</td>\n",
       "      <td>1102</td>\n",
       "      <td>mwc</td>\n",
       "      <td>Mountain West Conference</td>\n",
       "      <td>7</td>\n",
       "      <td>5.68</td>\n",
       "      <td>3.84</td>\n",
       "      <td>0.584459</td>\n",
       "      <td>173</td>\n",
       "      <td>123</td>\n",
       "      <td>9</td>\n",
       "    </tr>\n",
       "    <tr>\n",
       "      <th>1</th>\n",
       "      <td>2010</td>\n",
       "      <td>1103</td>\n",
       "      <td>mac</td>\n",
       "      <td>Mid-American Conference</td>\n",
       "      <td>15</td>\n",
       "      <td>-2.25</td>\n",
       "      <td>-1.27</td>\n",
       "      <td>0.506494</td>\n",
       "      <td>195</td>\n",
       "      <td>190</td>\n",
       "      <td>12</td>\n",
       "    </tr>\n",
       "    <tr>\n",
       "      <th>2</th>\n",
       "      <td>2010</td>\n",
       "      <td>1104</td>\n",
       "      <td>sec</td>\n",
       "      <td>Southeastern Conference</td>\n",
       "      <td>5</td>\n",
       "      <td>10.71</td>\n",
       "      <td>6.47</td>\n",
       "      <td>0.601990</td>\n",
       "      <td>242</td>\n",
       "      <td>160</td>\n",
       "      <td>12</td>\n",
       "    </tr>\n",
       "    <tr>\n",
       "      <th>3</th>\n",
       "      <td>2010</td>\n",
       "      <td>1105</td>\n",
       "      <td>swac</td>\n",
       "      <td>Southwest Athletic Conference</td>\n",
       "      <td>32</td>\n",
       "      <td>-18.01</td>\n",
       "      <td>-11.01</td>\n",
       "      <td>0.389610</td>\n",
       "      <td>120</td>\n",
       "      <td>188</td>\n",
       "      <td>10</td>\n",
       "    </tr>\n",
       "    <tr>\n",
       "      <th>4</th>\n",
       "      <td>2010</td>\n",
       "      <td>1106</td>\n",
       "      <td>swac</td>\n",
       "      <td>Southwest Athletic Conference</td>\n",
       "      <td>32</td>\n",
       "      <td>-18.01</td>\n",
       "      <td>-11.01</td>\n",
       "      <td>0.389610</td>\n",
       "      <td>120</td>\n",
       "      <td>188</td>\n",
       "      <td>10</td>\n",
       "    </tr>\n",
       "  </tbody>\n",
       "</table>\n",
       "</div>"
      ],
      "text/plain": [
       "   Season  TeamID ConfAbbrev                     Conference  ConfRank  \\\n",
       "0    2010    1102        mwc       Mountain West Conference         7   \n",
       "1    2010    1103        mac        Mid-American Conference        15   \n",
       "2    2010    1104        sec        Southeastern Conference         5   \n",
       "3    2010    1105       swac  Southwest Athletic Conference        32   \n",
       "4    2010    1106       swac  Southwest Athletic Conference        32   \n",
       "\n",
       "   ConfSRS  ConfSOS    WinPCT  Wins  Losses  Schools  \n",
       "0     5.68     3.84  0.584459   173     123        9  \n",
       "1    -2.25    -1.27  0.506494   195     190       12  \n",
       "2    10.71     6.47  0.601990   242     160       12  \n",
       "3   -18.01   -11.01  0.389610   120     188       10  \n",
       "4   -18.01   -11.01  0.389610   120     188       10  "
      ]
     },
     "execution_count": 16,
     "metadata": {},
     "output_type": "execute_result"
    }
   ],
   "source": [
    "#conferencesm[conferencesm['TeamID'] == 1102]\n",
    "conferencesm.head()"
   ]
  },
  {
   "cell_type": "code",
   "execution_count": 14,
   "id": "bd781e13-2e05-4670-a481-2ef6f3e40de8",
   "metadata": {},
   "outputs": [],
   "source": [
    "# Group Conferences dataframe by 'Season' and 'TeamID' to get totals by season\n",
    "mens_byseason = conferencesm.groupby('Season')['TeamID'].nunique()\n",
    "womens_byseason = conferencesw.groupby('Season')['TeamID'].nunique()"
   ]
  },
  {
   "cell_type": "markdown",
   "id": "5457f515-5f13-4012-ac96-cab261e89263",
   "metadata": {
    "tags": []
   },
   "source": [
    "##### **Data Section 2 - TEAMS**"
   ]
  },
  {
   "cell_type": "code",
   "execution_count": null,
   "id": "a3404eef-bd47-4b9b-bf16-5a40eb20731f",
   "metadata": {},
   "outputs": [],
   "source": [
    "# Create lists of Seasons, Men TeamIDs, and Womens TeamIDs\n",
    "seasons = seasonsm.Season.unique()\n",
    "men_ids = np.delete(seasonsm['TeamID'].unique(), np.where(seasonsm['TeamID'].unique() == 1445))\n",
    "wom_ids = np.delete(seasonsw['TeamID'].unique(), np.where(seasonsw['TeamID'].unique() == 3445))"
   ]
  },
  {
   "cell_type": "code",
   "execution_count": null,
   "id": "f10435b3-bd72-4641-b22f-f3042018599f",
   "metadata": {},
   "outputs": [],
   "source": [
    "# Load MENS Teams dataframes:\n",
    "teamsm = pd.read_csv('teams-mens.csv')\n",
    "\n",
    "# Load WOMENS Teams dataframes:\n",
    "teamsw = pd.read_csv('teams-womens.csv')"
   ]
  },
  {
   "cell_type": "code",
   "execution_count": null,
   "id": "99d8f480-e5ec-45b0-8d25-d0266390c8e0",
   "metadata": {},
   "outputs": [],
   "source": [
    "# Show Seasons shape and columns\n",
    "print('shape (mens):', teamsm.shape, 'shape (womens):', teamsw.shape)\n",
    "print('TEAMS (both):', teamsm.columns)"
   ]
  },
  {
   "cell_type": "code",
   "execution_count": null,
   "id": "bb9c606d-fdd1-4480-a628-fbbdfc655bad",
   "metadata": {},
   "outputs": [],
   "source": []
  },
  {
   "cell_type": "code",
   "execution_count": null,
   "id": "0813086c-1291-4922-a00d-a42ac6a771d4",
   "metadata": {},
   "outputs": [],
   "source": [
    "# Creates Massey Oridnals dataframe:\n",
    "Ordinals = pd.read_csv(DATA_DIR + 'MMasseyOrdinals.csv')\n",
    "\n",
    "# Show sample output\n",
    "print('Ordinals:', Ordinals.shape)\n",
    "print('Ordinals:', Ordinals.columns)"
   ]
  },
  {
   "cell_type": "markdown",
   "id": "716370c2-4a17-4883-8187-d111117bed4d",
   "metadata": {},
   "source": [
    "##### **Data Section 3 - GAMES**"
   ]
  },
  {
   "cell_type": "code",
   "execution_count": null,
   "id": "9f264ca9-1dd7-47fa-9ca3-a00373836b37",
   "metadata": {},
   "outputs": [],
   "source": [
    "# Creates Detailed Regular Season dataframes:\n",
    "MSeasonDetail = pd.read_csv(DATA_DIR + 'MRegularSeasonDetailedResults.csv')\n",
    "WSeasonDetail = pd.read_csv(DATA_DIR + 'WRegularSeasonDetailedResults.csv')\n",
    "\n",
    "# Show sample output\n",
    "print('Mens:', MSeasonDetail.shape, 'Womens:', WSeasonDetail.shape)\n",
    "print('Mens:', MSeasonDetail.columns)"
   ]
  },
  {
   "cell_type": "code",
   "execution_count": null,
   "id": "ef2f7d1e-8d33-418e-bf17-8e7c0969fc9f",
   "metadata": {},
   "outputs": [],
   "source": [
    "# Creates Compact Regular Season dataframes (Optional):\n",
    "MSeasonCompact = pd.read_csv(DATA_DIR + 'MRegularSeasonCompactResults.csv')\n",
    "WSeasonCompact = pd.read_csv(DATA_DIR + 'WRegularSeasonCompactResults.csv')\n",
    "\n",
    "# Show sample output\n",
    "print('Mens:', MSeasonCompact.shape, 'Womens:', WSeasonCompact.shape)\n",
    "print('Mens:', MSeasonCompact.columns)"
   ]
  },
  {
   "cell_type": "code",
   "execution_count": null,
   "id": "0dbb3275-4212-434c-8ab1-404df9bc9a59",
   "metadata": {},
   "outputs": [],
   "source": [
    "# Creates Conference Tourney Games dataframe:\n",
    "MCTourneyGames = pd.read_csv(DATA_DIR + 'MConferenceTourneyGames.csv')\n",
    "\n",
    "# Show sample output\n",
    "print('C_Tourney:', MCTourneyGames.shape)\n",
    "print('C_Tourney:', MCTourneyGames.columns)"
   ]
  },
  {
   "cell_type": "code",
   "execution_count": null,
   "id": "a64f7527-3a57-4dc9-b591-811a33e2cec1",
   "metadata": {},
   "outputs": [],
   "source": [
    "# Creates Game Cities dataframes:\n",
    "MGameCities = pd.read_csv(DATA_DIR + 'MGameCities.csv')\n",
    "WGameCities = pd.read_csv(DATA_DIR + 'WGameCities.csv')\n",
    "\n",
    "# Show sample output\n",
    "print('Mens:', MGameCities.shape, 'Womens:', WGameCities.shape)\n",
    "print('Mens:', MGameCities.columns)"
   ]
  },
  {
   "cell_type": "code",
   "execution_count": null,
   "id": "d3f5ae0d-06e8-462d-ad12-8f49d74c9f29",
   "metadata": {},
   "outputs": [],
   "source": [
    "# Creates Cities dataframe:\n",
    "Cities = pd.read_csv(DATA_DIR + 'Cities.csv')\n",
    "\n",
    "# Show sample output\n",
    "print('Cities:', Cities.shape)\n",
    "print('Cities:', Cities.columns)"
   ]
  },
  {
   "cell_type": "markdown",
   "id": "efb5574b-e314-468b-b282-b0295804a604",
   "metadata": {},
   "source": [
    "##### **Data Section 4 - TOURNAMENTS**"
   ]
  },
  {
   "cell_type": "code",
   "execution_count": null,
   "id": "1bbba798-9030-44bb-8e26-912b21f70e74",
   "metadata": {},
   "outputs": [],
   "source": [
    "# Creates Detailed Tournament Results dataframes:\n",
    "MNCAADetail = pd.read_csv(DATA_DIR + 'MNCAATourneyDetailedResults.csv')\n",
    "WNCAADetail = pd.read_csv(DATA_DIR + 'WNCAATourneyDetailedResults.csv')\n",
    "\n",
    "# Show sample output\n",
    "print('Mens:', MNCAADetail.shape, 'Womens:', WNCAADetail.shape)\n",
    "print('Mens:', MNCAADetail.columns)"
   ]
  },
  {
   "cell_type": "code",
   "execution_count": null,
   "id": "ea1760f1-85a0-4305-8acf-5d5a16965b21",
   "metadata": {},
   "outputs": [],
   "source": [
    "# Creates Compact Tournament Results dataframes (Optional):\n",
    "MNCAACompact = pd.read_csv(DATA_DIR + 'MNCAATourneyCompactResults.csv')\n",
    "WNCAACompact = pd.read_csv(DATA_DIR + 'WNCAATourneyCompactResults.csv')\n",
    "\n",
    "# Show sample output\n",
    "print('Mens:', MNCAACompact.shape, 'Womens:', WNCAACompact.shape)\n",
    "print('Mens:', MNCAACompact.columns)"
   ]
  },
  {
   "cell_type": "code",
   "execution_count": null,
   "id": "a448e7e0-5886-4ddc-8748-b9ce6d647f8a",
   "metadata": {},
   "outputs": [],
   "source": [
    "# Creates Tournament Seed Matchup dataframes:\n",
    "MNCAASlots = pd.read_csv(DATA_DIR + 'MNCAATourneySlots.csv')\n",
    "WNCAASlots = pd.read_csv(DATA_DIR + 'WNCAATourneySlots.csv')\n",
    "\n",
    "# Show sample output\n",
    "print('Mens:', MNCAASlots.shape, 'Womens:', WNCAASlots.shape)\n",
    "print('Mens:', MNCAASlots.columns)"
   ]
  },
  {
   "cell_type": "code",
   "execution_count": null,
   "id": "d79a1382-be8b-4455-80d9-461f60b989c4",
   "metadata": {},
   "outputs": [],
   "source": [
    "# Creates a Tourney Seeding by Round dataframe: \n",
    "MNCAARounds = pd.read_csv(DATA_DIR + 'MNCAATourneySeedRoundSlots.csv')\n",
    "\n",
    "# Show sample output\n",
    "print('NCAA:', MNCAARounds.shape)\n",
    "print('NCAA:', MNCAARounds.columns)"
   ]
  },
  {
   "cell_type": "code",
   "execution_count": null,
   "id": "14f13d34-edb0-48a1-95b4-d10c8541cad6",
   "metadata": {},
   "outputs": [],
   "source": [
    "# Creates Tournament Seeding dataframes:\n",
    "MNCAASeeds = pd.read_csv(DATA_DIR + 'MNCAATourneySeeds.csv')\n",
    "WNCAASeeds = pd.read_csv(DATA_DIR + 'WNCAATourneySeeds.csv')\n",
    "\n",
    "# Show sample output\n",
    "print('Mens:', MNCAASeeds.shape, 'Womens:', WNCAASeeds.shape)\n",
    "print('Mens:', MNCAASeeds.columns)"
   ]
  },
  {
   "cell_type": "code",
   "execution_count": null,
   "id": "e1d083ed-b178-4030-b4cc-3134bae128e9",
   "metadata": {},
   "outputs": [],
   "source": [
    "# Creates Compact Secondary Tournament Results dataframe:\n",
    "MSTourneyCompact = pd.read_csv(DATA_DIR + 'MSecondaryTourneyCompactResults.csv')\n",
    "\n",
    "# Show sample output\n",
    "print('S_Tourney:', MSTourneyCompact.shape)\n",
    "print('S_Tourney:', MSTourneyCompact.columns)"
   ]
  },
  {
   "cell_type": "code",
   "execution_count": null,
   "id": "41fd7e33-9815-45c7-a05a-6a1262d9a7fb",
   "metadata": {},
   "outputs": [],
   "source": [
    "# Creates Secondary Tournament Games dataframe:\n",
    "MCTourneyGames = pd.read_csv(DATA_DIR + 'MSecondaryTourneyTeams.csv')\n",
    "\n",
    "# Show sample output\n",
    "print('S_Tourney:', MCTourneyGames.shape)\n",
    "print('S_Tourney:', MCTourneyGames.columns)"
   ]
  },
  {
   "cell_type": "markdown",
   "id": "b6c7370f-8425-4582-b1f4-fd1262b2c466",
   "metadata": {},
   "source": [
    "##### **Data Section 5 - FORECASTS**"
   ]
  },
  {
   "cell_type": "code",
   "execution_count": null,
   "id": "4bdfde58-d490-4774-933d-4b605fd9178e",
   "metadata": {},
   "outputs": [],
   "source": [
    "# Creates Compact Tournament Results dataframes (Optional):\n",
    "Submission2023 = pd.read_csv(DATA_DIR + 'SampleSubmission2023.csv')\n",
    "SubmissionWarmup = pd.read_csv(DATA_DIR + 'SampleSubmissionWarmup.csv')\n",
    "\n",
    "# Show sample output\n",
    "print('2023:', Submission2023.shape, 'Warmup:', SubmissionWarmup.shape)\n",
    "Submission2023.head()"
   ]
  },
  {
   "cell_type": "markdown",
   "id": "c5ec61fc-9180-4e10-bc42-648f31cdf0da",
   "metadata": {
    "tags": []
   },
   "source": [
    "#### **Build Tables**"
   ]
  },
  {
   "cell_type": "code",
   "execution_count": null,
   "id": "accbdcf1-3089-4251-8a72-76f0196567a6",
   "metadata": {},
   "outputs": [],
   "source": []
  },
  {
   "cell_type": "code",
   "execution_count": null,
   "id": "d36c803a-90f1-4d23-82bd-9c92ae24f7ea",
   "metadata": {},
   "outputs": [],
   "source": []
  },
  {
   "cell_type": "code",
   "execution_count": null,
   "id": "821f4df8-749f-4b84-b226-22040e4b1d5b",
   "metadata": {},
   "outputs": [],
   "source": []
  },
  {
   "cell_type": "code",
   "execution_count": null,
   "id": "cfda735f-cc15-4b2c-9a31-12cccb8a5606",
   "metadata": {},
   "outputs": [],
   "source": []
  },
  {
   "cell_type": "code",
   "execution_count": null,
   "id": "1b544c1e-9f21-4276-afaf-cde0249a12c8",
   "metadata": {},
   "outputs": [],
   "source": []
  },
  {
   "cell_type": "code",
   "execution_count": null,
   "id": "03add829-b8c5-4222-9a07-1c838ae0684e",
   "metadata": {},
   "outputs": [],
   "source": []
  },
  {
   "cell_type": "code",
   "execution_count": null,
   "id": "b7798fec-9e97-48ac-b90e-af8d1125425b",
   "metadata": {},
   "outputs": [],
   "source": []
  },
  {
   "cell_type": "code",
   "execution_count": null,
   "id": "54e4faec-fa3d-42a8-8b4a-f0195fdef265",
   "metadata": {},
   "outputs": [],
   "source": []
  },
  {
   "cell_type": "code",
   "execution_count": null,
   "id": "e0bdda40-6b75-4bc9-98b2-123ffa797ab6",
   "metadata": {},
   "outputs": [],
   "source": []
  },
  {
   "cell_type": "code",
   "execution_count": null,
   "id": "a8a61ed6-14c7-4cf7-ac12-cb6f1b90d000",
   "metadata": {},
   "outputs": [],
   "source": []
  },
  {
   "cell_type": "code",
   "execution_count": null,
   "id": "61c56842-95a2-4023-846e-97844dc1dd69",
   "metadata": {},
   "outputs": [],
   "source": []
  },
  {
   "cell_type": "code",
   "execution_count": null,
   "id": "41d6783b-9640-4e76-a089-2f1fb46320ff",
   "metadata": {},
   "outputs": [],
   "source": [
    "GAMES = MRegular.copy()\n",
    "\n",
    "# Show sample output\n",
    "print(GAMES.shape)\n",
    "GAMES.head(2)"
   ]
  },
  {
   "cell_type": "code",
   "execution_count": null,
   "id": "aa3b1a01-5452-4299-9333-c5fac9085028",
   "metadata": {},
   "outputs": [],
   "source": [
    "# Merge dataframes on 'Season' column\n",
    "merged_df = pd.merge(GAMES, MSeason, on='Season', how='inner')\n",
    "\n",
    "# Calculate date using vectorized operations\n",
    "merged_df['Date'] = merged_df['StartDate'] + pd.to_timedelta(merged_df['DayNum'], unit='D')\n",
    "\n",
    "# Update Games with the calculated dates\n",
    "GAMES['Date'] = merged_df['Date']\n",
    "\n",
    "# Show sample output\n",
    "print(GAMES.shape)\n",
    "GAMES.tail(2)"
   ]
  },
  {
   "cell_type": "code",
   "execution_count": null,
   "id": "85551283-a266-453c-a009-e1f320f713fa",
   "metadata": {},
   "outputs": [],
   "source": [
    "# Merge MTeamConferences with MTeams dataframes on 'TeamID' column\n",
    "df1 = pd.read_csv(DATA_DIR + 'MTeamConferences.csv')\n",
    "df2 = Mens.copy()\n",
    "df3 = pd.merge(df1, df2, on='TeamID', how='left')\n",
    "print('df1:', df1.shape, 'df2:', df2.shape, 'df3:', df3.shape)\n",
    "\n",
    "# Merge MTeamConferences with MTeams dataframes on 'TeamID' column\n",
    "df4 = df3.copy()\n",
    "df5 = pd.read_csv(DATA_DIR + 'Conferences.csv')\n",
    "df6 = pd.merge(df4, df5, on='ConfAbbrev', how='left')\n",
    "print('df4:', df4.shape, 'df5:', df5.shape, 'df6:', df6.shape)\n",
    "\n",
    "new_order = [0, 1, 3, 4, 5, 2, 6]\n",
    "new_names = {'Season':'Season', 'TeamID':'TeamID', 'ConfAbbrev':'ConfID', 'TeamName':'TeamName', 'FirstD1Season':'FirstD1', 'LastD1Season':'LastD1', 'Description':'ConfName'}\n",
    "\n",
    "df6 = df6.iloc[:,new_order].rename(columns=new_names)\n",
    "\n",
    "df6.head()"
   ]
  },
  {
   "cell_type": "code",
   "execution_count": null,
   "id": "5095b10d-7028-48d5-9a86-6c1738e85bf9",
   "metadata": {},
   "outputs": [],
   "source": [
    "df1[(df1['Season'] <= 1999) - (df1['Season'] > 2000)]['ConfAbbrev']"
   ]
  },
  {
   "cell_type": "markdown",
   "id": "381e57a3-849d-4c20-b795-2e71988f4983",
   "metadata": {
    "tags": []
   },
   "source": [
    "#### **Custom Functions**"
   ]
  },
  {
   "cell_type": "code",
   "execution_count": null,
   "id": "9978602b-8682-4dba-9803-8ec8759e8dbe",
   "metadata": {},
   "outputs": [],
   "source": []
  },
  {
   "cell_type": "code",
   "execution_count": null,
   "id": "3acfb80c-9ad0-49a4-bf8a-633a68b3ea25",
   "metadata": {
    "jupyter": {
     "source_hidden": true
    },
    "tags": []
   },
   "outputs": [],
   "source": [
    "def store_day_zero(file):\n",
    "    \"\"\"\n",
    "    Converts a CSV file with six columns (Season, DayZero, RegionW, RegionX, RegionY, RegionZ) to TWO dictionaries: \n",
    "    (1) with Season as the key and DayZero as the value; and \n",
    "    (2) with Season as the key and the four regions names as the value (in tuple)\n",
    "\n",
    "    Parameters:\n",
    "    file (str): The path and name of the CSV file to convert.\n",
    "\n",
    "    Returns:\n",
    "    Returns two dictionaries for DayZero and (RegionW, RegionX, RegionY, RegionZ) using Season as the key.\n",
    "\n",
    "    Use:\n",
    "    (1) Use to get the date for any game using Season as key eg. dayz(2022) outputs 2021-11-01\n",
    "    (2) Use to get the four regions for any season using Season as key eg. dayz(2022) outputs (East, West, Midwest, South)\n",
    "    \"\"\"\n",
    "\n",
    "    # Create five dictionaries with Season as the key and the other columns as the value\n",
    "    dict_zero = {}\n",
    "    dict_w = {}\n",
    "    dict_x = {}\n",
    "    dict_y = {}\n",
    "    dict_z = {}\n",
    "\n",
    "    with open(file, 'r', encoding='latin-1') as csvfile:\n",
    "        reader = csv.reader(csvfile)\n",
    "        #header = next(reader) # skip header row\n",
    "        for row in reader:\n",
    "            # Extract the values from the row\n",
    "            season, day_zero, region_w, region_x, region_y, region_z = row\n",
    "            \n",
    "            # Populate the dictionaries\n",
    "            dict_zero.setdefault(season, []).append(day_zero)\n",
    "            dict_w.setdefault(season, []).append(region_w)\n",
    "            dict_x.setdefault(season, []).append(region_x)\n",
    "            dict_y.setdefault(season, []).append(region_y)\n",
    "            dict_z.setdefault(season, []).append(region_z)\n",
    "\n",
    "    # Return the dictionaries as a tuple\n",
    "    return dict_zero, dict_w, dict_x, dict_y, dict_z"
   ]
  },
  {
   "cell_type": "code",
   "execution_count": null,
   "id": "6556d540-fef7-4b50-a379-527d5243a705",
   "metadata": {},
   "outputs": [],
   "source": []
  },
  {
   "cell_type": "code",
   "execution_count": null,
   "id": "a1abbd21-529f-428f-9ebb-73da042608a2",
   "metadata": {},
   "outputs": [],
   "source": []
  },
  {
   "cell_type": "code",
   "execution_count": null,
   "id": "530261c0-03ce-4b78-8eae-e49e0efd2d31",
   "metadata": {},
   "outputs": [],
   "source": []
  },
  {
   "cell_type": "code",
   "execution_count": null,
   "id": "2a3bedce-b050-48c3-af81-67c8370c5a89",
   "metadata": {},
   "outputs": [],
   "source": []
  },
  {
   "cell_type": "code",
   "execution_count": null,
   "id": "756dc940-75bd-4e9a-82e7-7f37adb28ad7",
   "metadata": {},
   "outputs": [],
   "source": []
  }
 ],
 "metadata": {
  "kernelspec": {
   "display_name": "Py 3.09 (mlops)",
   "language": "python",
   "name": "mlops"
  },
  "language_info": {
   "codemirror_mode": {
    "name": "ipython",
    "version": 3
   },
   "file_extension": ".py",
   "mimetype": "text/x-python",
   "name": "python",
   "nbconvert_exporter": "python",
   "pygments_lexer": "ipython3",
   "version": "3.9.15"
  }
 },
 "nbformat": 4,
 "nbformat_minor": 5
}
