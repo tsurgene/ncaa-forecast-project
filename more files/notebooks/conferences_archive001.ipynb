{
 "cells": [
  {
   "cell_type": "code",
   "execution_count": 2,
   "id": "7c82c553-71c9-42ef-a773-5630ba53ea2f",
   "metadata": {},
   "outputs": [],
   "source": [
    "# Import Libraries\n",
    "import pandas as pd"
   ]
  },
  {
   "cell_type": "code",
   "execution_count": 1,
   "id": "17018e18-df9b-4e45-8781-aeffbad41673",
   "metadata": {},
   "outputs": [],
   "source": [
    "# Specify where the data files are located locally\n",
    "KAGGLE = 'data/march-machine-learning-mania-2023/'\n",
    "SPORTS = 'data/sports-reference/'\n",
    "SAVED = 'data/saved/'"
   ]
  },
  {
   "cell_type": "markdown",
   "id": "42704c58-1201-42ab-908e-b898b37de816",
   "metadata": {},
   "source": [
    "##### **Data Section 1 - CONFERENCES**"
   ]
  },
  {
   "cell_type": "code",
   "execution_count": 3,
   "id": "b933ae33-e3a8-425a-ac42-20da293a1f59",
   "metadata": {},
   "outputs": [
    {
     "name": "stdout",
     "output_type": "stream",
     "text": [
      "MTeamConfs: (12662, 3) WTeamConfs: (8768, 3)\n",
      "MTeamConfs: Index(['Season', 'TeamID', 'ConfAbbrev'], dtype='object')\n"
     ]
    }
   ],
   "source": [
    "# Creates Team Conferences dataframes:\n",
    "MTeamConfs = pd.read_csv(DATA_DIR + 'MTeamConferences.csv')\n",
    "WTeamConfs = pd.read_csv(DATA_DIR + 'WTeamConferences.csv')\n",
    "\n",
    "# Show sample output\n",
    "print('MTeamConfs:', MTeamConfs.shape, 'WTeamConfs:', WTeamConfs.shape)\n",
    "print('MTeamConfs:', MTeamConfs.columns)"
   ]
  },
  {
   "cell_type": "code",
   "execution_count": 4,
   "id": "9127908d-5387-448d-a677-beab75b7c89d",
   "metadata": {},
   "outputs": [
    {
     "name": "stdout",
     "output_type": "stream",
     "text": [
      "MTeamConfs (after merge): (4913, 4) WTeamConfs (after merge): (4883, 4)\n",
      "MTeamConfs (after merge): Index(['Season', 'TeamID', 'ConfAbbrev', 'Description'], dtype='object')\n"
     ]
    }
   ],
   "source": [
    "# Reduce size of 'Team Conferences' dataframes (for the year 2010 and later)\n",
    "df1m = MTeamConfs[MTeamConfs['Season'] >= 2010].copy()\n",
    "df1w = WTeamConfs[WTeamConfs['Season'] >= 2010].copy()\n",
    "\n",
    "df2b = pd.read_csv(DATA_DIR + 'Conferences.csv') # add Conferences dataframe:\n",
    "\n",
    "# Merge 'Team Conferences' with 'Conferences' dataframes on 'ConfAbbrev' column\n",
    "MTeamConfs = pd.merge(df1m, df2b, on='ConfAbbrev', how='left')\n",
    "WTeamConfs = pd.merge(df1w, df2b, on='ConfAbbrev', how='left')\n",
    "\n",
    "# Show sample output\n",
    "print('MTeamConfs (after merge):', MTeamConfs.shape, 'WTeamConfs (after merge):', WTeamConfs.shape)\n",
    "print('MTeamConfs (after merge):', MTeamConfs.columns)"
   ]
  },
  {
   "cell_type": "code",
   "execution_count": 5,
   "id": "5b488596-c313-43ea-bd31-477b81aa605c",
   "metadata": {},
   "outputs": [
    {
     "name": "stdout",
     "output_type": "stream",
     "text": [
      "MConfRanks: (4913, 12) WConfRanks: (4883, 12)\n",
      "MConfRanks: Index(['Season', 'TeamID', 'ConfAbbrev', 'Description', 'ConfRank',\n",
      "       'Conference', 'Schools', 'Wins', 'Losses', 'WinPCT', 'ConfSRS',\n",
      "       'ConfSOS'],\n",
      "      dtype='object')\n"
     ]
    }
   ],
   "source": [
    "# Copy 'Team Conferences' dataframes\n",
    "df3m = MTeamConfs.copy()\n",
    "df3w = WTeamConfs.copy()\n",
    "\n",
    "# Add in Team Conference Rankings (from sports-reference.com) as dataframes:\n",
    "df4m = pd.read_csv('MConferenceRankingSR.csv')\n",
    "df4w = pd.read_csv('WConferenceRankingSR.csv')\n",
    "\n",
    "# Merge 'Team Conferences' with 'Conference Rankings' dataframes on 'Season' and 'Conference' columns\n",
    "MConfRanks = pd.merge(df3m, df4m, how='left', left_on=['Season', 'Description'], right_on = ['Season', 'Conference'])\n",
    "WConfRanks = pd.merge(df3w, df4w, how='left', left_on=['Season', 'Description'], right_on = ['Season', 'Conference'])\n",
    "\n",
    "# Show sample output\n",
    "print('MConfRanks:', MConfRanks.shape, 'WConfRanks:', WConfRanks.shape)\n",
    "print('MConfRanks:', MConfRanks.columns)"
   ]
  },
  {
   "cell_type": "code",
   "execution_count": 6,
   "id": "9b34582f-0edc-484c-a2de-c0c419580630",
   "metadata": {},
   "outputs": [
    {
     "data": {
      "text/html": [
       "<div>\n",
       "<style scoped>\n",
       "    .dataframe tbody tr th:only-of-type {\n",
       "        vertical-align: middle;\n",
       "    }\n",
       "\n",
       "    .dataframe tbody tr th {\n",
       "        vertical-align: top;\n",
       "    }\n",
       "\n",
       "    .dataframe thead th {\n",
       "        text-align: right;\n",
       "    }\n",
       "</style>\n",
       "<table border=\"1\" class=\"dataframe\">\n",
       "  <thead>\n",
       "    <tr style=\"text-align: right;\">\n",
       "      <th></th>\n",
       "      <th>Season</th>\n",
       "      <th>TeamID</th>\n",
       "      <th>ConfAbbrev</th>\n",
       "      <th>Description</th>\n",
       "      <th>ConfRank</th>\n",
       "      <th>Conference</th>\n",
       "      <th>Schools</th>\n",
       "      <th>Wins</th>\n",
       "      <th>Losses</th>\n",
       "      <th>WinPCT</th>\n",
       "      <th>ConfSRS</th>\n",
       "      <th>ConfSOS</th>\n",
       "    </tr>\n",
       "  </thead>\n",
       "  <tbody>\n",
       "    <tr>\n",
       "      <th>0</th>\n",
       "      <td>2010</td>\n",
       "      <td>1102</td>\n",
       "      <td>mwc</td>\n",
       "      <td>Mountain West Conference</td>\n",
       "      <td>7.0</td>\n",
       "      <td>Mountain West Conference</td>\n",
       "      <td>9.0</td>\n",
       "      <td>173.0</td>\n",
       "      <td>123.0</td>\n",
       "      <td>0.584459459</td>\n",
       "      <td>5.68</td>\n",
       "      <td>3.84</td>\n",
       "    </tr>\n",
       "    <tr>\n",
       "      <th>1</th>\n",
       "      <td>2010</td>\n",
       "      <td>1103</td>\n",
       "      <td>mac</td>\n",
       "      <td>Mid-American Conference</td>\n",
       "      <td>15.0</td>\n",
       "      <td>Mid-American Conference</td>\n",
       "      <td>12.0</td>\n",
       "      <td>195.0</td>\n",
       "      <td>190.0</td>\n",
       "      <td>0.506493506</td>\n",
       "      <td>-2.25</td>\n",
       "      <td>-1.27</td>\n",
       "    </tr>\n",
       "    <tr>\n",
       "      <th>2</th>\n",
       "      <td>2010</td>\n",
       "      <td>1104</td>\n",
       "      <td>sec</td>\n",
       "      <td>Southeastern Conference</td>\n",
       "      <td>5.0</td>\n",
       "      <td>Southeastern Conference</td>\n",
       "      <td>12.0</td>\n",
       "      <td>242.0</td>\n",
       "      <td>160.0</td>\n",
       "      <td>0.60199005</td>\n",
       "      <td>10.71</td>\n",
       "      <td>6.47</td>\n",
       "    </tr>\n",
       "    <tr>\n",
       "      <th>3</th>\n",
       "      <td>2010</td>\n",
       "      <td>1105</td>\n",
       "      <td>swac</td>\n",
       "      <td>Southwest Athletic Conference</td>\n",
       "      <td>32.0</td>\n",
       "      <td>Southwest Athletic Conference</td>\n",
       "      <td>10.0</td>\n",
       "      <td>120.0</td>\n",
       "      <td>188.0</td>\n",
       "      <td>0.38961039</td>\n",
       "      <td>-18.01</td>\n",
       "      <td>-11.01</td>\n",
       "    </tr>\n",
       "    <tr>\n",
       "      <th>4</th>\n",
       "      <td>2010</td>\n",
       "      <td>1106</td>\n",
       "      <td>swac</td>\n",
       "      <td>Southwest Athletic Conference</td>\n",
       "      <td>32.0</td>\n",
       "      <td>Southwest Athletic Conference</td>\n",
       "      <td>10.0</td>\n",
       "      <td>120.0</td>\n",
       "      <td>188.0</td>\n",
       "      <td>0.38961039</td>\n",
       "      <td>-18.01</td>\n",
       "      <td>-11.01</td>\n",
       "    </tr>\n",
       "  </tbody>\n",
       "</table>\n",
       "</div>"
      ],
      "text/plain": [
       "   Season  TeamID ConfAbbrev                    Description  ConfRank  \\\n",
       "0    2010    1102        mwc       Mountain West Conference       7.0   \n",
       "1    2010    1103        mac        Mid-American Conference      15.0   \n",
       "2    2010    1104        sec        Southeastern Conference       5.0   \n",
       "3    2010    1105       swac  Southwest Athletic Conference      32.0   \n",
       "4    2010    1106       swac  Southwest Athletic Conference      32.0   \n",
       "\n",
       "                      Conference  Schools   Wins  Losses       WinPCT  \\\n",
       "0       Mountain West Conference      9.0  173.0   123.0  0.584459459   \n",
       "1        Mid-American Conference     12.0  195.0   190.0  0.506493506   \n",
       "2        Southeastern Conference     12.0  242.0   160.0   0.60199005   \n",
       "3  Southwest Athletic Conference     10.0  120.0   188.0   0.38961039   \n",
       "4  Southwest Athletic Conference     10.0  120.0   188.0   0.38961039   \n",
       "\n",
       "   ConfSRS  ConfSOS  \n",
       "0     5.68     3.84  \n",
       "1    -2.25    -1.27  \n",
       "2    10.71     6.47  \n",
       "3   -18.01   -11.01  \n",
       "4   -18.01   -11.01  "
      ]
     },
     "execution_count": 6,
     "metadata": {},
     "output_type": "execute_result"
    }
   ],
   "source": [
    "MConfRanks.head()"
   ]
  },
  {
   "cell_type": "code",
   "execution_count": null,
   "id": "790bb0e6-f2c2-4255-a7a6-3b40b9aac591",
   "metadata": {},
   "outputs": [],
   "source": []
  },
  {
   "cell_type": "code",
   "execution_count": null,
   "id": "dc1ace33-4f35-42db-8be1-b44336c71fc6",
   "metadata": {},
   "outputs": [],
   "source": []
  },
  {
   "cell_type": "code",
   "execution_count": null,
   "id": "d2d114b1-3ea6-457f-833d-b003286d2d62",
   "metadata": {},
   "outputs": [],
   "source": []
  },
  {
   "cell_type": "code",
   "execution_count": null,
   "id": "baf60adb-21b5-4480-8f77-72961f32d668",
   "metadata": {},
   "outputs": [],
   "source": []
  },
  {
   "cell_type": "code",
   "execution_count": null,
   "id": "904c6c81-d72f-4086-aef9-efbfd6d063c0",
   "metadata": {},
   "outputs": [],
   "source": [
    "# Creates Seasons dataframes:\n",
    "MSeasons = pd.read_csv(DATA_DIR + 'MSeasons.csv')\n",
    "WSeasons = pd.read_csv(DATA_DIR + 'WSeasons.csv')\n",
    "\n",
    "# Create a new field called 'StartDate' as DayZero converted to datetime \n",
    "MSeasons['StartDate'] = pd.to_datetime(MSeasons['DayZero'])\n",
    "WSeasons['StartDate'] = pd.to_datetime(WSeasons['DayZero'])\n",
    "\n",
    "# Show sample output\n",
    "print('Mens:', MSeasons.shape, 'Womens:', WSeasons.shape)\n",
    "print('Mens:', MSeasons.columns)"
   ]
  },
  {
   "cell_type": "code",
   "execution_count": null,
   "id": "e0f2b51c-48b3-46e9-b05f-9adfe4c75459",
   "metadata": {},
   "outputs": [],
   "source": [
    "# Copy 'Team Conferences' dataframes for merge\n",
    "df3m = MTeamConfs.copy()\n",
    "df3w = WTeamConfs.copy()\n",
    "\n",
    "# Reduce size of 'Seasons' dataframes (for the year 2010 and later)\n",
    "df4m = MSeasons[MSeasons['Season'] >= 2010].copy()\n",
    "df4w = WSeasons[WSeasons['Season'] >= 2010].copy()\n",
    "\n",
    "# Merge 'Team Conferences' with 'Seasons' dataframes on 'Season' column\n",
    "MTeamConfs = pd.merge(df3m, df4m, on='Season', how='left')\n",
    "WTeamConfs = pd.merge(df3w, df4w, on='Season', how='left')\n",
    "\n",
    "# Show sample output\n",
    "print('MTeamConfs (before):', df3m.shape, 'MSeasons:', df4m.shape, 'MTeamConfs (after):', MTeamConfs.shape)\n",
    "print('WTeamConfs (before):', df3w.shape, 'WSeasons:', df4w.shape, 'WTeamConfs (after):', WTeamConfs.shape)\n",
    "print('MTeamConfs (after merge):', MTeamConfs.columns)"
   ]
  },
  {
   "cell_type": "code",
   "execution_count": null,
   "id": "6569bbcc-7bd4-4cac-843c-b038d2dfa41a",
   "metadata": {},
   "outputs": [],
   "source": [
    "# Creates Team Coaches dataframe:\n",
    "MCoaches = pd.read_csv(DATA_DIR + 'MTeamCoaches.csv')\n",
    "\n",
    "# Show sample output\n",
    "print('MCoaches:', MCoaches.shape)\n",
    "print('MCoaches:', MCoaches.columns)"
   ]
  },
  {
   "cell_type": "code",
   "execution_count": null,
   "id": "d0fc7a7a-f926-459c-b117-b674816e979c",
   "metadata": {},
   "outputs": [],
   "source": [
    "# Reduce size of 'Coaches' dataframes (for the year 2010 and later)\n",
    "df5m = MCoaches[MCoaches['Season'] >= 2010].copy()\n",
    "\n",
    "# Create a new field called 'CoachChg' (fraction of season coached, between 0 and 1) \n",
    "df5m['CoachChg'] = df5m.apply(lambda x: (x['LastDayNum'] - x['FirstDayNum']) / 154, axis=1)\n",
    "\n",
    "# Drop unwanted columns\n",
    "df5m.drop(df5m.columns[[2, 3]], axis=1, inplace=True)\n",
    "\n",
    "# Rename dataframe\n",
    "MCoaches = df5m.copy()\n",
    "\n",
    "# Show sample output\n",
    "print('MCoaches:', MCoaches.shape)\n",
    "print('MCoaches:', MCoaches.columns)"
   ]
  },
  {
   "cell_type": "code",
   "execution_count": null,
   "id": "daf94755-5f2d-4a5f-95d7-a55cf1e6391b",
   "metadata": {},
   "outputs": [],
   "source": [
    "# Merge 'Team Conferences' with 'Coaches' dataframes on 'Season' and 'TeamID' columns\n",
    "MTeamConfs = pd.merge(MTeamConfs, MCoaches,  how='left', left_on=['Season', 'TeamID'], right_on = ['Season', 'TeamID'])\n",
    "\n",
    "# Reorder and drop unwanted columns from dataframe\n",
    "reo_mconfs = [0, 9, 4, 1, 2, 3, 5, 6, 7, 8, 11, 10]\n",
    "reo_wconfs = [0, 9, 4, 1, 2, 3, 5, 6, 7, 8]\n",
    "MTeamConfs = MTeamConfs.iloc[:,reo_mconfs].drop(columns=['DayZero'])\n",
    "WTeamConfs = WTeamConfs.iloc[:,reo_wconfs].drop(columns=['DayZero'])\n",
    "\n",
    "# Show sample output\n",
    "print('MTeamConfs (after merge):', MTeamConfs.shape, 'Missing:', MTeamConfs.isna().sum().sum())\n",
    "print('WTeamConfs (after merge):', WTeamConfs.shape, 'Missing:', WTeamConfs.isna().sum().sum())\n",
    "print('MTeamConfs (after merge):', MTeamConfs.columns)"
   ]
  },
  {
   "cell_type": "code",
   "execution_count": null,
   "id": "ee616923-132d-4656-a54f-f3a931efe617",
   "metadata": {},
   "outputs": [],
   "source": [
    "seasonsm = MTeamConfs.to_csv('seasons-mens.csv',index=False)\n",
    "seasonsw = WTeamConfs.to_csv('seasons-womens.csv',index=False)"
   ]
  }
 ],
 "metadata": {
  "kernelspec": {
   "display_name": "Py 3.09 (mlops)",
   "language": "python",
   "name": "mlops"
  },
  "language_info": {
   "codemirror_mode": {
    "name": "ipython",
    "version": 3
   },
   "file_extension": ".py",
   "mimetype": "text/x-python",
   "name": "python",
   "nbconvert_exporter": "python",
   "pygments_lexer": "ipython3",
   "version": "3.9.15"
  }
 },
 "nbformat": 4,
 "nbformat_minor": 5
}
