{
 "cells": [
  {
   "cell_type": "markdown",
   "id": "98ec4d71",
   "metadata": {
    "tags": []
   },
   "source": [
    "## **Final Project:** Forecasting the 2023 NCAA Basketball Tournaments\n",
    "**Course:** Spring 2023, MSDS 565 Predictive Modeling & Analytics <br>\n",
    "**Author:** Aleesa Mann and Cyruss Tsurgeon | **Date:** 20 Mar 2023"
   ]
  },
  {
   "cell_type": "markdown",
   "id": "56d436c2",
   "metadata": {
    "jp-MarkdownHeadingCollapsed": true,
    "tags": []
   },
   "source": [
    "### **Instructions** (Kaggle Competition: March Machine Learning Mania 2023)"
   ]
  },
  {
   "cell_type": "markdown",
   "id": "03e9bfaf-85cc-49a0-90a1-9216da0ada23",
   "metadata": {},
   "source": [
    "The evaluation methodology for 2023 has changed from prior editions of this competition. Submissions are now evaluated on the **Brier score** between the predicted probabilities and the actual game outcomes (this is equivalent to mean squared error in this context). This change was made to reduce the competitive \"distractions\" caused by the 0 and 1 boundaries of the previous log-loss metric (e.g. submitting rounded predictions to gamble on a given upset, or caring deeply about the 0.99 vs 0.999 distinction that log loss would reward/punish).\n",
    "\n",
    "**Submission File**\n",
    "\n",
    "The submission file format also has a revised format for 2023:\n",
    "\n",
    "1. **Kaggle has combined the Men's and Women's tournaments into one single competition.** Our submission file should contain predictions for both.\n",
    "\n",
    "2. **We will be predicting the hypothetical results for every possible team matchup, not just teams that are selected for the NCAA tournament.** This change was enacted to provide a longer time window to submit predictions for the 2023 tournament. Previously, the short time between Selection Sunday and the tournament tipoffs would require participants to quickly turn around updated predictions. By forecasting every possible outcome between every team, we can now submit a valid prediction at any point leading up to the tournaments.\n",
    "\n",
    "3. We are allowed as many predictions as we wish before the tournaments start, but **must select no more than two submissions we want to count towards scoring in the Kaggle competition**. Do not rely on automatic selection to pick your submissions, as there is no public leaderboard score and the system will select your earliest two submissions.\n"
   ]
  },
  {
   "cell_type": "markdown",
   "id": "5e6f14e6-cafc-417e-8ace-e031a6c42f1f",
   "metadata": {
    "jp-MarkdownHeadingCollapsed": true,
    "tags": []
   },
   "source": [
    "### **Problem Understanding and Definition**"
   ]
  },
  {
   "cell_type": "markdown",
   "id": "05b84ea1-60c5-41a1-959c-692cc7d91029",
   "metadata": {
    "jp-MarkdownHeadingCollapsed": true,
    "tags": []
   },
   "source": [
    "#### **Problem Understanding**"
   ]
  },
  {
   "cell_type": "markdown",
   "id": "67ccb33f-3e98-4a7d-b92e-0134dfb27dcf",
   "metadata": {},
   "source": [
    "**Overview:**   <Enter Text Here>"
   ]
  },
  {
   "cell_type": "markdown",
   "id": "3d6cc6ee-ebc1-44b6-bc34-f50db8a399ee",
   "metadata": {},
   "source": [
    "**Assumptions:**  <Enter Text Here>"
   ]
  },
  {
   "cell_type": "markdown",
   "id": "4c7cf273-26e3-44ad-af30-0f08adffb435",
   "metadata": {},
   "source": [
    "**Assignment:** <Enter Text Here>"
   ]
  },
  {
   "cell_type": "markdown",
   "id": "b0e97315-83de-42fa-b842-4c4b94bd03e8",
   "metadata": {
    "jp-MarkdownHeadingCollapsed": true,
    "tags": []
   },
   "source": [
    "#### **Problem Definition**"
   ]
  },
  {
   "cell_type": "markdown",
   "id": "792809f9-0547-45ad-8300-d483fab16002",
   "metadata": {},
   "source": [
    "**Problem:** <Enter Text Here>"
   ]
  },
  {
   "cell_type": "markdown",
   "id": "c04f24da-85a8-47ea-8602-ad42997fcec8",
   "metadata": {},
   "source": [
    "**Goals (High-level Solution):**  <Enter Text Here>"
   ]
  },
  {
   "cell_type": "markdown",
   "id": "97735059-de5a-4e1e-aa98-b536829125ff",
   "metadata": {},
   "source": [
    "**Methodology:** <Enter Text Here>"
   ]
  },
  {
   "cell_type": "markdown",
   "id": "3b5426ed-25ed-411c-a180-3b8aecf2f69a",
   "metadata": {},
   "source": [
    "**Metrics:**  <Enter Text Here>"
   ]
  },
  {
   "cell_type": "markdown",
   "id": "4fbc8ff1-0360-4e64-b491-bd19c8bc5175",
   "metadata": {
    "jp-MarkdownHeadingCollapsed": true,
    "tags": []
   },
   "source": [
    "#### **Libraries**"
   ]
  },
  {
   "cell_type": "code",
   "execution_count": null,
   "id": "728fbd2a-b3ec-4c6f-abdb-831f3fcd14b6",
   "metadata": {
    "tags": []
   },
   "outputs": [],
   "source": [
    "# For working with notebook\n",
    "import os\n",
    "import warnings\n",
    "\n",
    "# For manipulating data\n",
    "import pandas as pd\n",
    "import numpy as np"
   ]
  },
  {
   "cell_type": "markdown",
   "id": "31f64c47-53b0-43e1-8b66-9816dd43a824",
   "metadata": {
    "tags": []
   },
   "source": [
    "#### **Functions**"
   ]
  },
  {
   "cell_type": "markdown",
   "id": "d7b5ad92-f60c-47bb-b062-ac48fe92500f",
   "metadata": {
    "tags": []
   },
   "source": [
    "### **Data Collection and Preparation**"
   ]
  },
  {
   "cell_type": "markdown",
   "id": "858b9d1f-6d27-4dbc-a715-94e3fe9b310f",
   "metadata": {
    "tags": []
   },
   "source": [
    "#### **Background on Dataset**"
   ]
  },
  {
   "cell_type": "markdown",
   "id": "ea96f4e7",
   "metadata": {},
   "source": [
    "The data for this project are a collection of **30 csv files** distributed to the public as part of the Kaggle 2023 March Machine Learning Mania (Forecast the 2023 NCAA Basketball Tournaments) competition. By convention, when we identify a particular season, we will reference the year that the season ends (e.g. current season is 2023, not 2022 or 22-23).\n",
    "\n",
    "`NOTE:` In many cases there are more data (or additional files) provided for men's basketball than women's basketball."
   ]
  },
  {
   "cell_type": "markdown",
   "id": "696fa00b-b797-47d4-8b78-90d4bcf08c67",
   "metadata": {
    "tags": []
   },
   "source": [
    "#### **Data Section 1 - The Basics**"
   ]
  },
  {
   "cell_type": "markdown",
   "id": "a8917145-7e0b-4310-a34a-3f7863d17975",
   "metadata": {
    "jp-MarkdownHeadingCollapsed": true,
    "tags": []
   },
   "source": [
    "##### **Data Section 1 Files: (Teams)** MTeams.csv and WTeams.csv\n",
    "These files identify the different college teams present in the dataset."
   ]
  },
  {
   "cell_type": "markdown",
   "id": "7b59a770-55ca-4cdc-9d2c-59649fab40ef",
   "metadata": {},
   "source": [
    "- **TeamID** - a 4 digit id number, uniquely identifying each team.\n",
    "- **TeamName** - a compact spelling of the team's college name, 16 characters or fewer.\n",
    "- **FirstD1Season** - the first season in our dataset that the school was a Division-I school (column is only present in the men's data).\n",
    "- **LastD1Season** - the last season in our dataset that the school was a Division-I school (column is only present in the men's data)."
   ]
  },
  {
   "cell_type": "markdown",
   "id": "f1973d06-4bb9-45a0-8d99-7dcafcd8eed6",
   "metadata": {
    "tags": []
   },
   "source": [
    "##### **Data Section 1 Files: (Seasons)** MSeasons.csv and WSeasons.csv\n",
    "\n",
    "These files identify the different seasons included in the historical data, along with certain season-level properties. There are separate files for men's data (MSeasons) and women's data (WSeasons)."
   ]
  },
  {
   "cell_type": "markdown",
   "id": "aa273a4a-9860-4312-8755-5da47fda919e",
   "metadata": {
    "tags": []
   },
   "source": [
    "##### **Data Section 1 Files: (Seeds)** MNCAATourneySeeds.csv and WNCAATourneySeeds.csv\n",
    "\n",
    "These files identify the seeds for all teams in each NCAA® tournament, for all seasons of historical data."
   ]
  },
  {
   "cell_type": "markdown",
   "id": "fd82277a-820a-4c35-9244-2b6f0adb8d20",
   "metadata": {
    "tags": []
   },
   "source": [
    "##### **Data Section 1 Files: (Seasons)** MSeasons.csv and WSeasons.csv\n",
    "\n",
    "These files identify the different seasons included in the historical data, along with certain season-level properties. There are separate files for men's data (MSeasons) and women's data (WSeasons)."
   ]
  },
  {
   "cell_type": "markdown",
   "id": "32436d1c-f158-4edd-8c46-4d99e4be224e",
   "metadata": {
    "tags": []
   },
   "source": [
    "##### **Data Section 1 Files: (Seasons)** MSeasons.csv and WSeasons.csv\n",
    "\n",
    "These files identify the different seasons included in the historical data, along with certain season-level properties. There are separate files for men's data (MSeasons) and women's data (WSeasons)."
   ]
  },
  {
   "cell_type": "markdown",
   "id": "14900b4a-5300-496f-b89b-f840ff9aac79",
   "metadata": {
    "tags": []
   },
   "source": [
    "##### **Data Section 1 Files: (Seasons)** MSeasons.csv and WSeasons.csv\n",
    "\n",
    "These files identify the different seasons included in the historical data, along with certain season-level properties. There are separate files for men's data (MSeasons) and women's data (WSeasons)."
   ]
  },
  {
   "cell_type": "markdown",
   "id": "21f03c6d-7680-4d5c-bc2b-5228b3fdc6de",
   "metadata": {
    "tags": []
   },
   "source": [
    "#### **Data Section 2 - Team Box Scores**\n",
    "\n",
    "This section provides game-by-game stats at a team level (free throws attempted, defensive rebounds, turnovers, etc.) for all regular season, conference tournament, and NCAA® tournament games since the 2002-03 season (men) or since the 2009-10 season (women)."
   ]
  },
  {
   "cell_type": "markdown",
   "id": "abb82fb0-6b6a-41a4-8804-d12a5c288fe6",
   "metadata": {
    "tags": []
   },
   "source": [
    "#### **Data Section 3 - Geography**\n",
    "\n",
    "This section provides city locations of all regular season, conference tournament, and NCAA® tournament games since the 2009-10 season"
   ]
  },
  {
   "cell_type": "markdown",
   "id": "cae3022b-dbcb-4024-9128-604f239e393e",
   "metadata": {
    "tags": []
   },
   "source": [
    "#### **Data Section 4 - Public Rankings**\n",
    "\n",
    "This section provides weekly team rankings (men's teams only) for dozens of top rating systems - Pomeroy, Sagarin, RPI, ESPN, etc., since the 2002-2003 season"
   ]
  },
  {
   "cell_type": "markdown",
   "id": "8a6b8d15-29e2-4f35-acb5-5b39d2c3a844",
   "metadata": {
    "tags": []
   },
   "source": [
    "#### **Data Section 5 - Supplements**\n",
    "\n",
    "This section contains additional supporting information, including coaches, conference affiliations, alternative team name spellings, bracket structure, and game results for NIT and other postseason tournaments."
   ]
  },
  {
   "cell_type": "markdown",
   "id": "d25c68b7-2286-429b-a033-b5b66c249a0c",
   "metadata": {},
   "source": []
  },
  {
   "cell_type": "markdown",
   "id": "c8f718c4-8c5c-48ce-8f57-4ef9eb77b8fe",
   "metadata": {},
   "source": []
  },
  {
   "cell_type": "markdown",
   "id": "6f020f66-841d-4a15-b966-d0c4cb337eeb",
   "metadata": {},
   "source": []
  },
  {
   "cell_type": "markdown",
   "id": "c88c500e-c375-4ff8-9063-d873b9948491",
   "metadata": {},
   "source": []
  },
  {
   "cell_type": "markdown",
   "id": "d8c9726b-282e-4d79-98f6-05a155de72e3",
   "metadata": {},
   "source": []
  },
  {
   "cell_type": "markdown",
   "id": "d8e7329b-4431-41e8-874c-02a6f796ac3d",
   "metadata": {},
   "source": []
  },
  {
   "cell_type": "markdown",
   "id": "1d9453a2-1e2c-49fa-ab02-3cbe99b6da75",
   "metadata": {},
   "source": []
  },
  {
   "cell_type": "markdown",
   "id": "cbc0361a-a7d8-4848-9aa9-861f6185c0d4",
   "metadata": {},
   "source": []
  },
  {
   "cell_type": "markdown",
   "id": "860d4642-6f77-4873-87cd-48ee1321a3ab",
   "metadata": {},
   "source": []
  },
  {
   "cell_type": "markdown",
   "id": "057eacb0-89ba-4c36-b851-bd07eaf851cb",
   "metadata": {},
   "source": []
  },
  {
   "cell_type": "markdown",
   "id": "45d04a68-3430-41be-b13e-9d57fd420fb2",
   "metadata": {},
   "source": []
  },
  {
   "cell_type": "markdown",
   "id": "3edbd6f0-7add-4025-9a97-478310ba38f3",
   "metadata": {},
   "source": []
  },
  {
   "cell_type": "markdown",
   "id": "a27b7954-5a8d-44e7-9eb8-51892957b953",
   "metadata": {},
   "source": []
  },
  {
   "cell_type": "code",
   "execution_count": null,
   "id": "541a227b-fab1-46ea-b4c6-1f679cb8238f",
   "metadata": {},
   "outputs": [],
   "source": []
  },
  {
   "cell_type": "markdown",
   "id": "7221a157-605e-40b9-8808-cd762c6eb5da",
   "metadata": {
    "tags": []
   },
   "source": [
    "#### **Load Data**"
   ]
  },
  {
   "cell_type": "code",
   "execution_count": null,
   "id": "6344b7ca-81b1-4f9b-b338-157f5a83a54f",
   "metadata": {},
   "outputs": [],
   "source": []
  },
  {
   "cell_type": "code",
   "execution_count": null,
   "id": "c78750bf-cd09-4370-8353-2af4f0248215",
   "metadata": {},
   "outputs": [],
   "source": []
  },
  {
   "cell_type": "markdown",
   "id": "c95b28fc-7778-41ce-968e-ae99f29aef54",
   "metadata": {
    "jp-MarkdownHeadingCollapsed": true,
    "tags": []
   },
   "source": [
    "#### **Attribute Summary**"
   ]
  },
  {
   "cell_type": "code",
   "execution_count": null,
   "id": "93460e31-8069-483d-a1b8-2a72dbd460e2",
   "metadata": {},
   "outputs": [],
   "source": []
  },
  {
   "cell_type": "markdown",
   "id": "31ffd772-12a6-4148-9f8e-2ba6f2d2ab95",
   "metadata": {
    "tags": []
   },
   "source": [
    "##### **`Comments:`** attribute summary"
   ]
  },
  {
   "cell_type": "code",
   "execution_count": null,
   "id": "d647d6bf-ff62-45c7-b3f1-91175c98855b",
   "metadata": {},
   "outputs": [],
   "source": []
  },
  {
   "cell_type": "markdown",
   "id": "c3c391e3-1691-40ea-9aa6-82fa83f805ce",
   "metadata": {
    "jp-MarkdownHeadingCollapsed": true,
    "tags": []
   },
   "source": [
    "#### **Missing Values**"
   ]
  },
  {
   "cell_type": "code",
   "execution_count": null,
   "id": "64d3a33a-5a8f-48d6-acf6-4b78457449c1",
   "metadata": {},
   "outputs": [],
   "source": []
  },
  {
   "cell_type": "markdown",
   "id": "b61bff34-886e-4f4c-9729-755060c74a13",
   "metadata": {
    "tags": []
   },
   "source": [
    "##### **`Comments:`** missing values"
   ]
  },
  {
   "cell_type": "markdown",
   "id": "b52e5d4e-ad50-46ac-b470-7361670d0f6c",
   "metadata": {
    "jp-MarkdownHeadingCollapsed": true,
    "tags": []
   },
   "source": [
    "#### **Prepared Data Summary**"
   ]
  },
  {
   "cell_type": "code",
   "execution_count": null,
   "id": "61ef176c-06a1-438b-8fd4-f88d01a7c5fa",
   "metadata": {},
   "outputs": [],
   "source": []
  },
  {
   "cell_type": "markdown",
   "id": "b55f5b40-052f-48c0-bfd7-356cc0dbe898",
   "metadata": {
    "tags": []
   },
   "source": [
    "##### **`Comments:`** data preparation summary"
   ]
  },
  {
   "cell_type": "markdown",
   "id": "fa80507e-19e8-43d7-968b-a4b09efb4ec5",
   "metadata": {
    "jp-MarkdownHeadingCollapsed": true,
    "tags": []
   },
   "source": [
    "### **Data Understanding Using Exploratory Data Analysis (EDA)**"
   ]
  },
  {
   "cell_type": "markdown",
   "id": "2133540c-8fe1-41c1-89b5-a6653349315f",
   "metadata": {},
   "source": [
    "#### **Import Additional Libraries**"
   ]
  },
  {
   "cell_type": "code",
   "execution_count": null,
   "id": "3f79c83c-e769-4848-ac8d-583472f1a3f7",
   "metadata": {},
   "outputs": [],
   "source": []
  },
  {
   "cell_type": "markdown",
   "id": "728a783f-9fdd-4687-a25b-451419121404",
   "metadata": {},
   "source": [
    "#### **Plots of Features**"
   ]
  },
  {
   "cell_type": "code",
   "execution_count": null,
   "id": "a53d7c6b-2ded-45fc-9cee-2ba339a942e7",
   "metadata": {},
   "outputs": [],
   "source": []
  },
  {
   "cell_type": "markdown",
   "id": "31a6e092-059a-4c90-91d7-4e357847be65",
   "metadata": {
    "tags": []
   },
   "source": [
    "##### **`Comments:`** feature plots"
   ]
  },
  {
   "cell_type": "markdown",
   "id": "6bd000f9-dedd-4218-a8af-fa790db9b445",
   "metadata": {},
   "source": [
    "#### **Feature Correlation**"
   ]
  },
  {
   "cell_type": "code",
   "execution_count": null,
   "id": "421074f1-77ed-4e70-96ff-617bac0f4e31",
   "metadata": {},
   "outputs": [],
   "source": []
  },
  {
   "cell_type": "markdown",
   "id": "7e56f506-3054-42f7-9fc2-611eab3a8004",
   "metadata": {
    "tags": []
   },
   "source": [
    "##### **`Comments:`** feature correlation"
   ]
  },
  {
   "cell_type": "markdown",
   "id": "359079b8-cf7e-440f-8adf-1ba87694f244",
   "metadata": {},
   "source": [
    "#### **Correlation Maps**"
   ]
  },
  {
   "cell_type": "markdown",
   "id": "8bd3446c-efd9-4697-a0fb-48f0fc096e5c",
   "metadata": {
    "tags": []
   },
   "source": [
    "##### **`Comments:`** correlation map"
   ]
  },
  {
   "cell_type": "markdown",
   "id": "a66bc21b-7566-4769-945f-de6bc606aa57",
   "metadata": {
    "tags": []
   },
   "source": [
    "### **Model Building**"
   ]
  },
  {
   "cell_type": "code",
   "execution_count": null,
   "id": "488fa2fc-ee5c-4642-a1d3-a05d2a49a975",
   "metadata": {},
   "outputs": [],
   "source": []
  },
  {
   "cell_type": "code",
   "execution_count": null,
   "id": "b870024c-217e-424e-aeff-32fef7fa8529",
   "metadata": {},
   "outputs": [],
   "source": []
  },
  {
   "cell_type": "markdown",
   "id": "5570b2af-a105-4dc8-8a9b-1bb42c2fbc13",
   "metadata": {
    "tags": []
   },
   "source": [
    "### **Model Evaluation**"
   ]
  },
  {
   "cell_type": "code",
   "execution_count": null,
   "id": "b41f0500-e9ff-49ac-bdc0-a2ced52a1ff6",
   "metadata": {},
   "outputs": [],
   "source": []
  },
  {
   "cell_type": "code",
   "execution_count": null,
   "id": "3e5104d5-6620-46f7-b2cd-512239735d35",
   "metadata": {},
   "outputs": [],
   "source": []
  },
  {
   "cell_type": "markdown",
   "id": "198e6de4-387c-4732-8ccc-ac2cb4212f4a",
   "metadata": {
    "tags": []
   },
   "source": [
    "### **Communication** (and/or Deployment)"
   ]
  },
  {
   "cell_type": "code",
   "execution_count": null,
   "id": "2e0d1524-a0bb-4e79-9bd3-f130299e92fc",
   "metadata": {},
   "outputs": [],
   "source": []
  },
  {
   "cell_type": "markdown",
   "id": "6ebd5a39-6ba0-460a-9072-98fa45e38a33",
   "metadata": {
    "tags": []
   },
   "source": [
    "### **References**"
   ]
  },
  {
   "cell_type": "markdown",
   "id": "3a026988-32c1-4854-940d-2c1311effa07",
   "metadata": {},
   "source": [
    "[1] \n",
    "\n",
    "[2] \n"
   ]
  }
 ],
 "metadata": {
  "kernelspec": {
   "display_name": "Py 3.09 (mlops)",
   "language": "python",
   "name": "mlops"
  },
  "language_info": {
   "codemirror_mode": {
    "name": "ipython",
    "version": 3
   },
   "file_extension": ".py",
   "mimetype": "text/x-python",
   "name": "python",
   "nbconvert_exporter": "python",
   "pygments_lexer": "ipython3",
   "version": "3.9.15"
  }
 },
 "nbformat": 4,
 "nbformat_minor": 5
}
