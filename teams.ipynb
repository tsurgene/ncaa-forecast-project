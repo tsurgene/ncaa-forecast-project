{
 "cells": [
  {
   "cell_type": "code",
   "execution_count": 1,
   "id": "17018e18-df9b-4e45-8781-aeffbad41673",
   "metadata": {},
   "outputs": [],
   "source": [
    "DATA_DIR = 'march-machine-learning-mania-2023/' # input('Enter file path for data files: ')"
   ]
  },
  {
   "cell_type": "code",
   "execution_count": 2,
   "id": "7c82c553-71c9-42ef-a773-5630ba53ea2f",
   "metadata": {},
   "outputs": [],
   "source": [
    "# Import Libraries\n",
    "import pandas as pd\n",
    "import warnings"
   ]
  },
  {
   "cell_type": "markdown",
   "id": "42704c58-1201-42ab-908e-b898b37de816",
   "metadata": {},
   "source": [
    "##### **Data Section 2 - TEAMS**"
   ]
  },
  {
   "cell_type": "code",
   "execution_count": 3,
   "id": "9cf5d3f2-e678-42fb-bd8d-2dcff6be4bb7",
   "metadata": {},
   "outputs": [],
   "source": [
    "## Filter rows for specific seasons  -------------------------------------------------\n",
    "seasons = [2000, 2001, 2002, 2003, 2004, 2005, 2006, 2007, 2008, 2009, \n",
    "           2010, 2011, 2012, 2013, 2014, 2015, 2016, 2017, 2018, 2019, \n",
    "           2020, 2021, 2022, 2023]\n",
    "\n",
    "men_ids = [1102, 1103, 1104, 1105, 1106, 1107, 1108, 1110, 1111, 1112, 1113, 1114, 1115, 1116, 1117, 1119, 1120, 1122, 1123, \n",
    "           1124, 1125, 1126, 1129, 1130, 1131, 1132, 1133, 1135, 1137, 1138, 1139, 1140, 1141, 1142, 1143, 1144, 1145, 1147, \n",
    "           1148, 1149, 1150, 1151, 1152, 1153, 1154, 1155, 1156, 1157, 1158, 1159, 1160, 1161, 1162, 1163, 1164, 1165, 1166, \n",
    "           1168, 1169, 1170, 1171, 1172, 1173, 1174, 1175, 1176, 1177, 1178, 1179, 1180, 1181, 1182, 1183, 1184, 1185, 1186, \n",
    "           1187, 1189, 1190, 1191, 1192, 1193, 1194, 1196, 1197, 1198, 1199, 1200, 1201, 1202, 1203, 1204, 1206, 1207, 1208, \n",
    "           1209, 1210, 1211, 1212, 1214, 1216, 1217, 1218, 1219, 1220, 1221, 1222, 1224, 1225, 1226, 1227, 1228, 1229, 1231, \n",
    "           1232, 1233, 1234, 1235, 1237, 1238, 1239, 1240, 1241, 1242, 1243, 1245, 1246, 1247, 1248, 1249, 1250, 1251, 1253, \n",
    "           1254, 1256, 1257, 1258, 1259, 1260, 1261, 1263, 1264, 1265, 1266, 1267, 1268, 1269, 1270, 1271, 1272, 1273, 1274, \n",
    "           1275, 1276, 1277, 1278, 1279, 1280, 1281, 1282, 1283, 1284, 1285, 1286, 1287, 1288, 1290, 1291, 1292, 1293, 1296, \n",
    "           1298, 1299, 1301, 1304, 1305, 1306, 1307, 1308, 1309, 1310, 1311, 1313, 1314, 1317, 1318, 1319, 1320, 1321, 1322, \n",
    "           1323, 1324, 1325, 1326, 1328, 1329, 1330, 1331, 1332, 1333, 1334, 1335, 1336, 1337, 1338, 1339, 1340, 1341, 1343, \n",
    "           1344, 1345, 1346, 1347, 1348, 1349, 1350, 1351, 1352, 1353, 1354, 1356, 1357, 1358, 1359, 1360, 1361, 1362, 1363, \n",
    "           1364, 1365, 1368, 1369, 1371, 1372, 1373, 1374, 1375, 1376, 1378, 1379, 1380, 1381, 1382, 1383, 1384, 1385, 1386, \n",
    "           1387, 1388, 1389, 1390, 1391, 1392, 1393, 1395, 1396, 1397, 1398, 1399, 1400, 1401, 1402, 1403, 1404, 1405, 1406, \n",
    "           1407, 1408, 1409, 1410, 1411, 1412, 1414, 1416, 1417, 1418, 1419, 1420, 1421, 1422, 1423, 1424, 1425, 1426, 1427, \n",
    "           1428, 1429, 1431, 1433, 1434, 1435, 1436, 1437, 1438, 1439, 1440, 1441, 1442, 1443, 1444, 1447, 1448, 1449, 1450, \n",
    "           1451, 1452, 1453, 1454, 1455, 1456, 1457, 1458, 1459, 1460, 1461, 1462, 1463, 1464, 1127, 1289, 1415, 1128, 1205, \n",
    "           1236, 1252, 1366, 1394, 1255, 1294, 1413, 1430, 1244, 1295, 1316, 1355, 1146, 1312, 1445, 1167, 1195, 1223, 1300, \n",
    "           1342, 1367, 1136, 1188, 1315, 1370, 1377, 1303, 1297, 1101, 1213, 1230, 1262, 1465, 1466, 1467, 1468, 1469, 1470, \n",
    "           1471, 1472, 1473, 1474, 1475, 1476, 1477]\n",
    "\n",
    "wom_ids = [3102, 3103, 3104, 3105, 3106, 3107, 3108, 3110, 3111, 3112, 3113, 3114, 3115, 3116, 3117, 3119, 3120, 3122, 3123, \n",
    "           3124, 3125, 3126, 3129, 3130, 3131, 3132, 3133, 3135, 3137, 3138, 3139, 3140, 3141, 3142, 3143, 3144, 3145, 3147, \n",
    "           3148, 3149, 3150, 3151, 3152, 3153, 3155, 3156, 3157, 3158, 3159, 3160, 3161, 3162, 3163, 3164, 3165, 3166, 3168, \n",
    "           3169, 3170, 3171, 3172, 3173, 3174, 3175, 3176, 3177, 3178, 3179, 3180, 3181, 3182, 3183, 3184, 3185, 3186, 3187, \n",
    "           3189, 3190, 3191, 3192, 3193, 3194, 3196, 3197, 3198, 3199, 3200, 3201, 3202, 3203, 3204, 3206, 3207, 3208, 3209, \n",
    "           3210, 3211, 3212, 3214, 3216, 3217, 3218, 3219, 3220, 3221, 3222, 3224, 3225, 3226, 3227, 3228, 3229, 3231, 3232, \n",
    "           3233, 3234, 3235, 3237, 3238, 3240, 3241, 3242, 3243, 3245, 3246, 3247, 3248, 3249, 3250, 3251, 3253, 3254, 3256, \n",
    "           3257, 3258, 3259, 3260, 3261, 3263, 3264, 3265, 3266, 3267, 3268, 3269, 3270, 3271, 3272, 3273, 3274, 3275, 3276, \n",
    "           3277, 3278, 3279, 3280, 3281, 3282, 3283, 3284, 3285, 3286, 3287, 3288, 3290, 3291, 3292, 3293, 3296, 3298, 3299, \n",
    "           3301, 3304, 3305, 3306, 3307, 3308, 3309, 3310, 3311, 3313, 3314, 3317, 3318, 3319, 3320, 3321, 3322, 3323, 3324, \n",
    "           3325, 3326, 3328, 3329, 3330, 3331, 3332, 3333, 3334, 3335, 3336, 3337, 3338, 3339, 3340, 3341, 3343, 3344, 3345, \n",
    "           3346, 3347, 3348, 3349, 3350, 3351, 3352, 3353, 3354, 3356, 3357, 3358, 3359, 3360, 3361, 3362, 3363, 3364, 3365, \n",
    "           3368, 3369, 3371, 3372, 3373, 3374, 3375, 3376, 3378, 3379, 3380, 3381, 3382, 3383, 3384, 3385, 3386, 3387, 3388, \n",
    "           3389, 3390, 3391, 3392, 3393, 3394, 3395, 3396, 3397, 3398, 3399, 3400, 3401, 3402, 3403, 3404, 3405, 3406, 3407, \n",
    "           3408, 3409, 3410, 3411, 3412, 3414, 3416, 3417, 3418, 3419, 3420, 3421, 3422, 3423, 3424, 3425, 3426, 3427, 3428, \n",
    "           3431, 3433, 3434, 3435, 3436, 3437, 3438, 3439, 3441, 3442, 3443, 3444, 3447, 3448, 3449, 3450, 3451, 3452, 3453, \n",
    "           3454, 3455, 3456, 3457, 3458, 3459, 3460, 3461, 3462, 3463, 3464, 3239, 3127, 3128, 3205, 3252, 3289, 3366, 3415, \n",
    "           3236, 3429, 3255, 3294, 3413, 3430, 3244, 3295, 3316, 3355, 3146, 3312, 3445, 3167, 3195, 3342, 3367, 3136, 3188, \n",
    "           3223, 3300, 3315, 3370, 3377, 3297, 3303, 3101, 3213, 3230, 3262, 3465, 3466, 3467, 3468, 3469, 3470, 3471, 3472, \n",
    "           3473, 3474, 3475, 3476, 3477]"
   ]
  },
  {
   "cell_type": "code",
   "execution_count": 4,
   "id": "58f4b7c2-bdaf-4c1f-b764-0d02c7449f1d",
   "metadata": {},
   "outputs": [
    {
     "name": "stdout",
     "output_type": "stream",
     "text": [
      "368 366\n"
     ]
    }
   ],
   "source": [
    "print(len(men_ids), len(wom_ids))"
   ]
  },
  {
   "cell_type": "code",
   "execution_count": 5,
   "id": "b0a6ae30-3ece-4660-adf0-81ac08c36b8f",
   "metadata": {},
   "outputs": [
    {
     "name": "stdout",
     "output_type": "stream",
     "text": [
      "MTeams: (368, 4) WTeams: (366, 2)\n",
      "MTeams: Index(['TeamID', 'TeamName', 'FirstD1Season', 'LastD1Season'], dtype='object')\n"
     ]
    }
   ],
   "source": [
    "# Creates a Teams dataframes:\n",
    "MTeams = pd.read_csv(DATA_DIR + 'MTeams.csv')\n",
    "WTeams = pd.read_csv(DATA_DIR + 'WTeams.csv')\n",
    "\n",
    "# Filter dataframes to only include rows where the TeamID is in list\n",
    "teamsm = MTeams[MTeams['TeamID'].isin(men_ids)]\n",
    "teamsw = WTeams[WTeams['TeamID'].isin(wom_ids)]\n",
    "\n",
    "# Show sample output\n",
    "print('MTeams:', teamsm.shape, 'WTeams:', teamsw.shape)\n",
    "print('MTeams:', teamsm.columns)"
   ]
  },
  {
   "cell_type": "code",
   "execution_count": 6,
   "id": "88b68e56-b914-42b4-8119-e8abbf988e66",
   "metadata": {},
   "outputs": [
    {
     "name": "stdout",
     "output_type": "stream",
     "text": [
      "MSpellings: (1149, 2) WSpellings: (1142, 2)\n",
      "MSpellings: Index(['TeamNameSpelling', 'TeamID'], dtype='object')\n"
     ]
    }
   ],
   "source": [
    "# Creates Alternate Team Name Spellings dataframes:\n",
    "MSpellings = pd.read_csv(DATA_DIR + 'MTeamSpellings.csv', encoding='latin-1')\n",
    "WSpellings = pd.read_csv(DATA_DIR + 'WTeamSpellings.csv', encoding='latin-1')\n",
    "\n",
    "# Filter dataframes to only include rows where the TeamID is in list\n",
    "spellm = MSpellings[MSpellings['TeamID'].isin(men_ids)]\n",
    "spellw = WSpellings[WSpellings['TeamID'].isin(wom_ids)]\n",
    "\n",
    "# Show sample output\n",
    "print('MSpellings:', spellm.shape, 'WSpellings:', spellw.shape)\n",
    "print('MSpellings:', spellm.columns)"
   ]
  },
  {
   "cell_type": "code",
   "execution_count": 7,
   "id": "a20e4420-4248-4f66-bcfe-2b588a8bfcd2",
   "metadata": {},
   "outputs": [],
   "source": [
    "# Ignore warnings\n",
    "warnings.filterwarnings(\"ignore\")\n",
    "\n",
    "# Group the dataframe by TeamID and apply a function to create a list of unique TeamNameSpellings for each group\n",
    "grouped_men = spellm.groupby('TeamID').apply(lambda x: list(x['TeamNameSpelling'].unique()))\n",
    "grouped_wom = spellw.groupby('TeamID').apply(lambda x: list(x['TeamNameSpelling'].unique()))\n",
    "\n",
    "# Determine the maximum number of alternate spellings for a TeamID\n",
    "max_men = grouped_men.apply(len).max()\n",
    "max_wom = grouped_wom.apply(len).max()\n",
    "\n",
    "# Create a new dataframe with the appropriate number of columns\n",
    "columns_spellm = ['Name{}'.format(i) for i in range(1, max_men + 1)] + ['TeamID']\n",
    "new_mspell = pd.DataFrame(columns=columns_spellm)\n",
    "\n",
    "columns_spellw = ['Name{}'.format(i) for i in range(1, max_wom + 1)] + ['TeamID']\n",
    "new_wspell = pd.DataFrame(columns=columns_spellw)\n",
    "\n",
    "# Iterate over the groups in the grouped dataframe and add rows to the new dataframe\n",
    "for group_name, group_values in grouped_men.items():\n",
    "    new_row = {key: value for key, value in zip(columns_spellm, group_values)}\n",
    "    new_row['TeamID'] = group_name\n",
    "    new_mspell = new_mspell.append(new_row, ignore_index=True)\n",
    "\n",
    "for group_name, group_values in grouped_wom.items():\n",
    "    new_row = {key: value for key, value in zip(columns_spellw, group_values)}\n",
    "    new_row['TeamID'] = group_name\n",
    "    new_wspell = new_wspell.append(new_row, ignore_index=True)"
   ]
  },
  {
   "cell_type": "code",
   "execution_count": 8,
   "id": "926ddcad-aa64-439c-8962-6a236ec85425",
   "metadata": {},
   "outputs": [
    {
     "name": "stdout",
     "output_type": "stream",
     "text": [
      "MSpellings: (368, 13) WSpellings: (366, 13)\n",
      "MSpellings: Index(['Name1', 'Name2', 'Name3', 'Name4', 'Name5', 'Name6', 'Name7', 'Name8',\n",
      "       'Name9', 'Name10', 'TeamID', 'Name0', 'Name11'],\n",
      "      dtype='object')\n"
     ]
    }
   ],
   "source": [
    "# Copy the resulting dataframe\n",
    "spellm = new_mspell.copy()\n",
    "spellw = new_wspell.copy()\n",
    "\n",
    "## Add new columns\n",
    "extend_men = ['Abilene Christian','Air Force','Akron','Alabama','Alabama AM','Alabama State','Albany','Alcorn','American','Appalachian State','Arizona','Arizona State','Arkansas Little Rock','Arkansas Pine Bluff','Arkansas','Arkansas State','Army','Auburn','Austin Peay','Ball State','Baylor','Belmont','Bethune-Cookman','Binghamton','Birmingham Southern','Boise State','Boston College','Boston','Bowling Green','Bradley','Brown','Bryant','Bucknell','Buffalo','Butler','Brigham Young','Central Michigan','California Polytech','California','Campbell','Canisius','Central Arkansas','Centenary','Central Connecticut','Charleston Southern','Charlotte','Chattanooga','Chicago State','Cincinnati','Citadel','Clemson','Cleveland State','Coastal Carolina','Charleston','Colgate','Colorado','Colorado State','Columbia','Connecticut','Coppin State','Cornell','Creighton','CSU Bakersfield','CSU Fullerton','CSU Northridge','Sacramento State','Dartmouth','Davidson','Dayton','Delaware','Delaware State','Denver','Depaul','Detroit','Drake','Drexel','Duke','Duquesne','Eastern Illinois','Eastern Kentucky','Eastern Michigan','Eastern Washington','East Carolina','SIU Edwardsville','Elon','East Tennessee State','Evansville','Fairleigh Dickinson','Fairfield','Florida Atlantic','Florida Gulf Coast','Florida','Florida AM','Florida International','Florida State','Fordham','Fresno State','Furman','George Washington','Georgia Southern','Gardner Webb','George Mason','Georgetown','Georgia','Georgia State','Georgia Tech','Gonzaga','Grambling','Grand Canyon','Hampton','Hartford','Harvard','Hawaii','High Point','Hofstra','Holy Cross','Houston','Houston Christian','Howard','Idaho','Idaho State','Illinois Chicago','Illinois','Illinois State','Incarnate Word','Indiana','Indiana State','Iona','Iowa','Iowa State','Fort Wayne','Indiana Purdue','Jackson State','Jacksonville','Jacksonville State','James Madison','Kansas','Kansas State','Kennesaw','Kent','Kentucky','La Salle','Lafayette','Lamar','Lehigh','Liberty','Lipscomb','Long Beach State','LIU Brooklyn','Longwood','Louisiana Tech','Louisville','Loyola Marymount','Loyola Maryland','Loyola Chicago','Louisiana State','Massachusetts Lowell','Maine','Manhattan','Marist','Marquette','Marshall','Maryland','Massachusetts','McNeese','Maryland East Shore','Memphis','Mercer','Miami FL','Miami OH','Michigan','Michigan State','Minnesota','Mississippi','Mississippi State','Missouri','UM Kansas City','Missouri State','Monmouth','Montana','Montana State','Morehead State','Morgan State','Morris Brown','Miss Valley State','Mount Saint Marys','Middle Tennessee State','Murray State','Northern Colorado','North Dakota State','Northern Illinois','Northern Kentucky','Navy','North Carolina AT','North Carolina Central','North Carolina State','Nebraska Omaha','Nebraska','Nevada','New Hampshire','New Mexico','New Mexico State','New Orleans','Niagara','Nicholls','NJIT','Norfolk State','North Carolina','North Dakota','North Florida','North Texas','Northeastern','Northern Arizona','Northern Iowa','Northwestern','Northwestern Louisiana','Notre Dame','Oakland','Ohio','Ohio State','Oklahoma','Oklahoma State','Old Dominion','Oral Roberts','Oregon','Oregon State','Pacific','Penn','Penn State','Pepperdine','Pittsburgh','Portland','Portland State','Prairie View','Presbyterian','Princeton','Providence','Purdue','Quinnipiac','Radford','Rhode Island','Rice','Richmond','Rider','Robert Morris','Rutgers','South Carolina State','South Dakota State','Southern Illinois','Sacred Heart','Sam Houston','Samford','San Diego','San Diego State','San Francisco','San Jose State','UC Santa Barbara','UC Santa Clara','Savannah State','South Carolina Upstate','Southeastern Louisiana','Southeast Missouri State','Seattle','Seton Hall','Stephen F Austin','Siena','Southern Methodist','South Alabama','South Carolina','South Dakota','South Florida','Southern Mississippi','Southern','Southern Utah','St Bonaventure','St Francis NY','St Francis PA','St Johns','St Josephs','Saint Louis','St Marys','St Peters','Stanford','Stetson','Stony Brook','Syracuse','Texas AM Corpus Chris','Texas Christian','Temple','Tennessee','Tennessee State','Tennessee Tech','Texas','Texas AM','Texas State','Texas Tech','UT Martin','Toledo','Towson','Troy','Tulane','Tulsa','Texas Pan American','Texas Southern','Alabama Birmingham','UC Davis','UC Irvine','UC Riverside','Central Florida','UC Los Angeles','UL Lafayette','UL Monroe','MD Baltimore County','NC Asheville','NC Greensboro','NC Wilmington','Nevada Las Vegas','Southern California','UT Arlington','UT San Antonio','Utah','Utah State','Utah Valley','Texas El Paso','Virginia Commonwealth','Valparaiso','Vanderbilt','Vermont','Villanova','Virginia','Virginia Tech','Virginia Military','Western Carolina','Western Illinois','Western Kentucky','Western Michigan','Winston-Salem State','Wagner','Wake Forest','Washington','Washington State','Weber State','West Virginia','UW Green Bay','UW Milwaukee','Wichita State','William Mary','Winthrop','Wisconsin','Wofford','Wright State','Wyoming','Xavier','Yale','Youngstown State','California Baptist','North Alabama','Merrimack','Bellarmine','Dixie State','Tarleton State','UC San Diego','St Thomas MN','Lindenwood','Queens NC','Southern Indiana','Stonehill','Texas AM Commerce']\n",
    "betexp_men = [\"Abilene Christian\",\"Air Force\",\"Akron\",\"Alabama\",\"Alabama A&M\",\"Alabama State\",\"Albany\",\"Alcorn State\",\"American University\",\"Appalachian State\",\"Arizona\",\"Arizona State\",\"UALR\",\"Arkansas-Pine Bluff\",\"Arkansas\",\"Arkansas State\",\"Army\",\"Auburn\",\"Austin Peay\",\"Ball State\",\"Baylor\",\"Belmont\",\"Bethune-Cookman\",\"Binghamton\",\"\",\"Boise State\",\"Boston College\",\"Boston University\",\"Bowling Green\",\"Bradley\",\"Brown\",\"Bryant University\",\"Bucknell\",\"Buffalo\",\"Butler\",\"Brigham Young\",\"Central Michigan\",\"Cal Poly\",\"California\",\"Campbell\",\"Canisius\",\"Central Arkansas\",\"\",\"Central Connecticut State\",\"Charleston Southern\",\"Charlotte\",\"Chattanooga Mocs\",\"Chicago State\",\"Cincinnati\",\"Citadel\",\"Clemson\",\"Cleveland State\",\"Coastal Carolina\",\"Charleston\",\"Colgate\",\"Colorado\",\"Colorado State\",\"Columbia\",\"UConn\",\"Coppin State\",\"Cornell\",\"Creighton\",\"CSU Bakersfield\",\"CS Fullerton\",\"CS Northridge\",\"Sacramento State\",\"Dartmouth\",\"Davidson\",\"Dayton\",\"Delaware\",\"Delaware State\",\"Denver\",\"DePaul\",\"Detroit\",\"Drake\",\"Drexel\",\"Duke\",\"Duquesne\",\"Eastern Illinois\",\"Eastern Kentucky\",\"Eastern Michigan\",\"East. Washington\",\"East Carolina\",\"Siu Edwardsville\",\"Elon\",\"East Tennessee St\",\"Evansville\",\"Fairleigh Dickinson\",\"Fairfield\",\"Florida Atlantic\",\"Florida Gulf Coast\",\"Florida\",\"Florida A&M\",\"Florida International\",\"Florida State\",\"Fordham\",\"Fresno State\",\"Furman\",\"George Washington\",\"Georgia Southern\",\"Gardner Webb\",\"George Mason\",\"Georgetown\",\"Georgia\",\"Georgia State\",\"Georgia Tech\",\"Gonzaga\",\"Grambling St.\",\"Grand Canyon\",\"Hampton\",\"Hartford\",\"Harvard\",\"Hawaii\",\"High Point\",\"Hofstra\",\"Holy Cross\",\"Houston\",\"Houston Christian\",\"Howard\",\"Idaho\",\"Idaho State\",\"Illinois (Chi.)\",\"Illinois\",\"Illinois State\",\"Incarnate Word\",\"Indiana\",\"Indiana State\",\"Iona\",\"Iowa\",\"Iowa State\",\"IPFW\",\"IUPUI\",\"Jackson State\",\"Jacksonville\",\"Jacksonville State\",\"James Madison\",\"Kansas\",\"Kansas State\",\"Kennesaw State\",\"Kent State\",\"Kentucky\",\"La Salle\",\"Lafayette\",\"Lamar\",\"Lehigh\",\"Liberty\",\"Lipscomb\",\"Long Beach State\",\"LIU Sharks\",\"Longwood\",\"Louisiana Tech\",\"Louisville\",\"Loyola Marymount\",\"Loyola Maryland\",\"Loyola Chicago\",\"LSU\",\"UMass Lowell\",\"Maine Black Bears\",\"Manhattan\",\"Marist\",\"Marquette\",\"Marshall\",\"Maryland\",\"UMass\",\"McNeese State\",\"Md.-East. Shore\",\"Memphis\",\"Mercer\",\"Miami (FL)\",\"Miami (Ohio)\",\"Michigan\",\"Michigan State\",\"Minnesota\",\"Ole Miss\",\"Mississippi St.\",\"Missouri\",\"UMKC\",\"Missouri State\",\"Monmouth\",\"Montana\",\"Montana State\",\"Morehead State\",\"Morgan State\",\"\",\"Miss. Valley St.\",\"Mount St. Mary's\",\"Middle Tenn. St.\",\"Murray State\",\"Northern Colorado\",\"North Dakota St\",\"Northern Illinois\",\"Northern Kentucky\",\"Navy\",\"N. Carolina A&T\",\"N. Carolina Central\",\"NC State\",\"Nebraska O.\",\"Nebraska\",\"Nevada\",\"New Hampshire\",\"New Mexico\",\"New Mexico State\",\"New Orleans\",\"Niagara\",\"Nicholls State\",\"NJIT\",\"Norfolk State\",\"North Carolina\",\"North Dakota\",\"North Florida\",\"North Texas\",\"Northeastern\",\"Northern Arizona\",\"Northern Iowa\",\"Northwestern\",\"Northwestern St.\",\"Notre Dame\",\"Oakland\",\"Ohio\",\"Ohio State\",\"Oklahoma\",\"Oklahoma State\",\"Old Dominion\",\"Oral Roberts\",\"Oregon\",\"Oregon State\",\"Pacific\",\"Penn\",\"Penn State\",\"Pepperdine\",\"Pittsburgh\",\"Portland\",\"Portland State\",\"Prairie View A&M\",\"Presbyterian\",\"Princeton\",\"Providence\",\"Purdue\",\"Quinnipiac\",\"Radford\",\"Rhode Island\",\"Rice\",\"Richmond\",\"Rider\",\"Robert Morris\",\"Rutgers\",\"South Carolina St\",\"South Dakota St.\",\"Southern Illinois\",\"Sacred Heart\",\"Sam Houston St.\",\"Samford\",\"San Diego Toreros\",\"San Diego State\",\"San Francisco\",\"San Jose State\",\"UC Santa Barbara\",\"Santa Clara\",\"\",\"USC Upstate\",\"SE Louisiana\",\"Southeast Missouri State\",\"Seattle\",\"Seton Hall\",\"Stephen F. Austin\",\"Siena\",\"SMU Mustangs\",\"South Alabama\",\"South Carolina\",\"South Dakota Coyotes\",\"South Florida\",\"Southern Miss\",\"Southern Univ.\",\"Southern Utah\",\"St. Bonaventure\",\"St. Francis Brooklyn\",\"St. Francis (PA)\",\"St. John's (N.Y.)\",\"Saint Josephs\",\"St. Louis\",\"St. Marys (CA)\",\"St. Peters\",\"Stanford\",\"Stetson\",\"Stony Brook\",\"Syracuse\",\"Texas A&M-CC\",\"TCU\",\"Temple\",\"Tennessee\",\"Tennessee State\",\"Tennessee Tech\",\"Texas\",\"Texas A&M\",\"Texas State\",\"Texas Tech\",\"UT Martin\",\"Toledo\",\"Towson\",\"Troy\",\"Tulane\",\"Tulsa\",\"UTRGV\",\"Texas Southern\",\"UAB\",\"UC Davis\",\"UC Irvine\",\"UC Riverside\",\"UCF Knights\",\"UCLA\",\"Louisiana Lafayette\",\"Louisiana Monroe\",\"UMBC Retrievers\",\"UNC Asheville\",\"NC Greensboro\",\"NC Wilmington\",\"UNLV\",\"USC\",\"UT Arlington\",\"UTSA Roadrunners\",\"Utah Utes\",\"Utah State\",\"Utah Valley State\",\"UTEP\",\"VCU Rams\",\"Valparaiso\",\"Vanderbilt\",\"Vermont\",\"Villanova\",\"Virginia\",\"Virginia Tech\",\"VMI\",\"Western Carolina\",\"Western Illinois\",\"Western Kentucky\",\"Western Michigan\",\"\",\"Wagner\",\"Wake Forest\",\"Washington\",\"Washington State\",\"Weber State\",\"West Virginia\",\"Wisc. Green Bay\",\"Wisc. Milwaukee\",\"Wichita State\",\"William & Mary\",\"Winthrop\",\"Wisconsin\",\"Wofford\",\"Wright State\",\"Wyoming\",\"Xavier\",\"Yale\",\"Youngstown State\",\"California Baptist\",\"North Alabama\",\"Merrimack Warriors\",\"Bellarmine\",\"Utah Tech\",\"Tarleton\",\"UC San Diego\",\"St. Thomas (Minn.)\",\"\",\"\",\"\",\"\",\"\"]\n",
    "\n",
    "extend_wom = ['Abilene Christian','Air Force','Akron','Alabama','Alabama AM','Alabama State','Albany','Alcorn','American','Appalachian State','Arizona','Arizona State','Arkansas Little Rock','Arkansas Pine Bluff','Arkansas','Arkansas State','Army','Auburn','Austin Peay','Ball State','Baylor','Belmont','Bethune-Cookman','Binghamton','Birmingham Southern','Boise State','Boston College','Boston','Bowling Green','Bradley','Brown','Bryant','Bucknell','Buffalo','Butler','Brigham Young','Central Michigan','California Polytech','California','Campbell','Canisius','Central Arkansas','Centenary','Central Connecticut','Charleston Southern','Charlotte','Chattanooga','Chicago State','Cincinnati','Clemson','Cleveland State','Coastal Carolina','Charleston','Colgate','Colorado','Colorado State','Columbia','Connecticut','Coppin State','Cornell','Creighton','CSU Bakersfield','CSU Fullerton','CSU Northridge','Sacramento State','Dartmouth','Davidson','Dayton','Delaware','Delaware State','Denver','Depaul','Detroit','Drake','Drexel','Duke','Duquesne','Eastern Illinois','Eastern Kentucky','Eastern Michigan','Eastern Washington','East Carolina','SIU Edwardsville','Elon','East Tennessee State','Evansville','Fairleigh Dickinson','Fairfield','Florida Atlantic','Florida Gulf Coast','Florida','Florida AM','Florida International','Florida State','Fordham','Fresno State','Furman','George Washington','Georgia Southern','Gardner Webb','George Mason','Georgetown','Georgia','Georgia State','Georgia Tech','Gonzaga','Grambling','Grand Canyon','Hampton','Hartford','Harvard','Hawaii','High Point','Hofstra','Holy Cross','Houston','Houston Christian','Howard','Idaho','Idaho State','Illinois Chicago','Illinois','Illinois State','Incarnate Word','Indiana','Indiana State','Iona','Iowa','Iowa State','Fort Wayne','Indiana Purdue','Jackson State','Jacksonville','Jacksonville State','James Madison','Kansas','Kansas State','Kennesaw','Kent','Kentucky','La Salle','Lafayette','Lamar','Lehigh','Liberty','Lipscomb','Long Beach State','LIU Brooklyn','Longwood','Louisiana Tech','Louisville','Loyola Marymount','Loyola Maryland','Loyola Chicago','Louisiana State','Massachusetts Lowell','Maine','Manhattan','Marist','Marquette','Marshall','Maryland','Massachusetts','McNeese','Maryland East Shore','Memphis','Mercer','Miami FL','Miami OH','Michigan','Michigan State','Minnesota','Mississippi','Mississippi State','Missouri','UM Kansas City','Missouri State','Monmouth','Montana','Montana State','Morehead State','Morgan State','Morris Brown','Miss Valley State','Mount Saint Marys','Middle Tennessee State','Murray State','Northern Colorado','North Dakota State','Northern Illinois','Northern Kentucky','Navy','North Carolina AT','North Carolina Central','North Carolina State','Nebraska Omaha','Nebraska','Nevada','New Hampshire','New Mexico','New Mexico State','New Orleans','Niagara','Nicholls','NJIT','Norfolk State','North Carolina','North Dakota','North Florida','North Texas','Northeastern','Northern Arizona','Northern Iowa','Northwestern','Northwestern Louisiana','Notre Dame','Oakland','Ohio','Ohio State','Oklahoma','Oklahoma State','Old Dominion','Oral Roberts','Oregon','Oregon State','Pacific','Penn','Penn State','Pepperdine','Pittsburgh','Portland','Portland State','Prairie View','Presbyterian','Princeton','Providence','Purdue','Quinnipiac','Radford','Rhode Island','Rice','Richmond','Rider','Robert Morris','Rutgers','South Carolina State','South Dakota State','Southern Illinois','Sacred Heart','Sam Houston','Samford','San Diego','San Diego State','San Francisco','San Jose State','UC Santa Barbara','UC Santa Clara','Savannah State','South Carolina Upstate','Southeastern Louisiana','Southeast Missouri State','Seattle','Seton Hall','Stephen F Austin','Siena','Southern Methodist','South Alabama','South Carolina','South Dakota','South Florida','Southern Mississippi','Southern','Southern Utah','St Bonaventure','St Francis NY','St Francis PA','St Johns','St Josephs','Saint Louis','St Marys','St Peters','Stanford','Stetson','Stony Brook','Syracuse','Texas AM Corpus Chris','Texas Christian','Temple','Tennessee','Tennessee State','Tennessee Tech','Texas','Texas AM','Texas State','Texas Tech','UT Martin','Toledo','Towson','Troy','Tulane','Tulsa','Texas Pan American','Texas Southern','Alabama Birmingham','UC Davis','UC Irvine','UC Riverside','Central Florida','UC Los Angeles','UL Lafayette','UL Monroe','MD Baltimore County','NC Asheville','NC Greensboro','NC Wilmington','Nevada Las Vegas','Southern California','UT Arlington','UT San Antonio','Utah','Utah State','Utah Valley','Texas El Paso','Virginia Commonwealth','Valparaiso','Vanderbilt','Vermont','Villanova','Virginia','Virginia Tech','Western Carolina','Western Illinois','Western Kentucky','Western Michigan','Winston-Salem State','Wagner','Wake Forest','Washington','Washington State','Weber State','West Virginia','UW Green Bay','UW Milwaukee','Wichita State','William Mary','Winthrop','Wisconsin','Wofford','Wright State','Wyoming','Xavier','Yale','Youngstown State','California Baptist','North Alabama','Merrimack','Bellarmine','Dixie State','Tarleton State','UC San Diego','St Thomas MN','Lindenwood','Queens NC','Southern Indiana','Stonehill','Texas AM Commerce']\n",
    "betexp_wom = [\"Abilene Christian\",\"Air Force\",\"Akron\",\"Alabama\",\"Alabama A&M\",\"Alabama State\",\"Albany\",\"Alcorn State\",\"American University\",\"Appalachian State\",\"Arizona\",\"Arizona State\",\"UALR\",\"Arkansas-Pine Bluff\",\"Arkansas\",\"Arkansas State\",\"Army\",\"Auburn\",\"Austin Peay\",\"Ball State\",\"Baylor\",\"Belmont\",\"Bethune-Cookman\",\"Binghamton\",\"\",\"Boise State\",\"Boston College\",\"Boston University\",\"Bowling Green\",\"Bradley\",\"Brown\",\"Bryant University\",\"Bucknell\",\"Buffalo\",\"Butler\",\"Brigham Young\",\"Central Michigan\",\"Cal Poly\",\"California\",\"Campbell\",\"Canisius\",\"Central Arkansas\",\"\",\"Central Connecticut State\",\"Charleston Southern\",\"Charlotte\",\"Chattanooga Mocs\",\"Chicago State\",\"Cincinnati\",\"Clemson\",\"Cleveland State\",\"Coastal Carolina\",\"Charleston\",\"Colgate\",\"Colorado\",\"Colorado State\",\"Columbia\",\"UConn\",\"Coppin State\",\"Cornell\",\"Creighton\",\"CSU Bakersfield\",\"CS Fullerton\",\"CS Northridge\",\"Sacramento State\",\"Dartmouth\",\"Davidson\",\"Dayton\",\"Delaware\",\"Delaware State\",\"Denver\",\"DePaul\",\"Detroit\",\"Drake\",\"Drexel\",\"Duke\",\"Duquesne\",\"Eastern Illinois\",\"Eastern Kentucky\",\"Eastern Michigan\",\"East. Washington\",\"East Carolina\",\"Siu Edwardsville\",\"Elon\",\"East Tennessee St\",\"Evansville\",\"Fairleigh Dickinson\",\"Fairfield\",\"Florida Atlantic\",\"Florida Gulf Coast\",\"Florida\",\"Florida A&M\",\"Florida International\",\"Florida State\",\"Fordham\",\"Fresno State\",\"Furman\",\"George Washington\",\"Georgia Southern\",\"Gardner Webb\",\"George Mason\",\"Georgetown\",\"Georgia\",\"Georgia State\",\"Georgia Tech\",\"Gonzaga\",\"Grambling St.\",\"Grand Canyon\",\"Hampton\",\"Hartford\",\"Harvard\",\"Hawaii\",\"High Point\",\"Hofstra\",\"Holy Cross\",\"Houston\",\"Houston Christian\",\"Howard\",\"Idaho\",\"Idaho State\",\"Illinois (Chi.)\",\"Illinois\",\"Illinois State\",\"Incarnate Word\",\"Indiana\",\"Indiana State\",\"Iona\",\"Iowa\",\"Iowa State\",\"IPFW\",\"IUPUI\",\"Jackson State\",\"Jacksonville\",\"Jacksonville State\",\"James Madison\",\"Kansas\",\"Kansas State\",\"Kennesaw State\",\"Kent State\",\"Kentucky\",\"La Salle\",\"Lafayette\",\"Lamar\",\"Lehigh\",\"Liberty\",\"Lipscomb\",\"Long Beach State\",\"LIU Sharks\",\"Longwood\",\"Louisiana Tech\",\"Louisville\",\"Loyola Marymount\",\"Loyola Maryland\",\"Loyola Chicago\",\"LSU\",\"UMass Lowell\",\"Maine Black Bears\",\"Manhattan\",\"Marist\",\"Marquette\",\"Marshall\",\"Maryland\",\"UMass\",\"McNeese State\",\"Md.-East. Shore\",\"Memphis\",\"Mercer\",\"Miami (FL)\",\"Miami (Ohio)\",\"Michigan\",\"Michigan State\",\"Minnesota\",\"Ole Miss\",\"Mississippi St.\",\"Missouri\",\"UMKC\",\"Missouri State\",\"Monmouth\",\"Montana\",\"Montana State\",\"Morehead State\",\"Morgan State\",\"\",\"Miss. Valley St.\",\"Mount St. Mary's\",\"Middle Tenn. St.\",\"Murray State\",\"Northern Colorado\",\"North Dakota St\",\"Northern Illinois\",\"Northern Kentucky\",\"Navy\",\"N. Carolina A&T\",\"N. Carolina Central\",\"NC State\",\"Nebraska O.\",\"Nebraska\",\"Nevada\",\"New Hampshire\",\"New Mexico\",\"New Mexico State\",\"New Orleans\",\"Niagara\",\"Nicholls State\",\"NJIT\",\"Norfolk State\",\"North Carolina\",\"North Dakota\",\"North Florida\",\"North Texas\",\"Northeastern\",\"Northern Arizona\",\"Northern Iowa\",\"Northwestern\",\"Northwestern St.\",\"Notre Dame\",\"Oakland\",\"Ohio\",\"Ohio State\",\"Oklahoma\",\"Oklahoma State\",\"Old Dominion\",\"Oral Roberts\",\"Oregon\",\"Oregon State\",\"Pacific\",\"Penn\",\"Penn State\",\"Pepperdine\",\"Pittsburgh\",\"Portland\",\"Portland State\",\"Prairie View A&M\",\"Presbyterian\",\"Princeton\",\"Providence\",\"Purdue\",\"Quinnipiac\",\"Radford\",\"Rhode Island\",\"Rice\",\"Richmond\",\"Rider\",\"Robert Morris\",\"Rutgers\",\"South Carolina St\",\"South Dakota St.\",\"Southern Illinois\",\"Sacred Heart\",\"Sam Houston St.\",\"Samford\",\"San Diego Toreros\",\"San Diego State\",\"San Francisco\",\"San Jose State\",\"UC Santa Barbara\",\"Santa Clara\",\"\",\"USC Upstate\",\"SE Louisiana\",\"Southeast Missouri State\",\"Seattle\",\"Seton Hall\",\"Stephen F. Austin\",\"Siena\",\"SMU Mustangs\",\"South Alabama\",\"South Carolina\",\"South Dakota Coyotes\",\"South Florida\",\"Southern Miss\",\"Southern Univ.\",\"Southern Utah\",\"St. Bonaventure\",\"St. Francis Brooklyn\",\"St. Francis (PA)\",\"St. John's (N.Y.)\",\"Saint Josephs\",\"St. Louis\",\"St. Marys (CA)\",\"St. Peters\",\"Stanford\",\"Stetson\",\"Stony Brook\",\"Syracuse\",\"Texas A&M-CC\",\"TCU\",\"Temple\",\"Tennessee\",\"Tennessee State\",\"Tennessee Tech\",\"Texas\",\"Texas A&M\",\"Texas State\",\"Texas Tech\",\"UT Martin\",\"Toledo\",\"Towson\",\"Troy\",\"Tulane\",\"Tulsa\",\"UTRGV\",\"Texas Southern\",\"UAB\",\"UC Davis\",\"UC Irvine\",\"UC Riverside\",\"UCF Knights\",\"UCLA\",\"Louisiana Lafayette\",\"Louisiana Monroe\",\"UMBC Retrievers\",\"UNC Asheville\",\"NC Greensboro\",\"NC Wilmington\",\"UNLV\",\"USC\",\"UT Arlington\",\"UTSA Roadrunners\",\"Utah Utes\",\"Utah State\",\"Utah Valley State\",\"UTEP\",\"VCU Rams\",\"Valparaiso\",\"Vanderbilt\",\"Vermont\",\"Villanova\",\"Virginia\",\"Virginia Tech\",\"Western Carolina\",\"Western Illinois\",\"Western Kentucky\",\"Western Michigan\",\"\",\"Wagner\",\"Wake Forest\",\"Washington\",\"Washington State\",\"Weber State\",\"West Virginia\",\"Wisc. Green Bay\",\"Wisc. Milwaukee\",\"Wichita State\",\"William & Mary\",\"Winthrop\",\"Wisconsin\",\"Wofford\",\"Wright State\",\"Wyoming\",\"Xavier\",\"Yale\",\"Youngstown State\",\"California Baptist\",\"North Alabama\",\"Merrimack Warriors\",\"Bellarmine\",\"Utah Tech\",\"Tarleton\",\"UC San Diego\",\"St. Thomas (Minn.)\",\"\",\"\",\"\",\"\",\"\"]\n",
    "\n",
    "# Create new columns for additional alternative names\n",
    "spellm['Name0'] = extend_men\n",
    "spellm['Name11'] = betexp_men\n",
    "\n",
    "spellw['Name0'] = extend_wom\n",
    "spellw['Name11'] = betexp_wom\n",
    "\n",
    "# Show sample output\n",
    "print('MSpellings:', spellm.shape, 'WSpellings:', spellw.shape)\n",
    "print('MSpellings:', spellm.columns)"
   ]
  },
  {
   "cell_type": "code",
   "execution_count": 9,
   "id": "5e2b2dec-fa0f-4614-b56b-9db3896b7c2e",
   "metadata": {},
   "outputs": [],
   "source": [
    "# Merge 'Teams' with 'Team Spellings' dataframes on 'TeamID' column\n",
    "teamsm = pd.merge(teamsm, spellm,  how='left', left_on=['TeamID'], right_on = ['TeamID'])\n",
    "teamsw = pd.merge(teamsw, spellw,  how='left', left_on=['TeamID'], right_on = ['TeamID'])"
   ]
  },
  {
   "cell_type": "code",
   "execution_count": 10,
   "id": "e1d04680-93b7-4f2c-8149-b4e84583a9ef",
   "metadata": {},
   "outputs": [
    {
     "name": "stdout",
     "output_type": "stream",
     "text": [
      "MSpellings: (368, 16) WSpellings: (366, 14)\n",
      "MSpellings: Index(['TeamID', 'TeamName', 'FirstD1Season', 'LastD1Season', 'Name1', 'Name2',\n",
      "       'Name3', 'Name4', 'Name5', 'Name6', 'Name7', 'Name8', 'Name9', 'Name10',\n",
      "       'Name0', 'Name11'],\n",
      "      dtype='object')\n",
      "WSpellings: Index(['TeamID', 'TeamName', 'Name1', 'Name2', 'Name3', 'Name4', 'Name5',\n",
      "       'Name6', 'Name7', 'Name8', 'Name9', 'Name10', 'Name0', 'Name11'],\n",
      "      dtype='object')\n"
     ]
    }
   ],
   "source": [
    "# Show sample output\n",
    "print('MSpellings:', teamsm.shape, 'WSpellings:', teamsw.shape)\n",
    "print('MSpellings:', teamsm.columns)\n",
    "print('WSpellings:', teamsw.columns)"
   ]
  },
  {
   "cell_type": "code",
   "execution_count": 11,
   "id": "8888189a-59b5-4358-ad21-79d5881c8dbd",
   "metadata": {},
   "outputs": [
    {
     "name": "stdout",
     "output_type": "stream",
     "text": [
      "MTeams: (368, 14) WTeams: (366, 14)\n",
      "MTeams: Index(['TeamID', 'TeamName', 'Name0', 'Name1', 'Name2', 'Name3', 'Name4',\n",
      "       'Name5', 'Name6', 'Name7', 'Name8', 'Name9', 'Name10', 'Name11'],\n",
      "      dtype='object')\n"
     ]
    }
   ],
   "source": [
    "# Reorder and drop unwanted columns from dataframe\n",
    "reo_teamsm = [0, 1, 14, 4, 5, 6, 7, 8, 9, 10, 11, 12, 13, 15, 2, 3]\n",
    "reo_teamsw = [0, 1, 12, 2, 3, 4, 5, 6, 7, 8, 9, 10, 11, 13]\n",
    "\n",
    "teamsm = teamsm.iloc[:,reo_teamsm].drop(columns=['FirstD1Season', 'LastD1Season'])\n",
    "teamsw = teamsw.iloc[:,reo_teamsw]\n",
    "\n",
    "# Show sample output\n",
    "print('MTeams:', teamsm.shape, 'WTeams:', teamsw.shape)\n",
    "print('MTeams:', teamsm.columns)"
   ]
  },
  {
   "cell_type": "code",
   "execution_count": 12,
   "id": "0b0159b3-d1a5-4941-a248-7d00993bc332",
   "metadata": {},
   "outputs": [],
   "source": [
    "teamsm = teamsm.to_csv('teams-mens.csv',index=False)\n",
    "teamsw = teamsw.to_csv('teams-womens.csv',index=False)"
   ]
  }
 ],
 "metadata": {
  "kernelspec": {
   "display_name": "Py 3.09 (mlops)",
   "language": "python",
   "name": "mlops"
  },
  "language_info": {
   "codemirror_mode": {
    "name": "ipython",
    "version": 3
   },
   "file_extension": ".py",
   "mimetype": "text/x-python",
   "name": "python",
   "nbconvert_exporter": "python",
   "pygments_lexer": "ipython3",
   "version": "3.9.15"
  }
 },
 "nbformat": 4,
 "nbformat_minor": 5
}
